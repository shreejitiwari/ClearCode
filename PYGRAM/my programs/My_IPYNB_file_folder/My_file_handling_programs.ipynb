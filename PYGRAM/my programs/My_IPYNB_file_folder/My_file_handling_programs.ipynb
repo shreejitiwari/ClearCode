{
 "cells": [
  {
   "cell_type": "markdown",
   "metadata": {},
   "source": [
    "# My file handling PROGRAMS (for demo class)"
   ]
  },
  {
   "cell_type": "markdown",
   "metadata": {},
   "source": [
    "## 1) Program to create a file and add data to it such that everytime we write \".\"(full stop) in our input , it would write the later text in next line.                                                                                                                                                                                                                                                     \n"
   ]
  },
  {
   "cell_type": "code",
   "execution_count": 24,
   "metadata": {},
   "outputs": [],
   "source": [
    "# MADE BY SHREEJI\n",
    "\n",
    "fout = open('new_line_file.txt' , 'a')\n",
    "record = input('What do you want to write in the file : ').split('.')\n",
    "\n",
    "new_rec = ''\n",
    "\n",
    "for line in record[0:len(record)] :\n",
    "    if bool(line) :\n",
    "        new_rec += line.strip()+'.\\n'\n",
    "\n",
    "\n",
    "# print(new_rec)\n",
    "\n",
    "fout.write(new_rec)\n",
    "fout.close()\n",
    "\n",
    "## MADE BY SHREEJI , © Shreeji Tiwari"
   ]
  },
  {
   "cell_type": "markdown",
   "metadata": {},
   "source": [
    "## 2) Program to extract only simple text(without special character and symbols) from a text file"
   ]
  },
  {
   "cell_type": "markdown",
   "id": "220127ac",
   "metadata": {},
   "source": [
    "Program to Input special character line"
   ]
  },
  {
   "cell_type": "code",
   "execution_count": 25,
   "metadata": {},
   "outputs": [],
   "source": [
    "fout = open('special_char_file.txt','a')\n",
    "\n",
    "t = int(input('How many lines you want to enter  :  '))\n",
    "\n",
    "for i in range(t):\n",
    "    data_to_write = input('What you want to write(with special characters) in the file  : ')\n",
    "    fout.write(data_to_write+'\\n')\n",
    "\n",
    "fout.close()"
   ]
  },
  {
   "cell_type": "code",
   "execution_count": 1,
   "metadata": {},
   "outputs": [
    {
     "name": "stdout",
     "output_type": "stream",
     "text": [
      "Hello there this is a file with special characters \n",
      "made by Shreeji Tiwari\n",
      "dictionary list \n",
      "tuple string 12345 3476ZxnoihJKL\n",
      "date is 28 august009887643 \n",
      "my program is working 3456 fine 20020982 \n",
      "Bas bohot hua ab no more lines \n",
      "\n",
      "\n",
      "Number of special characters in the file  : 143\n",
      "Number of simple characters in the file  : 185\n"
     ]
    }
   ],
   "source": [
    "# MADE BY SHREEJI\n",
    "\n",
    "fin = open('special_char_file.txt' , 'r')\n",
    "\n",
    "lines = fin.readlines()\n",
    "sp_cnt = 0\n",
    "sm_cnt = 0\n",
    "\n",
    "for line in lines:\n",
    "    for word  in line.split():\n",
    "        for char in word:\n",
    "            if char.isalnum() == True:\n",
    "                print(char,end = '')\n",
    "                sm_cnt += 1\n",
    "                \n",
    "            else:\n",
    "                sp_cnt += 1\n",
    "\n",
    "        if char.isalnum() == True:\n",
    "            print('',end=' ')\n",
    "   \n",
    "    print('')\n",
    "    \n",
    "fin.close()    \n",
    "print(f'\\n\\nNumber of special characters in the file  : {sp_cnt}')\n",
    "print(f'Number of simple characters in the file  : {sm_cnt}')\n",
    "\n",
    "# MADE BY SHREEJI , © Shreeji Tiwari"
   ]
  },
  {
   "cell_type": "markdown",
   "metadata": {},
   "source": [
    "## 3) Python program to create a python file itself"
   ]
  },
  {
   "cell_type": "code",
   "execution_count": 23,
   "metadata": {},
   "outputs": [],
   "source": [
    "# MADE BY SHREEJI\n",
    "\n",
    "fout = open('smart_python_file.py','w')\n",
    "fout.write(r'print(\"Hello, this python file is made by another python program .\\nIsn\\'t its amazing ?!!!\\n\")'+'\\n')\n",
    "fout.write(r'print(\"Here is the program written by that python program : \") ')\n",
    "\n",
    "fout.write(r'''\n",
    "fout = open(r'my programs\\My_IPYNB_file_folder\\new_line_file.txt' , 'a')\n",
    "record = input('What do you want to write in the file : ').split('.')\n",
    "\n",
    "new_rec = ''\n",
    "\n",
    "for line in record[0:len(record)] :\n",
    "    if bool(line) :\n",
    "        new_rec += line.strip()+'.\\n'\n",
    "\n",
    "\n",
    "fout.write(new_rec)\n",
    "fout.close()''')\n",
    "\n",
    "fout.close()\n",
    "\n",
    "# MADE BY SHREEJI , © Shreeji Tiwari"
   ]
  },
  {
   "cell_type": "markdown",
   "id": "bb449fe9",
   "metadata": {},
   "source": [
    "## 4) MAINE BANYA KHUD KA ceil()"
   ]
  },
  {
   "cell_type": "code",
   "execution_count": 202,
   "id": "94d58394",
   "metadata": {},
   "outputs": [
    {
     "data": {
      "text/plain": [
       "2"
      ]
     },
     "execution_count": 202,
     "metadata": {},
     "output_type": "execute_result"
    }
   ],
   "source": [
    "def ceil(num):\n",
    "    if num == int(num) or num<0:\n",
    "        return(int(num))\n",
    "    elif num > 0:\n",
    "        return int(num+1)\n",
    "ceil(2)    "
   ]
  },
  {
   "cell_type": "code",
   "execution_count": 13,
   "id": "e8c124ef",
   "metadata": {},
   "outputs": [
    {
     "name": "stdout",
     "output_type": "stream",
     "text": [
      "6\n",
      "3\n"
     ]
    }
   ],
   "source": [
    "x=5\n",
    "def func2():\n",
    "    global x\n",
    "    x=x+1\n",
    "    print (x)\n",
    "    x=3\n",
    "    print(x)\n",
    "func2()\n",
    "\n"
   ]
  },
  {
   "cell_type": "code",
   "execution_count": 6,
   "id": "28c9d94d",
   "metadata": {},
   "outputs": [
    {
     "name": "stdout",
     "output_type": "stream",
     "text": [
      "s1U3e5Ts\n"
     ]
    }
   ],
   "source": [
    "def makenew (mystr):\n",
    "    newstr = ''\n",
    "    count = 0\n",
    "    for i in mystr:\n",
    "        if count % 2 != 0 :\n",
    "          newstr = newstr + str(count)\n",
    "        else:\n",
    "            if mystr.islower() :\n",
    "                newstr = newstr + i.upper()\n",
    "            else:\n",
    "                newstr = newstr + i\n",
    "        count += 1\n",
    "    newstr = newstr + mystr[: 1]\n",
    "    print (newstr)\n",
    "\n",
    "makenew('sTUdeNT')\n",
    "\n",
    "\n"
   ]
  },
  {
   "cell_type": "code",
   "execution_count": 20,
   "id": "9d6697ad",
   "metadata": {},
   "outputs": [],
   "source": [
    "def isPalindrome ( ) :\n",
    "    str1 = input('Enter string : ')\n",
    "    left_pos = 0 # Statement 1\n",
    "    right_pos = len(str1)-1 # Statement 2\n",
    "    while right_pos >= left_pos : # Statement 3\n",
    "        if not str1 [left_pos] == str1 [right_pos]:\n",
    "            return False # Statement 4\n",
    "        left_pos += 1\n",
    "        right_pos += 1\n",
    "    return True"
   ]
  },
  {
   "cell_type": "code",
   "execution_count": 21,
   "id": "cffef48a",
   "metadata": {},
   "outputs": [
    {
     "ename": "IndexError",
     "evalue": "string index out of range",
     "output_type": "error",
     "traceback": [
      "\u001b[1;31m---------------------------------------------------------------------------\u001b[0m",
      "\u001b[1;31mIndexError\u001b[0m                                Traceback (most recent call last)",
      "\u001b[1;32m<ipython-input-21-bfdf33555534>\u001b[0m in \u001b[0;36m<module>\u001b[1;34m\u001b[0m\n\u001b[1;32m----> 1\u001b[1;33m \u001b[0ma\u001b[0m \u001b[1;33m=\u001b[0m \u001b[0misPalindrome\u001b[0m\u001b[1;33m(\u001b[0m\u001b[1;33m)\u001b[0m\u001b[1;33m\u001b[0m\u001b[1;33m\u001b[0m\u001b[0m\n\u001b[0m\u001b[0;32m      2\u001b[0m \u001b[0mprint\u001b[0m\u001b[1;33m(\u001b[0m\u001b[0ma\u001b[0m\u001b[1;33m)\u001b[0m\u001b[1;33m\u001b[0m\u001b[1;33m\u001b[0m\u001b[0m\n",
      "\u001b[1;32m<ipython-input-20-8fd7fcd344be>\u001b[0m in \u001b[0;36misPalindrome\u001b[1;34m()\u001b[0m\n\u001b[0;32m      4\u001b[0m     \u001b[0mright_pos\u001b[0m \u001b[1;33m=\u001b[0m \u001b[0mlen\u001b[0m\u001b[1;33m(\u001b[0m\u001b[0mstr1\u001b[0m\u001b[1;33m)\u001b[0m\u001b[1;33m-\u001b[0m\u001b[1;36m1\u001b[0m \u001b[1;31m# Statement 2\u001b[0m\u001b[1;33m\u001b[0m\u001b[1;33m\u001b[0m\u001b[0m\n\u001b[0;32m      5\u001b[0m     \u001b[1;32mwhile\u001b[0m \u001b[0mright_pos\u001b[0m \u001b[1;33m>=\u001b[0m \u001b[0mleft_pos\u001b[0m \u001b[1;33m:\u001b[0m \u001b[1;31m# Statement 3\u001b[0m\u001b[1;33m\u001b[0m\u001b[1;33m\u001b[0m\u001b[0m\n\u001b[1;32m----> 6\u001b[1;33m         \u001b[1;32mif\u001b[0m \u001b[1;32mnot\u001b[0m \u001b[0mstr1\u001b[0m \u001b[1;33m[\u001b[0m\u001b[0mleft_pos\u001b[0m\u001b[1;33m]\u001b[0m \u001b[1;33m==\u001b[0m \u001b[0mstr1\u001b[0m \u001b[1;33m[\u001b[0m\u001b[0mright_pos\u001b[0m\u001b[1;33m]\u001b[0m\u001b[1;33m:\u001b[0m\u001b[1;33m\u001b[0m\u001b[1;33m\u001b[0m\u001b[0m\n\u001b[0m\u001b[0;32m      7\u001b[0m             \u001b[1;32mreturn\u001b[0m \u001b[1;32mFalse\u001b[0m \u001b[1;31m# Statement 4\u001b[0m\u001b[1;33m\u001b[0m\u001b[1;33m\u001b[0m\u001b[0m\n\u001b[0;32m      8\u001b[0m         \u001b[0mleft_pos\u001b[0m \u001b[1;33m+=\u001b[0m \u001b[1;36m1\u001b[0m\u001b[1;33m\u001b[0m\u001b[1;33m\u001b[0m\u001b[0m\n",
      "\u001b[1;31mIndexError\u001b[0m: string index out of range"
     ]
    }
   ],
   "source": [
    "a = isPalindrome()\n",
    "print(a)"
   ]
  },
  {
   "cell_type": "code",
   "execution_count": null,
   "id": "b67882b3",
   "metadata": {},
   "outputs": [],
   "source": []
  }
 ],
 "metadata": {
  "interpreter": {
   "hash": "5d2f62ab5654bdb13e391a8277148968ca32f47c10665034a10658c5fa01a50f"
  },
  "kernelspec": {
   "display_name": "Python 3.8.8 64-bit ('base': conda)",
   "name": "python3"
  },
  "language_info": {
   "codemirror_mode": {
    "name": "ipython",
    "version": 3
   },
   "file_extension": ".py",
   "mimetype": "text/x-python",
   "name": "python",
   "nbconvert_exporter": "python",
   "pygments_lexer": "ipython3",
   "version": "3.8.8"
  }
 },
 "nbformat": 4,
 "nbformat_minor": 5
}
