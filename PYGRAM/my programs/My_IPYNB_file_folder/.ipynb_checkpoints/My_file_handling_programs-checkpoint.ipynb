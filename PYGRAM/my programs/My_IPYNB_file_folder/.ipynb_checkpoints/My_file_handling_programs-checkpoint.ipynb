{
 "cells": [
  {
   "cell_type": "markdown",
   "id": "770428a1",
   "metadata": {},
   "source": [
    "# My file handling PROGRAMS (for demo class)"
   ]
  },
  {
   "cell_type": "markdown",
   "id": "717134e9",
   "metadata": {},
   "source": [
    "## 1) Program to create a file and add data to it such that everytime we write \".\"(full stop) in our input , it would write the later text in next line.                                                                                                                                                                                                                                                     \n"
   ]
  },
  {
   "cell_type": "code",
   "execution_count": 10,
   "id": "a6bdf3da",
   "metadata": {},
   "outputs": [
    {
     "name": "stdout",
     "output_type": "stream",
     "text": [
      "What do you want to write in the file : Programming is the process of creating a set of instructions that tell a computer how to perform a task. Programming can be done using a variety of computer programming languages, such as JavaScript, Python, and C++\n"
     ]
    }
   ],
   "source": [
    "# MADE BY SHREEJI\n",
    "\n",
    "fout = open('new_line_file' , 'a')\n",
    "record = input('What do you want to write in the file : ').split('.')\n",
    "\n",
    "new_rec = ''\n",
    "\n",
    "if record[len(record)-1] == '':\n",
    "    for line in record[0:len(record)-1] :\n",
    "        new_rec += line.strip()+'.\\n'\n",
    "\n",
    "else:\n",
    "    for line in record[0:len(record)] :\n",
    "        new_rec += line.strip()+'.\\n'\n",
    "\n",
    "# print(new_rec)\n",
    "\n",
    "fout.write(new_rec)\n",
    "fout.close()\n",
    "\n",
    "## MADE BY SHREEJI , © Shreeji Tiwari"
   ]
  },
  {
   "cell_type": "markdown",
   "id": "9cda6a4d",
   "metadata": {},
   "source": [
    "## 2) Program to extract only simple text(without special character and symbols) from a text file"
   ]
  },
  {
   "cell_type": "code",
   "execution_count": 6,
   "id": "1a889c4b",
   "metadata": {},
   "outputs": [
    {
     "name": "stdout",
     "output_type": "stream",
     "text": [
      "How many lines you want to enter  :  2\n",
      "What you want to write(with special characters) in the file  : ~!@# date is 28 august>?:\"<>.,.,\\\\]][[][=-00-9887643\n",
      "What you want to write(with special characters) in the file  : $%^& my program is working ##$@!3456 /*-+[{}]'; fine 2002{}=-098*(*$%(2\n"
     ]
    }
   ],
   "source": [
    "fout = open('special_char_file.txt','a')\n",
    "\n",
    "t = int(input('How many lines you want to enter  :  '))\n",
    "\n",
    "for i in range(t):\n",
    "    data_to_write = input('What you want to write(with special characters) in the file  : ')\n",
    "    fout.write(data_to_write+'\\n')\n",
    "\n",
    "fout.close()"
   ]
  },
  {
   "cell_type": "code",
   "execution_count": 7,
   "id": "ac5d3b00",
   "metadata": {},
   "outputs": [
    {
     "name": "stdout",
     "output_type": "stream",
     "text": [
      "Hello there this is a file with special characters \n",
      "made by Shreeji Tiwari\n",
      "dictionary list \n",
      "tuple string 12345 3476ZxnoihJKL\n",
      "date is 28 august009887643 \n",
      "my program is working 3456 fine 20020982 \n",
      "\n",
      "\n",
      "Number of special characters in the file  : 109\n",
      "Number of simple characters in the file  : 161\n"
     ]
    }
   ],
   "source": [
    "# MADE BY SHREEJI\n",
    "\n",
    "fin = open('special_char_file.txt' , 'r')\n",
    "\n",
    "lines = fin.readlines()\n",
    "sp_cnt = 0\n",
    "sm_cnt = 0\n",
    "\n",
    "for line in lines:\n",
    "    for word  in line.split():\n",
    "        for char in word:\n",
    "            if char.isalnum() == True:\n",
    "                print(char,end = '')\n",
    "                sm_cnt += 1\n",
    "                \n",
    "            else:\n",
    "                sp_cnt += 1\n",
    "\n",
    "        if char.isalnum() == True:\n",
    "            print('',end=' ')\n",
    "   \n",
    "    print('')\n",
    "    \n",
    "fin.close()    \n",
    "print(f'\\n\\nNumber of special characters in the file  : {sp_cnt}')\n",
    "print(f'Number of simple characters in the file  : {sm_cnt}')\n",
    "\n",
    "# MADE BY SHREEJI , © Shreeji Tiwari"
   ]
  },
  {
   "cell_type": "markdown",
   "id": "f7169fa9",
   "metadata": {},
   "source": [
    "## 3) Python program to create a python file itself"
   ]
  },
  {
   "cell_type": "code",
   "execution_count": 2,
   "id": "d9db3956",
   "metadata": {},
   "outputs": [],
   "source": [
    "# MADE BY SHREEJI\n",
    "\n",
    "fout = open('smart_python_file.py','a')\n",
    "fout.write(r'print(\"Hello, this python file is made by another python program itself .\\nIsn\\'t its amazing ?!!!\\n\")')\n",
    "fout.write('Here is the program : ')\n",
    "\n",
    "fout.write(r'''fout = open('new_line_file' , 'a')\n",
    "record = input('What do you want to write in the file : ').split('.')\n",
    "\n",
    "new_rec = ''\n",
    "\n",
    "for line in record[:len(record)-1] :\n",
    "    new_rec += line.strip()+'.\\n'\n",
    "\n",
    "# print(new_rec)\n",
    "\n",
    "fout.write(new_rec)\n",
    "fout.close()''')\n",
    "\n",
    "fout.close()\n",
    "\n",
    "# MADE BY SHREEJI , © Shreeji Tiwari"
   ]
  }
 ],
 "metadata": {
  "kernelspec": {
   "display_name": "Python 3",
   "language": "python",
   "name": "python3"
  },
  "language_info": {
   "codemirror_mode": {
    "name": "ipython",
    "version": 3
   },
   "file_extension": ".py",
   "mimetype": "text/x-python",
   "name": "python",
   "nbconvert_exporter": "python",
   "pygments_lexer": "ipython3",
   "version": "3.8.8"
  }
 },
 "nbformat": 4,
 "nbformat_minor": 5
}
