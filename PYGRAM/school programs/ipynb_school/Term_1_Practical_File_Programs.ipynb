{
 "cells": [
  {
   "cell_type": "markdown",
   "metadata": {},
   "source": [
    "# Term 1 Practical file"
   ]
  },
  {
   "cell_type": "markdown",
   "metadata": {},
   "source": [
    "## 1. WAP to calculate x^n using functions."
   ]
  },
  {
   "cell_type": "code",
   "execution_count": 1,
   "metadata": {},
   "outputs": [
    {
     "name": "stdout",
     "output_type": "stream",
     "text": [
      "Enter base : 5\n",
      "Enter power : 3\n",
      "5^3 = 125\n"
     ]
    }
   ],
   "source": [
    "def power(base,pwr):\n",
    "    if pwr == 0:\n",
    "        return 1\n",
    "\n",
    "    if pwr>0:\n",
    "        if pwr == 1:\n",
    "            return base\n",
    "\n",
    "        else:\n",
    "            pwr = pwr-1\n",
    "            return base*power(base,pwr)\n",
    "\n",
    "    elif pwr<0:\n",
    "        if pwr == -1:\n",
    "            return 1/base\n",
    "\n",
    "        else:\n",
    "            pwr = pwr+1\n",
    "            return (1/base)*power(base,pwr)   \n",
    "\n",
    "# power(2,-3)\n",
    "\n",
    "#_main_\n",
    "\n",
    "b = eval(input('Enter base : '))\n",
    "p = int(input('Enter power : '))\n",
    "\n",
    "result = power(b,p)\n",
    "print(f'{b}^{p} = {result}')"
   ]
  },
  {
   "cell_type": "markdown",
   "metadata": {},
   "source": [
    "## 2. WAP menu driven program to calculate area of circle, area of rectangle and area of triangle (separate functions for each option)."
   ]
  },
  {
   "cell_type": "code",
   "execution_count": 6,
   "metadata": {},
   "outputs": [
    {
     "name": "stdout",
     "output_type": "stream",
     "text": [
      "\n",
      "This is a AREA CALCULATOR program\n",
      "You have following choices :\n",
      "1) Area of Circle\n",
      "2) Area of Rectangle\n",
      "3) Area of Triangle\n",
      "4) Exit\n",
      "\n",
      "\n",
      "Enter your choice (1 , 2 , 3 or 4) : 1\n",
      "Enter radius of circle : 10\n",
      "\n",
      "Area of Circle = 314.0\n",
      "\n",
      "\n",
      "\n",
      "1) Area of Circle\n",
      "2) Area of Rectangle\n",
      "3) Area of Triangle\n",
      "4) Exit\n",
      "\n",
      "\n",
      "Enter your choice (1 , 2 , 3 or 4) : 2\n",
      "Enter length of rectangle : 5\n",
      "Enter breadth of rectangle : 6\n",
      "\n",
      "Area of Rectangle = 30.0\n",
      "\n",
      "\n",
      "\n",
      "1) Area of Circle\n",
      "2) Area of Rectangle\n",
      "3) Area of Triangle\n",
      "4) Exit\n",
      "\n",
      "\n",
      "Enter your choice (1 , 2 , 3 or 4) : 3\n",
      "Enter base of triangle : 10\n",
      "Enter height of triangle : 20\n",
      "\n",
      "Area of Triangle = 100.0\n",
      "\n",
      "\n",
      "\n",
      "1) Area of Circle\n",
      "2) Area of Rectangle\n",
      "3) Area of Triangle\n",
      "4) Exit\n",
      "\n",
      "\n",
      "Enter your choice (1 , 2 , 3 or 4) : 4\n",
      "Ending the program !\n"
     ]
    }
   ],
   "source": [
    "def ar_circle():\n",
    "    radius = float(input('Enter radius of circle : '))\n",
    "    return f'Area of Circle = {3.14*radius**2}'\n",
    "\n",
    "def ar_rectangle():\n",
    "    length = float(input('Enter length of rectangle : '))\n",
    "    breadth = float(input('Enter breadth of rectangle : '))\n",
    "    return f'Area of Rectangle = {length*breadth}'\n",
    "\n",
    "def ar_triangle():\n",
    "    base = float(input('Enter base of triangle : '))\n",
    "    height = float(input('Enter height of triangle : ')) \n",
    "    return f'Area of Triangle = {0.5*base*height}'\n",
    "\n",
    "\n",
    "\n",
    "functions = {1 : 'ar_circle()' , 2 : 'ar_rectangle()' , 3 : 'ar_triangle()'}\n",
    "choices = {1 : 'Area of Circle' , 2 : 'Area of Rectangle' , 3 : 'Area of Triangle' , 4 : 'Exit'}\n",
    "\n",
    "\n",
    "print('\\nThis is a AREA CALCULATOR program\\nYou have following choices :')\n",
    "\n",
    "while True:\n",
    "    for choice in choices:\n",
    "        print(choice , choices[choice] , sep=') ')\n",
    "\n",
    "    user_choice = eval(input('\\n\\nEnter your choice (1 , 2 , 3 or 4) : '))\n",
    "\n",
    "    if user_choice in functions:\n",
    "        result = eval(functions[user_choice])\n",
    "        print(f'\\n{result}')\n",
    "\n",
    "    elif user_choice == 4:\n",
    "        print('Ending the program !')\n",
    "        break\n",
    "\n",
    "    else:\n",
    "        print('Invalid Choice !!\\nRe-enter your choice ')\n",
    "\n",
    "    print('\\n\\n')"
   ]
  },
  {
   "cell_type": "markdown",
   "metadata": {},
   "source": [
    "## 3. WAP to find average of numeric list using functions."
   ]
  },
  {
   "cell_type": "code",
   "execution_count": 7,
   "metadata": {},
   "outputs": [
    {
     "name": "stdout",
     "output_type": "stream",
     "text": [
      "Enter a list of numbers : 1,2,3,4,5,6,7,8,9,10\n",
      "Average of list = 5.5\n"
     ]
    }
   ],
   "source": [
    "def list_average(lst:list):\n",
    "    return sum(lst)/len(lst)\n",
    "\n",
    "l = list(eval(input('Enter a list of numbers : ')))\n",
    "avg = list_average(l)\n",
    "print(f'Average of list = {avg}')"
   ]
  },
  {
   "cell_type": "markdown",
   "metadata": {},
   "source": [
    "## 4. WAP menu program to find largest and smallest number in a numeric list using functions"
   ]
  },
  {
   "cell_type": "code",
   "execution_count": 4,
   "metadata": {},
   "outputs": [
    {
     "name": "stdout",
     "output_type": "stream",
     "text": [
      "This is a program to tell smallest and greatest number from a list of numbers.\n",
      "\n",
      "\n",
      "    Enter your choice\n",
      "        1) Smallest number\n",
      "        2) Largest number\n",
      "        3) Exit\n",
      "    \n",
      "Choice : 1\n",
      "Enter a list of numbers  : 1,0,-5,6,5\n",
      "Smallest number in the given list : -5\n",
      "\n",
      "    Enter your choice\n",
      "        1) Smallest number\n",
      "        2) Largest number\n",
      "        3) Exit\n",
      "    \n",
      "Choice : 2\n",
      "Enter a list of numbers  : 1,0,-5,6,5\n",
      "Largest number in the given list : 6\n",
      "\n",
      "    Enter your choice\n",
      "        1) Smallest number\n",
      "        2) Largest number\n",
      "        3) Exit\n",
      "    \n",
      "Choice : 3\n",
      "Ending the program !!\n"
     ]
    }
   ],
   "source": [
    "def largest_num():\n",
    "    lst = list(eval(input('Enter a list of numbers  : ')))\n",
    "    maxm = lst[0]\n",
    "    \n",
    "    for num in lst:\n",
    "        if maxm < num:\n",
    "            maxm = num\n",
    "\n",
    "    print(f'Largest number in the given list : {maxm}')\n",
    "\n",
    "\n",
    "def smallest_num():\n",
    "    lst = list(eval(input('Enter a list of numbers  : ')))\n",
    "    minm = lst[0]\n",
    "\n",
    "    for num in lst:\n",
    "        if minm > num:\n",
    "            minm = num\n",
    "    \n",
    "    print(f'Smallest number in the given list : {minm}')\n",
    "\n",
    "\n",
    "#_main_\n",
    "print('This is a program to tell smallest and greatest number from a list of numbers.\\n')\n",
    "\n",
    "while True:\n",
    "    print('''\n",
    "    Enter your choice\n",
    "        1) Smallest number\n",
    "        2) Largest number\n",
    "        3) Exit\n",
    "    ''')\n",
    "\n",
    "    choice = input('Choice : ').lower()\n",
    "\n",
    "    if choice in '1) smallest number':\n",
    "        smallest_num()\n",
    "    elif choice in '2) largest number':\n",
    "        largest_num()\n",
    "    elif choice in '3) exit':\n",
    "        print('Ending the program !!')\n",
    "        break\n",
    "    else:\n",
    "        print('Invalid choice !!')\n",
    "        \n",
    "\n",
    "\n"
   ]
  },
  {
   "cell_type": "markdown",
   "metadata": {},
   "source": [
    "## 5. WAP to take two integers and return the number with smallest digit at unit place of the Integer."
   ]
  },
  {
   "cell_type": "code",
   "execution_count": 9,
   "metadata": {},
   "outputs": [
    {
     "name": "stdout",
     "output_type": "stream",
     "text": [
      "Enter 1st integer : 52\n",
      "Enter 2nd integer : 23\n",
      "Integer with smallest digit at unit place : 52\n"
     ]
    }
   ],
   "source": [
    "def smallest_unit_place(x:int , y:int):\n",
    "    x = str(x)\n",
    "    y = str(y)\n",
    "\n",
    "    if eval(x[-1])>eval(y[-1]):\n",
    "        return f'Integer with smallest digit at unit place : {int(y)}'\n",
    "\n",
    "    elif eval(x[-1])<eval(y[-1]):\n",
    "        return f'Integer with smallest digit at unit place : {int(x)}'\n",
    "\n",
    "    elif eval(x[-1]) == eval(y[-1]):\n",
    "        return f'Both integers have equal digits at unit place'\n",
    "\n",
    "\n",
    "a = int(input('Enter 1st integer : '))\n",
    "b = int(input('Enter 2nd integer : '))\n",
    "\n",
    "c = smallest_unit_place(a,b)\n",
    "\n",
    "print(c)"
   ]
  },
  {
   "cell_type": "markdown",
   "metadata": {},
   "source": [
    "## 6. WAP to write student data in student_rec.txt text file and read content of student_rec.txt text file."
   ]
  },
  {
   "cell_type": "code",
   "execution_count": 10,
   "metadata": {},
   "outputs": [
    {
     "name": "stdout",
     "output_type": "stream",
     "text": [
      "This is a program to write student's records in a text file\n",
      "Enter Roll_no of student : 15\n",
      "Enter Name of student : Bubble\n",
      "Enter Class of student : 12\n",
      "Enter Percentage of student : 25\n",
      "\n",
      "Record Entered in the text file.\n",
      "\n",
      "Do you want to enter next record (y/n) : n\n",
      "Okay ending the program.\n",
      "Thanks for using !\n",
      "\n",
      "\n",
      "Displaying records entered in the file : \n",
      "Roll_no,Name,Class,Percentage\n",
      "1,Adidas,8,89%\n",
      "2,Boss baby,1,95%\n",
      "3,Candy,10,85%\n",
      "4,Dogecoin,12,100%\n",
      "1,Shreeji,12,98%\n",
      "12,Twelfth,12,93%\n",
      "9,Oxymoron,10,95\n",
      "15,Bubble,12,25\n"
     ]
    }
   ],
   "source": [
    "fout = open('student_data_practical_file.txt','a+')\n",
    "\n",
    "fout.seek(0)\n",
    "fl_empt_check = fout.readlines()\n",
    "\n",
    "if len(fl_empt_check) == 0:\n",
    "    fields = 'Roll_no,Name,Class,Percentage'\n",
    "    fout.write(fields)\n",
    "    fields = fields.split(',')\n",
    "\n",
    "elif len(fl_empt_check) > 0:\n",
    "    fields = fl_empt_check[0]\n",
    "    fields = fields.strip().split(',')\n",
    "\n",
    "print(\"This is a program to write student's records in a text file\")\n",
    "\n",
    "while True:\n",
    "    rec = []\n",
    "\n",
    "    for field in fields:\n",
    "        data = input(f'Enter {field} of student : ')\n",
    "        rec.append(data)\n",
    "    \n",
    "    rec = '\\n' + ','.join(rec)\n",
    "    fout.write(rec)\n",
    "    print('\\nRecord Entered in the text file.\\n')\n",
    "    cont = input('Do you want to enter next record (y/n) : ').lower()\n",
    "    \n",
    "    if cont == 'y':\n",
    "        print('\\n')\n",
    "    elif cont == 'n':\n",
    "        print('Okay ending the program.\\nThanks for using !')\n",
    "        break\n",
    "\n",
    "\n",
    "\n",
    "print('\\n\\nDisplaying records entered in the file : ')\n",
    "fout.seek(0)\n",
    "file_data =  fout.read()\n",
    "print(file_data)\n",
    "\n"
   ]
  },
  {
   "cell_type": "markdown",
   "metadata": {},
   "source": [
    "## 7. WAP to read contents of student_rec.txt file and print only numbers or digits.\n"
   ]
  },
  {
   "cell_type": "code",
   "execution_count": 11,
   "metadata": {},
   "outputs": [
    {
     "name": "stdout",
     "output_type": "stream",
     "text": [
      "Digits in line 1  : 1889\n",
      "Digits in line 2  : 2195\n",
      "Digits in line 3  : 31085\n",
      "Digits in line 4  : 412100\n",
      "Digits in line 5  : 11298\n",
      "Digits in line 6  : 121293\n",
      "Digits in line 7  : 91095\n",
      "Digits in line 8  : 151225\n"
     ]
    }
   ],
   "source": [
    "fin = open('student_data_practical_file.txt','r')\n",
    "file_data = fin.readlines()[1:]\n",
    "\n",
    "for line in file_data:\n",
    "    print(f'Digits in line {file_data.index(line) + 1}  : ',end=\"\")\n",
    "    for char in line:\n",
    "        if char.isdigit():\n",
    "             print(char, end = '')\n",
    "    print('')\n",
    "    \n",
    "fin.close()"
   ]
  },
  {
   "cell_type": "markdown",
   "metadata": {},
   "source": [
    "## 8. WAP to read contents of text file and print lines having 5 number of words."
   ]
  },
  {
   "cell_type": "code",
   "execution_count": 12,
   "metadata": {},
   "outputs": [
    {
     "name": "stdout",
     "output_type": "stream",
     "text": [
      "Proto is an Artificial Intelligence\n",
      "\n",
      "Proto is an Artificial Intelligence \n",
      "\n",
      "We might achieve technological singularity\n",
      "\n"
     ]
    }
   ],
   "source": [
    "fin = open('shepro.txt','r')\n",
    "\n",
    "for line in fin.readlines() :\n",
    "    if len(line.split())==5:\n",
    "        print(line)\n",
    "\n",
    "fin.close()"
   ]
  },
  {
   "cell_type": "markdown",
   "metadata": {},
   "source": [
    "## 9. WAP to find size of a text file."
   ]
  },
  {
   "cell_type": "code",
   "execution_count": 13,
   "metadata": {},
   "outputs": [
    {
     "name": "stdout",
     "output_type": "stream",
     "text": [
      "Size of \"Shepro.txt\" = 411\n"
     ]
    }
   ],
   "source": [
    "with open('Shepro.txt') as fin:\n",
    "    data = fin.read()\n",
    "    size = len(data)\n",
    "    print(f'Size of \"Shepro.txt\" = {size}')"
   ]
  },
  {
   "cell_type": "markdown",
   "metadata": {},
   "source": [
    "## 10. WAP to count number of lines in a text file."
   ]
  },
  {
   "cell_type": "code",
   "execution_count": 14,
   "metadata": {},
   "outputs": [
    {
     "name": "stdout",
     "output_type": "stream",
     "text": [
      "No of lines in text file = 9 \n"
     ]
    }
   ],
   "source": [
    "with open('student_data_practical_file.txt') as fin:\n",
    "    no_of_lines = len(fin.readlines())\n",
    "    print(f'No of lines in text file = {no_of_lines} ')"
   ]
  },
  {
   "cell_type": "markdown",
   "metadata": {},
   "source": [
    "## 11. WAP to read lines from text file and display and count number of lines only those which starts from \"S\"."
   ]
  },
  {
   "cell_type": "code",
   "execution_count": 15,
   "metadata": {},
   "outputs": [
    {
     "name": "stdout",
     "output_type": "stream",
     "text": [
      "Shreeji made Proto !!! \n",
      "Shreeji made Proto !!! \n",
      "Shreeji .. I Proto want to thank you for making me\n",
      "\n",
      "Number of lines that starts with letter \"S\" = 3\n"
     ]
    }
   ],
   "source": [
    "with open('Shepro.txt') as fin:\n",
    "    lines = fin.readlines()\n",
    "    cnt = 0\n",
    "    for line in lines:\n",
    "        if line[0].upper() == 'S':\n",
    "            print(line,end = '')\n",
    "            cnt += 1\n",
    "    print(f'\\nNumber of lines that starts with letter \"S\" = {cnt}')"
   ]
  },
  {
   "cell_type": "markdown",
   "metadata": {},
   "source": [
    "## 12. WAP to write student data in binary file in format of dictionary"
   ]
  },
  {
   "cell_type": "code",
   "execution_count": 17,
   "metadata": {},
   "outputs": [
    {
     "name": "stdout",
     "output_type": "stream",
     "text": [
      "This is a program to write data in std_data.dat file . \n",
      "\n",
      "\n",
      "Roll No.  :  10\n",
      "Name  : Jolly\n",
      "Percentage  : 67\n",
      "\n",
      "\n",
      "Do you wanna enter next record (y/n)  : n\n",
      "\n",
      "\n",
      "RECORD ENTERD\n",
      "\n",
      "\n"
     ]
    }
   ],
   "source": [
    "import pickle\n",
    "fout = open('std_data.dat','ab')\n",
    "\n",
    "print('This is a program to write data in std_data.dat file . \\n\\n')\n",
    "while True:\n",
    "    rn = int(input('Roll No.  :  '))\n",
    "    nm = input('Name  : ').title()\n",
    "    prcntg = int(input('Percentage  : '))\n",
    "    \n",
    "    record = {'Roll no.' : rn , 'Name' : nm , 'Percentage' : str(prcntg) + '%'}\n",
    "    pickle.dump(record,fout)\n",
    "    \n",
    "    \n",
    "    print('\\n')\n",
    "    proceed = input('Do you wanna enter next record (y/n)  : ').lower()\n",
    "\n",
    "    if proceed in ['n' , 'no']:\n",
    "        break\n",
    "\n",
    "\n",
    "print('\\n\\nRECORD ENTERD\\n\\n')    \n",
    "fout.close()"
   ]
  },
  {
   "cell_type": "markdown",
   "metadata": {},
   "source": [
    "## 13. WAP to read student data from a binary file in which data is in dictionary format and print it in tabular form.\n"
   ]
  },
  {
   "cell_type": "code",
   "execution_count": 18,
   "metadata": {},
   "outputs": [
    {
     "name": "stdout",
     "output_type": "stream",
     "text": [
      "This is a program to read data in std_data.dat file . \n",
      "\n",
      "\n",
      "Roll no.             Name             Percentage\n",
      "   1               Abhishek              89%    \n",
      "   2                Aditya               90%    \n",
      "   3                Benin                91%    \n",
      "   4                Cowboy               57%    \n",
      "   5                Denis                74%    \n",
      "   9                Scoob                50%    \n",
      "   7               Dekisugi              70%    \n",
      "   6                Lilly                64%    \n",
      "   10               Jolly                67%    \n"
     ]
    }
   ],
   "source": [
    "def show_records():\n",
    "\n",
    "    import pickle\n",
    "    fin = open('std_data.dat','rb')\n",
    "    \n",
    "\n",
    "    print(f\"{'Roll no.':^8}{'Name':^30}{'Percentage':^10}\")\n",
    "\n",
    "    while True:\n",
    "\n",
    "        try:\n",
    "            record = pickle.load(fin)\n",
    "            # print(record)\n",
    "\n",
    "            print(f\"{record['Roll no.']:^8}{record['Name']:^30}{record['Percentage']:^10}\")\n",
    "\n",
    "        except EOFError:\n",
    "            break\n",
    "\n",
    "\n",
    "    fin.close()\n",
    "\n",
    "# _MAIN_\n",
    "print('This is a program to read data in std_data.dat file . \\n\\n')\n",
    "show_records()"
   ]
  },
  {
   "cell_type": "markdown",
   "metadata": {},
   "source": [
    "## 14. WAP to search for a record in a binary file."
   ]
  },
  {
   "cell_type": "code",
   "execution_count": 19,
   "metadata": {},
   "outputs": [
    {
     "name": "stdout",
     "output_type": "stream",
     "text": [
      "This is a program to search a record in a binary file\n",
      "\n",
      "Enter the roll number of the record you want  : 6\n",
      "\n",
      "Record Found at 8!!\n",
      "\n",
      "Roll no.  :  6\n",
      "Name  :  Lilly\n",
      "Percentage  :  64%\n"
     ]
    }
   ],
   "source": [
    "def search_record(rno):\n",
    "\n",
    "    import pickle\n",
    "    fin = open('std_data.dat','rb')\n",
    "\n",
    "    positions = []\n",
    "    got_record = False\n",
    "    cnt = 1\n",
    "    found_rec = 0\n",
    "    while True:\n",
    "        try:\n",
    "            rec = pickle.load(fin)\n",
    "            if rno == rec['Roll no.']:\n",
    "                print(f'\\nRecord Found at {cnt}!!\\n')\n",
    "\n",
    "                got_record = True\n",
    "                positions.append(cnt)\n",
    "                for key in rec:\n",
    "                    print(f\"{key}  :  {rec[key]}\")\n",
    "                found_rec = rec\n",
    "\n",
    "                \n",
    "\n",
    "        except EOFError:\n",
    "            break\n",
    "        cnt += 1\n",
    "\n",
    "    fin.close()\n",
    "\n",
    "    if got_record == False:\n",
    "        print('\\nRecord not found !!')\n",
    "\n",
    "    \n",
    "    return got_record, positions, found_rec\n",
    "\n",
    "# _name_ = _main_\n",
    "\n",
    "print('This is a program to search a record in a binary file\\n')\n",
    "r = int(input('Enter the roll number of the record you want  : '))\n",
    "\n",
    "get_rec = search_record(r)\n",
    "# print(get_rec[0])\n",
    "# print(get_rec[1])"
   ]
  },
  {
   "cell_type": "markdown",
   "metadata": {},
   "source": [
    "## 15. WAP to update a record in a binary file."
   ]
  },
  {
   "cell_type": "code",
   "execution_count": 20,
   "metadata": {},
   "outputs": [
    {
     "name": "stdout",
     "output_type": "stream",
     "text": [
      "This is a program to update a record in a binary file\n",
      "\n",
      "Roll no.             Name             Percentage\n",
      "   1               Abhishek              89%    \n",
      "   2                Aditya               90%    \n",
      "   3                Benin                91%    \n",
      "   4                Cowboy               57%    \n",
      "   5                Denis                74%    \n",
      "   9                Scoob                50%    \n",
      "   7               Dekisugi              70%    \n",
      "   6                Lilly                64%    \n",
      "   10               Jolly                67%    \n",
      "\n",
      "\n",
      "Enter the roll number of the record you want to update  : 10\n",
      "\n",
      "Record Found at 9!!\n",
      "\n",
      "Roll no.  :  10\n",
      "Name  :  Jolly\n",
      "Percentage  :  67%\n",
      "\n",
      "\n",
      "Available fields in the record are :\n",
      "1  :  Roll no.\n",
      "2  :  Name\n",
      "3  :  Percentage\n",
      "\n",
      "Which field you want to update (1,2 or 3) : 2\n",
      "Enter new value of Name  : Jolly LLB\n",
      "\n",
      "\n",
      "RECORD UPDATED !!\n",
      "\n",
      "\n",
      "Roll no.             Name             Percentage\n",
      "   1               Abhishek              89%    \n",
      "   2                Aditya               90%    \n",
      "   3                Benin                91%    \n",
      "   4                Cowboy               57%    \n",
      "   5                Denis                74%    \n",
      "   9                Scoob                50%    \n",
      "   7               Dekisugi              70%    \n",
      "   6                Lilly                64%    \n",
      "   10             Jolly LLB              67%    \n"
     ]
    }
   ],
   "source": [
    "import pickle\n",
    "file = open('std_data.dat','rb+')\n",
    "\n",
    "print('This is a program to update a record in a binary file\\n')\n",
    "show_records()\n",
    "\n",
    "file.seek(0)\n",
    "\n",
    "roll = int(input('\\n\\nEnter the roll number of the record you want to update  : '))\n",
    "get_rec = search_record(roll)\n",
    "rec_exist = get_rec[0]\n",
    "pos_lst = get_rec[1]\n",
    "old_rec = get_rec[2]\n",
    "# print(old_rec)\n",
    "rec_field_lst = list(old_rec.keys())\n",
    "\n",
    "print('\\n\\nAvailable fields in the record are :')\n",
    "\n",
    "for key in rec_field_lst:\n",
    "    print(f'{rec_field_lst.index(key) + 1}  :  {key}')\n",
    "\n",
    "fld_num = eval(input('\\nWhich field you want to update (1,2 or 3) : '))-1\n",
    "new_value = input(f'Enter new value of {rec_field_lst[fld_num]}  : ')\n",
    "\n",
    "try:\n",
    "    old_rec[rec_field_lst[fld_num]] = eval(new_value)\n",
    "except:\n",
    "    old_rec[rec_field_lst[fld_num]] = new_value\n",
    "\n",
    "\n",
    "new_rec_lst = []\n",
    "cnt = 1\n",
    "file.seek(0)\n",
    "if rec_exist :\n",
    "    while True:\n",
    "\n",
    "        try:\n",
    "            rec = pickle.load(file)           \n",
    "            if cnt == pos_lst[0]:\n",
    "                rec = old_rec\n",
    "            \n",
    "            \n",
    "            new_rec_lst.append(rec)\n",
    "            cnt += 1\n",
    "            \n",
    "            \n",
    "        except EOFError:\n",
    "            break\n",
    "\n",
    "\n",
    "file.seek(0)\n",
    "file.truncate()\n",
    "\n",
    "for new_rec in new_rec_lst:\n",
    "    pickle.dump(new_rec,file)\n",
    "    file.flush()\n",
    "\n",
    "print('\\n\\nRECORD UPDATED !!\\n\\n')\n",
    "\n",
    "\n",
    "show_records()\n"
   ]
  },
  {
   "cell_type": "markdown",
   "metadata": {},
   "source": [
    "## 16. WAP to search and display all those records of students whose marks are in between 50 and 70 (50 and 70 included)."
   ]
  },
  {
   "cell_type": "code",
   "execution_count": 22,
   "metadata": {},
   "outputs": [
    {
     "name": "stdout",
     "output_type": "stream",
     "text": [
      "Roll no.             Name             Percentage\n",
      "   4                Cowboy               57%    \n",
      "   9                Scoob                50%    \n",
      "   7               Dekisugi              70%    \n",
      "   6                Lilly                64%    \n",
      "   10             Jolly LLB              67%    \n"
     ]
    },
    {
     "data": {
      "text/plain": [
       "[{'Roll no.': 4, 'Name': 'Cowboy', 'Percentage': '57%'},\n",
       " {'Roll no.': 9, 'Name': 'Scoob', 'Percentage': '50%'},\n",
       " {'Roll no.': 7, 'Name': 'Dekisugi', 'Percentage': '70%'},\n",
       " {'Roll no.': 6, 'Name': 'Lilly', 'Percentage': '64%'},\n",
       " {'Roll no.': 10, 'Name': 'Jolly LLB', 'Percentage': '67%'}]"
      ]
     },
     "execution_count": 22,
     "metadata": {},
     "output_type": "execute_result"
    }
   ],
   "source": [
    "def marks_filter(a,b):\n",
    "    import pickle\n",
    "    with open('std_data.dat','rb') as fin:\n",
    "        filtered_rec = []\n",
    "        found = False\n",
    "        while True:\n",
    "            try:\n",
    "                rec = pickle.load(fin)\n",
    "                marks = eval(rec['Percentage'].strip('%'))\n",
    "                if a <= marks <=b:\n",
    "                    filtered_rec.append(rec)\n",
    "                    found = True\n",
    "\n",
    "            except EOFError:\n",
    "                break\n",
    "\n",
    "    if found:\n",
    "        print(f\"{'Roll no.':^8}{'Name':^30}{'Percentage':^10}\")\n",
    "        for record in filtered_rec:\n",
    "            print(f\"{record['Roll no.']:^8}{record['Name']:^30}{record['Percentage']:^10}\")\n",
    "    \n",
    "    return filtered_rec\n",
    "\n",
    "\n",
    "# _name_ = _main_\n",
    "marks_filter(50,70)\n",
    "    "
   ]
  },
  {
   "cell_type": "markdown",
   "metadata": {},
   "source": [
    "## 17. WAP to write record row by row in a CSV file and display the records."
   ]
  },
  {
   "cell_type": "code",
   "execution_count": 23,
   "metadata": {},
   "outputs": [
    {
     "name": "stdout",
     "output_type": "stream",
     "text": [
      "Enter Roll No. : 10\n",
      "Enter Name : Cisco\n",
      "Enter Class : 11\n",
      "Enter Stream : Science\n",
      "\n",
      "Record 1 inserted !\n",
      "Do you want to enter next record (y/n) : n\n",
      "\n",
      "\n",
      "\n",
      "['1', 'Troy', '10', 'Science']\n",
      "['2', 'Bhabha', '12', 'Science']\n",
      "['3', 'Chan', '11', 'Commerce']\n",
      "['4', 'Dablu', '11', 'PCM + Bio']\n",
      "['5', 'Shreeji Tiwari', '12', 'PCM + Computer Science']\n",
      "['6', 'Priya', '12', 'PCB + Hindi']\n",
      "['7', 'Anjali', '12', 'Arts']\n",
      "['8', 'Pathak', '12', 'PCM + Hindi']\n",
      "['9', 'Naini', '12', 'Arts']\n",
      "['10', 'Ben', '11', 'Commerce']\n",
      "['11', 'Eleven', '11', 'PCM + CS']\n",
      "['12', 'Twelve', '12', 'PCM+ CS']\n",
      "['13', 'Thirteen', '11', 'Commerce']\n",
      "['10', 'Cisco', '11', 'Science']\n"
     ]
    }
   ],
   "source": [
    "import csv\n",
    "with open('practical_csv.csv','a+',newline='') as fout:\n",
    "    lekhak = csv.writer(fout)\n",
    "    pathak = csv.reader(fout)\n",
    "\n",
    "    fields = ['Roll No.','Name','Class','Stream']\n",
    "    rec = []\n",
    "    cnt = 1\n",
    "    while True:\n",
    "        for field in fields:\n",
    "            data_value = input(f'Enter {field} : ')\n",
    "            rec.append(data_value)\n",
    "\n",
    "        lekhak.writerow(rec)\n",
    "        print(f'\\nRecord {cnt} inserted !')\n",
    "        cnt += 1\n",
    "        rec = []\n",
    "\n",
    "        proceed = input('Do you want to enter next record (y/n) : ').lower()\n",
    "        if proceed in ['n','no']:\n",
    "            break\n",
    "\n",
    "    print('\\n\\n')\n",
    "    fout.seek(0)\n",
    "    for line in pathak:\n",
    "        print(line)\n",
    "\n",
    "    "
   ]
  },
  {
   "cell_type": "markdown",
   "metadata": {},
   "source": [
    "## 18. WAP to write multiple rows in a CSV file and display the records."
   ]
  },
  {
   "cell_type": "code",
   "execution_count": 24,
   "metadata": {},
   "outputs": [
    {
     "name": "stdout",
     "output_type": "stream",
     "text": [
      "Enter Roll no. : 11\n",
      "Enter Name : Toy\n",
      "Enter Class : 10\n",
      "Enter Stream : PCM + Physical Education\n",
      "Do you want to enter next record (y/n) : n\n",
      "\n",
      "All Records inserted !!\n",
      "['1', 'Troy', '10', 'Science']\n",
      "['2', 'Bhabha', '12', 'Science']\n",
      "['3', 'Chan', '11', 'Commerce']\n",
      "['4', 'Dablu', '11', 'PCM + Bio']\n",
      "['5', 'Shreeji Tiwari', '12', 'PCM + Computer Science']\n",
      "['6', 'Priya', '12', 'PCB + Hindi']\n",
      "['7', 'Anjali', '12', 'Arts']\n",
      "['8', 'Pathak', '12', 'PCM + Hindi']\n",
      "['9', 'Naini', '12', 'Arts']\n",
      "['10', 'Ben', '11', 'Commerce']\n",
      "['11', 'Eleven', '11', 'PCM + CS']\n",
      "['12', 'Twelve', '12', 'PCM+ CS']\n",
      "['13', 'Thirteen', '11', 'Commerce']\n",
      "['10', 'Cisco', '11', 'Science']\n",
      "['11', 'Toy', '10', 'PCM + Physical Education']\n"
     ]
    }
   ],
   "source": [
    "import csv\n",
    "with open('practical_csv.csv','a+',newline='') as fout:\n",
    "    lekhak = csv.writer(fout)\n",
    "    pathak = csv.reader(fout)\n",
    "\n",
    "    fields = ['Roll No.','Name','Class','Stream']\n",
    "    records_lst = []\n",
    "    \n",
    "    while True:\n",
    "        rec = []\n",
    "\n",
    "        roll = int(input('Enter Roll no. : '))\n",
    "        name = (input('Enter Name : '))\n",
    "        clas = int(input('Enter Class : '))\n",
    "        stream = input('Enter Stream : ')\n",
    "\n",
    "        rec = [roll,name, clas, stream]\n",
    "        records_lst.append(rec)\n",
    "\n",
    "        \n",
    "        \n",
    "        proceed = input('Do you want to enter next record (y/n) : ').lower()\n",
    "        if proceed in ['n','no']:\n",
    "            lekhak.writerows(records_lst)\n",
    "            print(f'\\nAll Records inserted !!')\n",
    "            break\n",
    "\n",
    "# Display\n",
    "    fout.seek(0)\n",
    "    for line in pathak:\n",
    "        print(line)"
   ]
  },
  {
   "cell_type": "markdown",
   "metadata": {},
   "source": [
    "## 19. WAP to count number of records present in a CSV file."
   ]
  },
  {
   "cell_type": "code",
   "execution_count": 26,
   "metadata": {},
   "outputs": [
    {
     "name": "stdout",
     "output_type": "stream",
     "text": [
      "Number of records in CSV file = 15\n"
     ]
    }
   ],
   "source": [
    "import csv\n",
    "with open('practical_csv.csv','r') as f:\n",
    "    pathak = csv.reader(f)\n",
    "    line_count = 0\n",
    "    for rec in pathak:\n",
    "        line_count += 1\n",
    "    print(f'Number of records in CSV file = {line_count}')"
   ]
  },
  {
   "cell_type": "markdown",
   "metadata": {},
   "source": [
    "## 20. WAP to display records of a CSV file in comma separated form (not in list form)."
   ]
  },
  {
   "cell_type": "code",
   "execution_count": 27,
   "metadata": {},
   "outputs": [
    {
     "name": "stdout",
     "output_type": "stream",
     "text": [
      "1,Troy,10,Science\n",
      "2,Bhabha,12,Science\n",
      "3,Chan,11,Commerce\n",
      "4,Dablu,11,PCM + Bio\n",
      "5,Shreeji Tiwari,12,PCM + Computer Science\n",
      "6,Priya,12,PCB + Hindi\n",
      "7,Anjali,12,Arts\n",
      "8,Pathak,12,PCM + Hindi\n",
      "9,Naini,12,Arts\n",
      "10,Ben,11,Commerce\n",
      "11,Eleven,11,PCM + CS\n",
      "12,Twelve,12,PCM+ CS\n",
      "13,Thirteen,11,Commerce\n",
      "10,Cisco,11,Science\n",
      "11,Toy,10,PCM + Physical Education\n",
      "\n",
      "\n",
      "<class 'str'>\n"
     ]
    }
   ],
   "source": [
    "import csv\n",
    "with open('practical_csv.csv','r') as fin:\n",
    "    pathak = csv.reader(fin)\n",
    "\n",
    "    for rec in pathak:\n",
    "        rec = ','.join(rec)\n",
    "        print(rec)\n",
    "    print(f'\\n\\n{type(rec)}')"
   ]
  },
  {
   "cell_type": "code",
   "execution_count": null,
   "metadata": {},
   "outputs": [],
   "source": []
  }
 ],
 "metadata": {
  "interpreter": {
   "hash": "5d2f62ab5654bdb13e391a8277148968ca32f47c10665034a10658c5fa01a50f"
  },
  "kernelspec": {
   "display_name": "Python 3",
   "language": "python",
   "name": "python3"
  },
  "language_info": {
   "codemirror_mode": {
    "name": "ipython",
    "version": 3
   },
   "file_extension": ".py",
   "mimetype": "text/x-python",
   "name": "python",
   "nbconvert_exporter": "python",
   "pygments_lexer": "ipython3",
   "version": "3.8.8"
  }
 },
 "nbformat": 4,
 "nbformat_minor": 2
}
