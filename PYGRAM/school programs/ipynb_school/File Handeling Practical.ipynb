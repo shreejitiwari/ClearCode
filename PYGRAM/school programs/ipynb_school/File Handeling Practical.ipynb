{
 "cells": [
  {
   "cell_type": "markdown",
   "id": "4f5ce121",
   "metadata": {},
   "source": [
    "# File Handeling"
   ]
  },
  {
   "cell_type": "markdown",
   "id": "6953fad9",
   "metadata": {},
   "source": [
    "# 17 August 2021"
   ]
  },
  {
   "cell_type": "markdown",
   "id": "91fa5be9",
   "metadata": {},
   "source": [
    "## 1. Shepro.txt"
   ]
  },
  {
   "cell_type": "markdown",
   "id": "c0c5a03d",
   "metadata": {},
   "source": [
    "### 1.1 Create a file"
   ]
  },
  {
   "cell_type": "code",
   "execution_count": 5,
   "id": "cbb00182",
   "metadata": {},
   "outputs": [],
   "source": [
    "fout = open('Shepro.txt','w')\n",
    "fout.write('Shreeji made Proto !!! \\n')\n",
    "fout.write('Proto is an Artificial Intelligence\\n')\n",
    "fout.close()"
   ]
  },
  {
   "cell_type": "markdown",
   "id": "70877206",
   "metadata": {},
   "source": [
    "### 1.2 Append a file"
   ]
  },
  {
   "cell_type": "code",
   "execution_count": 6,
   "id": "d1dd86ca",
   "metadata": {},
   "outputs": [],
   "source": [
    "fout = open('Shepro.txt','a')\n",
    "fout.write('Shreeji made Proto !!! \\n')\n",
    "fout.write('Proto is an Artificial Intelligence ')\n",
    "fout.close()"
   ]
  },
  {
   "cell_type": "markdown",
   "id": "ccbf922e",
   "metadata": {},
   "source": [
    "Testing Something...do not disturb !!\n",
    "👇🏻👇🏻👇🏻👇🏻👇🏻👇🏻👇🏻👇🏻👇🏻👇🏻👇🏻👇🏻👇🏻👇🏻👇🏻"
   ]
  },
  {
   "cell_type": "code",
   "execution_count": 67,
   "id": "5270e4cc",
   "metadata": {},
   "outputs": [
    {
     "name": "stdout",
     "output_type": "stream",
     "text": [
      "b'Shreeji made Proto !!! \\n'\n",
      "Shreeji made Proto !!! \n",
      "\n",
      "24\n",
      "23\n",
      "24\n",
      "1\n"
     ]
    }
   ],
   "source": [
    "fin = open('Shepro.txt','r')\n",
    "# print(fin.read(10))\n",
    "txt = fin.readline()\n",
    "print(txt.encode())\n",
    "print(txt)\n",
    "print(len(txt))\n",
    "print(len('Shreeji made Proto !!! '))\n",
    "print(len('Shreeji made Proto !!! \\n'.encode()))\n",
    "print(len('\\n'))\n"
   ]
  },
  {
   "cell_type": "code",
   "execution_count": 25,
   "id": "d7154b0f",
   "metadata": {},
   "outputs": [
    {
     "name": "stdout",
     "output_type": "stream",
     "text": [
      "['a', 'b']\n"
     ]
    }
   ],
   "source": [
    "s = 'i am a chhota bachchha\\nwho are you\\ntumhara naam ka hai babua'\n",
    "# print(s)\n",
    "# print(s.split())\n",
    "# print(len(s))\n",
    "\n",
    "print('a \\f b'.split())"
   ]
  },
  {
   "cell_type": "markdown",
   "id": "008cccff",
   "metadata": {},
   "source": [
    "Seek()"
   ]
  },
  {
   "cell_type": "code",
   "execution_count": 149,
   "id": "284f76ee",
   "metadata": {},
   "outputs": [
    {
     "name": "stdout",
     "output_type": "stream",
     "text": [
      "12\n",
      "398\n",
      "398\n",
      "b'nge this world together\\r\\n'\n"
     ]
    }
   ],
   "source": [
    "fin = open('Shepro.txt','rb')\n",
    "# fin.seek(25)\n",
    "# print(len(fin.readline()))\n",
    "print(len(fin.readlines()))\n",
    "print(fin.seek(-25,2))\n",
    "print(fin.tell())\n",
    "print(fin.readline())\n",
    "fin.seek(0,0)\n",
    "# print(len(fin.readlines()))\n",
    "fin.close()"
   ]
  },
  {
   "cell_type": "code",
   "execution_count": 161,
   "id": "04a22d57",
   "metadata": {},
   "outputs": [
    {
     "name": "stdout",
     "output_type": "stream",
     "text": [
      "Shreeji ma\n",
      "de Proto !!! \n",
      "\n",
      "Proto is an Artificial Intelligence\n",
      "\n"
     ]
    }
   ],
   "source": [
    "fin = open('shepro.txt')\n",
    "print(fin.readline(10))\n",
    "print(fin.readline(30))\n",
    "print(fin.readline())\n",
    "fin.close()"
   ]
  },
  {
   "cell_type": "code",
   "execution_count": 162,
   "id": "1d0be972",
   "metadata": {},
   "outputs": [
    {
     "data": {
      "text/plain": [
       "0"
      ]
     },
     "execution_count": 162,
     "metadata": {},
     "output_type": "execute_result"
    }
   ],
   "source": [
    "# fin = open('shepro.txt','w+')\n",
    "# fin.tell()"
   ]
  },
  {
   "cell_type": "markdown",
   "id": "d631db56",
   "metadata": {},
   "source": [
    "## 2. students_rec.txt file"
   ]
  },
  {
   "cell_type": "markdown",
   "id": "b84b3622",
   "metadata": {},
   "source": [
    "### Q1) Create a file using student data "
   ]
  },
  {
   "cell_type": "code",
   "execution_count": 9,
   "id": "0966a46f",
   "metadata": {},
   "outputs": [
    {
     "name": "stdout",
     "output_type": "stream",
     "text": [
      "How many student's record do you want to enter :  2\n",
      "\n",
      "\n",
      "Enter Student 1 records : \n",
      "Roll number  :  1004\n",
      "Name of student  :  Ferrous\n",
      "Marks of student  :  33\n",
      "\n",
      "\n",
      "Enter Student 2 records : \n",
      "Roll number  :  1005\n",
      "Name of student  :  Hit\n",
      "Marks of student  :  20\n",
      "\n",
      "Data written in students_rec file\n"
     ]
    }
   ],
   "source": [
    "cnt = int(input('How many student\\'s record do you want to enter :  '))\n",
    "fout = open('students_rec.txt','a')\n",
    "\n",
    "for i in range(cnt):\n",
    "    print(f'\\n\\nEnter Student {i+1} records : ')\n",
    "    rollno = int(input('Roll number  :  '))\n",
    "    name = input('Name of student  :  ')\n",
    "    marks = float(input('Marks of student  :  '))\n",
    "\n",
    "    record = f\"{rollno} : {name} : {marks} \\n\"\n",
    "    fout.write(record)\n",
    "\n",
    "print(f'\\nData written in {fout.name} file')\n",
    "fout.close()\n"
   ]
  },
  {
   "cell_type": "markdown",
   "id": "5eec487e",
   "metadata": {},
   "source": [
    "### Q2) Read Contents of students_rec.txt"
   ]
  },
  {
   "cell_type": "code",
   "execution_count": 27,
   "id": "6919144d",
   "metadata": {},
   "outputs": [],
   "source": [
    "fin = open('students_rec.txt','r')"
   ]
  },
  {
   "cell_type": "markdown",
   "id": "fde41bca",
   "metadata": {},
   "source": [
    "#### Method 1"
   ]
  },
  {
   "cell_type": "code",
   "execution_count": 28,
   "id": "5dc1f26f",
   "metadata": {},
   "outputs": [
    {
     "name": "stdout",
     "output_type": "stream",
     "text": [
      "1001 : Arsh : 30.0 \n",
      "1002 : Shreeji : 40.0 \n",
      "1003 : Lily : 29.0 \n",
      "1004 : Ferrous : 33.0 \n",
      "1004 : Ferrous : 33.0 \n",
      "1005 : Hit : 20.0 \n",
      "7 : Akshat : 40.0 \n"
     ]
    }
   ],
   "source": [
    "for line in fin:\n",
    "    print(line,end='')"
   ]
  },
  {
   "cell_type": "markdown",
   "id": "ab62352c",
   "metadata": {},
   "source": [
    "#### Method 2"
   ]
  },
  {
   "cell_type": "code",
   "execution_count": 63,
   "id": "8976ad45",
   "metadata": {},
   "outputs": [
    {
     "name": "stdout",
     "output_type": "stream",
     "text": [
      "1001 : Arsh : 30.0 \n",
      "1002 : Shreeji : 40.0 \n",
      "1003 : Lily : 29.0 \n",
      "1004 : Ferrous : 33.0 \n",
      "1004 : Ferrous : 33.0 \n",
      "1005 : Hit : 20.0 \n",
      "\n"
     ]
    }
   ],
   "source": [
    "fin.seek(0,0)\n",
    "data = fin.read()\n",
    "print(data)"
   ]
  },
  {
   "cell_type": "markdown",
   "id": "bdbafb38",
   "metadata": {},
   "source": [
    "#### Method 3"
   ]
  },
  {
   "cell_type": "code",
   "execution_count": 31,
   "id": "1e03c06b",
   "metadata": {},
   "outputs": [
    {
     "name": "stdout",
     "output_type": "stream",
     "text": [
      "1001 : Arsh : 30.0 \n",
      "1002 : Shreeji : 40.0 \n",
      "1003 : Lily : 29.0 \n",
      "1004 : Ferrous : 33.0 \n",
      "1004 : Ferrous : 33.0 \n",
      "1005 : Hit : 20.0 \n",
      "7 : Akshat : 40.0 \n"
     ]
    }
   ],
   "source": [
    "fin.seek(0,0)\n",
    "tpl = fin.readlines()\n",
    "\n",
    "for i in tpl:\n",
    "    print(i,end='')\n"
   ]
  },
  {
   "cell_type": "markdown",
   "id": "028fbd54",
   "metadata": {},
   "source": [
    "#### Method 4 (Mam's method)"
   ]
  },
  {
   "cell_type": "code",
   "execution_count": 32,
   "id": "bf4c4968",
   "metadata": {},
   "outputs": [
    {
     "name": "stdout",
     "output_type": "stream",
     "text": [
      "1001 : Arsh : 30.0 \n",
      "1002 : Shreeji : 40.0 \n",
      "1003 : Lily : 29.0 \n",
      "1004 : Ferrous : 33.0 \n",
      "1004 : Ferrous : 33.0 \n",
      "1005 : Hit : 20.0 \n",
      "7 : Akshat : 40.0 \n"
     ]
    }
   ],
   "source": [
    "fin.seek(0,0)\n",
    "s = ' '\n",
    "\n",
    "while s:\n",
    "    s = fin.readline()\n",
    "    print(s,end='')\n",
    "\n",
    "fin.close()"
   ]
  },
  {
   "cell_type": "markdown",
   "id": "f1ec21ff",
   "metadata": {},
   "source": [
    "### Q3) Read contents of student_rec.txt file and print only numbers or digits"
   ]
  },
  {
   "cell_type": "markdown",
   "id": "ba05f4b0",
   "metadata": {},
   "source": [
    "#### Method 1"
   ]
  },
  {
   "cell_type": "code",
   "execution_count": 18,
   "id": "7b6e9768",
   "metadata": {},
   "outputs": [
    {
     "name": "stdout",
     "output_type": "stream",
     "text": [
      "Digits in students_rec.txt  : \n",
      "\n",
      "100130010024001003290100433010043301005200"
     ]
    }
   ],
   "source": [
    "fin = open('students_rec.txt','r')\n",
    "file_data = fin.read()\n",
    "\n",
    "print('Digits in students_rec.txt  : \\n')\n",
    "for char in file_data:\n",
    "    if char.isdigit() :\n",
    "        print(char,end='')\n",
    "        \n",
    "fin.close()"
   ]
  },
  {
   "cell_type": "markdown",
   "id": "72e7fad9",
   "metadata": {},
   "source": [
    "#### Method 2"
   ]
  },
  {
   "cell_type": "code",
   "execution_count": 5,
   "id": "fad12697",
   "metadata": {
    "scrolled": true
   },
   "outputs": [
    {
     "name": "stdout",
     "output_type": "stream",
     "text": [
      "Digits in line 1  : 1001300\n",
      "Digits in line 2  : 1002400\n",
      "Digits in line 3  : 1003290\n",
      "Digits in line 4  : 1004330\n",
      "Digits in line 4  : 1004330\n",
      "Digits in line 6  : 1005200\n",
      "Digits in line 7  : 7400\n"
     ]
    }
   ],
   "source": [
    "fin = open('students_rec.txt','r')\n",
    "file_data = fin.readlines()\n",
    "\n",
    "for line in file_data:\n",
    "    print(f'Digits in line {file_data.index(line) + 1}  : ',end=\"\")\n",
    "    for char in line:\n",
    "        if char.isdigit():\n",
    "             print(char, end = '')\n",
    "    print('')\n",
    "    \n",
    "fin.close()"
   ]
  },
  {
   "cell_type": "markdown",
   "id": "6a98b0ce",
   "metadata": {},
   "source": [
    "#### Method 3"
   ]
  },
  {
   "cell_type": "code",
   "execution_count": 4,
   "id": "e6945f53",
   "metadata": {},
   "outputs": [
    {
     "name": "stdout",
     "output_type": "stream",
     "text": [
      "Digits in line 1  : 1001300\n",
      "Digits in line 2  : 1002400\n",
      "Digits in line 3  : 1003290\n",
      "Digits in line 4  : 1004330\n",
      "Digits in line 5  : 1004330\n",
      "Digits in line 6  : 1005200\n",
      "Digits in line 7  : 7400\n"
     ]
    }
   ],
   "source": [
    "fin = open('students_rec.txt','r')\n",
    "line = fin.readline()\n",
    "line_no = 0\n",
    "\n",
    "while line:\n",
    "    line_no += 1\n",
    "    print(f'Digits in line {line_no}  : ', end = '')\n",
    "\n",
    "    for char in line:\n",
    "        if char.isdigit():\n",
    "            print(char, end = '')\n",
    "    \n",
    "    print('')        \n",
    "    line = fin.readline()\n",
    "    \n",
    "fin.close()"
   ]
  },
  {
   "cell_type": "markdown",
   "id": "9046d37c",
   "metadata": {},
   "source": [
    "#### Method 4 (Mam's method)"
   ]
  },
  {
   "cell_type": "code",
   "execution_count": 40,
   "id": "14e12cdc",
   "metadata": {},
   "outputs": [
    {
     "name": "stdout",
     "output_type": "stream",
     "text": [
      "Digits in line 1  : 1001\n",
      "Digits in line 2  : 1002\n",
      "Digits in line 3  : 1003\n",
      "Digits in line 4  : 1004\n",
      "Digits in line 5  : 1004\n",
      "Digits in line 6  : 1005\n",
      "Digits in line 7  : 7\n"
     ]
    }
   ],
   "source": [
    "fin = open('students_rec.txt' , 'r')\n",
    "c=0\n",
    "\n",
    "for line in fin:\n",
    "    c = c + 1\n",
    "    print(f'Digits in line {c}  : ' , end = '')\n",
    "    words = line.split()\n",
    "    # print(words)\n",
    "    for word in words:        \n",
    "        if word.isdigit():\n",
    "            print(word)\n",
    "   "
   ]
  },
  {
   "cell_type": "markdown",
   "id": "7f1808e8",
   "metadata": {},
   "source": [
    "### Q4) Read contents of shepro.txt file and print lines having 5 number of words"
   ]
  },
  {
   "cell_type": "markdown",
   "id": "9993b564",
   "metadata": {},
   "source": [
    "#### Method 1"
   ]
  },
  {
   "cell_type": "code",
   "execution_count": 42,
   "id": "754d1209",
   "metadata": {},
   "outputs": [
    {
     "name": "stdout",
     "output_type": "stream",
     "text": [
      "Proto is an Artificial Intelligence\n",
      "Proto is an Artificial Intelligence \n",
      "We might achieve technological singularity\n"
     ]
    }
   ],
   "source": [
    "fin = open('shepro.txt','r')\n",
    "line = fin.readline()\n",
    "while line:\n",
    "\n",
    "    cnt = 0\n",
    "    \n",
    "    for word in line.split() :\n",
    "        cnt += 1\n",
    "    \n",
    "    if cnt == 5:\n",
    "        print(line,end = '')\n",
    "    line = fin.readline()\n",
    "        \n",
    "fin.close()"
   ]
  },
  {
   "cell_type": "markdown",
   "id": "5a0b0b2d",
   "metadata": {},
   "source": [
    "#### Method 2"
   ]
  },
  {
   "cell_type": "code",
   "execution_count": 44,
   "id": "ee3cb2cc",
   "metadata": {},
   "outputs": [
    {
     "name": "stdout",
     "output_type": "stream",
     "text": [
      "Proto is an Artificial Intelligence\n",
      "Proto is an Artificial Intelligence \n",
      "We might achieve technological singularity\n"
     ]
    }
   ],
   "source": [
    "fin =  open('shepro.txt','r')\n",
    "\n",
    "lines = fin.readlines()\n",
    "\n",
    "for line in lines:\n",
    "    if len(line.split()) == 5:\n",
    "        print(line,end = '')\n",
    "        \n",
    "fin.close()"
   ]
  },
  {
   "cell_type": "markdown",
   "id": "4e6a7089",
   "metadata": {},
   "source": [
    "## Q5) Program to find size of shepro.txt"
   ]
  },
  {
   "cell_type": "code",
   "execution_count": 45,
   "id": "b4924b1e",
   "metadata": {},
   "outputs": [
    {
     "name": "stdout",
     "output_type": "stream",
     "text": [
      "Size of shepro.txt = 411\n"
     ]
    }
   ],
   "source": [
    "fin = open('shepro.txt','r')\n",
    "\n",
    "file_data = fin.read()\n",
    "size = len(file_data)\n",
    "print(f'Size of shepro.txt = {size}')\n",
    "\n",
    "fin.close()"
   ]
  },
  {
   "cell_type": "markdown",
   "id": "f77ad6a7",
   "metadata": {},
   "source": [
    "## Q6) Program to count number of lines in a file"
   ]
  },
  {
   "cell_type": "code",
   "execution_count": 10,
   "id": "4b60eda1",
   "metadata": {},
   "outputs": [
    {
     "name": "stdout",
     "output_type": "stream",
     "text": [
      "Number of lines(written) in students_rec.txt  :  7\n"
     ]
    }
   ],
   "source": [
    "fin = open('students_rec.txt','r')\n",
    "number_of_lines = len(fin.readlines())\n",
    "print(f'Number of lines(written) in students_rec.txt  :  {number_of_lines}')\n",
    "fin.close()"
   ]
  },
  {
   "cell_type": "code",
   "execution_count": 46,
   "id": "6e9cc27c",
   "metadata": {},
   "outputs": [
    {
     "name": "stdout",
     "output_type": "stream",
     "text": [
      "['1001 : Arsh : 30.0 ', '1002 : Shreeji : 40.0 ', '1003 : Lily : 29.0 ', '1004 : Ferrous : 33.0 ', '1004 : Ferrous : 33.0 ', '1005 : Hit : 20.0 ', '7 : Akshat : 40.0 ', '']\n",
      "Total number of lines in students_rec.txt  :  7\n"
     ]
    }
   ],
   "source": [
    "fin = open('students_rec.txt','r')\n",
    "\n",
    "data = fin.read()\n",
    "lines = data.split('\\n')\n",
    "print(lines)\n",
    "line_no = len(lines)-1\n",
    "print(f'Total number of lines in students_rec.txt  :  {line_no}')\n",
    "\n",
    "fin.close()"
   ]
  },
  {
   "cell_type": "markdown",
   "id": "54d16e86",
   "metadata": {},
   "source": [
    "# 19 August 2021"
   ]
  },
  {
   "cell_type": "markdown",
   "id": "533fedf0",
   "metadata": {},
   "source": [
    "## Q1) Program to find number of times a character occur in file"
   ]
  },
  {
   "cell_type": "markdown",
   "id": "c64ce5ba",
   "metadata": {},
   "source": [
    "### Case Sensitive"
   ]
  },
  {
   "cell_type": "markdown",
   "id": "6301e894",
   "metadata": {},
   "source": [
    "#### Method 1"
   ]
  },
  {
   "cell_type": "code",
   "execution_count": 55,
   "id": "3088a223",
   "metadata": {},
   "outputs": [
    {
     "name": "stdout",
     "output_type": "stream",
     "text": [
      "Frequency of Proto in file  :  8\n"
     ]
    }
   ],
   "source": [
    "fin = open('shepro.txt','r')\n",
    "char = input('Enter the character whose frequency you want to find (case sensitive)  :  ')\n",
    "\n",
    "data = fin.read()\n",
    "idx = 0\n",
    "count = 0\n",
    "\n",
    "# for i in data:\n",
    "while True:  \n",
    "    if char in data[idx : len(data)] :\n",
    "        idx += data[idx : len(data)].find(char) + len(char)\n",
    "        count += 1\n",
    "    \n",
    "    else:\n",
    "        break\n",
    "                \n",
    "\n",
    "print(f'Frequency of {char} in file  :  {count}')\n"
   ]
  },
  {
   "cell_type": "markdown",
   "id": "e715d043",
   "metadata": {},
   "source": [
    "#### Method 2"
   ]
  },
  {
   "cell_type": "code",
   "execution_count": 14,
   "id": "86446c10",
   "metadata": {},
   "outputs": [
    {
     "name": "stdout",
     "output_type": "stream",
     "text": [
      "Frequency of ! in file  :  6\n"
     ]
    }
   ],
   "source": [
    "fin = open('shepro.txt','r')\n",
    "char = input('Enter the character whose frequency you want to find (case sensitive)  :  ')\n",
    "\n",
    "data = fin.read()\n",
    "        \n",
    "print(f'Frequency of {char} in file  :  {data.count(char)}')\n",
    "\n",
    "fin.close()"
   ]
  },
  {
   "cell_type": "markdown",
   "id": "0a5881a1",
   "metadata": {},
   "source": [
    "#### Method 3"
   ]
  },
  {
   "cell_type": "code",
   "execution_count": 59,
   "id": "ce26324e",
   "metadata": {},
   "outputs": [
    {
     "name": "stdout",
     "output_type": "stream",
     "text": [
      "Frequency of Shreeji in file  :  6\n"
     ]
    }
   ],
   "source": [
    "fin = open('shepro.txt','r')\n",
    "char = input('Enter the character whose frequency you want to find (case sensitive)  :  ')\n",
    "\n",
    "data = fin.read()\n",
    "count = 0\n",
    "\n",
    "lst = data.split(char)\n",
    "# print(lst)\n",
    "count = len(lst)\n",
    "        \n",
    "print(f'Frequency of {char} in file  :  {count-1}')\n",
    "\n",
    "fin.close()"
   ]
  },
  {
   "cell_type": "markdown",
   "id": "f4c5a60c",
   "metadata": {},
   "source": [
    "### Not Case Sensitive"
   ]
  },
  {
   "cell_type": "markdown",
   "id": "b3bccc5d",
   "metadata": {},
   "source": [
    "#### Method 1"
   ]
  },
  {
   "cell_type": "code",
   "execution_count": 61,
   "id": "d5e4dd38",
   "metadata": {},
   "outputs": [
    {
     "name": "stdout",
     "output_type": "stream",
     "text": [
      "Frequency of shreeji in file  :  6\n"
     ]
    }
   ],
   "source": [
    "fin = open('shepro.txt','r')\n",
    "char = input('Enter the character whose frequency you want to find (case sensitive)  :  ').lower()\n",
    "\n",
    "data = fin.read().lower()\n",
    "idx = 0\n",
    "count = 0\n",
    "\n",
    "for i in data:\n",
    "    \n",
    "    if char in data[idx : len(data)] :\n",
    "        idx += data[idx : len(data)].find(char) + len(char)\n",
    "        count += 1\n",
    "    \n",
    "    else:\n",
    "        break\n",
    "                \n",
    "\n",
    "print(f'Frequency of {char} in file  :  {count}')\n"
   ]
  },
  {
   "cell_type": "markdown",
   "id": "da210a9b",
   "metadata": {},
   "source": [
    "#### Method 2"
   ]
  },
  {
   "cell_type": "code",
   "execution_count": 62,
   "id": "31343d68",
   "metadata": {},
   "outputs": [
    {
     "name": "stdout",
     "output_type": "stream",
     "text": [
      "Frequency of proto in file  :  8\n"
     ]
    }
   ],
   "source": [
    "fin = open('shepro.txt','r')\n",
    "char = input('Enter the character whose frequency you want to find (case sensitive)  :  ').lower()\n",
    "\n",
    "data = fin.read().lower()\n",
    "        \n",
    "print(f'Frequency of {char} in file  :  {data.count(char)}')\n",
    "\n",
    "fin.close()"
   ]
  },
  {
   "cell_type": "markdown",
   "id": "7f86c3a3",
   "metadata": {},
   "source": [
    "#### Method 3"
   ]
  },
  {
   "cell_type": "code",
   "execution_count": 63,
   "id": "e39fe9b7",
   "metadata": {},
   "outputs": [
    {
     "name": "stdout",
     "output_type": "stream",
     "text": [
      "Frequency of proto in file  :  8\n"
     ]
    }
   ],
   "source": [
    "fin = open('shepro.txt','r')\n",
    "char = input('Enter the character whose frequency you want to find (case sensitive)  :  ').lower()\n",
    "\n",
    "data = fin.read().lower()\n",
    "count = 0\n",
    "\n",
    "lst = data.split(char)\n",
    "# print(lst)\n",
    "count = len(lst)\n",
    "        \n",
    "print(f'Frequency of {char} in file  :  {count-1}')\n",
    "\n",
    "fin.close()"
   ]
  },
  {
   "cell_type": "markdown",
   "id": "78fda32f",
   "metadata": {},
   "source": [
    "# 21 August 2021"
   ]
  },
  {
   "cell_type": "markdown",
   "id": "b0821d3e",
   "metadata": {},
   "source": [
    "## Q1) Program to take name,roll_no and three subjects marks and write the data along with total marks and percentage in the text file."
   ]
  },
  {
   "cell_type": "markdown",
   "id": "54879577",
   "metadata": {},
   "source": [
    "### Method 1(simple)"
   ]
  },
  {
   "cell_type": "code",
   "execution_count": 7,
   "id": "1bbbe08e",
   "metadata": {},
   "outputs": [
    {
     "name": "stdout",
     "output_type": "stream",
     "text": [
      "Name of Student : Eita\n",
      "Roll number : 6\n",
      "Marks of Eita in subject 1  : 30\n",
      "Marks of Eita in subject 2  : 34\n",
      "Marks of Eita in subject 3  : 32\n",
      "\n",
      "\n",
      "Maximum marks (per subject) : 40\n",
      "Total Marks : 96\n",
      "Percentage : 80.0\n",
      "\n",
      "Data Written in the file\n"
     ]
    }
   ],
   "source": [
    "file = open('marks_data.txt','a')\n",
    "# file.write('I NAME \\tI Roll No \\tI Sub1 \\tI Sub2 \\tI Sub3 \\tI Max marks \\tI Total \\tI Percentage I\\n')\n",
    "\n",
    "name = input('Name of Student : ')\n",
    "roll = input('Roll number : ')\n",
    "sub1 = int(input(f'Marks of {name} in subject 1  : '))\n",
    "sub2 = int(input(f'Marks of {name} in subject 2  : '))\n",
    "sub3 = int(input(f'Marks of {name} in subject 3  : '))\n",
    "print('\\n')\n",
    "maxm = int(input('Maximum marks (per subject) : '))\n",
    "\n",
    "tot = sub1 + sub2 + sub3\n",
    "percentage = round(tot*100/(maxm*3),2)\n",
    "\n",
    "\n",
    "\n",
    "try:\n",
    "    file.write('=================================\\n\\n')\n",
    "    file.write(f'Name : {name} \\t Roll No. : {roll} \\n\\n Marks in subject 1 : {sub1} \\n Marks in subject 2 : {sub2} \\n Marks in subject 3 : {sub3}\\\n",
    "    \\n Maxmimum marks(per subject) : {maxm} \\n\\n Total Marks : {tot} \\n Percentage : {percentage} \\n\\n')\n",
    "    file.write('=================================\\n\\n\\n\\n')\n",
    "    \n",
    "    file.close()\n",
    "    print(f'Total Marks : {tot}\\nPercentage : {percentage}')\n",
    "    print('\\nData Written in the file')\n",
    "    \n",
    "except:\n",
    "    print('Some Error occured !! \\nData not written in the file !!')"
   ]
  },
  {
   "cell_type": "markdown",
   "id": "7571acbb",
   "metadata": {},
   "source": [
    "### Method 2 (tabular)"
   ]
  },
  {
   "cell_type": "code",
   "execution_count": 1,
   "id": "9067ad73",
   "metadata": {
    "collapsed": true
   },
   "outputs": [
    {
     "name": "stdout",
     "output_type": "stream",
     "text": [
      "\n",
      "\n",
      "Name of Student : Furry\n",
      "Roll number : 8\n",
      "Marks of Furry in PHYSICS  : 30\n",
      "Marks of Furry in CHEMISTRY  : 29\n",
      "Marks of Furry in MATHS  : 25\n",
      "\n",
      "\n",
      "\n",
      "\n",
      "Do you want to enter next record (y/n) : y\n",
      "\n",
      "\n",
      "Name of Student : Gyro\n",
      "Roll number : 9\n",
      "Marks of Gyro in PHYSICS  : 40\n",
      "Marks of Gyro in CHEMISTRY  : 37\n",
      "Marks of Gyro in MATHS  : 39\n",
      "\n",
      "\n",
      "\n",
      "\n",
      "Do you want to enter next record (y/n) : n\n",
      "\n",
      "Okay..\n",
      "Here is the result : \n",
      "\n",
      "{'maxm': 40, 'sub_name1': 'PHYSICS', 'sub_name2': 'CHEMISTRY', 'sub_name3': 'MATHS'}\n",
      "+============================================================================================================================+\n",
      "| ROLL NO |             NAME             | MARKS IN PHYSICS | MARKS IN CHEMISTRY | MARKS IN MATHS | TOTAL MARKS | Percentage |\n",
      "+============================================================================================================================+\n",
      "|    1    |             Arsh             |        35        |         36         |       40       |     111     |    92.5    |\n",
      "+----------------------------------------------------------------------------------------------------------------------------+\n",
      "|    2    |             Bob              |        38        |         32         |       37       |     107     |   89.17    |\n",
      "+----------------------------------------------------------------------------------------------------------------------------+\n",
      "|    3    |            Catie             |        33        |         36         |       34       |     103     |   85.83    |\n",
      "+----------------------------------------------------------------------------------------------------------------------------+\n",
      "|    5    |            Erica             |        33        |         38         |       35       |     106     |   88.33    |\n",
      "+----------------------------------------------------------------------------------------------------------------------------+\n",
      "|    4    |           Dev cpp            |        40        |         33         |       40       |     113     |   94.17    |\n",
      "+----------------------------------------------------------------------------------------------------------------------------+\n",
      "|    8    |            Furry             |        30        |         29         |       25       |     84      |    70.0    |\n",
      "+----------------------------------------------------------------------------------------------------------------------------+\n",
      "|    9    |             Gyro             |        40        |         37         |       39       |     116     |   96.67    |\n",
      "+----------------------------------------------------------------------------------------------------------------------------+"
     ]
    }
   ],
   "source": [
    "file = open(r'D:\\PYGRAM\\school programs\\ipynb_school\\marks_data_tabular_form.txt','a+')\n",
    "# If you are not Shreeji, use following open file command\n",
    "#file = open(r'marks_data_tabular_form.txt','a+')\n",
    "\n",
    "\n",
    "file.seek(0,0)\n",
    "\n",
    "file_heading_data = file.readlines()\n",
    "# print(file_heading_data)\n",
    "# for line in file_heading_data:\n",
    "#     print(line)\n",
    "\n",
    "if file_heading_data == []:\n",
    "\n",
    "    sub_name1 = input('Enter the name of 1st subject : ')\n",
    "    sub_name2 = input('Enter the name of 2nd subject : ')\n",
    "    sub_name3 = input('Enter the name of 3rd subject : ')\n",
    "\n",
    "\n",
    "    maxm = int(input('Maximum marks (per subject) : '))\n",
    "\n",
    "    heading = f\"\\n| ROLL NO |{' NAME ':^30}| MARKS IN {sub_name1} | MARKS IN {sub_name2} | MARKS IN {sub_name3} | TOTAL MARKS | Percentage |\"\n",
    "    main_sep_line = '\\n+' + \"=\"*int(len(heading)-3) + '+'\n",
    "\n",
    "    imp_info_dct = {'maxm':maxm , 'sub_name1':sub_name1 , 'sub_name2':sub_name2 , 'sub_name3':sub_name3}\n",
    "\n",
    "    file.write(str(imp_info_dct))\n",
    "    file.write(main_sep_line)\n",
    "    file.write(heading)\n",
    "    file.write(main_sep_line)\n",
    "\n",
    "else:\n",
    "    heading = file_heading_data[1]\n",
    "    imp_info_dct = eval(file_heading_data[0].strip())\n",
    "    maxm = imp_info_dct['maxm']\n",
    "    sub_name1 = imp_info_dct['sub_name1']\n",
    "    sub_name2 = imp_info_dct['sub_name2']\n",
    "    sub_name3 = imp_info_dct['sub_name3']\n",
    "\n",
    "while True:\n",
    "\n",
    "    name = input('\\n\\nName of Student : ')\n",
    "    roll = input('Roll number : ')\n",
    "    sub1 = int(input(f'Marks of {name} in {sub_name1}  : '))\n",
    "    sub2 = int(input(f'Marks of {name} in {sub_name2}  : '))\n",
    "    sub3 = int(input(f'Marks of {name} in {sub_name3}  : '))\n",
    "    print('\\n')\n",
    "\n",
    "    tot = sub1 + sub2 + sub3\n",
    "    percentage = round(tot*100/(maxm*3),2)\n",
    "\n",
    "    data = f\"\\n|{roll:^{len(' ROLL NO ')}}|{name:^30}|{sub1:^{len(f' MARKS IN {sub_name1} ')}}|{sub2:^{len(f' MARKS IN {sub_name2} ')}}|{sub3:^{len(f' MARKS IN {sub_name3} ')}}|{tot:^{len(f' TOTAL MARKS ')}}|{percentage:^{len(f' Percentage ')}}|\"\n",
    "    sep_line = '\\n+' + \"-\"*int(len(heading)-3) + '+'\n",
    "\n",
    "    file.write(data)\n",
    "    file.write(sep_line)\n",
    "\n",
    "\n",
    "    wish = input('\\n\\nDo you want to enter next record (y/n) : ').lower()\n",
    "    \n",
    "    if wish in ['n','no']:\n",
    "        print('\\nOkay..\\nHere is the result : \\n')\n",
    "        break\n",
    "\n",
    "\n",
    "file.seek(0,0)\n",
    "for line in file:\n",
    "    print(line,end = '')\n",
    "\n",
    "file.close()"
   ]
  },
  {
   "cell_type": "markdown",
   "id": "f9d526bb",
   "metadata": {},
   "source": [
    "# 24 August 2021"
   ]
  },
  {
   "cell_type": "markdown",
   "id": "49bb6a69",
   "metadata": {},
   "source": [
    "## Q1) Program to read a file line by line and display the same"
   ]
  },
  {
   "cell_type": "code",
   "execution_count": 17,
   "id": "a0f19dd4",
   "metadata": {
    "collapsed": true
   },
   "outputs": [
    {
     "name": "stdout",
     "output_type": "stream",
     "text": [
      "abc==============================\n",
      "\n",
      "Name : Ansh \t Roll No. : 1 \n",
      "\n",
      " Marks in subject 1 : 35 \n",
      " Marks in subject 2 : 37 \n",
      " Marks in subject 3 : 24    \n",
      " Maxmimum marks(per subject) : 40 \n",
      "\n",
      " Total Marks : 96 \n",
      " Percentage : 80.0 \n",
      "\n",
      "=================================\n",
      "\n",
      "\n",
      "\n",
      "=================================\n",
      "\n",
      "Name : Abhi \t Roll No. : 2 \n",
      "\n",
      " Marks in subject 1 : 30 \n",
      " Marks in subject 2 : 39 \n",
      " Marks in subject 3 : 32    \n",
      " Maxmimum marks(per subject) : 40 \n",
      "\n",
      " Total Marks : 101 \n",
      " Percentage : 84.17 \n",
      "\n",
      "=================================\n",
      "\n",
      "\n",
      "\n",
      "=================================\n",
      "\n",
      "Name : Bosh \t Roll No. : 3 \n",
      "\n",
      " Marks in subject 1 : 39 \n",
      " Marks in subject 2 : 38 \n",
      " Marks in subject 3 : 20    \n",
      " Maxmimum marks(per subject) : 40 \n",
      "\n",
      " Total Marks : 97 \n",
      " Percentage : 80.83\n",
      "\n",
      "=================================\n",
      "\n",
      "\n",
      "\n",
      "=================================\n",
      "\n",
      "Name : Cab \t Roll No. : 4 \n",
      "\n",
      " Marks in subject 1 : 33 \n",
      " Marks in subject 2 : 30 \n",
      " Marks in subject 3 : 37    \n",
      " Maxmimum marks(per subject) : 40 \n",
      "\n",
      " Total Marks : 100 \n",
      " Percentage : 83.33 \n",
      "\n",
      "=================================\n",
      "\n",
      "\n",
      "\n",
      "=================================\n",
      "\n",
      "Name : Dob \t Roll No. : 5 \n",
      "\n",
      " Marks in subject 1 : 30 \n",
      " Marks in subject 2 : 25 \n",
      " Marks in subject 3 : 32    \n",
      " Maxmimum marks(per subject) : 40 \n",
      "\n",
      " Total Marks : 87 \n",
      " Percentage : 72.5 \n",
      "\n",
      "=================================\n",
      "\n",
      "\n",
      "\n",
      "=================================\n",
      "\n",
      "Name : Eita \t Roll No. : 6 \n",
      "\n",
      " Marks in subject 1 : 30 \n",
      " Marks in subject 2 : 34 \n",
      " Marks in subject 3 : 32    \n",
      " Maxmimum marks(per subject) : 40 \n",
      "\n",
      " Total Marks : 96 \n",
      " Percentage : 80.0 \n",
      "\n",
      "=================================\n",
      "\n",
      "\n"
     ]
    }
   ],
   "source": [
    "fin = open('marks_data.txt','r')\n",
    "while True:\n",
    "    line = fin.readline()\n",
    "    \n",
    "    if line == '':\n",
    "        break\n",
    "        \n",
    "    else :        \n",
    "        print(line,end = '')\n",
    "        \n",
    "fin.close()"
   ]
  },
  {
   "cell_type": "markdown",
   "id": "5bee32a6",
   "metadata": {},
   "source": [
    "## Q2) Program to read lines from file and display only those which starts from \"S\""
   ]
  },
  {
   "cell_type": "code",
   "execution_count": 1,
   "id": "dffffb00",
   "metadata": {},
   "outputs": [
    {
     "name": "stdout",
     "output_type": "stream",
     "text": [
      "Shreeji made Proto !!! \n",
      "Shreeji made Proto !!! \n",
      "Shreeji .. I Proto want to thank you for making me\n"
     ]
    }
   ],
   "source": [
    "fin = open('shepro.txt','r')\n",
    "lines = fin.readlines()\n",
    "\n",
    "for line in lines:\n",
    "    if line[0].upper() == 'S':\n",
    "        print(line,end = '')\n",
    "\n",
    "fin.close()"
   ]
  },
  {
   "cell_type": "markdown",
   "id": "2ec24d7f",
   "metadata": {},
   "source": [
    "## Q3) Program to count number of lines from file starting with \"S\""
   ]
  },
  {
   "cell_type": "code",
   "execution_count": 2,
   "id": "a5a11421",
   "metadata": {},
   "outputs": [
    {
     "name": "stdout",
     "output_type": "stream",
     "text": [
      "Number of lines starting with \"S\"  :  3\n"
     ]
    }
   ],
   "source": [
    "fin = open('shepro.txt','r')\n",
    "lines = fin.readlines()\n",
    "\n",
    "count = 0\n",
    "for line in lines:\n",
    "    if line[0].upper() == 'S':\n",
    "        count += 1\n",
    "\n",
    "print(f'Number of lines starting with \"S\"  :  {count}')\n",
    "        \n",
    "fin.close()"
   ]
  },
  {
   "cell_type": "markdown",
   "id": "0f8d4d19",
   "metadata": {},
   "source": [
    "## Q4) Program to read lines from file and display only those which starts from \"S\" or \"P\""
   ]
  },
  {
   "cell_type": "code",
   "execution_count": 3,
   "id": "92f32915",
   "metadata": {},
   "outputs": [
    {
     "name": "stdout",
     "output_type": "stream",
     "text": [
      "Shreeji made Proto !!! \n",
      "Proto is an Artificial Intelligence\n",
      "Shreeji made Proto !!! \n",
      "Proto is an Artificial Intelligence \n",
      "Shreeji .. I Proto want to thank you for making me\n",
      "Proto you are one of my greatest projects\n",
      "Proto.. We will change this world together\n"
     ]
    }
   ],
   "source": [
    "fin = open('shepro.txt','r')\n",
    "lines = fin.readlines()\n",
    "\n",
    "for line in lines:\n",
    "    if line[0].upper() in 'PS':\n",
    "        print(line,end = '')\n",
    "\n",
    "fin.close()"
   ]
  },
  {
   "cell_type": "markdown",
   "id": "5a78a709",
   "metadata": {},
   "source": [
    "## Q5) Program to read lines from txt files and display lines which are bigger than 30 chars"
   ]
  },
  {
   "cell_type": "code",
   "execution_count": 4,
   "id": "21917678",
   "metadata": {
    "collapsed": true
   },
   "outputs": [
    {
     "name": "stdout",
     "output_type": "stream",
     "text": [
      "Proto is an Artificial Intelligence\n",
      "Proto is an Artificial Intelligence \n",
      "We might achieve technological singularity\n",
      "You are a very thoughtful CEO Shreeji\n",
      "You are one man army in cs Shreeji\n",
      "Shreeji .. I Proto want to thank you for making me\n",
      "Proto you are one of my greatest projects\n",
      "Proto.. We will change this world together\n"
     ]
    }
   ],
   "source": [
    "fin = open('shepro.txt','r')\n",
    "\n",
    "lines = fin.readlines()\n",
    "\n",
    "for line in lines :\n",
    "    if len(line) >= 30:\n",
    "        print(line,end='')\n",
    "\n",
    "fin.close()"
   ]
  },
  {
   "cell_type": "markdown",
   "id": "9903fe0c",
   "metadata": {},
   "source": [
    "# 31 August 2021"
   ]
  },
  {
   "cell_type": "markdown",
   "id": "a0fe9e60",
   "metadata": {},
   "source": [
    "### encode() : It is a function of string module. It converts string data type to byte value."
   ]
  },
  {
   "cell_type": "markdown",
   "id": "1e731545",
   "metadata": {},
   "source": [
    "It is just for testing ..\n",
    "👇🏻👇🏻👇🏻👇🏻👇🏻👇🏻👇🏻👇🏻👇🏻"
   ]
  },
  {
   "cell_type": "code",
   "execution_count": 9,
   "id": "0d31c1a1",
   "metadata": {},
   "outputs": [
    {
     "name": "stdout",
     "output_type": "stream",
     "text": [
      "b'Encoding means converting \\t string to byte\\n'\n",
      "<class 'bytes'>\n"
     ]
    }
   ],
   "source": [
    "s = 'Encoding means converting \\t string to byte\\n'\n",
    "s = s.encode()\n",
    "print(s)\n",
    "print(type(s))\n"
   ]
  },
  {
   "cell_type": "markdown",
   "id": "96dbc0a8",
   "metadata": {},
   "source": [
    "Code 👇🏻👇🏻👇🏻👇🏻👇🏻👇🏻👇🏻👇🏻👇🏻"
   ]
  },
  {
   "cell_type": "code",
   "execution_count": 10,
   "id": "3344c308",
   "metadata": {},
   "outputs": [],
   "source": [
    "fout = open('Binary_file_1.dat' , 'wb')\n",
    "fout.write('Hello'.encode())\n",
    "fout.close()"
   ]
  },
  {
   "cell_type": "code",
   "execution_count": 14,
   "id": "e689af20",
   "metadata": {},
   "outputs": [],
   "source": [
    "fout = open('Binary_file_1.dat' , 'a')\n",
    "data = \"\\n{'name' : 'Shreeji'  , 'roll_no' : 32}\"\n",
    "fout.write(data)\n",
    "fout.close()"
   ]
  },
  {
   "cell_type": "markdown",
   "id": "10e9c0fa",
   "metadata": {},
   "source": [
    "### decode() : It converts byte value to string data type"
   ]
  },
  {
   "cell_type": "markdown",
   "id": "25874c83",
   "metadata": {},
   "source": [
    "It is just for testing ..\n",
    "👇🏻👇🏻👇🏻👇🏻👇🏻👇🏻👇🏻👇🏻👇🏻"
   ]
  },
  {
   "cell_type": "code",
   "execution_count": 12,
   "id": "69b85e87",
   "metadata": {},
   "outputs": [
    {
     "name": "stdout",
     "output_type": "stream",
     "text": [
      "Encoding means converting \t string to byte\n",
      "\n",
      "<class 'str'>\n"
     ]
    }
   ],
   "source": [
    "s = b'Encoding means converting \\t string to byte\\n'\n",
    "s = s.decode()\n",
    "print(s)\n",
    "print(type(s))"
   ]
  },
  {
   "cell_type": "markdown",
   "id": "e0fe8ee3",
   "metadata": {},
   "source": [
    "### Q1) Writing in a binary file"
   ]
  },
  {
   "cell_type": "code",
   "execution_count": 49,
   "id": "41c282b2",
   "metadata": {},
   "outputs": [
    {
     "name": "stdout",
     "output_type": "stream",
     "text": [
      "{'name' : 'Microsoft'  , 'roll_no' : 20}\n",
      "\n",
      "b\"{'name' : 'Microsoft'  , 'roll_no' : 20}\\n\"\n"
     ]
    }
   ],
   "source": [
    "fout = open('Binary_file_1.dat' , 'ab')\n",
    "dct = input('Enter a dictionary (in dictionary format)  : ')+'\\n'\n",
    "print(dct)\n",
    "print(dct.encode())\n",
    "fout.write(dct.encode())\n",
    "fout.close()"
   ]
  },
  {
   "cell_type": "markdown",
   "id": "f0cd9b20",
   "metadata": {},
   "source": [
    "### Q2) Reading a binary file"
   ]
  },
  {
   "cell_type": "code",
   "execution_count": 22,
   "id": "e24d1104",
   "metadata": {},
   "outputs": [
    {
     "name": "stdout",
     "output_type": "stream",
     "text": [
      "Data in non-decoded format  :  b\"{'name' : 'Shreeji'  , 'roll_no' : 32}\\n\"\n",
      "Data in decoded format  : {'name' : 'Shreeji'  , 'roll_no' : 32}\n",
      "<class 'dict'>\n",
      "<class 'bytes'>\n"
     ]
    }
   ],
   "source": [
    "fin = open('Binary_file_1.dat' , 'rb')\n",
    "# for lines in fin:\n",
    "dct = fin.readline()\n",
    "print(\"Data in non-decoded format  : \",dct)\n",
    "print(f\"Data in decoded format  : {dct.strip().decode()}\")\n",
    "\n",
    "print(type(eval(dct)))\n",
    "print(type(dct))\n",
    "fin.close()\n"
   ]
  },
  {
   "cell_type": "code",
   "execution_count": 50,
   "id": "3d4954cf",
   "metadata": {},
   "outputs": [
    {
     "name": "stdout",
     "output_type": "stream",
     "text": [
      "b\"{'name' : 'Shreeji'  , 'roll_no' : 32}\\n\"\n",
      "b\"{'Name': 'Shreeji Tiwari', 'Age': 17, 'School': 'Kendriya Vidayala no.2 Gwalior'}\\n\"\n",
      "b\"{'name' : 'Shreeji'  , 'roll_no' : 32}\\n\"\n",
      "b\"{'name' : 'Shreeji'  , 'roll_no' : 32}\\n\"\n",
      "b\"{'name' : 'Babulal'  , 'roll_no' : 2}\\n\"\n",
      "b\"{'name' : 'Microsoft'  , 'roll_no' : 20}\\n\"\n"
     ]
    }
   ],
   "source": [
    "fin = open('Binary_file_1.dat','rb')\n",
    "for line in fin:\n",
    "    print(line)\n",
    "    # print(type(line))"
   ]
  },
  {
   "cell_type": "code",
   "execution_count": 48,
   "id": "0908b32a",
   "metadata": {},
   "outputs": [
    {
     "data": {
      "text/plain": [
       "dict"
      ]
     },
     "execution_count": 48,
     "metadata": {},
     "output_type": "execute_result"
    }
   ],
   "source": [
    "d = \"{'name' : 'Shreeji'  , 'roll_no' : 32}\\n\"\n",
    "type(eval(d))"
   ]
  },
  {
   "cell_type": "markdown",
   "id": "733d638e",
   "metadata": {},
   "source": [
    "## Pickle\n",
    "It is used to handle binary operations on different objects like list , tuple , dicitonary etc."
   ]
  },
  {
   "cell_type": "code",
   "execution_count": 51,
   "id": "3f72e23a",
   "metadata": {},
   "outputs": [],
   "source": [
    "import pickle"
   ]
  },
  {
   "cell_type": "markdown",
   "id": "bd995e81",
   "metadata": {},
   "source": [
    "### dump()\n",
    "\n",
    "It is used to write different objects like list , tuple , dictionary , class etc into the binary file.\n",
    "\n",
    "syntax : pickle.dump(obj,fileobj)"
   ]
  },
  {
   "cell_type": "markdown",
   "id": "a16f83bb",
   "metadata": {},
   "source": [
    "### load()\n",
    "\n",
    "It is It is used to read different objects like list , tuple , dictionary , class etc from a binary file.\n",
    "\n",
    "syntax :  Obj  = pickle.load(fileobj)"
   ]
  },
  {
   "cell_type": "markdown",
   "id": "c1df463e",
   "metadata": {},
   "source": [
    "#### Q1) Program to write the student record"
   ]
  },
  {
   "cell_type": "code",
   "execution_count": 5,
   "id": "ff0e2e5b",
   "metadata": {},
   "outputs": [
    {
     "name": "stdout",
     "output_type": "stream",
     "text": [
      "This is a program to write data in std_data.dat file . \n",
      "\n",
      "\n",
      "\n",
      "\n",
      "\n",
      "\n",
      "RECORD ENTERD\n",
      "\n",
      "\n"
     ]
    }
   ],
   "source": [
    "import pickle\n",
    "fout = open('std_data.dat','ab')\n",
    "\n",
    "print('This is a program to write data in std_data.dat file . \\n\\n')\n",
    "while True:\n",
    "    rn = int(input('Roll No.  :  '))\n",
    "    nm = input('Name  : ').title()\n",
    "    prcntg = int(input('Percentage  : '))\n",
    "    \n",
    "    record = {'Roll no.' : rn , 'Name' : nm , 'Percentage' : str(prcntg) + '%'}\n",
    "    pickle.dump(record,fout)\n",
    "    \n",
    "    \n",
    "    print('\\n')\n",
    "    proceed = input('Do you wanna enter next record (y/n)  : ').lower()\n",
    "\n",
    "    if proceed in ['n' , 'no']:\n",
    "        break\n",
    "\n",
    "\n",
    "print('\\n\\nRECORD ENTERD\\n\\n')    \n",
    "fout.close()\n"
   ]
  },
  {
   "cell_type": "markdown",
   "id": "84d497bc",
   "metadata": {},
   "source": [
    "#### Q2) Program to read the student record"
   ]
  },
  {
   "cell_type": "code",
   "execution_count": 54,
   "id": "c2191e44",
   "metadata": {},
   "outputs": [
    {
     "name": "stdout",
     "output_type": "stream",
     "text": [
      "This is a program to read data in std_data.dat file . \n",
      "\n",
      "\n",
      "Roll no.             Name             Percentage\n",
      "   1               Abhishek              89%    \n",
      "   2                Aditya               90%    \n",
      "   3                Benin                91%    \n",
      "   4                Cowboy               57%    \n",
      "   5                Denis                74%    \n",
      "   9                Scoob                50%    \n",
      "   7               Dekisugi              70%    \n",
      "   6                Lilly                64%    \n",
      "   10             Jolly LLB              67%    \n"
     ]
    }
   ],
   "source": [
    "import pickle\n",
    "fin = open('std_data.dat','rb')\n",
    "print('This is a program to read data in std_data.dat file . \\n\\n')\n",
    "\n",
    "print(f\"{'Roll no.':^8}{'Name':^30}{'Percentage':^10}\")\n",
    "\n",
    "while True:\n",
    "\n",
    "    try:\n",
    "        record = pickle.load(fin)\n",
    "        # print(record)\n",
    "\n",
    "        print(f\"{record['Roll no.']:^8}{record['Name']:^30}{record['Percentage']:^10}\")\n",
    "\n",
    "    except EOFError:\n",
    "        # print('\\nEOF arrived\\n')\n",
    "        break\n",
    "\n",
    "\n",
    "fin.close()"
   ]
  },
  {
   "cell_type": "code",
   "execution_count": 86,
   "id": "4a6ab91e",
   "metadata": {},
   "outputs": [
    {
     "name": "stdout",
     "output_type": "stream",
     "text": [
      "b'\\x80\\x04\\x957\\x00\\x00\\x00\\x00\\x00\\x00\\x00}\\x94(\\x8c\\x08Roll no.\\x94K\\x01\\x8c\\x04Name\\x94\\x8c\\x08Abhishek\\x94\\x8c\\n'\n"
     ]
    }
   ],
   "source": [
    "fin = open('std_data.dat','rb')\n",
    "# for i in fin:\n",
    "lines = fin.readlines()\n",
    "# print(lines)\n",
    "print(lines[0])\n",
    "fin.close()\n"
   ]
  },
  {
   "cell_type": "code",
   "execution_count": 76,
   "id": "851fb4e5",
   "metadata": {},
   "outputs": [
    {
     "name": "stdout",
     "output_type": "stream",
     "text": [
      "€\u0004•7\u0000\u0000\u0000\u0000\u0000\u0000\u0000}”(Roll no.”K\u0001Œ\u0004Name”Abhishek”Œ\n",
      "Percentage”Œ\u000389%”u.€\u0004•5\u0000\u0000\u0000\u0000\u0000\u0000\u0000}”(Roll no.”K\u0002Œ\u0004Name”Œ\u0006Aditya”Œ\n",
      "Percentage”Œ\u000390%”u.€\u0004•4\u0000\u0000\u0000\u0000\u0000\u0000\u0000}”(Roll no.”K\u0003Œ\u0004Name”Œ\u0005Benin”Œ\n",
      "Percentage”Œ\u000391%”u.€\u0004•5\u0000\u0000\u0000\u0000\u0000\u0000\u0000}”(Roll no.”K\u0004Œ\u0004Name”Œ\u0006Cowboy”Œ\n",
      "Percentage”Œ\u000357%”u.€\u0004•4\u0000\u0000\u0000\u0000\u0000\u0000\u0000}”(Roll no.”K\u0005Œ\u0004Name”Œ\u0005Denis”Œ\n",
      "Percentage”Œ\u000374%”u.€\u0004•4\u0000\u0000\u0000\u0000\u0000\u0000\u0000}”(Roll no.”K\tŒ\u0004Name”Œ\u0005Scoob”Œ\n",
      "Percentage”Œ\u000350%”u.€\u0004•7\u0000\u0000\u0000\u0000\u0000\u0000\u0000}”(Roll no.”K\u0007Œ\u0004Name”Dekisugi”Œ\n",
      "Percentage”Œ\u000370%”u.€\u0004•4\u0000\u0000\u0000\u0000\u0000\u0000\u0000}”(Roll no.”K\u0006Œ\u0004Name”Œ\u0005Lilly”Œ\n",
      "Percentage”Œ\u000364%”u.€\u0004•8\u0000\u0000\u0000\u0000\u0000\u0000\u0000}”(Roll no.”K\n",
      "Œ\u0004Name”Œ\tJolly LLB”Œ\n",
      "Percentage”Œ\u000367%”u.\n"
     ]
    }
   ],
   "source": [
    "import pickle\n",
    "fin = open('std_data.dat','r')\n",
    "data = fin.read()\n",
    "print(data)\n",
    "\n",
    "\n"
   ]
  },
  {
   "cell_type": "markdown",
   "id": "2069c693",
   "metadata": {},
   "source": [
    "# 4 September 2021"
   ]
  },
  {
   "cell_type": "markdown",
   "id": "087af234",
   "metadata": {},
   "source": [
    "## Q1) Program to Search for a record"
   ]
  },
  {
   "cell_type": "code",
   "execution_count": 12,
   "id": "6984021c",
   "metadata": {},
   "outputs": [
    {
     "name": "stdout",
     "output_type": "stream",
     "text": [
      "This is a program to search a record in a binary file\n",
      "\n",
      "Record Found !!\n",
      "\n",
      "Roll no.  :  9\n",
      "Name  :  Scoob\n",
      "Percentage  :  83%\n"
     ]
    }
   ],
   "source": [
    "import pickle\n",
    "fin = open('std_data.dat','rb')\n",
    "\n",
    "print('This is a program to search a record in a binary file\\n')\n",
    "rno = int(input('Enter the roll number of the record you want  : '))\n",
    "\n",
    "got_record = False\n",
    "\n",
    "while True:\n",
    "    try:\n",
    "        rec = pickle.load(fin)\n",
    "        if rno == rec['Roll no.']:\n",
    "            print('Record Found !!\\n')\n",
    "\n",
    "            got_record = True\n",
    "            for key in rec:\n",
    "                print(f\"{key}  :  {rec[key]}\")\n",
    "\n",
    "    except EOFError:\n",
    "        break\n",
    "\n",
    "if got_record == False:\n",
    "    print('Record not found !!')\n",
    "\n",
    "fin.close()"
   ]
  },
  {
   "cell_type": "markdown",
   "id": "34b8f158",
   "metadata": {},
   "source": [
    "## Q2) Program to update records in a binary file (INCOMPLETE)"
   ]
  },
  {
   "cell_type": "code",
   "execution_count": 30,
   "id": "0eb9823b",
   "metadata": {},
   "outputs": [
    {
     "name": "stdout",
     "output_type": "stream",
     "text": [
      "This is a program to add name as records in binary file\n",
      "\n"
     ]
    }
   ],
   "source": [
    "fout = open('name_data.dat','ab')\n",
    "print('This is a program to add name as records in binary file\\n')\n",
    "n = int(input('How many records do you want to enter  : '))\n",
    "\n",
    "for i in range(n):\n",
    "    rec = input('Enter name to add as a record in binary file')\n",
    "    rec = (f'{rec:<30}\\n').encode()\n",
    "    fout.write(rec)\n",
    "fout.close()"
   ]
  },
  {
   "cell_type": "code",
   "execution_count": 37,
   "id": "145112cb",
   "metadata": {},
   "outputs": [
    {
     "name": "stdout",
     "output_type": "stream",
     "text": [
      "\n",
      "Shreeji Tiwari                Abha                         \n",
      "Shreeji                        \n"
     ]
    }
   ],
   "source": [
    "fin = open('name_data.dat','rb')\n",
    "lines = fin.readlines()\n",
    "for line in lines:\n",
    "    print(line.decode(),end='')"
   ]
  },
  {
   "cell_type": "markdown",
   "id": "8cf5c055",
   "metadata": {},
   "source": [
    "### Method 1 (from class slides) (INCOMPLETE)"
   ]
  },
  {
   "cell_type": "code",
   "execution_count": 36,
   "id": "605a87fb",
   "metadata": {},
   "outputs": [
    {
     "name": "stdout",
     "output_type": "stream",
     "text": [
      "Record 3 updated Boss !!\n"
     ]
    }
   ],
   "source": [
    "import os\n",
    "rec_size = 30\n",
    "file_size = os.path.getsize('name_data.dat')\n",
    "\n",
    "no_of_rec = int(file_size/rec_size)\n",
    "file  = open('name_data.dat','r+b')\n",
    "\n",
    "oldname = input('Enter the old name  : ').encode()\n",
    "newname = input('Enter new name  :  ')\n",
    "\n",
    "newname = (f'\\n{newname:<30}').encode()\n",
    "\n",
    "updated = False\n",
    "position = 0\n",
    "for i in range(no_of_rec):\n",
    "    file.seek(position)\n",
    "    rec = file.read(30)\n",
    "\n",
    "    if oldname in rec:\n",
    "        file.seek(-30,1)\n",
    "        file.write(newname)\n",
    "        updated = True\n",
    "        print(f'Record {i+1} updated Boss !!')\n",
    "\n",
    "    position += rec_size\n",
    "\n",
    "if not updated:\n",
    "    print('Sorry , record not found.')\n",
    "\n",
    "file.close()\n"
   ]
  },
  {
   "cell_type": "code",
   "execution_count": null,
   "id": "116f6ca2",
   "metadata": {},
   "outputs": [],
   "source": []
  },
  {
   "cell_type": "markdown",
   "id": "f1419b12",
   "metadata": {},
   "source": [
    "# 7 September 2021"
   ]
  },
  {
   "cell_type": "markdown",
   "id": "c341071b",
   "metadata": {},
   "source": [
    "# 9 September 2021"
   ]
  },
  {
   "cell_type": "markdown",
   "id": "54f35e8f",
   "metadata": {},
   "source": [
    "## Writing in csv file (INCOMPLETE)\n",
    "\n",
    "<writer_object> = csv.writer(<file_handle>)\n",
    "\n",
    "<writer_object>.writerow()\n",
    "\n",
    "<writer_object>.writerows()"
   ]
  },
  {
   "cell_type": "code",
   "execution_count": 57,
   "id": "59e9cff5",
   "metadata": {},
   "outputs": [],
   "source": [
    "def is_file_empty(file_location):\n",
    "    try:\n",
    "        fin = open(file_location)\n",
    "        data = fin.read()\n",
    "\n",
    "        if data == '':\n",
    "            return True\n",
    "\n",
    "        else :\n",
    "            return False\n",
    "\n",
    "        \n",
    "\n",
    "    except IOError:\n",
    "        print('File does not exist !')\n",
    "        "
   ]
  },
  {
   "cell_type": "code",
   "execution_count": 59,
   "id": "af006464",
   "metadata": {},
   "outputs": [
    {
     "data": {
      "text/plain": [
       "False"
      ]
     },
     "execution_count": 59,
     "metadata": {},
     "output_type": "execute_result"
    }
   ],
   "source": [
    "is_file_empty('Student_csv_data.csv')\n"
   ]
  },
  {
   "cell_type": "code",
   "execution_count": 60,
   "id": "b561cfd1",
   "metadata": {},
   "outputs": [
    {
     "name": "stdout",
     "output_type": "stream",
     "text": [
      "This is a program to write data in a csv file.\n",
      "\n",
      "\n",
      "\n",
      "Record 1 : \n",
      "Record successfully written in the file\n"
     ]
    }
   ],
   "source": [
    "import csv\n",
    "\n",
    "fl = 'Student_csv_data.csv'\n",
    "fout = open(fl,'a+',newline='')\n",
    "csvw  = csv.writer(fout)\n",
    "# csvr = csv.reader(fout)\n",
    "print('This is a program to write data in a csv file.\\n')\n",
    "\n",
    "\n",
    "if not is_file_empty(fl):\n",
    "    fout.seek(0)\n",
    "    fields = fout.readline().split(',')\n",
    "\n",
    "    row = []\n",
    "    n = int(input('\\nHow many records do you want to enter : '))\n",
    "    \n",
    "    fout.seek(2)\n",
    "    for i in range(n):\n",
    "        print(f'\\n\\nRecord {i+1} : ')\n",
    "        for field in fields:\n",
    "            row.append(input(f'Value for {field}  : '))\n",
    "        csvw.writerow(row)\n",
    "        fout.flush()\n",
    "        row = []\n",
    "        print('Record successfully written in the file')\n",
    "\n",
    "else:\n",
    "    fout.seek(0)\n",
    "    fields = (input('Enter the fields of the Table (use \",\" to separate fields) : ').upper()).split(',')\n",
    "    csvw.writerow(fields)\n",
    "    fout.flush()\n",
    "    row = []\n",
    "    n = int(input('\\nHow many records do you want to enter : '))\n",
    "    \n",
    "    for i in range(n):\n",
    "        print('\\n\\n')\n",
    "        for field in fields:\n",
    "            row.append(input(f'Value for {field}  : '))\n",
    "        csvw.writerow(row)\n",
    "        fout.flush()\n",
    "        row = []\n",
    "        print('Record successfully written in the file')\n",
    "\n",
    "\n",
    "fout.close()\n"
   ]
  },
  {
   "cell_type": "markdown",
   "id": "c2a1c823",
   "metadata": {},
   "source": [
    "## Reading a csv file\n",
    "\n",
    "<reader_object> = csv.reader(<file_object>)\n",
    "\n",
    "<reader_object> = csv.DictReader(<file_object>)"
   ]
  },
  {
   "cell_type": "code",
   "execution_count": 87,
   "id": "932d00d2",
   "metadata": {},
   "outputs": [
    {
     "name": "stdout",
     "output_type": "stream",
     "text": [
      "['ROLL NUMBER', 'NAME', 'CLASS', 'PERCENTAGE']\n",
      "['1', 'Arsh', '12', '90']\n",
      "['2', 'BBC earth', '12', '93']\n",
      "['3', 'Cathy', '12', '90']\n",
      "['4', 'Divy', '12', '89']\n",
      "['5', 'Acer', '12', '96']\n",
      "['6', 'Shreeji', '12', '98']\n",
      "['7', 'David', '12', '91']\n",
      "['8', 'Carbon', '12', '89']\n",
      "['9', 'Baba', '10', '54']\n",
      "['10', 'Lucky', '9', '79']\n",
      "['11', 'Basket', '11', '33']\n",
      "<class 'list'>\n"
     ]
    }
   ],
   "source": [
    "import csv\n",
    "with open('Student_csv_data.csv','r') as f:\n",
    "    fr = csv.reader(f)\n",
    "    # next(fr)\n",
    "    for rec in fr:\n",
    "        print(rec)\n",
    "    print(type(rec))"
   ]
  },
  {
   "cell_type": "code",
   "execution_count": 89,
   "id": "249fe732",
   "metadata": {},
   "outputs": [
    {
     "name": "stdout",
     "output_type": "stream",
     "text": [
      "{'ROLL NUMBER': '1', 'NAME': 'Arsh', 'CLASS': '12', 'PERCENTAGE': '90'}\n",
      "{'ROLL NUMBER': '2', 'NAME': 'BBC earth', 'CLASS': '12', 'PERCENTAGE': '93'}\n",
      "{'ROLL NUMBER': '3', 'NAME': 'Cathy', 'CLASS': '12', 'PERCENTAGE': '90'}\n",
      "{'ROLL NUMBER': '4', 'NAME': 'Divy', 'CLASS': '12', 'PERCENTAGE': '89'}\n",
      "{'ROLL NUMBER': '5', 'NAME': 'Acer', 'CLASS': '12', 'PERCENTAGE': '96'}\n",
      "{'ROLL NUMBER': '6', 'NAME': 'Shreeji', 'CLASS': '12', 'PERCENTAGE': '98'}\n",
      "{'ROLL NUMBER': '7', 'NAME': 'David', 'CLASS': '12', 'PERCENTAGE': '91'}\n",
      "{'ROLL NUMBER': '8', 'NAME': 'Carbon', 'CLASS': '12', 'PERCENTAGE': '89'}\n",
      "{'ROLL NUMBER': '9', 'NAME': 'Baba', 'CLASS': '10', 'PERCENTAGE': '54'}\n",
      "{'ROLL NUMBER': '10', 'NAME': 'Lucky', 'CLASS': '9', 'PERCENTAGE': '79'}\n",
      "{'ROLL NUMBER': '11', 'NAME': 'Basket', 'CLASS': '11', 'PERCENTAGE': '33'}\n",
      "<class 'dict'>\n"
     ]
    }
   ],
   "source": [
    "import csv\n",
    "with open('Student_csv_data.csv','r') as f:\n",
    "    fr = csv.DictReader(f)\n",
    "    for rec in fr:\n",
    "        print(rec)\n",
    "    print(type(rec))"
   ]
  },
  {
   "cell_type": "code",
   "execution_count": 108,
   "id": "27f6ee6a",
   "metadata": {},
   "outputs": [
    {
     "name": "stdout",
     "output_type": "stream",
     "text": [
      "ROLL NUMBER                NAME                 CLASS   PERCENTAGE\n",
      "     1                     Arsh                  12      90  \n",
      "     2                  BBC earth                12      93  \n",
      "     3                    Cathy                  12      90  \n",
      "     4                     Divy                  12      89  \n",
      "     5                     Acer                  12      96  \n",
      "     6                   Shreeji                 12      98  \n",
      "     7                    David                  12      91  \n",
      "     8                    Carbon                 12      89  \n",
      "     9                     Baba                  10      54  \n",
      "    10                    Lucky                   9      79  \n",
      "    11                    Basket                 11      33  \n"
     ]
    }
   ],
   "source": [
    "import csv\n",
    "with open('Student_csv_data.csv','r') as f:\n",
    "    fr = csv.DictReader(f)\n",
    "    # print(type(fr))\n",
    "    for dicts in fr:\n",
    "        # print(dicts)\n",
    "        heading_list = list(dicts.keys())\n",
    "    \n",
    "    f.seek(0)\n",
    "    for rec in fr:\n",
    "        print(f'{rec[heading_list[0]]:^11}   {rec[heading_list[1]]:^30}    {rec[heading_list[2]]:^5}   {rec[heading_list[3]]:^5}')\n"
   ]
  },
  {
   "cell_type": "markdown",
   "id": "2b80850d",
   "metadata": {},
   "source": [
    "## Append and write in csv file\n",
    "\n",
    "We can use a+ , w+ , r+ as file opening mode"
   ]
  },
  {
   "cell_type": "markdown",
   "id": "331eda43",
   "metadata": {},
   "source": [
    "#### Using writerow"
   ]
  },
  {
   "cell_type": "code",
   "execution_count": 17,
   "id": "1e64ccf7",
   "metadata": {},
   "outputs": [
    {
     "name": "stdout",
     "output_type": "stream",
     "text": [
      "Enter the record : \n",
      "['ROLL NUMBER', 'NAME', 'CLASS', 'PERCENTAGE']\n",
      "['1', 'Arsh', '12', '90']\n",
      "['2', 'BBC earth', '12', '93']\n",
      "['3', 'Cathy', '12', '90']\n",
      "['4', 'Divy', '12', '89']\n",
      "['5', 'Acer', '12', '96']\n",
      "['6', 'Shreeji', '12', '98']\n",
      "['7', 'David', '12', '91']\n",
      "['8', 'Carbon', '12', '89']\n"
     ]
    }
   ],
   "source": [
    "import csv\n",
    "file_ob = open('Student_csv_data.csv','a+',newline='')\n",
    "\n",
    "reader = csv.reader(file_ob)\n",
    "writer = csv.writer(file_ob)\n",
    "\n",
    "print('Enter the record : ')\n",
    "\n",
    "rollno = input('Roll_No : ').strip()\n",
    "name = input('Name : ').strip()\n",
    "class_ = int(input('Class : '))\n",
    "percentage = int(input('Percentage : '))\n",
    "\n",
    "row = [rollno,name,class_,percentage]\n",
    "\n",
    "writer.writerow(row)\n",
    "file_ob.flush()\n",
    "\n",
    "file_ob.seek(0)\n",
    "for rec in reader:\n",
    "    print(rec)\n",
    "\n",
    "\n"
   ]
  },
  {
   "cell_type": "markdown",
   "id": "7bccf000",
   "metadata": {},
   "source": [
    "#### Using writerows"
   ]
  },
  {
   "cell_type": "code",
   "execution_count": 79,
   "id": "9658f3f5",
   "metadata": {},
   "outputs": [
    {
     "name": "stdout",
     "output_type": "stream",
     "text": [
      "Enter the record : \n",
      "Enter the record : \n",
      "['ROLL NUMBER', 'NAME', 'CLASS', 'PERCENTAGE']\n",
      "['1', 'Arsh', '12', '90']\n",
      "['2', 'BBC earth', '12', '93']\n",
      "['3', 'Cathy', '12', '90']\n",
      "['4', 'Divy', '12', '89']\n",
      "['5', 'Acer', '12', '96']\n",
      "['6', 'Shreeji', '12', '98']\n",
      "['7', 'David', '12', '91']\n",
      "['8', 'Carbon', '12', '89']\n",
      "['9', 'Baba', '10', '54']\n",
      "['10', 'Lucky', '9', '79']\n",
      "['11', 'Basket', '11', '33']\n"
     ]
    }
   ],
   "source": [
    "import csv\n",
    "file_ob = open('Student_csv_data.csv','a+',newline='')\n",
    "\n",
    "reader = csv.reader(file_ob)\n",
    "writer = csv.writer(file_ob)\n",
    "\n",
    "rows = []\n",
    "while True:\n",
    "    print('Enter the record : ')\n",
    "\n",
    "    rollno = input('Roll_No : ').strip()\n",
    "    name = input('Name : ').strip()\n",
    "    class_ = int(input('Class : '))\n",
    "    percentage = int(input('Percentage : '))\n",
    "\n",
    "    row = [rollno,name,class_,percentage]\n",
    "    rows.append(row)\n",
    "\n",
    "    con = input('Do you want to enter next record (y/n) : ').lower()\n",
    "    if con=='n':\n",
    "        break\n",
    "\n",
    "writer.writerows(rows)\n",
    "file_ob.flush()\n",
    "\n",
    "file_ob.seek(0)\n",
    "for rec in reader:\n",
    "    print(rec)"
   ]
  },
  {
   "cell_type": "code",
   "execution_count": null,
   "id": "683a0dd0",
   "metadata": {},
   "outputs": [],
   "source": []
  }
 ],
 "metadata": {
  "interpreter": {
   "hash": "5d2f62ab5654bdb13e391a8277148968ca32f47c10665034a10658c5fa01a50f"
  },
  "kernelspec": {
   "display_name": "Python 3 (ipykernel)",
   "language": "python",
   "name": "python3"
  },
  "language_info": {
   "codemirror_mode": {
    "name": "ipython",
    "version": 3
   },
   "file_extension": ".py",
   "mimetype": "text/x-python",
   "name": "python",
   "nbconvert_exporter": "python",
   "pygments_lexer": "ipython3",
   "version": "3.9.7"
  }
 },
 "nbformat": 4,
 "nbformat_minor": 5
}
