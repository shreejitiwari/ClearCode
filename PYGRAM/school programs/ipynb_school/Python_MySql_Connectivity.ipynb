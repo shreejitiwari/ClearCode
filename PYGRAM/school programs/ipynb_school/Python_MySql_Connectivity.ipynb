{
 "cells": [
  {
   "cell_type": "markdown",
   "metadata": {},
   "source": [
    "# Python_MySql_Connectivity"
   ]
  },
  {
   "cell_type": "markdown",
   "metadata": {},
   "source": [
    "Steps :\n",
    "1. Import mysql.connector.\n",
    "2. Invoke the connect method and pass host , username and password as arguments.\n",
    "3. Create a cursor (buffer) by using cursor method."
   ]
  },
  {
   "cell_type": "markdown",
   "metadata": {},
   "source": [
    "### Different ways of printing cursor"
   ]
  },
  {
   "cell_type": "markdown",
   "metadata": {},
   "source": [
    "##### Printing Cursor and Connection"
   ]
  },
  {
   "cell_type": "code",
   "execution_count": 2,
   "metadata": {},
   "outputs": [
    {
     "name": "stdout",
     "output_type": "stream",
     "text": [
      "print(cursor) :  MySQLCursor: (Nothing executed yet)\n",
      "print(connection) :  <mysql.connector.connection.MySQLConnection object at 0x0000024A72EACD00>\n"
     ]
    }
   ],
   "source": [
    "import mysql.connector as mc\n",
    "connection = mc.connect(host = 'localhost' , user = 'root' , password = '')\n",
    "cursor = connection.cursor()\n",
    "print('print(cursor) : ',cursor)\n",
    "print('print(connection) : ',connection)"
   ]
  },
  {
   "cell_type": "markdown",
   "metadata": {},
   "source": [
    "##### Printing type of cursor and connection"
   ]
  },
  {
   "cell_type": "code",
   "execution_count": 3,
   "metadata": {},
   "outputs": [
    {
     "name": "stdout",
     "output_type": "stream",
     "text": [
      "<class 'mysql.connector.cursor.MySQLCursor'>\n",
      "<class 'mysql.connector.connection.MySQLConnection'>\n"
     ]
    }
   ],
   "source": [
    "import mysql.connector as mc\n",
    "connection = mc.connect(host = 'localhost' , user = 'root' , password = '')\n",
    "cursor = connection.cursor()\n",
    "print(type(cursor))\n",
    "print(type(connection))"
   ]
  },
  {
   "cell_type": "markdown",
   "metadata": {},
   "source": [
    "##### cursor.execute(<querry>) does NOT RETURN anything"
   ]
  },
  {
   "cell_type": "code",
   "execution_count": 4,
   "metadata": {},
   "outputs": [
    {
     "name": "stdout",
     "output_type": "stream",
     "text": [
      "None\n",
      "<class 'NoneType'>\n"
     ]
    }
   ],
   "source": [
    "import mysql.connector as mc\n",
    "connection = mc.connect(host = 'localhost' , user = 'root' , password = '')\n",
    "cursor = connection.cursor()\n",
    "# print((cursor))\n",
    "databases = cursor.execute('show databases')\n",
    "print(databases)\n",
    "print(type(databases))"
   ]
  },
  {
   "cell_type": "markdown",
   "metadata": {},
   "source": [
    "##### Traversing through cursor"
   ]
  },
  {
   "cell_type": "code",
   "execution_count": 5,
   "metadata": {},
   "outputs": [
    {
     "name": "stdout",
     "output_type": "stream",
     "text": [
      "('information_schema',)\n",
      "('mysql',)\n",
      "('rastauri_management',)\n",
      "('school',)\n",
      "('shreeji',)\n",
      "('sql_connectivity',)\n"
     ]
    }
   ],
   "source": [
    "import mysql.connector as mc\n",
    "connection = mc.connect(host = 'localhost' , user = 'root' , password = '')\n",
    "cursor = connection.cursor()\n",
    "# print((cursor))\n",
    "cursor.execute('show databases')\n",
    "\n",
    "for i in cursor:\n",
    "    print(i)"
   ]
  },
  {
   "cell_type": "markdown",
   "metadata": {},
   "source": [
    "##### List"
   ]
  },
  {
   "cell_type": "code",
   "execution_count": 6,
   "metadata": {},
   "outputs": [
    {
     "name": "stdout",
     "output_type": "stream",
     "text": [
      "1st print(cursor) : MySQLCursor: (Nothing executed yet)\n",
      "2nd print(cursor) : MySQLCursor: show databases\n",
      "3rd print([cursor]) : [<mysql.connector.cursor.MySQLCursor object at 0x0000024A72DA3280>]\n",
      "4th print(list(cursor)) : [('information_schema',), ('mysql',), ('rastauri_management',), ('school',), ('shreeji',), ('sql_connectivity',)]\n",
      "4th print(list(cursor)) : []\n",
      "5th print(str(cursor)) : MySQLCursor: show databases\n"
     ]
    }
   ],
   "source": [
    "import mysql.connector as mc\n",
    "connection = mc.connect(host = 'localhost' , user = 'root' , password = '')\n",
    "cursor = connection.cursor()\n",
    "print('1st print(cursor) :',(cursor))\n",
    "\n",
    "cursor.execute('show databases')\n",
    "\n",
    "print('2nd print(cursor) :',cursor)\n",
    "print('3rd print([cursor]) :',[cursor])\n",
    "print('4th print(list(cursor)) :',list(cursor))\n",
    "print('4th print(list(cursor)) :',list(cursor))\n",
    "print('5th print(str(cursor)) :',str(cursor))\n",
    "\n",
    "mc.MySQLConnection.disconnect(connection)"
   ]
  },
  {
   "cell_type": "markdown",
   "metadata": {},
   "source": [
    "##### Tuple"
   ]
  },
  {
   "cell_type": "code",
   "execution_count": 7,
   "metadata": {},
   "outputs": [
    {
     "name": "stdout",
     "output_type": "stream",
     "text": [
      "MySQLCursor: (Nothing executed yet)\n",
      "MySQLCursor: show databases\n",
      "(<mysql.connector.cursor.MySQLCursor object at 0x0000024A72EACA00>,)\n",
      "(('information_schema',), ('mysql',), ('rastauri_management',), ('school',), ('shreeji',), ('sql_connectivity',))\n",
      "()\n",
      "MySQLCursor: show databases\n"
     ]
    }
   ],
   "source": [
    "import mysql.connector as mc\n",
    "connection = mc.connect(host = 'localhost' , user = 'root' , password = '')\n",
    "cursor = connection.cursor()\n",
    "print((cursor))\n",
    "\n",
    "cursor.execute('show databases')\n",
    "\n",
    "print(cursor)\n",
    "print((cursor,))\n",
    "print(tuple(cursor))\n",
    "print(tuple(cursor))\n",
    "print(str(cursor))\n"
   ]
  },
  {
   "cell_type": "markdown",
   "metadata": {},
   "source": [
    "##### Using Loops"
   ]
  },
  {
   "cell_type": "code",
   "execution_count": 8,
   "metadata": {},
   "outputs": [
    {
     "name": "stdout",
     "output_type": "stream",
     "text": [
      "MySQLCursor: (Nothing executed yet)\n",
      "MySQLCursor: show databases\n",
      "[('information_schema',), ('mysql',), ('rastauri_management',), ('school',), ('shreeji',), ('sql_connectivity',)]\n",
      "MySQLCursor: show databases\n"
     ]
    }
   ],
   "source": [
    "import mysql.connector as mc\n",
    "connection = mc.connect(host = 'localhost' , user = 'root' , password = '')\n",
    "cursor = connection.cursor()\n",
    "print((cursor))\n",
    "\n",
    "cursor.execute('show databases')\n",
    "\n",
    "print(cursor)\n",
    "print([dbs for dbs in cursor])\n",
    "print(str(cursor))"
   ]
  },
  {
   "cell_type": "code",
   "execution_count": 42,
   "metadata": {},
   "outputs": [
    {
     "name": "stdout",
     "output_type": "stream",
     "text": [
      "MySQLCursor: (Nothing executed yet)\n",
      "MySQLCursor: show databases\n",
      "<generator object <genexpr> at 0x000001C7C7B86F90>\n",
      "MySQLCursor: show databases\n"
     ]
    }
   ],
   "source": [
    "import mysql.connector as mc\n",
    "connection = mc.connect(host = 'localhost' , user = 'root' , password = '')\n",
    "cursor = connection.cursor()\n",
    "print((cursor))\n",
    "\n",
    "cursor.execute('show databases')\n",
    "\n",
    "print(cursor)\n",
    "print(dbs for dbs in cursor)\n",
    "print(str(cursor))"
   ]
  },
  {
   "cell_type": "markdown",
   "metadata": {},
   "source": [
    "### Creating Database"
   ]
  },
  {
   "cell_type": "code",
   "execution_count": 9,
   "metadata": {},
   "outputs": [
    {
     "name": "stdout",
     "output_type": "stream",
     "text": [
      "Database Created\n",
      "[('information_schema',), ('mysql',), ('rastauri_management',), ('school',), ('shreeji',), ('sql_connectivity',), ('to_be_deleted',)]\n"
     ]
    }
   ],
   "source": [
    "import mysql.connector as mc\n",
    "connection = mc.connect(host='localhost', user = 'root', password = '')\n",
    "cursor = connection.cursor()\n",
    "\n",
    "dbname = input('Enter the name of the Database you want to create in mysql')\n",
    "\n",
    "cursor.execute(f'create database {dbname}')\n",
    "cursor.execute('show databases')\n",
    "databases = list(cursor)\n",
    "\n",
    "if (dbname,) in databases:\n",
    "    print('Database Created')\n",
    "\n",
    "print(databases)\n"
   ]
  },
  {
   "cell_type": "markdown",
   "metadata": {},
   "source": [
    "### Delete Databases"
   ]
  },
  {
   "cell_type": "code",
   "execution_count": 10,
   "metadata": {},
   "outputs": [
    {
     "name": "stdout",
     "output_type": "stream",
     "text": [
      "Before Deletion : [('information_schema',), ('mysql',), ('rastauri_management',), ('school',), ('shreeji',), ('sql_connectivity',), ('to_be_deleted',)]\n",
      "After Deletion : [('information_schema',), ('mysql',), ('rastauri_management',), ('school',), ('shreeji',), ('sql_connectivity',)]\n"
     ]
    }
   ],
   "source": [
    "import mysql.connector as mc\n",
    "connection = mc.connect(host='localhost', user = 'root', password = '')\n",
    "cursor = connection.cursor()\n",
    "\n",
    "\n",
    "cursor.execute('show databases')\n",
    "print(f'Before Deletion : {list(cursor)}')\n",
    "\n",
    "dbname = input('Enter the name of database to be deleted : ')\n",
    "\n",
    "cursor.execute(f'drop database {dbname}')\n",
    "cursor.execute('show databases')\n",
    "print(f'After Deletion : {list(cursor)}')"
   ]
  },
  {
   "cell_type": "markdown",
   "metadata": {},
   "source": [
    "### Use Database"
   ]
  },
  {
   "cell_type": "code",
   "execution_count": 13,
   "metadata": {},
   "outputs": [],
   "source": [
    "import mysql.connector as mc\n",
    "# connection = mc.connect(host = 'localhost', user ='root' , password='')\n",
    "connection = mc.connect(host='localhost' , user = 'root' , password='', database= 'sql_connectivity')\n",
    "cursor = connection.cursor()\n",
    "\n",
    "# cursor.execute('Use sql_connectivity')\n"
   ]
  },
  {
   "cell_type": "markdown",
   "metadata": {},
   "source": [
    "### Creating Tables"
   ]
  },
  {
   "cell_type": "code",
   "execution_count": 2,
   "metadata": {},
   "outputs": [
    {
     "ename": "ProgrammingError",
     "evalue": "1050 (42S01): Table 'student' already exists",
     "output_type": "error",
     "traceback": [
      "\u001b[1;31m---------------------------------------------------------------------------\u001b[0m",
      "\u001b[1;31mProgrammingError\u001b[0m                          Traceback (most recent call last)",
      "\u001b[1;32m~\\AppData\\Local\\Temp/ipykernel_21408/373810229.py\u001b[0m in \u001b[0;36m<module>\u001b[1;34m\u001b[0m\n\u001b[0;32m      4\u001b[0m \u001b[0mcursor\u001b[0m \u001b[1;33m=\u001b[0m \u001b[0mconnection\u001b[0m\u001b[1;33m.\u001b[0m\u001b[0mcursor\u001b[0m\u001b[1;33m(\u001b[0m\u001b[1;33m)\u001b[0m\u001b[1;33m\u001b[0m\u001b[1;33m\u001b[0m\u001b[0m\n\u001b[0;32m      5\u001b[0m \u001b[1;33m\u001b[0m\u001b[0m\n\u001b[1;32m----> 6\u001b[1;33m cursor.execute('create table student (roll_no int(4) primary key,\\\n\u001b[0m\u001b[0;32m      7\u001b[0m     name varchar(30), age int(2), city varchar(30))')\n\u001b[0;32m      8\u001b[0m \u001b[1;33m\u001b[0m\u001b[0m\n",
      "\u001b[1;32m~\\anaconda3\\lib\\site-packages\\mysql\\connector\\cursor.py\u001b[0m in \u001b[0;36mexecute\u001b[1;34m(self, operation, params, multi)\u001b[0m\n\u001b[0;32m    549\u001b[0m         \u001b[1;32melse\u001b[0m\u001b[1;33m:\u001b[0m\u001b[1;33m\u001b[0m\u001b[1;33m\u001b[0m\u001b[0m\n\u001b[0;32m    550\u001b[0m             \u001b[1;32mtry\u001b[0m\u001b[1;33m:\u001b[0m\u001b[1;33m\u001b[0m\u001b[1;33m\u001b[0m\u001b[0m\n\u001b[1;32m--> 551\u001b[1;33m                 \u001b[0mself\u001b[0m\u001b[1;33m.\u001b[0m\u001b[0m_handle_result\u001b[0m\u001b[1;33m(\u001b[0m\u001b[0mself\u001b[0m\u001b[1;33m.\u001b[0m\u001b[0m_connection\u001b[0m\u001b[1;33m.\u001b[0m\u001b[0mcmd_query\u001b[0m\u001b[1;33m(\u001b[0m\u001b[0mstmt\u001b[0m\u001b[1;33m)\u001b[0m\u001b[1;33m)\u001b[0m\u001b[1;33m\u001b[0m\u001b[1;33m\u001b[0m\u001b[0m\n\u001b[0m\u001b[0;32m    552\u001b[0m             \u001b[1;32mexcept\u001b[0m \u001b[0merrors\u001b[0m\u001b[1;33m.\u001b[0m\u001b[0mInterfaceError\u001b[0m\u001b[1;33m:\u001b[0m\u001b[1;33m\u001b[0m\u001b[1;33m\u001b[0m\u001b[0m\n\u001b[0;32m    553\u001b[0m                 \u001b[1;32mif\u001b[0m \u001b[0mself\u001b[0m\u001b[1;33m.\u001b[0m\u001b[0m_connection\u001b[0m\u001b[1;33m.\u001b[0m\u001b[0m_have_next_result\u001b[0m\u001b[1;33m:\u001b[0m  \u001b[1;31m# pylint: disable=W0212\u001b[0m\u001b[1;33m\u001b[0m\u001b[1;33m\u001b[0m\u001b[0m\n",
      "\u001b[1;32m~\\anaconda3\\lib\\site-packages\\mysql\\connector\\connection.py\u001b[0m in \u001b[0;36mcmd_query\u001b[1;34m(self, query, raw, buffered, raw_as_string)\u001b[0m\n\u001b[0;32m    488\u001b[0m         \u001b[1;32mif\u001b[0m \u001b[1;32mnot\u001b[0m \u001b[0misinstance\u001b[0m\u001b[1;33m(\u001b[0m\u001b[0mquery\u001b[0m\u001b[1;33m,\u001b[0m \u001b[0mbytes\u001b[0m\u001b[1;33m)\u001b[0m\u001b[1;33m:\u001b[0m\u001b[1;33m\u001b[0m\u001b[1;33m\u001b[0m\u001b[0m\n\u001b[0;32m    489\u001b[0m             \u001b[0mquery\u001b[0m \u001b[1;33m=\u001b[0m \u001b[0mquery\u001b[0m\u001b[1;33m.\u001b[0m\u001b[0mencode\u001b[0m\u001b[1;33m(\u001b[0m\u001b[1;34m'utf-8'\u001b[0m\u001b[1;33m)\u001b[0m\u001b[1;33m\u001b[0m\u001b[1;33m\u001b[0m\u001b[0m\n\u001b[1;32m--> 490\u001b[1;33m         \u001b[0mresult\u001b[0m \u001b[1;33m=\u001b[0m \u001b[0mself\u001b[0m\u001b[1;33m.\u001b[0m\u001b[0m_handle_result\u001b[0m\u001b[1;33m(\u001b[0m\u001b[0mself\u001b[0m\u001b[1;33m.\u001b[0m\u001b[0m_send_cmd\u001b[0m\u001b[1;33m(\u001b[0m\u001b[0mServerCmd\u001b[0m\u001b[1;33m.\u001b[0m\u001b[0mQUERY\u001b[0m\u001b[1;33m,\u001b[0m \u001b[0mquery\u001b[0m\u001b[1;33m)\u001b[0m\u001b[1;33m)\u001b[0m\u001b[1;33m\u001b[0m\u001b[1;33m\u001b[0m\u001b[0m\n\u001b[0m\u001b[0;32m    491\u001b[0m \u001b[1;33m\u001b[0m\u001b[0m\n\u001b[0;32m    492\u001b[0m         \u001b[1;32mif\u001b[0m \u001b[0mself\u001b[0m\u001b[1;33m.\u001b[0m\u001b[0m_have_next_result\u001b[0m\u001b[1;33m:\u001b[0m\u001b[1;33m\u001b[0m\u001b[1;33m\u001b[0m\u001b[0m\n",
      "\u001b[1;32m~\\anaconda3\\lib\\site-packages\\mysql\\connector\\connection.py\u001b[0m in \u001b[0;36m_handle_result\u001b[1;34m(self, packet)\u001b[0m\n\u001b[0;32m    393\u001b[0m             \u001b[1;32mreturn\u001b[0m \u001b[0mself\u001b[0m\u001b[1;33m.\u001b[0m\u001b[0m_handle_eof\u001b[0m\u001b[1;33m(\u001b[0m\u001b[0mpacket\u001b[0m\u001b[1;33m)\u001b[0m\u001b[1;33m\u001b[0m\u001b[1;33m\u001b[0m\u001b[0m\n\u001b[0;32m    394\u001b[0m         \u001b[1;32melif\u001b[0m \u001b[0mpacket\u001b[0m\u001b[1;33m[\u001b[0m\u001b[1;36m4\u001b[0m\u001b[1;33m]\u001b[0m \u001b[1;33m==\u001b[0m \u001b[1;36m255\u001b[0m\u001b[1;33m:\u001b[0m\u001b[1;33m\u001b[0m\u001b[1;33m\u001b[0m\u001b[0m\n\u001b[1;32m--> 395\u001b[1;33m             \u001b[1;32mraise\u001b[0m \u001b[0merrors\u001b[0m\u001b[1;33m.\u001b[0m\u001b[0mget_exception\u001b[0m\u001b[1;33m(\u001b[0m\u001b[0mpacket\u001b[0m\u001b[1;33m)\u001b[0m\u001b[1;33m\u001b[0m\u001b[1;33m\u001b[0m\u001b[0m\n\u001b[0m\u001b[0;32m    396\u001b[0m \u001b[1;33m\u001b[0m\u001b[0m\n\u001b[0;32m    397\u001b[0m         \u001b[1;31m# We have a text result set\u001b[0m\u001b[1;33m\u001b[0m\u001b[1;33m\u001b[0m\u001b[0m\n",
      "\u001b[1;31mProgrammingError\u001b[0m: 1050 (42S01): Table 'student' already exists"
     ]
    }
   ],
   "source": [
    "import mysql.connector as mc\n",
    "# connection = mc.connect(host = 'localhost', user ='root' , password='')\n",
    "connection = mc.connect(host='localhost' , user = 'root' , password='', database= 'sql_connectivity')\n",
    "cursor = connection.cursor()\n",
    "\n",
    "cursor.execute('create table student (roll_no int(4) primary key,\\\n",
    "    name varchar(30), age int(2), city varchar(30))')\n",
    "\n",
    "print('Table Created !')"
   ]
  },
  {
   "cell_type": "markdown",
   "metadata": {},
   "source": [
    "### DESC Table"
   ]
  },
  {
   "cell_type": "code",
   "execution_count": 14,
   "metadata": {},
   "outputs": [
    {
     "name": "stdout",
     "output_type": "stream",
     "text": [
      "('roll_no', 'int(6)', 'NO', 'PRI', '0', '')\n",
      "('name', 'varchar(30)', 'YES', '', None, '')\n",
      "('age', 'int(2)', 'YES', '', None, '')\n",
      "('city', 'varchar(30)', 'YES', '', None, '')\n",
      "('marks', 'int(3)', 'YES', '', None, '')\n"
     ]
    }
   ],
   "source": [
    "import mysql.connector as mc\n",
    "# connection = mc.connect(host = 'localhost', user ='root' , password='')\n",
    "connection = mc.connect(host='localhost' , user = 'root' , password='', database= 'sql_connectivity')\n",
    "cursor = connection.cursor()\n",
    "\n",
    "cursor.execute('desc student')\n",
    "\n",
    "for rec in cursor:\n",
    "    print(rec)"
   ]
  },
  {
   "cell_type": "markdown",
   "metadata": {},
   "source": [
    "### Show Tables"
   ]
  },
  {
   "cell_type": "code",
   "execution_count": 21,
   "metadata": {},
   "outputs": [
    {
     "name": "stdout",
     "output_type": "stream",
     "text": [
      "('student',)\n"
     ]
    }
   ],
   "source": [
    "import mysql.connector as mc\n",
    "# connection = mc.connect(host = 'localhost', user ='root' , password='')\n",
    "connection = mc.connect(host='localhost' , user = 'root' , password='', database= 'sql_connectivity')\n",
    "cursor = connection.cursor()\n",
    "\n",
    "cursor.execute('show tables;')\n",
    "for rec in cursor:\n",
    "    print(rec)"
   ]
  },
  {
   "cell_type": "markdown",
   "metadata": {},
   "source": [
    "### Alter Table"
   ]
  },
  {
   "cell_type": "markdown",
   "metadata": {},
   "source": [
    "#### Add"
   ]
  },
  {
   "cell_type": "code",
   "execution_count": 15,
   "metadata": {},
   "outputs": [
    {
     "name": "stdout",
     "output_type": "stream",
     "text": [
      "Done\n",
      "Here is the table :\n",
      "\n",
      "('roll_no', 'int(6)', 'NO', 'PRI', '0', '')\n",
      "('name', 'varchar(30)', 'YES', '', None, '')\n",
      "('age', 'int(2)', 'YES', '', None, '')\n",
      "('city', 'varchar(30)', 'YES', '', None, '')\n",
      "('marks', 'int(3)', 'YES', '', None, '')\n",
      "('dob', 'varchar(35)', 'YES', '', None, '')\n"
     ]
    }
   ],
   "source": [
    "import mysql.connector as mc\n",
    "# connection = mc.connect(host = 'localhost', user ='root' , password='')\n",
    "connection = mc.connect(host='localhost' , user = 'root' , password='', database= 'sql_connectivity')\n",
    "cursor = connection.cursor()  # creates buffer\n",
    "\n",
    "# cursor.execute('Alter table student add(marks int(3))')\n",
    "cursor.execute('Alter table student add(dob varchar(35))')\n",
    "print('Done\\nHere is the table :\\n')\n",
    "\n",
    "cursor.execute('desc student')\n",
    "for rec in cursor:\n",
    "    print(rec)"
   ]
  },
  {
   "cell_type": "markdown",
   "metadata": {},
   "source": [
    "#### Modify"
   ]
  },
  {
   "cell_type": "code",
   "execution_count": 16,
   "metadata": {},
   "outputs": [
    {
     "name": "stdout",
     "output_type": "stream",
     "text": [
      "Done\n"
     ]
    }
   ],
   "source": [
    "import mysql.connector as mc\n",
    "# connection = mc.connect(host = 'localhost', user ='root' , password='')\n",
    "connection = mc.connect(host='localhost' , user = 'root' , password='', database= 'sql_connectivity')\n",
    "cursor = connection.cursor()\n",
    "\n",
    "cursor.execute('alter table student modify roll_no int(6)')\n",
    "print('Done')"
   ]
  },
  {
   "cell_type": "markdown",
   "metadata": {},
   "source": [
    "#### Change"
   ]
  },
  {
   "cell_type": "code",
   "execution_count": 17,
   "metadata": {},
   "outputs": [
    {
     "name": "stdout",
     "output_type": "stream",
     "text": [
      "Done\n",
      "('roll_no', 'int(6)', 'NO', 'PRI', '0', '')\n",
      "('name', 'varchar(30)', 'YES', '', None, '')\n",
      "('age', 'int(2)', 'YES', '', None, '')\n",
      "('city', 'varchar(30)', 'YES', '', None, '')\n",
      "('marks', 'int(3)', 'YES', '', None, '')\n",
      "('date_of_birth', 'date', 'YES', '', None, '')\n"
     ]
    }
   ],
   "source": [
    "import mysql.connector as mc\n",
    "# connection = mc.connect(host = 'localhost', user ='root' , password='')\n",
    "connection = mc.connect(host='localhost' , user = 'root' , password='', database= 'sql_connectivity')\n",
    "cursor = connection.cursor()\n",
    "\n",
    "cursor.execute('alter table student change dob date_of_birth date')\n",
    "print('Done')\n",
    "cursor.execute('desc student')\n",
    "for rec in cursor:\n",
    "    print(rec)"
   ]
  },
  {
   "cell_type": "markdown",
   "metadata": {},
   "source": [
    "#### Drop"
   ]
  },
  {
   "cell_type": "code",
   "execution_count": 18,
   "metadata": {},
   "outputs": [
    {
     "name": "stdout",
     "output_type": "stream",
     "text": [
      "Done\n",
      "Here is the resultant table :\n",
      "\n",
      "('roll_no', 'int(6)', 'NO', 'PRI', '0', '')\n",
      "('name', 'varchar(30)', 'YES', '', None, '')\n",
      "('age', 'int(2)', 'YES', '', None, '')\n",
      "('city', 'varchar(30)', 'YES', '', None, '')\n",
      "('marks', 'int(3)', 'YES', '', None, '')\n"
     ]
    }
   ],
   "source": [
    "import mysql.connector as mc\n",
    "# connection = mc.connect(host = 'localhost', user ='root' , password='')\n",
    "connection = mc.connect(host='localhost' , user = 'root' , password='', database= 'sql_connectivity')\n",
    "cursor = connection.cursor()\n",
    "\n",
    "cursor.execute('alter table student drop date_of_birth')\n",
    "print('Done\\nHere is the resultant table :\\n')\n",
    "\n",
    "cursor.execute('desc student')\n",
    "for rec in cursor:\n",
    "    print(rec)"
   ]
  },
  {
   "cell_type": "markdown",
   "metadata": {},
   "source": [
    "### Insert Into"
   ]
  },
  {
   "cell_type": "code",
   "execution_count": 2,
   "metadata": {},
   "outputs": [
    {
     "name": "stdout",
     "output_type": "stream",
     "text": [
      "Enter data for record 1 :\n",
      "insert into student values ('100010', 'Ben', '16', 'Gwalior', '86')\n",
      "Record 1 entered\n",
      "\n",
      "(100001, 'Arohi', 16, 'Banglore', 99)\n",
      "(100002, 'Lovely', 16, 'Gwalior', 99)\n",
      "(100003, 'Shreeji Tiwari', 16, 'Singharsi', 99)\n",
      "(100004, 'Akshita', 16, 'Gwalior', 98)\n",
      "(100005, 'Priya', 17, 'Kolkata', 96)\n",
      "(100006, 'Aarushi', 17, 'Prayagraj', 91)\n",
      "(100007, 'Akanksha', 19, 'Delhi', 92)\n",
      "(100008, 'Rachit', 16, 'Gwalior', 92)\n",
      "(100010, 'Ben', 16, 'Gwalior', 86)\n"
     ]
    }
   ],
   "source": [
    "import mysql.connector as mc\n",
    "# connection = mc.connect(host = 'localhost', user ='root' , password='')\n",
    "connection = mc.connect(host='localhost' , user = 'root' , password='', database= 'sql_connectivity')\n",
    "cursor = connection.cursor()\n",
    "\n",
    "number = int(input('How many records do you want to enter : '))\n",
    "records_list = [{} for i in range(number)]  # it will create a list of dictionaries\n",
    "\n",
    "cursor.execute('desc student')\n",
    "fields = {rec[0]:rec[1] for rec in cursor}   # it will create a dictionary of field : datatype\n",
    "\n",
    "\n",
    "for i in range(number):\n",
    "    print(f'Enter data for record {i+1} :')\n",
    "    for j in fields:\n",
    "        records_list[i][j] = input(f'Enter {j} ( {fields[j]} ) : ')  # j key of ith indexed dictionary of records list will have the value entered in the input\n",
    "        \n",
    "\n",
    "    command = f'insert into student values {tuple(records_list[i].values())}'\n",
    "    print(command)\n",
    "    cursor.execute(command)\n",
    "    connection.commit() #commit function to save data\n",
    "    \n",
    "    print(f'Record {i+1} entered\\n')\n",
    "\n",
    "# print(f'\\n\\n{cursor.rowcount} records affected in total .\\n')\n",
    "cursor.execute('select * from student;')\n",
    "for rec in cursor:\n",
    "    print(rec)\n",
    "\n",
    "\n",
    "rec_affected = cursor.rowcount\n",
    "print(f'\\n{rec_affected} records affected !!')"
   ]
  },
  {
   "cell_type": "markdown",
   "metadata": {},
   "source": [
    "### Record Updation"
   ]
  },
  {
   "cell_type": "code",
   "execution_count": 11,
   "metadata": {},
   "outputs": [
    {
     "name": "stdout",
     "output_type": "stream",
     "text": [
      "1) roll_no (int(6))\n",
      "2) name (varchar(30))\n",
      "3) age (int(2))\n",
      "4) city (varchar(30))\n",
      "5) marks (int(3))\n",
      "\n",
      "1 records affected !!\n",
      "\n",
      "\n",
      "(100001, 'Arohi', 16, 'Banglore', 99)\n",
      "(100002, 'Lovely', 16, 'Gwalior', 99)\n",
      "(100003, 'Shreeji Tiwari', 16, 'Singharsi', 99)\n",
      "(100004, 'Akshita', 16, 'Gwalior', 98)\n",
      "(100005, 'Priya', 17, 'Kolkata', 96)\n",
      "(100006, 'Aarushi', 17, 'Prayagraj', 91)\n",
      "(100007, 'Akanksha', 19, 'Delhi', 92)\n",
      "(100008, 'Rachit', 16, 'Gwalior', 92)\n",
      "(100010, 'Ben', 16, 'Gwalior', 86)\n",
      "(100011, 'Ben', 16, 'Gwalior', 86)\n",
      "(100012, None, 16, '16', 86)\n",
      "(100013, 'John', 17, 'New York', None)\n",
      "(100014, 'Albert', 45, 'Zurich', 45)\n"
     ]
    }
   ],
   "source": [
    "import mysql.connector as mc\n",
    "connection = mc.connect(host='localhost', user='root', password='', database='sql_connectivity')\n",
    "cursor = connection.cursor()\n",
    "cursor.execute('desc student')\n",
    "fields = {rec[0]:rec[1] for rec in cursor}\n",
    "\n",
    "# print(fields)\n",
    "cnt = 1\n",
    "for fld in fields:\n",
    "    print(f'{cnt}) {fld} ({fields[fld]})')\n",
    "    cnt += 1\n",
    "\n",
    "rec_to_updated = tuple(eval(input('Enter the record(s) that needs to be updated : ')+','))\n",
    "# print('\\n',rec_to_updated)\n",
    "\n",
    "\n",
    "set_command = \"\"\n",
    "for i in rec_to_updated:\n",
    "    fld_to_be_updated = list(fields.keys())[i-1]\n",
    "    set_command += str(fld_to_be_updated) + '='\n",
    "    new_val = input(f'Enter New {fld_to_be_updated}  ({fields[fld_to_be_updated]}) : ')\n",
    "    set_command += \"'\"+ str(new_val) + \"'\"\n",
    "\n",
    "    if i != rec_to_updated[-1]:\n",
    "        set_command += ','\n",
    "\n",
    "# print(set_command)\n",
    "\n",
    "rn = input('Enter the roll number whose records is to be updated : ')\n",
    "\n",
    "update_command = f'update student set {set_command} where roll_no = {rn}'\n",
    "cursor.execute(update_command)\n",
    "connection.commit()\n",
    "\n",
    "rec_affected = cursor.rowcount\n",
    "print(f'\\n{rec_affected} records affected !!\\n\\n')\n",
    "\n",
    "cursor.execute('select * from student;')\n",
    "for rec in cursor:\n",
    "    print(rec)\n"
   ]
  },
  {
   "cell_type": "markdown",
   "metadata": {},
   "source": [
    "### Selection"
   ]
  },
  {
   "cell_type": "markdown",
   "metadata": {},
   "source": [
    "##### Without Fetchall()"
   ]
  },
  {
   "cell_type": "code",
   "execution_count": 16,
   "metadata": {},
   "outputs": [
    {
     "name": "stdout",
     "output_type": "stream",
     "text": [
      "(100001, 'Arohi', 16, 'Banglore', 99)\n",
      "(100002, 'Lovely', 16, 'Gwalior', 99)\n",
      "(100003, 'Shreeji Tiwari', 16, 'Singharsi', 99)\n",
      "(100004, 'Akshita', 16, 'Gwalior', 98)\n",
      "(100005, 'Priya', 17, 'Kolkata', 96)\n",
      "(100006, 'Aarushi', 17, 'Prayagraj', 91)\n",
      "(100007, 'Akanksha', 19, 'Delhi', 92)\n",
      "(100008, 'Rachit', 16, 'Gwalior', 92)\n",
      "(100010, 'Ben', 16, 'Gwalior', 86)\n",
      "(100011, 'Ben', 16, 'Gwalior', 86)\n",
      "(100012, None, 16, '16', 86)\n",
      "(100013, None, None, None, None)\n",
      "(100014, '45', 45, '45', 45)\n",
      "\n",
      "13 records affected !!\n"
     ]
    }
   ],
   "source": [
    "import mysql.connector as mc\n",
    "# connection = mc.connect(host = 'localhost', user ='root' , password='')\n",
    "connection = mc.connect(host='localhost' , user = 'root' , password='', database= 'sql_connectivity')\n",
    "cursor = connection.cursor()\n",
    "\n",
    "cursor.execute('select * from student')\n",
    "\n",
    "for rec in cursor:\n",
    "    print(rec)\n",
    "\n",
    "rec_affected = cursor.rowcount\n",
    "print(f'\\n{rec_affected} records affected !!')"
   ]
  },
  {
   "cell_type": "markdown",
   "metadata": {},
   "source": [
    "##### Fetchall() (return list)"
   ]
  },
  {
   "cell_type": "code",
   "execution_count": 8,
   "metadata": {},
   "outputs": [
    {
     "name": "stdout",
     "output_type": "stream",
     "text": [
      "[(100001, 'Arohi', 16, 'Banglore', 99), (100002, 'Lovely', 16, 'Gwalior', 99), (100003, 'Shreeji Tiwari', 16, 'Singharsi', 99), (100004, 'Akshita', 16, 'Gwalior', 98), (100005, 'Priya', 17, 'Kolkata', 96), (100006, 'Aarushi', 17, 'Prayagraj', 91), (100007, 'Akanksha', 19, 'Delhi', 92), (100008, 'Rachit', 16, 'Gwalior', 92), (100010, 'Ben', 16, 'Gwalior', 86), (100011, 'Ben', 16, 'Gwalior', 86), (100012, None, 16, '16', 86), (100013, 'John', 17, 'New York', None), (100014, 'Albert', 45, 'Zurich', 45)]\n",
      "\n",
      "Type of res =  <class 'list'>\n",
      "\n"
     ]
    },
    {
     "ename": "InterfaceError",
     "evalue": "No result set to fetch from.",
     "output_type": "error",
     "traceback": [
      "\u001b[1;31m---------------------------------------------------------------------------\u001b[0m",
      "\u001b[1;31mInterfaceError\u001b[0m                            Traceback (most recent call last)",
      "\u001b[1;32m~\\AppData\\Local\\Temp/ipykernel_11900/847320243.py\u001b[0m in \u001b[0;36m<module>\u001b[1;34m\u001b[0m\n\u001b[0;32m     13\u001b[0m     \u001b[0mprint\u001b[0m\u001b[1;33m(\u001b[0m\u001b[0mx\u001b[0m\u001b[1;33m)\u001b[0m\u001b[1;33m\u001b[0m\u001b[1;33m\u001b[0m\u001b[0m\n\u001b[0;32m     14\u001b[0m \u001b[1;33m\u001b[0m\u001b[0m\n\u001b[1;32m---> 15\u001b[1;33m \u001b[0mres\u001b[0m \u001b[1;33m=\u001b[0m \u001b[0mcursor\u001b[0m\u001b[1;33m.\u001b[0m\u001b[0mfetchall\u001b[0m\u001b[1;33m(\u001b[0m\u001b[1;33m)\u001b[0m\u001b[1;33m\u001b[0m\u001b[1;33m\u001b[0m\u001b[0m\n\u001b[0m\u001b[0;32m     16\u001b[0m \u001b[0mprint\u001b[0m\u001b[1;33m(\u001b[0m\u001b[0mres\u001b[0m\u001b[1;33m)\u001b[0m\u001b[1;33m\u001b[0m\u001b[1;33m\u001b[0m\u001b[0m\n",
      "\u001b[1;32m~\\anaconda3\\lib\\site-packages\\mysql\\connector\\cursor.py\u001b[0m in \u001b[0;36mfetchall\u001b[1;34m(self)\u001b[0m\n\u001b[0;32m    879\u001b[0m     \u001b[1;32mdef\u001b[0m \u001b[0mfetchall\u001b[0m\u001b[1;33m(\u001b[0m\u001b[0mself\u001b[0m\u001b[1;33m)\u001b[0m\u001b[1;33m:\u001b[0m\u001b[1;33m\u001b[0m\u001b[1;33m\u001b[0m\u001b[0m\n\u001b[0;32m    880\u001b[0m         \u001b[1;32mif\u001b[0m \u001b[1;32mnot\u001b[0m \u001b[0mself\u001b[0m\u001b[1;33m.\u001b[0m\u001b[0m_have_unread_result\u001b[0m\u001b[1;33m(\u001b[0m\u001b[1;33m)\u001b[0m\u001b[1;33m:\u001b[0m\u001b[1;33m\u001b[0m\u001b[1;33m\u001b[0m\u001b[0m\n\u001b[1;32m--> 881\u001b[1;33m             \u001b[1;32mraise\u001b[0m \u001b[0merrors\u001b[0m\u001b[1;33m.\u001b[0m\u001b[0mInterfaceError\u001b[0m\u001b[1;33m(\u001b[0m\u001b[1;34m\"No result set to fetch from.\"\u001b[0m\u001b[1;33m)\u001b[0m\u001b[1;33m\u001b[0m\u001b[1;33m\u001b[0m\u001b[0m\n\u001b[0m\u001b[0;32m    882\u001b[0m         \u001b[1;33m(\u001b[0m\u001b[0mrows\u001b[0m\u001b[1;33m,\u001b[0m \u001b[0meof\u001b[0m\u001b[1;33m)\u001b[0m \u001b[1;33m=\u001b[0m \u001b[0mself\u001b[0m\u001b[1;33m.\u001b[0m\u001b[0m_connection\u001b[0m\u001b[1;33m.\u001b[0m\u001b[0mget_rows\u001b[0m\u001b[1;33m(\u001b[0m\u001b[1;33m)\u001b[0m\u001b[1;33m\u001b[0m\u001b[1;33m\u001b[0m\u001b[0m\n\u001b[0;32m    883\u001b[0m         \u001b[1;32mif\u001b[0m \u001b[0mself\u001b[0m\u001b[1;33m.\u001b[0m\u001b[0m_nextrow\u001b[0m\u001b[1;33m[\u001b[0m\u001b[1;36m0\u001b[0m\u001b[1;33m]\u001b[0m\u001b[1;33m:\u001b[0m\u001b[1;33m\u001b[0m\u001b[1;33m\u001b[0m\u001b[0m\n",
      "\u001b[1;31mInterfaceError\u001b[0m: No result set to fetch from."
     ]
    }
   ],
   "source": [
    "import mysql.connector as mc\n",
    "# connection = mc.connect(host = 'localhost', user ='root' , password='')\n",
    "connection = mc.connect(host='localhost' , user = 'root' , password='', database= 'sql_connectivity')\n",
    "cursor = connection.cursor()\n",
    "\n",
    "cursor.execute('select * from student')\n",
    "\n",
    "res = cursor.fetchall()\n",
    "print(res, end='\\n\\n')\n",
    "print('Type of res = ',type(res), end = '\\n\\n')\n",
    "\n",
    "for x in cursor:\n",
    "    print(x)\n",
    "\n",
    "res = cursor.fetchall()\n",
    "print(res)"
   ]
  },
  {
   "cell_type": "code",
   "execution_count": 4,
   "metadata": {},
   "outputs": [
    {
     "name": "stdout",
     "output_type": "stream",
     "text": [
      "(100002, 'Lovely', 16, 'Gwalior', 99)\n",
      "(100004, 'Akshita', 16, 'Gwalior', 98)\n",
      "(100008, 'Rachit', 16, 'Gwalior', 92)\n",
      "(100010, 'Ben', 16, 'Gwalior', 86)\n",
      "(100011, 'Ben', 16, 'Gwalior', 86)\n",
      "(123098, 'Seminar', 21, 'Gwalior', 90)\n"
     ]
    }
   ],
   "source": [
    "import mysql.connector as mc\n",
    "# connection = mc.connect(host = 'localhost', user ='root' , password='')\n",
    "connection = mc.connect(host='localhost' , user = 'root' , password='', database= 'sql_connectivity')\n",
    "cursor = connection.cursor()\n",
    "\n",
    "cursor.execute('select * from student where city=\"Gwalior\"')\n",
    "res = cursor.fetchall()\n",
    "if (res):\n",
    "    for x in res:\n",
    "        print(x)\n",
    "\n",
    "else:\n",
    "    print(\"Record not found !\")\n"
   ]
  },
  {
   "cell_type": "code",
   "execution_count": 17,
   "metadata": {},
   "outputs": [
    {
     "name": "stdout",
     "output_type": "stream",
     "text": [
      "bytearray(b'Ben') bytearray(b'16')\n"
     ]
    }
   ],
   "source": [
    "import mysql.connector as mc\n",
    "# connection = mc.connect(host = 'localhost', user ='root' , password='')\n",
    "connection = mc.connect(host='localhost' , user = 'root' , password='', database= 'sql_connectivity')\n",
    "cursor = connection.cursor()\n",
    "\n",
    "cursor.execute('select name, age from student where roll_no=100011')\n",
    "res = cursor.fetchone()\n",
    "if (res):\n",
    "    name, age = res\n",
    "    print(name, age)\n",
    "\n",
    "else:\n",
    "    print(\"Record not found !\")"
   ]
  },
  {
   "cell_type": "markdown",
   "metadata": {},
   "source": [
    "##### Fetchmany()  (returns list type)"
   ]
  },
  {
   "cell_type": "code",
   "execution_count": 9,
   "metadata": {},
   "outputs": [
    {
     "name": "stdout",
     "output_type": "stream",
     "text": [
      "[(100001, 'Arohi', 16, 'Banglore', 99)]\n",
      "[(100002, 'Lovely', 16, 'Gwalior', 99)]\n",
      "[(100003, 'Shreeji Tiwari', 16, 'Singharsi', 99)]\n",
      "\n",
      "\n",
      "\n",
      "\n",
      "[(100004, 'Akshita', 16, 'Gwalior', 98), (100005, 'Priya', 17, 'Kolkata', 96)]\n",
      "\n",
      "Type of res :  <class 'list'>\n",
      "\n",
      "\n",
      "(100006, 'Aarushi', 17, 'Prayagraj', 91)\n",
      "(100007, 'Akanksha', 19, 'Delhi', 92)\n",
      "(100008, 'Rachit', 16, 'Gwalior', 92)\n",
      "(100010, 'Ben', 16, 'Gwalior', 86)\n",
      "(100011, 'Ben', 16, 'Gwalior', 86)\n",
      "(100012, None, 16, '16', 86)\n",
      "(100013, 'John', 17, 'New York', None)\n",
      "(100014, 'Albert', 45, 'Zurich', 45)\n",
      "[]\n"
     ]
    }
   ],
   "source": [
    "import mysql.connector as mc\n",
    "connection = mc.connect(host = 'localhost', user ='root' , password='')\n",
    "connection = mc.connect(host='localhost' , user = 'root' , password='', database= 'sql_connectivity')\n",
    "cursor = connection.cursor()\n",
    "\n",
    "cursor.execute('select * from student')\n",
    "\n",
    "res = cursor.fetchmany()\n",
    "print(res)\n",
    "res = cursor.fetchmany()\n",
    "print(res)\n",
    "res = cursor.fetchmany()\n",
    "print(res)\n",
    "print('\\n\\n\\n')\n",
    "res = cursor.fetchmany(2)\n",
    "print(res)\n",
    "\n",
    "print('\\nType of res : ',type(res))\n",
    "\n",
    "print('\\n')\n",
    "for x in cursor:\n",
    "    print(x)\n",
    "\n",
    "res = cursor.fetchmany()\n",
    "print(res)"
   ]
  },
  {
   "cell_type": "markdown",
   "metadata": {},
   "source": [
    "##### Fetchone()  (returns Tuple type)"
   ]
  },
  {
   "cell_type": "code",
   "execution_count": 10,
   "metadata": {},
   "outputs": [
    {
     "name": "stdout",
     "output_type": "stream",
     "text": [
      "(100001, 'Arohi', 16, 'Banglore', 99)\n",
      "(100002, 'Lovely', 16, 'Gwalior', 99)\n",
      "(100003, 'Shreeji Tiwari', 16, 'Singharsi', 99)\n",
      "(100004, 'Akshita', 16, 'Gwalior', 98)\n",
      "\n",
      "Type of res :  <class 'tuple'>\n",
      "\n",
      "\n",
      "(100005, 'Priya', 17, 'Kolkata', 96)\n",
      "(100006, 'Aarushi', 17, 'Prayagraj', 91)\n",
      "(100007, 'Akanksha', 19, 'Delhi', 92)\n",
      "(100008, 'Rachit', 16, 'Gwalior', 92)\n",
      "(100010, 'Ben', 16, 'Gwalior', 86)\n",
      "(100011, 'Ben', 16, 'Gwalior', 86)\n",
      "(100012, None, 16, '16', 86)\n",
      "(100013, 'John', 17, 'New York', None)\n",
      "(100014, 'Albert', 45, 'Zurich', 45)\n",
      "None\n"
     ]
    }
   ],
   "source": [
    "import mysql.connector as mc\n",
    "connection = mc.connect(host = 'localhost', user ='root' , password='')\n",
    "connection = mc.connect(host='localhost' , user = 'root' , password='', database= 'sql_connectivity')\n",
    "cursor = connection.cursor()\n",
    "\n",
    "cursor.execute('select * from student')\n",
    "\n",
    "res = cursor.fetchone()\n",
    "print(res)\n",
    "res = cursor.fetchone()\n",
    "print(res)\n",
    "res = cursor.fetchone()\n",
    "print(res)\n",
    "res = cursor.fetchone()\n",
    "print(res)\n",
    "\n",
    "print('\\nType of res : ',type(res))\n",
    "\n",
    "print('\\n')\n",
    "for x in cursor:\n",
    "    print(x)\n",
    "\n",
    "res = cursor.fetchone()\n",
    "print(res)"
   ]
  },
  {
   "cell_type": "markdown",
   "metadata": {},
   "source": [
    "### Selecting only names"
   ]
  },
  {
   "cell_type": "code",
   "execution_count": 37,
   "metadata": {},
   "outputs": [
    {
     "name": "stdout",
     "output_type": "stream",
     "text": [
      "('Arohi',)\n",
      "('Lovely',)\n",
      "('Shreeji Tiwari',)\n",
      "('Akshita',)\n",
      "('Priya',)\n",
      "('Aarushi',)\n",
      "('Akanksha',)\n",
      "('Rachit',)\n",
      "('Ben',)\n",
      "('Ben',)\n",
      "(None,)\n",
      "(None,)\n",
      "('45',)\n",
      "['Arohi', 'Lovely', 'Shreeji Tiwari', 'Akshita', 'Priya', 'Aarushi', 'Akanksha', 'Rachit', 'Ben', 'Ben', None, None, '45']\n"
     ]
    }
   ],
   "source": [
    "import mysql.connector as mc\n",
    "connection = mc.connect(host='localhost' , user = 'root' , password='', database= 'sql_connectivity')\n",
    "cursor = connection.cursor()\n",
    "\n",
    "cursor.execute('select name from student')\n",
    "name_list = []\n",
    "for rec in cursor:\n",
    "    print(rec)\n",
    "    name_list.append(rec[0])\n",
    "\n",
    "print(name_list)\n",
    "\n",
    "\n",
    "\n"
   ]
  },
  {
   "cell_type": "code",
   "execution_count": null,
   "metadata": {},
   "outputs": [],
   "source": []
  },
  {
   "cell_type": "code",
   "execution_count": null,
   "metadata": {},
   "outputs": [],
   "source": []
  }
 ],
 "metadata": {
  "interpreter": {
   "hash": "5d2f62ab5654bdb13e391a8277148968ca32f47c10665034a10658c5fa01a50f"
  },
  "kernelspec": {
   "display_name": "Python 3.8.8 64-bit ('base': conda)",
   "name": "python3"
  },
  "language_info": {
   "codemirror_mode": {
    "name": "ipython",
    "version": 3
   },
   "file_extension": ".py",
   "mimetype": "text/x-python",
   "name": "python",
   "nbconvert_exporter": "python",
   "pygments_lexer": "ipython3",
   "version": "3.9.7"
  },
  "orig_nbformat": 4
 },
 "nbformat": 4,
 "nbformat_minor": 2
}
