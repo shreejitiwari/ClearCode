{
 "cells": [
  {
   "cell_type": "markdown",
   "metadata": {},
   "source": [
    "# Term 1 Practical file"
   ]
  },
  {
   "cell_type": "markdown",
   "metadata": {},
   "source": [
    "## 1. WAP to calculate x^n using functions."
   ]
  },
  {
   "cell_type": "code",
   "execution_count": 2,
   "metadata": {},
   "outputs": [
    {
     "name": "stdout",
     "output_type": "stream",
     "text": [
      "5^-1 = 0.2\n"
     ]
    }
   ],
   "source": [
    "def power(base,pwr):\n",
    "    if pwr == 0:\n",
    "        return 1\n",
    "\n",
    "    if pwr>0:\n",
    "        if pwr == 1:\n",
    "            return base\n",
    "\n",
    "        else:\n",
    "            pwr = pwr-1\n",
    "            return base*power(base,pwr)\n",
    "\n",
    "    elif pwr<0:\n",
    "        if pwr == -1:\n",
    "            return 1/base\n",
    "\n",
    "        else:\n",
    "            pwr = pwr+1\n",
    "            return (1/base)*power(base,pwr)   \n",
    "\n",
    "# power(2,-3)\n",
    "\n",
    "#_main_\n",
    "\n",
    "b = eval(input('Enter base : '))\n",
    "p = int(input('Enter power : '))\n",
    "\n",
    "result = power(b,p)\n",
    "print(f'{b}^{p} = {result}')"
   ]
  },
  {
   "cell_type": "markdown",
   "metadata": {},
   "source": [
    "## 2. WAP menu driven program to calculate area of circle, area of rectangle and area of triangle (separate functions for each option)."
   ]
  },
  {
   "cell_type": "code",
   "execution_count": 2,
   "metadata": {},
   "outputs": [
    {
     "name": "stdout",
     "output_type": "stream",
     "text": [
      "\n",
      "This is a AREA CALCULATOR program\n",
      "You have following choices :\n",
      "1) Area of Circle\n",
      "2) Area of Rectangle\n",
      "3) Area of Triangle\n",
      "4) Exit\n",
      "\n",
      "\n",
      "Enter your choice (1 , 2 , 3 or 4) : 45\n",
      "Invalid Choice !!\n",
      "Re-enter your choice \n",
      "\n",
      "\n",
      "\n",
      "1) Area of Circle\n",
      "2) Area of Rectangle\n",
      "3) Area of Triangle\n",
      "4) Exit\n",
      "\n",
      "\n",
      "Enter your choice (1 , 2 , 3 or 4) : 4\n",
      "Ending the program !\n"
     ]
    }
   ],
   "source": [
    "def ar_circle():\n",
    "    radius = float(input('Enter radius of circle : '))\n",
    "    return f'Area of Circle = {3.14*radius**2}'\n",
    "\n",
    "def ar_rectangle():\n",
    "    length = float(input('Enter length of rectangle : '))\n",
    "    breadth = float(input('Enter breadth of rectangle : '))\n",
    "    return f'Area of Rectangle = {length*breadth}'\n",
    "\n",
    "def ar_triangle():\n",
    "    base = float(input('Enter base of triangle : '))\n",
    "    height = float(input('Enter height of triangle : ')) \n",
    "    return f'Area of Triangle = {0.5*base*height}'\n",
    "\n",
    "\n",
    "\n",
    "functions = {1 : 'ar_circle()' , 2 : 'ar_rectangle()' , 3 : 'ar_triangle()'}\n",
    "choices = {1 : 'Area of Circle' , 2 : 'Area of Rectangle' , 3 : 'Area of Triangle' , 4 : 'Exit'}\n",
    "\n",
    "\n",
    "print('\\nThis is a AREA CALCULATOR program\\nYou have following choices :')\n",
    "\n",
    "while True:\n",
    "    for choice in choices:\n",
    "        print(choice , choices[choice] , sep=') ')\n",
    "\n",
    "    user_choice = eval(input('\\n\\nEnter your choice (1 , 2 , 3 or 4) : '))\n",
    "\n",
    "    if user_choice in functions:\n",
    "        result = eval(functions[user_choice])\n",
    "        print(f'\\n{result}')\n",
    "\n",
    "    elif user_choice == 4:\n",
    "        print('Ending the program !')\n",
    "        break\n",
    "\n",
    "    else:\n",
    "        print('Invalid Choice !!\\nRe-enter your choice ')\n",
    "\n",
    "    print('\\n\\n')"
   ]
  },
  {
   "cell_type": "markdown",
   "metadata": {},
   "source": [
    "## 3. WAP to find average of numeric list using functions."
   ]
  },
  {
   "cell_type": "code",
   "execution_count": 5,
   "metadata": {},
   "outputs": [
    {
     "name": "stdout",
     "output_type": "stream",
     "text": [
      "Average of list = 2.0\n"
     ]
    }
   ],
   "source": [
    "def list_average(lst:list):\n",
    "    return sum(lst)/len(lst)\n",
    "\n",
    "l = list(eval(input('Enter a list of numbers')))\n",
    "avg = list_average(l)\n",
    "print(f'Average of list = {avg}')"
   ]
  },
  {
   "cell_type": "markdown",
   "metadata": {},
   "source": [
    "## 4. WAP menu program to find largest and smallest number in a numeric list using functions"
   ]
  },
  {
   "cell_type": "code",
   "execution_count": 3,
   "metadata": {},
   "outputs": [
    {
     "name": "stdout",
     "output_type": "stream",
     "text": [
      "This is a program to tell smallest and greatest number from a list of numbers.\n",
      "\n",
      "\n",
      "    Enter your choice\n",
      "        1) Smallest number\n",
      "        2) Largest number\n",
      "        3) Exit\n",
      "    \n",
      "\n",
      "    Enter your choice\n",
      "        1) Smallest number\n",
      "        2) Largest number\n",
      "        3) Exit\n",
      "    \n",
      "Ending the program !!\n"
     ]
    }
   ],
   "source": [
    "def largest_num():\n",
    "    lst = list(eval(input('Enter a list of numbers  : ')))\n",
    "    maxm = lst[0]\n",
    "    \n",
    "    for num in lst:\n",
    "        if maxm < num:\n",
    "            maxm = num\n",
    "\n",
    "    print(f'Largest number in the given list : {maxm}')\n",
    "\n",
    "\n",
    "def smallest_num():\n",
    "    lst = list(eval(input('Enter a list of numbers  : ')))\n",
    "    minm = lst[0]\n",
    "\n",
    "    for num in lst:\n",
    "        if minm > num:\n",
    "            minm = num\n",
    "    \n",
    "    print(f'Smallest number in the given list : {minm}')\n",
    "\n",
    "\n",
    "#_main_\n",
    "print('This is a program to tell smallest and greatest number from a list of numbers.\\n')\n",
    "\n",
    "while True:\n",
    "    print('''\n",
    "    Enter your choice\n",
    "        1) Smallest number\n",
    "        2) Largest number\n",
    "        3) Exit\n",
    "    ''')\n",
    "\n",
    "    choice = input('Choice : ').lower()\n",
    "\n",
    "    if choice in '1) smallest number':\n",
    "        smallest_num()\n",
    "    elif choice in '2) largest number':\n",
    "        largest_num()\n",
    "    elif choice in '3) exit':\n",
    "        print('Ending the program !!')\n",
    "        break\n",
    "    else:\n",
    "        print('Invalid choice !!')\n",
    "        \n",
    "\n",
    "\n"
   ]
  },
  {
   "cell_type": "markdown",
   "metadata": {},
   "source": [
    "## 5. WAP to take two integers and return the number with smallest digit at unit place of the Integer."
   ]
  },
  {
   "cell_type": "code",
   "execution_count": 11,
   "metadata": {},
   "outputs": [
    {
     "name": "stdout",
     "output_type": "stream",
     "text": [
      "Integer with smallest digit at unit place : 30\n"
     ]
    }
   ],
   "source": [
    "def smallest_unit_place(x:int , y:int):\n",
    "    x = str(x)\n",
    "    y = str(y)\n",
    "\n",
    "    if x[-1]>y[-1]:\n",
    "        return f'Integer with smallest digit at unit place : {int(y)}'\n",
    "\n",
    "    elif x[-1]<y[-1]:\n",
    "        return f'Integer with smallest digit at unit place : {int(x)}'\n",
    "\n",
    "    elif x[-1] == y[-1]:\n",
    "        return f'Both integers have equal digits at unit place'\n",
    "\n",
    "\n",
    "a = int(input('Enter 1st integer : '))\n",
    "b = int(input('Enter 2nd integer : '))\n",
    "\n",
    "c = smallest_unit_place(a,b)\n",
    "\n",
    "print(c)"
   ]
  },
  {
   "cell_type": "markdown",
   "metadata": {},
   "source": [
    "## 6. WAP to write student data in student_rec.txt text file and read content of student_rec.txt text file."
   ]
  },
  {
   "cell_type": "code",
   "execution_count": 6,
   "metadata": {},
   "outputs": [
    {
     "name": "stdout",
     "output_type": "stream",
     "text": [
      "This is a program to write student's records in a text file\n",
      "Enter Roll_no of student : 1\n",
      "Enter Name of student : Shreeji\n",
      "Enter Class of student : 12\n",
      "Enter Percentage of student : 98%\n",
      "\n",
      "Record Entered in the text file.\n",
      "\n",
      "Do you want to enter next record (y/n) : y\n",
      "\n",
      "\n",
      "Enter Roll_no of student : 12\n",
      "Enter Name of student : Twelfth\n",
      "Enter Class of student : 12\n",
      "Enter Percentage of student : 93%\n",
      "\n",
      "Record Entered in the text file.\n",
      "\n",
      "Do you want to enter next record (y/n) : n\n",
      "Okay ending the program.\n",
      "Thanks for using !\n"
     ]
    }
   ],
   "source": [
    "fout = open('student_data_practical_file','a+')\n",
    "\n",
    "fout.seek(0)\n",
    "fl_empt_check = fout.readlines()\n",
    "\n",
    "if len(fl_empt_check) == 0:\n",
    "    fields = 'Roll_no,Name,Class,Percentage'\n",
    "    fout.write(fields)\n",
    "    fields = fields.split(',')\n",
    "\n",
    "elif len(fl_empt_check) > 0:\n",
    "    fields = fl_empt_check[0]\n",
    "    fields = fields.strip().split(',')\n",
    "\n",
    "print(\"This is a program to write student's records in a text file\")\n",
    "\n",
    "while True:\n",
    "    rec = []\n",
    "\n",
    "    for field in fields:\n",
    "        data = input(f'Enter {field} of student : ')\n",
    "        rec.append(data)\n",
    "    \n",
    "    rec = '\\n' + ','.join(rec)\n",
    "    fout.write(rec)\n",
    "    print('\\nRecord Entered in the text file.\\n')\n",
    "    cont = input('Do you want to enter next record (y/n) : ').lower()\n",
    "    \n",
    "    if cont == 'y':\n",
    "        print('\\n')\n",
    "    elif cont == 'n':\n",
    "        fout.close()\n",
    "        print('Okay ending the program.\\nThanks for using !')\n",
    "        break\n",
    "\n",
    "\n",
    "\n",
    "\n",
    "\n",
    "\n"
   ]
  },
  {
   "cell_type": "code",
   "execution_count": 4,
   "metadata": {},
   "outputs": [
    {
     "data": {
      "text/plain": [
       "'s,h,r,e,e,j,i'"
      ]
     },
     "execution_count": 4,
     "metadata": {},
     "output_type": "execute_result"
    }
   ],
   "source": [
    "','.join(['s','h','r','e','e','j','i'])"
   ]
  },
  {
   "cell_type": "code",
   "execution_count": 7,
   "metadata": {},
   "outputs": [
    {
     "data": {
      "text/plain": [
       "['abc', 'v', 'd', 'e']"
      ]
     },
     "execution_count": 7,
     "metadata": {},
     "output_type": "execute_result"
    }
   ],
   "source": [
    "'abc,v,d,e\\n'.strip().split(',')"
   ]
  },
  {
   "cell_type": "markdown",
   "metadata": {},
   "source": [
    "## 8. WAP to read contents of text file and print lines having 5 number of words."
   ]
  },
  {
   "cell_type": "code",
   "execution_count": 5,
   "metadata": {},
   "outputs": [
    {
     "name": "stdout",
     "output_type": "stream",
     "text": [
      "Proto is an Artificial Intelligence\n",
      "\n",
      "Proto is an Artificial Intelligence \n",
      "\n",
      "We might achieve technological singularity\n",
      "\n"
     ]
    }
   ],
   "source": [
    "fin = open('shepro.txt','r')\n",
    "\n",
    "for line in fin.readlines() :\n",
    "    if len(line.split())==5:\n",
    "        print(line)\n",
    "\n",
    "fin.close()"
   ]
  },
  {
   "cell_type": "markdown",
   "metadata": {},
   "source": [
    "## 12. WAP to write student data in binary file in format of dictionary"
   ]
  },
  {
   "cell_type": "code",
   "execution_count": 2,
   "metadata": {},
   "outputs": [
    {
     "name": "stdout",
     "output_type": "stream",
     "text": [
      "This is a program to write data in std_data.dat file . \n",
      "\n",
      "\n",
      "\n",
      "\n",
      "\n",
      "\n",
      "\n",
      "\n",
      "RECORD ENTERD\n",
      "\n",
      "\n"
     ]
    }
   ],
   "source": [
    "import pickle\n",
    "fout = open('std_data.dat','ab')\n",
    "\n",
    "print('This is a program to write data in std_data.dat file . \\n\\n')\n",
    "while True:\n",
    "    rn = int(input('Roll No.  :  '))\n",
    "    nm = input('Name  : ').title()\n",
    "    prcntg = int(input('Percentage  : '))\n",
    "    \n",
    "    record = {'Roll no.' : rn , 'Name' : nm , 'Percentage' : str(prcntg) + '%'}\n",
    "    pickle.dump(record,fout)\n",
    "    \n",
    "    \n",
    "    print('\\n')\n",
    "    proceed = input('Do you wanna enter next record (y/n)  : ').lower()\n",
    "\n",
    "    if proceed in ['n' , 'no']:\n",
    "        break\n",
    "\n",
    "\n",
    "print('\\n\\nRECORD ENTERD\\n\\n')    \n",
    "fout.close()"
   ]
  },
  {
   "cell_type": "markdown",
   "metadata": {},
   "source": [
    "## 13. WAP to read student data from a binary file in which data is in dictionary format and print it in tabular form.\n"
   ]
  },
  {
   "cell_type": "code",
   "execution_count": 3,
   "metadata": {},
   "outputs": [
    {
     "name": "stdout",
     "output_type": "stream",
     "text": [
      "This is a program to read data in std_data.dat file . \n",
      "\n",
      "\n",
      "Roll no.             Name             Percentage\n",
      "   1               Abhishek              89%    \n",
      "   2                Aditya               90%    \n",
      "   3                Benin                91%    \n",
      "   4                Cowboy               72%    \n",
      "   5                Denis                94%    \n",
      "   9                Scoob                83%    \n",
      "   6                Nobita               30%    \n",
      "   7               Dekisugi              100%   \n"
     ]
    }
   ],
   "source": [
    "import pickle\n",
    "fin = open('std_data.dat','rb')\n",
    "print('This is a program to read data in std_data.dat file . \\n\\n')\n",
    "\n",
    "print(f\"{'Roll no.':^8}{'Name':^30}{'Percentage'::^10}\")\n",
    "\n",
    "while True:\n",
    "\n",
    "    try:\n",
    "        record = pickle.load(fin)\n",
    "        # print(record)\n",
    "\n",
    "        print(f\"{record['Roll no.']:^8}{record['Name']:^30}{record['Percentage']:^10}\")\n",
    "\n",
    "    except EOFError:\n",
    "        break\n",
    "\n",
    "\n",
    "fin.close()"
   ]
  },
  {
   "cell_type": "code",
   "execution_count": null,
   "metadata": {},
   "outputs": [],
   "source": []
  }
 ],
 "metadata": {
  "interpreter": {
   "hash": "5d2f62ab5654bdb13e391a8277148968ca32f47c10665034a10658c5fa01a50f"
  },
  "kernelspec": {
   "display_name": "Python 3",
   "language": "python",
   "name": "python3"
  },
  "language_info": {
   "codemirror_mode": {
    "name": "ipython",
    "version": 3
   },
   "file_extension": ".py",
   "mimetype": "text/x-python",
   "name": "python",
   "nbconvert_exporter": "python",
   "pygments_lexer": "ipython3",
   "version": "3.8.8"
  }
 },
 "nbformat": 4,
 "nbformat_minor": 2
}
