{
 "cells": [
  {
   "cell_type": "markdown",
   "metadata": {},
   "source": [
    "# File Handling Practical File\n"
   ]
  },
  {
   "cell_type": "markdown",
   "metadata": {},
   "source": [
    "## 1)  Create a file using student data\n"
   ]
  },
  {
   "cell_type": "code",
   "execution_count": null,
   "metadata": {},
   "outputs": [],
   "source": [
    "cnt = int(input('How many student\\'s record do you want to enter :  '))\n",
    "fout = open('students_rec.txt','a')\n",
    "                \n",
    "for i in range(cnt):\n",
    "    print(f'\\n\\nEnter Student {i+1} records : ')\n",
    "    rollno = int(input('Roll number  :  '))\n",
    "    name = input('Name of student  :  ')\n",
    "    marks = float(input('Marks of student  :  '))\n",
    "    \n",
    "    record = f\"{rollno} : {name} : {marks} \\n\"\n",
    "    fout.write(record)\n",
    "    \n",
    "print(f'\\nData written in {fout.name} file')\n",
    "fout.close()"
   ]
  },
  {
   "cell_type": "markdown",
   "metadata": {},
   "source": [
    "## 2) Read Content Of students_rec.txt File"
   ]
  },
  {
   "cell_type": "code",
   "execution_count": 41,
   "metadata": {},
   "outputs": [
    {
     "name": "stdout",
     "output_type": "stream",
     "text": [
      "1001 : Arsh : 30.0 \n",
      "1002 : Shreeji : 40.0 \n",
      "1003 : Lily : 29.0 \n",
      "1004 : Ferrous : 33.0 \n",
      "1004 : Ferrous : 33.0 \n",
      "1005 : Hit : 20.0 \n",
      "7 : Akshat : 40.0 \n",
      "\n"
     ]
    }
   ],
   "source": [
    "with open('students_rec.txt','r') as fin:\n",
    "    print(fin.read()) "
   ]
  },
  {
   "cell_type": "markdown",
   "metadata": {},
   "source": [
    "## 3) Read Content Of students_rec.txt file And Print Only Numbers Or Digits From"
   ]
  },
  {
   "cell_type": "code",
   "execution_count": 42,
   "metadata": {},
   "outputs": [
    {
     "name": "stdout",
     "output_type": "stream",
     "text": [
      "Digits in line 1  : 1001300\n",
      "Digits in line 2  : 1002400\n",
      "Digits in line 3  : 1003290\n",
      "Digits in line 4  : 1004330\n",
      "Digits in line 4  : 1004330\n",
      "Digits in line 6  : 1005200\n",
      "Digits in line 7  : 7400\n"
     ]
    }
   ],
   "source": [
    "fin = open('students_rec.txt','r')\n",
    "file_data = fin.readlines()\n",
    "\n",
    "for line in file_data:\n",
    "    print(f'Digits in line {file_data.index(line) + 1}  : ',end=\"\")\n",
    "    for char in line:\n",
    "        if char.isdigit():\n",
    "             print(char, end = '')\n",
    "    print('')\n",
    "    \n",
    "fin.close()"
   ]
  },
  {
   "cell_type": "markdown",
   "metadata": {},
   "source": [
    "## 4) Read content of students_rec.txt file and print searched name from file"
   ]
  },
  {
   "cell_type": "code",
   "execution_count": 43,
   "metadata": {},
   "outputs": [
    {
     "name": "stdout",
     "output_type": "stream",
     "text": [
      "7 : Akshat : 40.0 \n",
      "\n"
     ]
    }
   ],
   "source": [
    "with open('students_rec.txt','r') as fin:\n",
    "    name = input('Enter the name of the student\\'s whose record you want : ')\n",
    "    for rec in fin:\n",
    "        if name in rec:\n",
    "            print(rec)"
   ]
  },
  {
   "cell_type": "markdown",
   "metadata": {},
   "source": [
    "## 5) Read content of students_rec.txt file and print no of lines from file"
   ]
  },
  {
   "cell_type": "code",
   "execution_count": 44,
   "metadata": {},
   "outputs": [
    {
     "name": "stdout",
     "output_type": "stream",
     "text": [
      "Number of lines in students_rec.txt file : 7\n"
     ]
    }
   ],
   "source": [
    "with open('students_rec.txt','r') as fin:\n",
    "    print(f'Number of lines in students_rec.txt file : {len(fin.readlines())}')"
   ]
  },
  {
   "cell_type": "markdown",
   "metadata": {},
   "source": [
    "## 6) Read content of students_rec.txt file and print no of lines starting from 1"
   ]
  },
  {
   "cell_type": "code",
   "execution_count": 45,
   "metadata": {},
   "outputs": [
    {
     "name": "stdout",
     "output_type": "stream",
     "text": [
      "1001 : Arsh : 30.0 \n",
      "1002 : Shreeji : 40.0 \n",
      "1003 : Lily : 29.0 \n",
      "1004 : Ferrous : 33.0 \n",
      "1004 : Ferrous : 33.0 \n",
      "1005 : Hit : 20.0 \n"
     ]
    }
   ],
   "source": [
    "with open('students_rec.txt','r') as fin:\n",
    "    for rec in fin.readlines():\n",
    "        if rec[0] == '1':\n",
    "            print(rec , end='')"
   ]
  },
  {
   "cell_type": "markdown",
   "metadata": {},
   "source": [
    "## 7) Program in python to type text in a file till ~ is pressed as rightmost character"
   ]
  },
  {
   "cell_type": "code",
   "execution_count": 6,
   "metadata": {},
   "outputs": [],
   "source": [
    "fout = open('Shepro.txt' , 'a')\n",
    "\n",
    "\n",
    "while True:\n",
    "    rec = input('Enter the record you want to enter in the file (press \"~\" at the end to exit) : ').strip()\n",
    "    if rec[-1] != '~':\n",
    "        rec = rec + '\\n'\n",
    "        fout.write(rec)\n",
    "\n",
    "    elif rec[-1] == '~':\n",
    "        rec = rec[:len(rec)-1] + '\\n'\n",
    "        fout.write(rec)\n",
    "        break\n",
    "fout.close()"
   ]
  },
  {
   "cell_type": "markdown",
   "metadata": {},
   "source": [
    "## 8) Program to read the entire text file"
   ]
  },
  {
   "cell_type": "code",
   "execution_count": 7,
   "metadata": {},
   "outputs": [
    {
     "name": "stdout",
     "output_type": "stream",
     "text": [
      "Shreeji made Proto !!! \n",
      "Proto is an Artificial Intelligence\n",
      "Shreeji made Proto !!! \n",
      "Proto is an Artificial Intelligence \n",
      "We might achieve technological singularity\n",
      "You are a very thoughtful CEO Shreeji\n",
      "Happy Birthday Shreeji\n",
      "You are one man army in cs Shreeji\n",
      "Shreeji .. I Proto want to thank you for making me\n",
      "Proto you are one of my greatest projects\n",
      "Love you Proto\n",
      "Proto.. We will change this world together\n",
      "\n"
     ]
    }
   ],
   "source": [
    "with open('Shepro.txt' , 'r') as fin:\n",
    "    print(fin.read())"
   ]
  },
  {
   "cell_type": "markdown",
   "metadata": {},
   "source": [
    "## 9) Program in python to read first 2 lines from text file"
   ]
  },
  {
   "cell_type": "code",
   "execution_count": 9,
   "metadata": {},
   "outputs": [
    {
     "name": "stdout",
     "output_type": "stream",
     "text": [
      "Shreeji made Proto !!! \n",
      "Proto is an Artificial Intelligence\n"
     ]
    }
   ],
   "source": [
    "with open('Shepro.txt' , 'r') as fin:\n",
    "    for i in range(2):\n",
    "        print(fin.readline(), end = '')"
   ]
  },
  {
   "cell_type": "markdown",
   "metadata": {},
   "source": [
    "## 10) Program in python to read line by line from text file"
   ]
  },
  {
   "cell_type": "code",
   "execution_count": 13,
   "metadata": {},
   "outputs": [
    {
     "name": "stdout",
     "output_type": "stream",
     "text": [
      "Shreeji made Proto !!! \n",
      "Proto is an Artificial Intelligence\n",
      "Shreeji made Proto !!! \n",
      "Proto is an Artificial Intelligence \n",
      "We might achieve technological singularity\n",
      "You are a very thoughtful CEO Shreeji\n",
      "Happy Birthday Shreeji\n",
      "You are one man army in cs Shreeji\n",
      "Shreeji .. I Proto want to thank you for making me\n",
      "Proto you are one of my greatest projects\n",
      "Love you Proto\n",
      "Proto.. We will change this world together\n"
     ]
    }
   ],
   "source": [
    "with open('Shepro.txt', 'r') as fin:\n",
    "    line = ' '\n",
    "\n",
    "    while line:\n",
    "        line = fin.readline()\n",
    "        print(line, end='')\n",
    "\n",
    " "
   ]
  },
  {
   "cell_type": "markdown",
   "metadata": {},
   "source": [
    "## 11) Program in python to read entire file line by line in a list"
   ]
  },
  {
   "cell_type": "code",
   "execution_count": 14,
   "metadata": {},
   "outputs": [
    {
     "name": "stdout",
     "output_type": "stream",
     "text": [
      "['Shreeji made Proto !!! \\n', 'Proto is an Artificial Intelligence\\n', 'Shreeji made Proto !!! \\n', 'Proto is an Artificial Intelligence \\n', 'We might achieve technological singularity\\n', 'You are a very thoughtful CEO Shreeji\\n', 'Happy Birthday Shreeji\\n', 'You are one man army in cs Shreeji\\n', 'Shreeji .. I Proto want to thank you for making me\\n', 'Proto you are one of my greatest projects\\n', 'Love you Proto\\n', 'Proto.. We will change this world together\\n']\n"
     ]
    }
   ],
   "source": [
    "with open('Shepro.txt','r') as fin:\n",
    "    lst = fin.readlines()\n",
    "    print(lst)"
   ]
  },
  {
   "cell_type": "markdown",
   "metadata": {},
   "source": [
    "## 12) Program in python to read each word separately\n"
   ]
  },
  {
   "cell_type": "code",
   "execution_count": 40,
   "metadata": {},
   "outputs": [
    {
     "name": "stdout",
     "output_type": "stream",
     "text": [
      "Shreeji made Proto !!! \n",
      "Proto is an Artificial Intelligence \n",
      "Shreeji made Proto !!! \n",
      "Proto is an Artificial Intelligence \n",
      "We might achieve technological singularity \n",
      "You are a very thoughtful CEO Shreeji \n",
      "Happy Birthday Shreeji \n",
      "You are one man army in cs Shreeji \n",
      "Shreeji .. I Proto want to thank you for making me \n",
      "Proto you are one of my greatest projects \n",
      "Love you Proto \n",
      "Proto.. We will change this world together \n"
     ]
    }
   ],
   "source": [
    "with open('Shepro.txt','r') as fin:\n",
    "    for line in fin.readlines():\n",
    "        for word in line.strip().split():\n",
    "            print(word , end = ' ')\n",
    "        print('')"
   ]
  },
  {
   "cell_type": "markdown",
   "metadata": {},
   "source": [
    "## 13) Program in python to count no. of words in a text file"
   ]
  },
  {
   "cell_type": "code",
   "execution_count": 39,
   "metadata": {},
   "outputs": [
    {
     "name": "stdout",
     "output_type": "stream",
     "text": [
      "70\n"
     ]
    }
   ],
   "source": [
    "with open('Shepro.txt','r') as fin:\n",
    "    no_of_words = 0\n",
    "\n",
    "    for line in fin.readlines():\n",
    "        for word in line.strip().split():\n",
    "            no_of_words += 1\n",
    "\n",
    "    print(no_of_words)"
   ]
  },
  {
   "cell_type": "markdown",
   "metadata": {},
   "source": [
    "## 14) Program in python to show word with maximum length from a text file"
   ]
  },
  {
   "cell_type": "markdown",
   "metadata": {},
   "source": [
    "#### Method 1"
   ]
  },
  {
   "cell_type": "code",
   "execution_count": 25,
   "metadata": {},
   "outputs": [
    {
     "name": "stdout",
     "output_type": "stream",
     "text": [
      "Longest word = technological with word length = 13\n"
     ]
    }
   ],
   "source": [
    "with open('Shepro.txt','r') as fin:\n",
    "    longest_word = ''\n",
    "    for line in fin.readlines():\n",
    "        for word in line.strip().split():\n",
    "            if len(longest_word) < len(word):\n",
    "                longest_word = word\n",
    "\n",
    "    print(f'Longest word = {longest_word} with word length = {len(longest_word)}')"
   ]
  },
  {
   "cell_type": "markdown",
   "metadata": {},
   "source": [
    "#### Method 2"
   ]
  },
  {
   "cell_type": "code",
   "execution_count": 26,
   "metadata": {},
   "outputs": [
    {
     "name": "stdout",
     "output_type": "stream",
     "text": [
      "Longest word = technological with word length = 13\n"
     ]
    }
   ],
   "source": [
    "with open('Shepro.txt','r') as fin:\n",
    "    longest_word = ''\n",
    "    for word in fin.read().split():\n",
    "        if len(longest_word) < len(word):\n",
    "            longest_word = word\n",
    "\n",
    "    print(f'Longest word = {longest_word} with word length = {len(longest_word)}')"
   ]
  },
  {
   "cell_type": "markdown",
   "metadata": {},
   "source": [
    "## 15) Program in python to display frequency of each word in a text file."
   ]
  },
  {
   "cell_type": "code",
   "execution_count": 38,
   "metadata": {},
   "outputs": [
    {
     "name": "stdout",
     "output_type": "stream",
     "text": [
      "\n",
      "Number of Distinct words in file = 46 \n",
      "\n",
      "\n",
      "Number of \"will\" in file = 1\n",
      "Number of \"world\" in file = 1\n",
      "Number of \"Intelligence\" in file = 2\n",
      "Number of \"Proto..\" in file = 1\n",
      "Number of \"..\" in file = 1\n",
      "Number of \"Proto\" in file = 7\n",
      "Number of \"!!!\" in file = 2\n",
      "Number of \"to\" in file = 1\n",
      "Number of \"made\" in file = 2\n",
      "Number of \"singularity\" in file = 1\n",
      "Number of \"Happy\" in file = 1\n",
      "Number of \"Shreeji\" in file = 6\n",
      "Number of \"CEO\" in file = 1\n",
      "Number of \"change\" in file = 1\n",
      "Number of \"Love\" in file = 1\n",
      "Number of \"thoughtful\" in file = 1\n",
      "Number of \"thank\" in file = 1\n",
      "Number of \"want\" in file = 1\n",
      "Number of \"a\" in file = 1\n",
      "Number of \"are\" in file = 3\n",
      "Number of \"man\" in file = 1\n",
      "Number of \"Artificial\" in file = 2\n",
      "Number of \"is\" in file = 2\n",
      "Number of \"might\" in file = 1\n",
      "Number of \"Birthday\" in file = 1\n",
      "Number of \"for\" in file = 1\n",
      "Number of \"you\" in file = 3\n",
      "Number of \"greatest\" in file = 1\n",
      "Number of \"technological\" in file = 1\n",
      "Number of \"very\" in file = 1\n",
      "Number of \"achieve\" in file = 1\n",
      "Number of \"cs\" in file = 1\n",
      "Number of \"this\" in file = 1\n",
      "Number of \"We\" in file = 2\n",
      "Number of \"You\" in file = 2\n",
      "Number of \"an\" in file = 2\n",
      "Number of \"together\" in file = 1\n",
      "Number of \"of\" in file = 1\n",
      "Number of \"army\" in file = 1\n",
      "Number of \"me\" in file = 1\n",
      "Number of \"projects\" in file = 1\n",
      "Number of \"I\" in file = 1\n",
      "Number of \"making\" in file = 1\n",
      "Number of \"my\" in file = 1\n",
      "Number of \"in\" in file = 1\n",
      "Number of \"one\" in file = 2\n"
     ]
    }
   ],
   "source": [
    "fin = open('Shepro.txt','r')\n",
    "file_word_data = fin.read().split()\n",
    "bag_of_words = set(file_word_data)\n",
    "print(f'\\nNumber of Distinct words in file = {len(bag_of_words)} \\n\\n')\n",
    "\n",
    "for word in bag_of_words:\n",
    "    count = 0\n",
    "    for single_word in file_word_data:\n",
    "        if word == single_word:\n",
    "            count += 1\n",
    "\n",
    "    print(f'Number of \"{word}\" in file = {count}')\n",
    "\n",
    "fin.close()\n",
    "\n"
   ]
  },
  {
   "cell_type": "markdown",
   "metadata": {},
   "source": [
    "## 16) Program in python to store list elements in a file and read these contents from file again"
   ]
  },
  {
   "cell_type": "code",
   "execution_count": 37,
   "metadata": {},
   "outputs": [
    {
     "name": "stdout",
     "output_type": "stream",
     "text": [
      "\n",
      "\n",
      "Record Enterd !\n",
      "\n",
      "Sunday\n",
      "Monday\n",
      "Tuesday\n",
      "Wednesday\n",
      "Thursday\n",
      "Friday\n",
      "Saturday\n"
     ]
    }
   ],
   "source": [
    "fin = open('list_data_store.txt' , 'w+')\n",
    "data = (input('Enter a list of data (separated by comma (,)) to be enterd in the file : ')).split(',')\n",
    "\n",
    "for i in data:\n",
    "    fin.write(i.strip()+'\\n')\n",
    "print('\\n\\nRecord Enterd !\\n')\n",
    "\n",
    "fin.seek(0)\n",
    "print(fin.read(), end = '')"
   ]
  },
  {
   "cell_type": "markdown",
   "metadata": {},
   "source": [
    "## 17) Python program to combine each line from first file with the corresponding line in second file"
   ]
  },
  {
   "cell_type": "code",
   "execution_count": 36,
   "metadata": {},
   "outputs": [
    {
     "name": "stdout",
     "output_type": "stream",
     "text": [
      "Shreeji made Proto !!! Monday\n",
      "Proto is an Artificial Intelligence Tuesday\n",
      "Shreeji made Proto !!! Monday\n",
      "Proto is an Artificial Intelligence Thursday\n",
      "We might achieve technological singularity Friday\n",
      "You are a very thoughtful CEO Shreeji Saturday\n",
      "Happy Birthday Shreeji Sunday\n"
     ]
    }
   ],
   "source": [
    "file1 = open('Shepro.txt','r')\n",
    "file2 = open('list_data_store.txt','r')\n",
    "\n",
    "data1 = file1.readlines()\n",
    "data2 = file2.readlines()\n",
    "\n",
    "try:\n",
    "    for line in data1:\n",
    "        print(line.strip() , data2[data1.index(line)].strip())\n",
    "\n",
    "except IndexError:\n",
    "    pass"
   ]
  },
  {
   "cell_type": "markdown",
   "metadata": {},
   "source": [
    "## 18) Python Program to Copy the Contents of One File into Another"
   ]
  },
  {
   "cell_type": "code",
   "execution_count": 24,
   "metadata": {},
   "outputs": [],
   "source": [
    "copy_file = open('copied_file.txt','w')\n",
    "source_file = open('Shepro.txt' , 'r')\n",
    "\n",
    "copy_file.write(source_file.read())\n",
    "\n",
    "copy_file.close()\n",
    "source_file.close()\n"
   ]
  },
  {
   "cell_type": "markdown",
   "metadata": {},
   "source": [
    "## 19) Python Program to Search for a word in text file and print part of line"
   ]
  },
  {
   "cell_type": "code",
   "execution_count": 63,
   "metadata": {},
   "outputs": [
    {
     "name": "stdout",
     "output_type": "stream",
     "text": [
      "Shreeji made Proto !!! \n",
      "Proto is an Artificial Intelligence\n",
      "Shreeji made Proto !!! \n",
      "Proto is an Artificial Intelligence \n",
      "Shreeji .. I Proto want to thank you for making me\n",
      "Proto you are one of my greatest projects\n",
      "Love you Proto\n",
      "Word does not exist in the file !!\n"
     ]
    }
   ],
   "source": [
    "with open('Shepro.txt','r') as fin:\n",
    "    word = input('Enter the word by which you want to search the record : ')\n",
    "    for line in fin.readlines():\n",
    "        if word in line.split():\n",
    "            print(line, end = '')\n",
    "    else:\n",
    "        print('Word does not exist in the file !!')\n"
   ]
  },
  {
   "cell_type": "markdown",
   "metadata": {},
   "source": [
    "## 20) Python Program to read character by character from a text file"
   ]
  },
  {
   "cell_type": "code",
   "execution_count": 3,
   "metadata": {},
   "outputs": [
    {
     "name": "stdout",
     "output_type": "stream",
     "text": [
      "Shreeji made Proto !!! \n",
      "Proto is an Artificial Intelligence\n",
      "Shreeji made Proto !!! \n",
      "Proto is an Artificial Intelligence \n",
      "We might achieve technological singularity\n",
      "You are a very thoughtful CEO Shreeji\n",
      "Happy Birthday Shreeji\n",
      "You are one man army in cs Shreeji\n",
      "Shreeji .. I Proto want to thank you for making me\n",
      "Proto you are one of my greatest projects\n",
      "Love you Proto\n",
      "Proto.. We will change this world together\n"
     ]
    }
   ],
   "source": [
    "with open('Shepro.txt','r') as fin :\n",
    "    char = ' '\n",
    "\n",
    "    while char :\n",
    "        char = fin.read(1)\n",
    "        print(char,end='')\n"
   ]
  },
  {
   "cell_type": "markdown",
   "metadata": {},
   "source": [
    "## 21) Python Program to convert file contents upper to lower and lower to upper case in the same opened file."
   ]
  },
  {
   "cell_type": "code",
   "execution_count": 35,
   "metadata": {},
   "outputs": [
    {
     "name": "stdout",
     "output_type": "stream",
     "text": [
      "File Before Swaping characters\n",
      "\n",
      "Shreeji made Proto !!! \n",
      "Proto is an Artificial Intelligence\n",
      "Shreeji made Proto !!! \n",
      "Proto is an Artificial Intelligence \n",
      "We might achieve technological singularity\n",
      "You are a very thoughtful CEO Shreeji\n",
      "Happy Birthday Shreeji\n",
      "You are one man army in cs Shreeji\n",
      "Shreeji .. I Proto want to thank you for making me\n",
      "Proto you are one of my greatest projects\n",
      "Love you Proto\n",
      "Proto.. We will change this world together\n",
      "\n",
      "\n",
      "\n",
      "\n",
      "File After Swaping characters\n",
      "\n",
      " sHREEJI MADE pROTO !!! \n",
      "pROTO IS AN aRTIFICIAL iNTELLIGENCE\n",
      "sHREEJI MADE pROTO !!! \n",
      "pROTO IS AN aRTIFICIAL iNTELLIGENCE \n",
      "wE MIGHT ACHIEVE TECHNOLOGICAL SINGULARITY\n",
      "yOU ARE A VERY THOUGHTFUL ceo sHREEJI\n",
      "hAPPY bIRTHDAY sHREEJI\n",
      "yOU ARE ONE MAN ARMY IN CS sHREEJI\n",
      "sHREEJI .. i pROTO WANT TO THANK YOU FOR MAKING ME\n",
      "pROTO YOU ARE ONE OF MY GREATEST PROJECTS\n",
      "lOVE YOU pROTO\n",
      "pROTO.. wE WILL CHANGE THIS WORLD TOGETHER\n",
      "\n"
     ]
    }
   ],
   "source": [
    "file = open('copied_file.txt','r+')\n",
    "file_data = file.read()\n",
    "print(f'File Before Swaping characters\\n\\n{file_data}')\n",
    "new_data = file_data.swapcase()\n",
    "print('\\n\\n\\nFile After Swaping characters\\n\\n',new_data)\n",
    "file.seek(0)\n",
    "file.write(new_data)\n",
    "\n",
    "file.close()\n"
   ]
  },
  {
   "cell_type": "markdown",
   "metadata": {},
   "source": [
    "## 22) Python Program to read and write in a binary file"
   ]
  },
  {
   "cell_type": "code",
   "execution_count": 46,
   "metadata": {},
   "outputs": [
    {
     "name": "stdout",
     "output_type": "stream",
     "text": [
      "This is a program to write data in std_data.dat file . \n",
      "\n",
      "\n",
      "\n",
      "\n",
      "RECORD ENTERD\n",
      "\n",
      "\n",
      "This is a program to write data in std_data.dat file . \n",
      "\n",
      "\n",
      "Roll no.             Name             Percentage\n",
      "   1               Abhishek              89%    \n",
      "   2                Aditya               90%    \n",
      "   3                Benin                91%    \n",
      "   4                Cowboy               72%    \n",
      "   5                Denis                94%    \n",
      "   9                Scoob                83%    \n"
     ]
    }
   ],
   "source": [
    "import pickle\n",
    "fout = open('std_data.dat','ab')\n",
    "\n",
    "print('This is a program to write data in std_data.dat file . \\n\\n')\n",
    "while True:\n",
    "    rn = int(input('Roll No.  :  '))\n",
    "    nm = input('Name  : ').title()\n",
    "    prcntg = int(input('Percentage  : '))\n",
    "    \n",
    "    record = {'Roll no.' : rn , 'Name' : nm , 'Percentage' : str(prcntg) + '%'}\n",
    "    pickle.dump(record,fout)\n",
    "    \n",
    "    \n",
    "\n",
    "    proceed = input('Do you wanna enter next record (y/n)  : ').lower()\n",
    "\n",
    "    if proceed in ['n' , 'no']:\n",
    "        break\n",
    "\n",
    "\n",
    "print('\\n\\nRECORD ENTERD\\n\\n')    \n",
    "fout.close()\n",
    "\n",
    "\n",
    "\n",
    "\n",
    "\n",
    "fin = open('std_data.dat','rb')\n",
    "print('Data Written in the file . \\n\\n')\n",
    "\n",
    "print(f\"{'Roll no.':^8}{'Name':^30}{'Percentage'::^10}\")\n",
    "\n",
    "while True:\n",
    "\n",
    "    try:\n",
    "        record = pickle.load(fin)\n",
    "        # print(record)\n",
    "\n",
    "        print(f\"{record['Roll no.']:^8}{record['Name']:^30}{record['Percentage']:^10}\")\n",
    "\n",
    "    except EOFError:\n",
    "        break\n",
    "\n",
    "\n",
    "fin.close()"
   ]
  },
  {
   "cell_type": "code",
   "execution_count": null,
   "metadata": {},
   "outputs": [],
   "source": []
  }
 ],
 "metadata": {
  "interpreter": {
   "hash": "5d2f62ab5654bdb13e391a8277148968ca32f47c10665034a10658c5fa01a50f"
  },
  "kernelspec": {
   "display_name": "Python 3 (ipykernel)",
   "language": "python",
   "name": "python3"
  },
  "language_info": {
   "codemirror_mode": {
    "name": "ipython",
    "version": 3
   },
   "file_extension": ".py",
   "mimetype": "text/x-python",
   "name": "python",
   "nbconvert_exporter": "python",
   "pygments_lexer": "ipython3",
   "version": "3.9.7"
  }
 },
 "nbformat": 4,
 "nbformat_minor": 2
}
