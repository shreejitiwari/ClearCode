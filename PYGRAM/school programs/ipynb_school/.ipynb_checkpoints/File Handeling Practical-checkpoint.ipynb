{
 "cells": [
  {
   "cell_type": "markdown",
   "id": "8a7e7369",
   "metadata": {},
   "source": [
    "# File Handeling"
   ]
  },
  {
   "cell_type": "markdown",
   "id": "85ca6cdd",
   "metadata": {},
   "source": [
    "# 17 August 2021"
   ]
  },
  {
   "cell_type": "markdown",
   "id": "d8157015",
   "metadata": {},
   "source": [
    "## 1. Shepro.txt"
   ]
  },
  {
   "cell_type": "markdown",
   "id": "bf46862d",
   "metadata": {},
   "source": [
    "### 1.1 Create a file"
   ]
  },
  {
   "cell_type": "code",
   "execution_count": 5,
   "id": "d2226300",
   "metadata": {},
   "outputs": [],
   "source": [
    "fout = open('Shepro.txt','w')\n",
    "fout.write('Shreeji made Proto !!! \\n')\n",
    "fout.write('Proto is an Artificial Intelligence\\n')\n",
    "fout.close()"
   ]
  },
  {
   "cell_type": "markdown",
   "id": "6a26fd17",
   "metadata": {},
   "source": [
    "### 1.2 Append a file"
   ]
  },
  {
   "cell_type": "code",
   "execution_count": 6,
   "id": "199daa8a",
   "metadata": {},
   "outputs": [],
   "source": [
    "fout = open('Shepro.txt','a')\n",
    "fout.write('Shreeji made Proto !!! \\n')\n",
    "fout.write('Proto is an Artificial Intelligence ')\n",
    "fout.close()"
   ]
  },
  {
   "cell_type": "markdown",
   "id": "e238fb32",
   "metadata": {},
   "source": [
    "## 2. students_rec.txt file"
   ]
  },
  {
   "cell_type": "markdown",
   "id": "e3dd6f7b",
   "metadata": {},
   "source": [
    "### Q1) Create a file using student data "
   ]
  },
  {
   "cell_type": "code",
   "execution_count": 9,
   "id": "e670a93d",
   "metadata": {},
   "outputs": [
    {
     "name": "stdout",
     "output_type": "stream",
     "text": [
      "How many student's record do you want to enter :  2\n",
      "\n",
      "\n",
      "Enter Student 1 records : \n",
      "Roll number  :  1004\n",
      "Name of student  :  Ferrous\n",
      "Marks of student  :  33\n",
      "\n",
      "\n",
      "Enter Student 2 records : \n",
      "Roll number  :  1005\n",
      "Name of student  :  Hit\n",
      "Marks of student  :  20\n",
      "\n",
      "Data written in students_rec file\n"
     ]
    }
   ],
   "source": [
    "cnt = int(input('How many student\\'s record do you want to enter :  '))\n",
    "fout = open('students_rec','a')\n",
    "                \n",
    "for i in range(cnt):\n",
    "    print(f'\\n\\nEnter Student {i+1} records : ')\n",
    "    rollno = int(input('Roll number  :  '))\n",
    "    name = input('Name of student  :  ')\n",
    "    marks = float(input('Marks of student  :  '))\n",
    "    \n",
    "    record = f\"{rollno} : {name} : {marks} \\n\"\n",
    "    fout.write(record)\n",
    "    \n",
    "print(f'\\nData written in {fout.name} file')\n",
    "fout.close()"
   ]
  },
  {
   "cell_type": "markdown",
   "id": "48df4dad",
   "metadata": {},
   "source": [
    "### Q2) Read Contents of students_rec.txt"
   ]
  },
  {
   "cell_type": "code",
   "execution_count": 61,
   "id": "f4cb826c",
   "metadata": {},
   "outputs": [],
   "source": [
    "fin = open('students_rec.txt','r')"
   ]
  },
  {
   "cell_type": "markdown",
   "id": "8a457e39",
   "metadata": {},
   "source": [
    "#### Method 1"
   ]
  },
  {
   "cell_type": "code",
   "execution_count": 62,
   "id": "aac1d37e",
   "metadata": {},
   "outputs": [
    {
     "name": "stdout",
     "output_type": "stream",
     "text": [
      "1001 : Arsh : 30.0 \n",
      "\n",
      "1002 : Shreeji : 40.0 \n",
      "\n",
      "1003 : Lily : 29.0 \n",
      "\n",
      "1004 : Ferrous : 33.0 \n",
      "\n",
      "1004 : Ferrous : 33.0 \n",
      "\n",
      "1005 : Hit : 20.0 \n",
      "\n"
     ]
    }
   ],
   "source": [
    "for line in fin:\n",
    "    print(line)"
   ]
  },
  {
   "cell_type": "markdown",
   "id": "a18b6928",
   "metadata": {},
   "source": [
    "#### Method 2"
   ]
  },
  {
   "cell_type": "code",
   "execution_count": 63,
   "id": "59c52c3a",
   "metadata": {},
   "outputs": [
    {
     "name": "stdout",
     "output_type": "stream",
     "text": [
      "1001 : Arsh : 30.0 \n",
      "1002 : Shreeji : 40.0 \n",
      "1003 : Lily : 29.0 \n",
      "1004 : Ferrous : 33.0 \n",
      "1004 : Ferrous : 33.0 \n",
      "1005 : Hit : 20.0 \n",
      "\n"
     ]
    }
   ],
   "source": [
    "fin.seek(0,0)\n",
    "data = fin.read()\n",
    "print(data)"
   ]
  },
  {
   "cell_type": "markdown",
   "id": "7852b0ee",
   "metadata": {},
   "source": [
    "#### Method 3"
   ]
  },
  {
   "cell_type": "code",
   "execution_count": 64,
   "id": "1abc3fe3",
   "metadata": {},
   "outputs": [
    {
     "name": "stdout",
     "output_type": "stream",
     "text": [
      "1001 : Arsh : 30.0\n",
      "1002 : Shreeji : 40.0\n",
      "1003 : Lily : 29.0\n",
      "1004 : Ferrous : 33.0\n",
      "1004 : Ferrous : 33.0\n",
      "1005 : Hit : 20.0\n"
     ]
    }
   ],
   "source": [
    "fin.seek(0,0)\n",
    "tpl = fin.readlines()\n",
    "\n",
    "for i in tpl:\n",
    "    print(i.strip())"
   ]
  },
  {
   "cell_type": "markdown",
   "id": "dab8af7a",
   "metadata": {},
   "source": [
    "#### Method 4 (Mam's method)"
   ]
  },
  {
   "cell_type": "code",
   "execution_count": 22,
   "id": "d8766812",
   "metadata": {},
   "outputs": [
    {
     "name": "stdout",
     "output_type": "stream",
     "text": [
      "1001 : Arsh : 30.0\n",
      "1002 : Shreeji : 40.0\n",
      "1003 : Lily : 29.0\n",
      "1004 : Ferrous : 33.0\n",
      "1004 : Ferrous : 33.0\n",
      "1005 : Hit : 20.0\n",
      "\n"
     ]
    }
   ],
   "source": [
    "fin.seek(0,0)\n",
    "s = ' '\n",
    "\n",
    "while s:\n",
    "    s = fin.readline().strip()\n",
    "    print(s)\n",
    "\n",
    "fin.close()"
   ]
  },
  {
   "cell_type": "markdown",
   "id": "e16961eb",
   "metadata": {},
   "source": [
    "### Q3) Read contents of student_rec.txt file and print only numbers or digits"
   ]
  },
  {
   "cell_type": "markdown",
   "id": "f48fc8dc",
   "metadata": {},
   "source": [
    "#### Method 1"
   ]
  },
  {
   "cell_type": "code",
   "execution_count": 18,
   "id": "09cfe488",
   "metadata": {},
   "outputs": [
    {
     "name": "stdout",
     "output_type": "stream",
     "text": [
      "Digits in students_rec.txt  : \n",
      "\n",
      "100130010024001003290100433010043301005200"
     ]
    }
   ],
   "source": [
    "fin = open('students_rec.txt','r')\n",
    "file_data = fin.read()\n",
    "\n",
    "print('Digits in students_rec.txt  : \\n')\n",
    "for char in file_data:\n",
    "    if char.isdigit() :\n",
    "        print(char,end='')\n",
    "        \n",
    "fin.close()"
   ]
  },
  {
   "cell_type": "markdown",
   "id": "5041822f",
   "metadata": {},
   "source": [
    "#### Method 2"
   ]
  },
  {
   "cell_type": "code",
   "execution_count": 19,
   "id": "aede1c6f",
   "metadata": {
    "scrolled": true
   },
   "outputs": [
    {
     "name": "stdout",
     "output_type": "stream",
     "text": [
      "Digits in line 1  : 1001300\n",
      "Digits in line 2  : 1002400\n",
      "Digits in line 3  : 1003290\n",
      "Digits in line 4  : 1004330\n",
      "Digits in line 4  : 1004330\n",
      "Digits in line 6  : 1005200\n"
     ]
    }
   ],
   "source": [
    "fin = open('students_rec.txt','r')\n",
    "file_data = fin.readlines()\n",
    "\n",
    "for line in file_data:\n",
    "    print(f'Digits in line {file_data.index(line) + 1}  : ',end=\"\")\n",
    "    for char in line:\n",
    "        if char.isdigit():\n",
    "             print(char, end = '')\n",
    "    print('')\n",
    "    \n",
    "fin.close()"
   ]
  },
  {
   "cell_type": "markdown",
   "id": "11d403b2",
   "metadata": {},
   "source": [
    "#### Method 3"
   ]
  },
  {
   "cell_type": "code",
   "execution_count": 24,
   "id": "dbeddd46",
   "metadata": {},
   "outputs": [
    {
     "name": "stdout",
     "output_type": "stream",
     "text": [
      "Digits in line 1  : 1001300\n",
      "Digits in line 2  : 1002400\n",
      "Digits in line 3  : 1003290\n",
      "Digits in line 4  : 1004330\n",
      "Digits in line 5  : 1004330\n",
      "Digits in line 6  : 1005200\n"
     ]
    }
   ],
   "source": [
    "fin = open('students_rec.txt','r')\n",
    "line = fin.readline()\n",
    "line_no = 0\n",
    "\n",
    "while line:\n",
    "    line_no += 1\n",
    "    print(f'Digits in line {line_no}  : ', end = '')\n",
    "\n",
    "    for char in line:\n",
    "        if char.isdigit():\n",
    "            print(char, end = '')\n",
    "    \n",
    "    print('')        \n",
    "    line = fin.readline()\n",
    "    \n",
    "fin.close()"
   ]
  },
  {
   "cell_type": "markdown",
   "id": "401cffc2",
   "metadata": {},
   "source": [
    "#### Method 4 (Mam's method)"
   ]
  },
  {
   "cell_type": "code",
   "execution_count": 31,
   "id": "947aaf42",
   "metadata": {},
   "outputs": [
    {
     "name": "stdout",
     "output_type": "stream",
     "text": [
      "Digits in line 1  : 1001\n",
      "Digits in line 2  : 1002\n",
      "Digits in line 3  : 1003\n",
      "Digits in line 4  : 1004\n",
      "Digits in line 5  : 1004\n",
      "Digits in line 6  : 1005\n"
     ]
    }
   ],
   "source": [
    "fin = open('students_rec.txt' , 'r')\n",
    "c=0\n",
    "\n",
    "for line in fin:\n",
    "    c = c + 1\n",
    "    print(f'Digits in line {c}  : ' , end = '')\n",
    "    words = line.split()\n",
    "    for i in words:\n",
    "        if i.isdigit():\n",
    "            print(i)"
   ]
  },
  {
   "cell_type": "markdown",
   "id": "a3efa574",
   "metadata": {},
   "source": [
    "### Q4) Read contents of shepro.txt file and print lines having 5 number of words"
   ]
  },
  {
   "cell_type": "markdown",
   "id": "87d19106",
   "metadata": {},
   "source": [
    "#### Method 1"
   ]
  },
  {
   "cell_type": "code",
   "execution_count": null,
   "id": "a757fac3",
   "metadata": {},
   "outputs": [
    {
     "name": "stdout",
     "output_type": "stream",
     "text": [
      "Proto is an Artificial Intelligence\n",
      "Proto is an Artificial Intelligence \n",
      "We might achieve technological singularity"
     ]
    }
   ],
   "source": [
    "fin = open('shepro.txt','r')\n",
    "\n",
    "while True:\n",
    "    line = fin.readline()\n",
    "    cnt = 0\n",
    "    \n",
    "    for word in line.split() :\n",
    "        cnt += 1\n",
    "    \n",
    "    if cnt == 5:\n",
    "        print(line,end = '')\n",
    "        \n",
    "fin.close()"
   ]
  },
  {
   "cell_type": "markdown",
   "id": "25882f6c",
   "metadata": {},
   "source": [
    "#### Method 2"
   ]
  },
  {
   "cell_type": "code",
   "execution_count": 1,
   "id": "0dd9f62a",
   "metadata": {},
   "outputs": [
    {
     "name": "stdout",
     "output_type": "stream",
     "text": [
      "Proto is an Artificial Intelligence\n",
      "Proto is an Artificial Intelligence \n",
      "We might achieve technological singularity"
     ]
    }
   ],
   "source": [
    "fin =  open('shepro.txt','r')\n",
    "\n",
    "lines = fin.readlines()\n",
    "\n",
    "for line in lines:\n",
    "    if len(line.strip().split()) == 5:\n",
    "        print(line,end = '')\n",
    "        \n",
    "fin.close()"
   ]
  },
  {
   "cell_type": "markdown",
   "id": "283e5a3f",
   "metadata": {},
   "source": [
    "## Q5) Program to find size of shepro.txt"
   ]
  },
  {
   "cell_type": "code",
   "execution_count": 32,
   "id": "1c5e43b7",
   "metadata": {},
   "outputs": [
    {
     "name": "stdout",
     "output_type": "stream",
     "text": [
      "Size of shepro.txt = 163\n"
     ]
    }
   ],
   "source": [
    "fin = open('shepro.txt','r')\n",
    "\n",
    "file_data = fin.read()\n",
    "size = len(file_data)\n",
    "print(f'Size of shepro.txt = {size}')\n",
    "\n",
    "fin.close()"
   ]
  },
  {
   "cell_type": "markdown",
   "id": "e219721b",
   "metadata": {},
   "source": [
    "## Q6) Program to count number of lines in a file"
   ]
  },
  {
   "cell_type": "code",
   "execution_count": 30,
   "id": "b98e6cc0",
   "metadata": {},
   "outputs": [
    {
     "name": "stdout",
     "output_type": "stream",
     "text": [
      "Number of lines(written) in students_rec.txt  :  6\n"
     ]
    }
   ],
   "source": [
    "fin = open('students_rec.txt','r')\n",
    "number_of_lines = len(fin.readlines())\n",
    "print(f'Number of lines(written) in students_rec.txt  :  {number_of_lines}')\n",
    "fin.close()"
   ]
  },
  {
   "cell_type": "code",
   "execution_count": 29,
   "id": "097af8dc",
   "metadata": {},
   "outputs": [
    {
     "name": "stdout",
     "output_type": "stream",
     "text": [
      "Total number of lines in students_rec.txt  :  7\n"
     ]
    }
   ],
   "source": [
    "fin = open('students_rec.txt','r')\n",
    "\n",
    "data = fin.read()\n",
    "lines = data.split('\\n')\n",
    "line_no = len(lines)\n",
    "print(f'Total number of lines in students_rec.txt  :  {line_no}')\n",
    "\n",
    "fin.close()"
   ]
  },
  {
   "cell_type": "markdown",
   "id": "e5a1816b",
   "metadata": {},
   "source": [
    "# 19 August 2021"
   ]
  },
  {
   "cell_type": "markdown",
   "id": "95ddb52c",
   "metadata": {},
   "source": [
    "## Q1) Program to find number of times a character occur in file"
   ]
  },
  {
   "cell_type": "markdown",
   "id": "7304cf34",
   "metadata": {},
   "source": [
    "### Case Sensitive"
   ]
  },
  {
   "cell_type": "markdown",
   "id": "d7cba43e",
   "metadata": {},
   "source": [
    "#### Method 1"
   ]
  },
  {
   "cell_type": "code",
   "execution_count": 1,
   "id": "0f354a74",
   "metadata": {},
   "outputs": [
    {
     "name": "stdout",
     "output_type": "stream",
     "text": [
      "Enter the character whose frequency you want to find (case sensitive)  :   \n",
      "Frequency of   in file  :  21\n"
     ]
    }
   ],
   "source": [
    "fin = open('shepro.txt','r')\n",
    "char = input('Enter the character whose frequency you want to find (case sensitive)  :  ')\n",
    "\n",
    "data = fin.read()\n",
    "idx = 0\n",
    "count = 0\n",
    "\n",
    "for i in data:\n",
    "    \n",
    "    if char in data[idx : len(data)] :\n",
    "        idx += data[idx : len(data)].find(char) + len(char)\n",
    "        count += 1\n",
    "    \n",
    "    else:\n",
    "        break\n",
    "                \n",
    "\n",
    "print(f'Frequency of {char} in file  :  {count}')\n"
   ]
  },
  {
   "cell_type": "markdown",
   "id": "0134f9cf",
   "metadata": {},
   "source": [
    "#### Method 2"
   ]
  },
  {
   "cell_type": "code",
   "execution_count": 2,
   "id": "26e34059",
   "metadata": {},
   "outputs": [
    {
     "name": "stdout",
     "output_type": "stream",
     "text": [
      "Enter the character whose frequency you want to find (case sensitive)  :   \n",
      "Frequency of   in file  :  21\n"
     ]
    }
   ],
   "source": [
    "fin = open('shepro.txt','r')\n",
    "char = input('Enter the character whose frequency you want to find (case sensitive)  :  ')\n",
    "\n",
    "data = fin.read()\n",
    "        \n",
    "print(f'Frequency of {char} in file  :  {data.count(char)}')\n",
    "\n",
    "fin.close()"
   ]
  },
  {
   "cell_type": "markdown",
   "id": "58483350",
   "metadata": {},
   "source": [
    "#### Method 3"
   ]
  },
  {
   "cell_type": "code",
   "execution_count": 3,
   "id": "e1c14523",
   "metadata": {},
   "outputs": [
    {
     "name": "stdout",
     "output_type": "stream",
     "text": [
      "Enter the character whose frequency you want to find (case sensitive)  :   \n",
      "Frequency of   in file  :  21\n"
     ]
    }
   ],
   "source": [
    "fin = open('shepro.txt','r')\n",
    "char = input('Enter the character whose frequency you want to find (case sensitive)  :  ')\n",
    "\n",
    "data = fin.read()\n",
    "count = 0\n",
    "\n",
    "lst = data.split(char)\n",
    "# print(lst)\n",
    "count = len(lst)\n",
    "        \n",
    "print(f'Frequency of {char} in file  :  {count-1}')\n",
    "\n",
    "fin.close()"
   ]
  },
  {
   "cell_type": "markdown",
   "id": "6d6da8f5",
   "metadata": {},
   "source": [
    "### Not Case Sensitive"
   ]
  },
  {
   "cell_type": "markdown",
   "id": "94485066",
   "metadata": {},
   "source": [
    "#### Method 1"
   ]
  },
  {
   "cell_type": "code",
   "execution_count": 6,
   "id": "b9f7237c",
   "metadata": {},
   "outputs": [
    {
     "name": "stdout",
     "output_type": "stream",
     "text": [
      "Enter the character whose frequency you want to find (case sensitive)  :  Shreeji\n",
      "Frequency of shreeji in file  :  2\n"
     ]
    }
   ],
   "source": [
    "fin = open('shepro.txt','r')\n",
    "char = input('Enter the character whose frequency you want to find (case sensitive)  :  ').lower()\n",
    "\n",
    "data = fin.read().lower()\n",
    "idx = 0\n",
    "count = 0\n",
    "\n",
    "for i in data:\n",
    "    \n",
    "    if char in data[idx : len(data)] :\n",
    "        idx += data[idx : len(data)].find(char) + len(char)\n",
    "        count += 1\n",
    "    \n",
    "    else:\n",
    "        break\n",
    "                \n",
    "\n",
    "print(f'Frequency of {char} in file  :  {count}')\n"
   ]
  },
  {
   "cell_type": "markdown",
   "id": "1d196277",
   "metadata": {},
   "source": [
    "#### Method 2"
   ]
  },
  {
   "cell_type": "code",
   "execution_count": 5,
   "id": "6d1e79f1",
   "metadata": {},
   "outputs": [
    {
     "name": "stdout",
     "output_type": "stream",
     "text": [
      "Enter the character whose frequency you want to find (case sensitive)  :  shreeji\n",
      "Frequency of shreeji in file  :  2\n"
     ]
    }
   ],
   "source": [
    "fin = open('shepro.txt','r')\n",
    "char = input('Enter the character whose frequency you want to find (case sensitive)  :  ').lower()\n",
    "\n",
    "data = fin.read().lower()\n",
    "        \n",
    "print(f'Frequency of {char} in file  :  {data.count(char)}')\n",
    "\n",
    "fin.close()"
   ]
  },
  {
   "cell_type": "markdown",
   "id": "20590b46",
   "metadata": {},
   "source": [
    "#### Method 3"
   ]
  },
  {
   "cell_type": "code",
   "execution_count": 4,
   "id": "1e4049a8",
   "metadata": {},
   "outputs": [
    {
     "name": "stdout",
     "output_type": "stream",
     "text": [
      "Enter the character whose frequency you want to find (case sensitive)  :  proto\n",
      "Frequency of proto in file  :  4\n"
     ]
    }
   ],
   "source": [
    "fin = open('shepro.txt','r')\n",
    "char = input('Enter the character whose frequency you want to find (case sensitive)  :  ').lower()\n",
    "\n",
    "data = fin.read().lower()\n",
    "count = 0\n",
    "\n",
    "lst = data.split(char)\n",
    "# print(lst)\n",
    "count = len(lst)\n",
    "        \n",
    "print(f'Frequency of {char} in file  :  {count-1}')\n",
    "\n",
    "fin.close()"
   ]
  },
  {
   "cell_type": "markdown",
   "id": "9b047883",
   "metadata": {},
   "source": [
    "# 21 August 2021"
   ]
  },
  {
   "cell_type": "markdown",
   "id": "b870ee95",
   "metadata": {},
   "source": [
    "## Q1) Program to take name,roll_no and three subjects marks and write the data along with total marks and percentage in the text file."
   ]
  },
  {
   "cell_type": "markdown",
   "id": "d6743b3e",
   "metadata": {},
   "source": [
    "### Method 1(simple)"
   ]
  },
  {
   "cell_type": "code",
   "execution_count": 7,
   "id": "25a6561b",
   "metadata": {},
   "outputs": [
    {
     "name": "stdout",
     "output_type": "stream",
     "text": [
      "Name of Student : Eita\n",
      "Roll number : 6\n",
      "Marks of Eita in subject 1  : 30\n",
      "Marks of Eita in subject 2  : 34\n",
      "Marks of Eita in subject 3  : 32\n",
      "\n",
      "\n",
      "Maximum marks (per subject) : 40\n",
      "Total Marks : 96\n",
      "Percentage : 80.0\n",
      "\n",
      "Data Written in the file\n"
     ]
    }
   ],
   "source": [
    "file = open('marks_data.txt','a')\n",
    "# file.write('I NAME \\tI Roll No \\tI Sub1 \\tI Sub2 \\tI Sub3 \\tI Max marks \\tI Total \\tI Percentage I\\n')\n",
    "\n",
    "name = input('Name of Student : ')\n",
    "roll = input('Roll number : ')\n",
    "sub1 = int(input(f'Marks of {name} in subject 1  : '))\n",
    "sub2 = int(input(f'Marks of {name} in subject 2  : '))\n",
    "sub3 = int(input(f'Marks of {name} in subject 3  : '))\n",
    "print('\\n')\n",
    "maxm = int(input('Maximum marks (per subject) : '))\n",
    "\n",
    "tot = sub1 + sub2 + sub3\n",
    "percentage = round(tot*100/(maxm*3),2)\n",
    "\n",
    "\n",
    "\n",
    "try:\n",
    "    file.write('=================================\\n\\n')\n",
    "    file.write(f'Name : {name} \\t Roll No. : {roll} \\n\\n Marks in subject 1 : {sub1} \\n Marks in subject 2 : {sub2} \\n Marks in subject 3 : {sub3}\\\n",
    "    \\n Maxmimum marks(per subject) : {maxm} \\n\\n Total Marks : {tot} \\n Percentage : {percentage} \\n\\n')\n",
    "    file.write('=================================\\n\\n\\n\\n')\n",
    "    \n",
    "    file.close()\n",
    "    print(f'Total Marks : {tot}\\nPercentage : {percentage}')\n",
    "    print('\\nData Written in the file')\n",
    "    \n",
    "except:\n",
    "    print('Some Error occured !! \\nData not written in the file !!')"
   ]
  },
  {
   "cell_type": "markdown",
   "id": "e5995703",
   "metadata": {},
   "source": [
    "### Method 2 (tabular)"
   ]
  },
  {
   "cell_type": "code",
   "execution_count": 1,
   "id": "ceaf0728",
   "metadata": {
    "collapsed": true
   },
   "outputs": [
    {
     "name": "stdout",
     "output_type": "stream",
     "text": [
      "\n",
      "\n",
      "Name of Student : Furry\n",
      "Roll number : 8\n",
      "Marks of Furry in PHYSICS  : 30\n",
      "Marks of Furry in CHEMISTRY  : 29\n",
      "Marks of Furry in MATHS  : 25\n",
      "\n",
      "\n",
      "\n",
      "\n",
      "Do you want to enter next record (y/n) : y\n",
      "\n",
      "\n",
      "Name of Student : Gyro\n",
      "Roll number : 9\n",
      "Marks of Gyro in PHYSICS  : 40\n",
      "Marks of Gyro in CHEMISTRY  : 37\n",
      "Marks of Gyro in MATHS  : 39\n",
      "\n",
      "\n",
      "\n",
      "\n",
      "Do you want to enter next record (y/n) : n\n",
      "\n",
      "Okay..\n",
      "Here is the result : \n",
      "\n",
      "{'maxm': 40, 'sub_name1': 'PHYSICS', 'sub_name2': 'CHEMISTRY', 'sub_name3': 'MATHS'}\n",
      "+============================================================================================================================+\n",
      "| ROLL NO |             NAME             | MARKS IN PHYSICS | MARKS IN CHEMISTRY | MARKS IN MATHS | TOTAL MARKS | Percentage |\n",
      "+============================================================================================================================+\n",
      "|    1    |             Arsh             |        35        |         36         |       40       |     111     |    92.5    |\n",
      "+----------------------------------------------------------------------------------------------------------------------------+\n",
      "|    2    |             Bob              |        38        |         32         |       37       |     107     |   89.17    |\n",
      "+----------------------------------------------------------------------------------------------------------------------------+\n",
      "|    3    |            Catie             |        33        |         36         |       34       |     103     |   85.83    |\n",
      "+----------------------------------------------------------------------------------------------------------------------------+\n",
      "|    5    |            Erica             |        33        |         38         |       35       |     106     |   88.33    |\n",
      "+----------------------------------------------------------------------------------------------------------------------------+\n",
      "|    4    |           Dev cpp            |        40        |         33         |       40       |     113     |   94.17    |\n",
      "+----------------------------------------------------------------------------------------------------------------------------+\n",
      "|    8    |            Furry             |        30        |         29         |       25       |     84      |    70.0    |\n",
      "+----------------------------------------------------------------------------------------------------------------------------+\n",
      "|    9    |             Gyro             |        40        |         37         |       39       |     116     |   96.67    |\n",
      "+----------------------------------------------------------------------------------------------------------------------------+"
     ]
    }
   ],
   "source": [
    "file = open(r'D:\\PYGRAM\\school programs\\ipynb_school\\marks_data_tabular_form.txt','a+')\n",
    "# If you are not Shreeji, use following open file command\n",
    "#file = open(r'marks_data_tabular_form.txt','a+')\n",
    "\n",
    "\n",
    "file.seek(0,0)\n",
    "\n",
    "file_heading_data = file.readlines()\n",
    "# print(file_heading_data)\n",
    "# for line in file_heading_data:\n",
    "#     print(line)\n",
    "\n",
    "if file_heading_data == []:\n",
    "\n",
    "    sub_name1 = input('Enter the name of 1st subject : ')\n",
    "    sub_name2 = input('Enter the name of 2nd subject : ')\n",
    "    sub_name3 = input('Enter the name of 3rd subject : ')\n",
    "\n",
    "\n",
    "    maxm = int(input('Maximum marks (per subject) : '))\n",
    "\n",
    "    heading = f\"\\n| ROLL NO |{' NAME ':^30}| MARKS IN {sub_name1} | MARKS IN {sub_name2} | MARKS IN {sub_name3} | TOTAL MARKS | Percentage |\"\n",
    "    main_sep_line = '\\n+' + \"=\"*int(len(heading)-3) + '+'\n",
    "\n",
    "    imp_info_dct = {'maxm':maxm , 'sub_name1':sub_name1 , 'sub_name2':sub_name2 , 'sub_name3':sub_name3}\n",
    "\n",
    "    file.write(str(imp_info_dct))\n",
    "    file.write(main_sep_line)\n",
    "    file.write(heading)\n",
    "    file.write(main_sep_line)\n",
    "\n",
    "else:\n",
    "    heading = file_heading_data[1]\n",
    "    imp_info_dct = eval(file_heading_data[0].strip())\n",
    "    maxm = imp_info_dct['maxm']\n",
    "    sub_name1 = imp_info_dct['sub_name1']\n",
    "    sub_name2 = imp_info_dct['sub_name2']\n",
    "    sub_name3 = imp_info_dct['sub_name3']\n",
    "\n",
    "while True:\n",
    "\n",
    "    name = input('\\n\\nName of Student : ')\n",
    "    roll = input('Roll number : ')\n",
    "    sub1 = int(input(f'Marks of {name} in {sub_name1}  : '))\n",
    "    sub2 = int(input(f'Marks of {name} in {sub_name2}  : '))\n",
    "    sub3 = int(input(f'Marks of {name} in {sub_name3}  : '))\n",
    "    print('\\n')\n",
    "\n",
    "    tot = sub1 + sub2 + sub3\n",
    "    percentage = round(tot*100/(maxm*3),2)\n",
    "\n",
    "    data = f\"\\n|{roll:^{len(' ROLL NO ')}}|{name:^30}|{sub1:^{len(f' MARKS IN {sub_name1} ')}}|{sub2:^{len(f' MARKS IN {sub_name2} ')}}|{sub3:^{len(f' MARKS IN {sub_name3} ')}}|{tot:^{len(f' TOTAL MARKS ')}}|{percentage:^{len(f' Percentage ')}}|\"\n",
    "    sep_line = '\\n+' + \"-\"*int(len(heading)-3) + '+'\n",
    "\n",
    "    file.write(data)\n",
    "    file.write(sep_line)\n",
    "\n",
    "\n",
    "    wish = input('\\n\\nDo you want to enter next record (y/n) : ').lower()\n",
    "    \n",
    "    if wish in ['n','no']:\n",
    "        print('\\nOkay..\\nHere is the result : \\n')\n",
    "        break\n",
    "\n",
    "\n",
    "file.seek(0,0)\n",
    "for line in file:\n",
    "    print(line,end = '')\n",
    "\n",
    "file.close()"
   ]
  },
  {
   "cell_type": "markdown",
   "id": "ef623a2e",
   "metadata": {},
   "source": [
    "# 24 August 2021"
   ]
  },
  {
   "cell_type": "markdown",
   "id": "ebcb6724",
   "metadata": {},
   "source": [
    "## Q1) Program to read a file line by line and display the same"
   ]
  },
  {
   "cell_type": "code",
   "execution_count": null,
   "id": "2f514a02",
   "metadata": {
    "collapsed": true
   },
   "outputs": [
    {
     "name": "stdout",
     "output_type": "stream",
     "text": [
      "=================================\n",
      "\n",
      "Name : Ansh \t Roll No. : 1 \n",
      "\n",
      " Marks in subject 1 : 35 \n",
      " Marks in subject 2 : 37 \n",
      " Marks in subject 3 : 24    \n",
      " Maxmimum marks(per subject) : 40 \n",
      "\n",
      " Total Marks : 96 \n",
      " Percentage : 80.0 \n",
      "\n",
      "=================================\n",
      "\n",
      "\n",
      "\n",
      "=================================\n",
      "\n",
      "Name : Abhi \t Roll No. : 2 \n",
      "\n",
      " Marks in subject 1 : 30 \n",
      " Marks in subject 2 : 39 \n",
      " Marks in subject 3 : 32    \n",
      " Maxmimum marks(per subject) : 40 \n",
      "\n",
      " Total Marks : 101 \n",
      " Percentage : 84.17 \n",
      "\n",
      "=================================\n",
      "\n",
      "\n",
      "\n",
      "=================================\n",
      "\n",
      "Name : Bosh \t Roll No. : 3 \n",
      "\n",
      " Marks in subject 1 : 39 \n",
      " Marks in subject 2 : 38 \n",
      " Marks in subject 3 : 20    \n",
      " Maxmimum marks(per subject) : 40 \n",
      "\n",
      " Total Marks : 97 \n",
      " Percentage : 80.83\n",
      "\n",
      "=================================\n",
      "\n",
      "\n",
      "\n",
      "=================================\n",
      "\n",
      "Name : Cab \t Roll No. : 4 \n",
      "\n",
      " Marks in subject 1 : 33 \n",
      " Marks in subject 2 : 30 \n",
      " Marks in subject 3 : 37    \n",
      " Maxmimum marks(per subject) : 40 \n",
      "\n",
      " Total Marks : 100 \n",
      " Percentage : 83.33 \n",
      "\n",
      "=================================\n",
      "\n",
      "\n",
      "\n",
      "=================================\n",
      "\n",
      "Name : Dob \t Roll No. : 5 \n",
      "\n",
      " Marks in subject 1 : 30 \n",
      " Marks in subject 2 : 25 \n",
      " Marks in subject 3 : 32    \n",
      " Maxmimum marks(per subject) : 40 \n",
      "\n",
      " Total Marks : 87 \n",
      " Percentage : 72.5 \n",
      "\n",
      "=================================\n",
      "\n",
      "\n",
      "\n",
      "=================================\n",
      "\n",
      "Name : Eita \t Roll No. : 6 \n",
      "\n",
      " Marks in subject 1 : 30 \n",
      " Marks in subject 2 : 34 \n",
      " Marks in subject 3 : 32    \n",
      " Maxmimum marks(per subject) : 40 \n",
      "\n",
      " Total Marks : 96 \n",
      " Percentage : 80.0 \n",
      "\n",
      "=================================\n",
      "\n",
      "\n",
      "\n"
     ]
    }
   ],
   "source": [
    "fin = open('marks_data.txt','r')\n",
    "while True:\n",
    "    line = fin.readline()\n",
    "    \n",
    "    if line == ' ':\n",
    "        break\n",
    "        \n",
    "    else :        \n",
    "        print(line,end = '')\n",
    "        \n",
    "fin.close()"
   ]
  },
  {
   "cell_type": "markdown",
   "id": "f5c406df",
   "metadata": {},
   "source": [
    "## Q2) Program to read lines from file and display only those which starts from \"S\""
   ]
  },
  {
   "cell_type": "code",
   "execution_count": 2,
   "id": "abb96632",
   "metadata": {},
   "outputs": [
    {
     "name": "stdout",
     "output_type": "stream",
     "text": [
      "Shreeji made Proto !!! \n",
      "Shreeji made Proto !!! \n"
     ]
    }
   ],
   "source": [
    "fin = open('shepro.txt','r')\n",
    "lines = fin.readlines()\n",
    "\n",
    "for line in lines:\n",
    "    if line[0].upper() == 'S':\n",
    "        print(line,end = '')\n",
    "\n",
    "fin.close()"
   ]
  },
  {
   "cell_type": "markdown",
   "id": "d1ba455e",
   "metadata": {},
   "source": [
    "## Q3) Program to count number of lines from file starting with \"S\""
   ]
  },
  {
   "cell_type": "code",
   "execution_count": 6,
   "id": "334db475",
   "metadata": {},
   "outputs": [
    {
     "name": "stdout",
     "output_type": "stream",
     "text": [
      "Number of lines starting with \"S\"  :  2\n"
     ]
    }
   ],
   "source": [
    "fin = open('shepro.txt','r')\n",
    "lines = fin.readlines()\n",
    "\n",
    "count = 0\n",
    "for line in lines:\n",
    "    if line[0].upper() == 'S':\n",
    "        count += 1\n",
    "\n",
    "print(f'Number of lines starting with \"S\"  :  {count}')\n",
    "        \n",
    "fin.close()"
   ]
  },
  {
   "cell_type": "markdown",
   "id": "e24607a2",
   "metadata": {},
   "source": [
    "## Q4) Program to read lines from file and display only those which starts from \"S\" or \"P\""
   ]
  },
  {
   "cell_type": "code",
   "execution_count": 2,
   "id": "6797f91b",
   "metadata": {},
   "outputs": [
    {
     "name": "stdout",
     "output_type": "stream",
     "text": [
      "Shreeji made Proto !!! \n",
      "Proto is an Artificial Intelligence\n",
      "Shreeji made Proto !!! \n",
      "Proto is an Artificial Intelligence \n"
     ]
    }
   ],
   "source": [
    "fin = open('shepro.txt','r')\n",
    "lines = fin.readlines()\n",
    "\n",
    "for line in lines:\n",
    "    if line[0].upper() in 'PS':\n",
    "        print(line,end = '')\n",
    "\n",
    "fin.close()"
   ]
  },
  {
   "cell_type": "markdown",
   "id": "bd9ce353",
   "metadata": {},
   "source": [
    "## Q5) Program to read lines from txt files and display lines which are bigger than 30 chars"
   ]
  },
  {
   "cell_type": "code",
   "execution_count": 8,
   "id": "ee1eb1a5",
   "metadata": {
    "collapsed": true
   },
   "outputs": [
    {
     "name": "stdout",
     "output_type": "stream",
     "text": [
      "Proto is an Artificial Intelligence\n",
      "\n",
      "Proto is an Artificial Intelligence \n",
      "\n",
      "We might achieve technological singularity\n"
     ]
    }
   ],
   "source": [
    "fin = open('shepro.txt','r')\n",
    "\n",
    "lines = fin.readlines()\n",
    "\n",
    "for line in lines :\n",
    "    if len(line) >= 30:\n",
    "        print(line)\n",
    "\n",
    "fin.close()"
   ]
  },
  {
   "cell_type": "markdown",
   "id": "a0d26da9",
   "metadata": {},
   "source": [
    "# 31 August 2021"
   ]
  },
  {
   "cell_type": "markdown",
   "id": "c6585dd2",
   "metadata": {},
   "source": [
    "### encode() : It is a function of string module. It converts string data type to byte value."
   ]
  },
  {
   "cell_type": "code",
   "execution_count": 10,
   "id": "8faf63f2",
   "metadata": {},
   "outputs": [],
   "source": [
    "fout = open('Binary_file_1.dat' , 'wb')\n",
    "fout.write('Hello'.encode())\n",
    "fout.close()"
   ]
  },
  {
   "cell_type": "code",
   "execution_count": 11,
   "id": "480836f8",
   "metadata": {},
   "outputs": [],
   "source": [
    "fout = open('Binary_file_1.dat' , 'ab')\n",
    "data = \"\\n{'name' : 'Shreeji'  , 'roll_no' : 32}\"\n",
    "fout.write(data.encode())\n",
    "fout.close()"
   ]
  },
  {
   "cell_type": "markdown",
   "id": "9ec0836d",
   "metadata": {},
   "source": [
    "### decode() : It converts byte value to string data type"
   ]
  },
  {
   "cell_type": "markdown",
   "id": "738f17d6",
   "metadata": {},
   "source": [
    "### Q2) Writing in a binary file"
   ]
  },
  {
   "cell_type": "code",
   "execution_count": 6,
   "id": "4752c3df",
   "metadata": {},
   "outputs": [
    {
     "name": "stdout",
     "output_type": "stream",
     "text": [
      "new line\n",
      "\n",
      "b'new line\\n'\n"
     ]
    }
   ],
   "source": [
    "fout = open('Binary_file_1.dat' , 'ab')\n",
    "dct = input('Enter a dictionary (in dictionary format)  : ')+'\\n'\n",
    "print(dct)\n",
    "print(dct.encode())\n",
    "fout.write(dct.encode())\n",
    "fout.close()"
   ]
  },
  {
   "cell_type": "markdown",
   "id": "4825c803",
   "metadata": {},
   "source": [
    "### Q1) Reading a binary file"
   ]
  },
  {
   "cell_type": "code",
   "execution_count": 14,
   "id": "0edfe428",
   "metadata": {},
   "outputs": [
    {
     "name": "stdout",
     "output_type": "stream",
     "text": [
      "Data in non-decoded format  :  b\"{'Name': 'Shreeji Tiwari', 'Age': 17, 'School': 'Kendriya Vidayala no.2 Gwalior'}\\n\"\n",
      "Data in decoded format  : {'Name': 'Shreeji Tiwari', 'Age': 17, 'School': 'Kendriya Vidayala no.2 Gwalior'}\n",
      "<class 'dict'>\n"
     ]
    }
   ],
   "source": [
    "fin = open('Binary_file_1.dat' , 'rb')\n",
    "for lines in fin:\n",
    "    dct = fin.readline()\n",
    "    print(\"Data in non-decoded format  : \",dct)\n",
    "    print(f\"Data in decoded format  : {dct.strip().decode()}\")\n",
    "    try:\n",
    "        print(type(eval(dct)))\n",
    "\n",
    "    except:\n",
    "        print(type(dct))\n",
    "\n"
   ]
  },
  {
   "cell_type": "markdown",
   "id": "d50fa54b",
   "metadata": {},
   "source": [
    "## Pickle\n",
    "It is used to handle binary operations on different objects like list , tuple , dicitonary etc."
   ]
  },
  {
   "cell_type": "code",
   "execution_count": 8,
   "id": "d747fd9a",
   "metadata": {},
   "outputs": [],
   "source": [
    "import pickle"
   ]
  },
  {
   "cell_type": "markdown",
   "id": "8a7885bb",
   "metadata": {},
   "source": [
    "### dump()\n",
    "\n",
    "It is used to write different objects like list , tuple , dictionary , class etc into the binary file.\n",
    "\n",
    "syntax : pickle.dump(obj,fileobj)"
   ]
  },
  {
   "cell_type": "markdown",
   "id": "934a8a22",
   "metadata": {},
   "source": [
    "### load()\n",
    "\n",
    "It is It is used to read different objects like list , tuple , dictionary , class etc into the binary file.\n",
    "\n",
    "syntax :  syntax : Obj  = pickle.load(fileobj)"
   ]
  },
  {
   "cell_type": "markdown",
   "id": "5290c695",
   "metadata": {},
   "source": [
    "#### Q1) Program to write the student record"
   ]
  },
  {
   "cell_type": "code",
   "execution_count": 45,
   "id": "de92974d",
   "metadata": {},
   "outputs": [
    {
     "name": "stdout",
     "output_type": "stream",
     "text": [
      "This is a program to write data in std_data.dat file . \n",
      "\n",
      "\n",
      "\n",
      "\n",
      "RECORD ENTERD\n",
      "\n",
      "\n"
     ]
    }
   ],
   "source": [
    "import pickle\n",
    "fout = open('std_data.dat','ab')\n",
    "\n",
    "print('This is a program to write data in std_data.dat file . \\n\\n')\n",
    "while True:\n",
    "    rn = int(input('Roll No.  :  '))\n",
    "    nm = input('Name  : ').title()\n",
    "    prcntg = int(input('Percentage  : '))\n",
    "    \n",
    "    record = {'Roll no.' : rn , 'Name' : nm , 'Percentage' : str(prcntg) + '%'}\n",
    "    pickle.dump(record,fout)\n",
    "    \n",
    "    \n",
    "\n",
    "    proceed = input('Do you wanna enter next record (y/n)  : ').lower()\n",
    "\n",
    "    if proceed in ['n' , 'no']:\n",
    "        break\n",
    "\n",
    "\n",
    "print('\\n\\nRECORD ENTERD\\n\\n')    \n",
    "fout.close()\n"
   ]
  },
  {
   "cell_type": "markdown",
   "id": "f50cb0b7",
   "metadata": {},
   "source": [
    "#### Q2) Program to read the student record"
   ]
  },
  {
   "cell_type": "code",
   "execution_count": 46,
   "id": "6a088198",
   "metadata": {},
   "outputs": [
    {
     "name": "stdout",
     "output_type": "stream",
     "text": [
      "This is a program to write data in std_data.dat file . \n",
      "\n",
      "\n",
      "Roll no.             Name             Percentage\n",
      "   1               Abhishek              89%    \n",
      "   2                Aditya               90%    \n",
      "   3                Benin                91%    \n",
      "   4                Cowboy               72%    \n",
      "   5                Denis                94%    \n"
     ]
    }
   ],
   "source": [
    "import pickle\n",
    "fin = open('std_data.dat','rb')\n",
    "print('This is a program to write data in std_data.dat file . \\n\\n')\n",
    "\n",
    "print(f\"{'Roll no.':^8}{'Name':^30}{'Percentage'::^10}\")\n",
    "\n",
    "while True:\n",
    "\n",
    "    try:\n",
    "        record = pickle.load(fin)\n",
    "        # print(record)\n",
    "\n",
    "        print(f\"{record['Roll no.']:^8}{record['Name']:^30}{record['Percentage']:^10}\")\n",
    "\n",
    "    except EOFError:\n",
    "        break\n",
    "\n",
    "\n",
    "fin.close()"
   ]
  },
  {
   "cell_type": "code",
   "execution_count": 50,
   "id": "1c654a48",
   "metadata": {},
   "outputs": [
    {
     "name": "stdout",
     "output_type": "stream",
     "text": [
      "b'\\x80\\x04\\x957\\x00\\x00\\x00\\x00\\x00\\x00\\x00}\\x94(\\x8c\\x08Roll no.\\x94K\\x01\\x8c\\x04Name\\x94\\x8c\\x08Abhishek\\x94\\x8c\\nPercentage\\x94\\x8c\\x0389%\\x94u.\\x80\\x04\\x955\\x00\\x00\\x00\\x00\\x00\\x00\\x00}\\x94(\\x8c\\x08Roll no.\\x94K\\x02\\x8c\\x04Name\\x94\\x8c\\x06Aditya\\x94\\x8c\\nPercentage\\x94\\x8c\\x0390%\\x94u.\\x80\\x04\\x954\\x00\\x00\\x00\\x00\\x00\\x00\\x00}\\x94(\\x8c\\x08Roll no.\\x94K\\x03\\x8c\\x04Name\\x94\\x8c\\x05Benin\\x94\\x8c\\nPercentage\\x94\\x8c\\x0391%\\x94u.\\x80\\x04\\x955\\x00\\x00\\x00\\x00\\x00\\x00\\x00}\\x94(\\x8c\\x08Roll no.\\x94K\\x04\\x8c\\x04Name\\x94\\x8c\\x06Cowboy\\x94\\x8c\\nPercentage\\x94\\x8c\\x0372%\\x94u.\\x80\\x04\\x954\\x00\\x00\\x00\\x00\\x00\\x00\\x00}\\x94(\\x8c\\x08Roll no.\\x94K\\x05\\x8c\\x04Name\\x94\\x8c\\x05Denis\\x94\\x8c\\nPercentage\\x94\\x8c\\x0394%\\x94u.'\n"
     ]
    }
   ],
   "source": [
    "fin = open('std_data.dat','rb')\n",
    "print(fin.read())"
   ]
  },
  {
   "cell_type": "markdown",
   "id": "eddd5c4d",
   "metadata": {},
   "source": []
  },
  {
   "cell_type": "code",
   "execution_count": null,
   "id": "2eded89b",
   "metadata": {},
   "outputs": [],
   "source": []
  },
  {
   "cell_type": "markdown",
   "id": "0aaf29f0",
   "metadata": {},
   "source": [
    "# 4 September 2021"
   ]
  },
  {
   "cell_type": "markdown",
   "id": "5315a8c1",
   "metadata": {},
   "source": [
    "## Q1) Program to Search for a record"
   ]
  },
  {
   "cell_type": "code",
   "execution_count": 54,
   "id": "af568394",
   "metadata": {},
   "outputs": [
    {
     "name": "stdout",
     "output_type": "stream",
     "text": [
      "This is a program to search a record in a binary file\n",
      "\n",
      "Record Found !!\n",
      "\n",
      "Roll no.  :  5\n",
      "Name  :  Denis\n",
      "Percentage  :  94%\n"
     ]
    }
   ],
   "source": [
    "import pickle\n",
    "fin = open('std_data.dat','rb')\n",
    "\n",
    "print('This is a program to search a record in a binary file\\n')\n",
    "rno = int(input('Enter the roll number of the record you want  : '))\n",
    "\n",
    "got_record = False\n",
    "\n",
    "while True:\n",
    "    try:\n",
    "        rec = pickle.load(fin)\n",
    "        if rno == rec['Roll no.']:\n",
    "            print('Record Found !!\\n')\n",
    "\n",
    "            got_record = True\n",
    "            for key in rec:\n",
    "                print(f\"{key}  :  {rec[key]}\")\n",
    "\n",
    "    except EOFError:\n",
    "        break\n",
    "\n",
    "if got_record == False:\n",
    "    print('Record not found !!')\n",
    "\n",
    "fin.close()"
   ]
  },
  {
   "cell_type": "markdown",
   "id": "1a76297e",
   "metadata": {},
   "source": [
    "## Q2) Program to update records in a binary file"
   ]
  },
  {
   "cell_type": "markdown",
   "id": "3ac1d561",
   "metadata": {},
   "source": [
    "### Method 1 (from class slides)"
   ]
  },
  {
   "cell_type": "code",
   "execution_count": null,
   "id": "1258a4da",
   "metadata": {},
   "outputs": [],
   "source": [
    "import os\n",
    "rec_size = 20\n",
    "file_size = os.path.getsize('std_data.dat')\n",
    "\n",
    "no_of_rec = file_size/rec_size\n",
    "file  = open('std_data.dat','r+b')\n",
    "\n",
    "oldname = input('Enter the old name  : ').encode()\n",
    "newname = input('Enter new name  :  ')\n",
    "\n",
    "newname = (newname + ''*(20 - len(newname))).encode()\n",
    "\n"
   ]
  },
  {
   "cell_type": "code",
   "execution_count": null,
   "id": "58002263",
   "metadata": {},
   "outputs": [],
   "source": []
  },
  {
   "cell_type": "code",
   "execution_count": null,
   "id": "3ccb3330",
   "metadata": {},
   "outputs": [],
   "source": []
  },
  {
   "cell_type": "code",
   "execution_count": null,
   "id": "56b1b68c",
   "metadata": {},
   "outputs": [],
   "source": []
  },
  {
   "cell_type": "code",
   "execution_count": null,
   "id": "f68b7ac7",
   "metadata": {},
   "outputs": [],
   "source": []
  },
  {
   "cell_type": "code",
   "execution_count": null,
   "id": "ab1e63a3",
   "metadata": {},
   "outputs": [],
   "source": []
  },
  {
   "cell_type": "code",
   "execution_count": null,
   "id": "b4364a69",
   "metadata": {},
   "outputs": [],
   "source": []
  },
  {
   "cell_type": "code",
   "execution_count": null,
   "id": "a0818130",
   "metadata": {},
   "outputs": [],
   "source": []
  }
 ],
 "metadata": {
  "interpreter": {
   "hash": "5d2f62ab5654bdb13e391a8277148968ca32f47c10665034a10658c5fa01a50f"
  },
  "kernelspec": {
   "display_name": "Python 3 (ipykernel)",
   "language": "python",
   "name": "python3"
  },
  "language_info": {
   "codemirror_mode": {
    "name": "ipython",
    "version": 3
   },
   "file_extension": ".py",
   "mimetype": "text/x-python",
   "name": "python",
   "nbconvert_exporter": "python",
   "pygments_lexer": "ipython3",
   "version": "3.8.8"
  }
 },
 "nbformat": 4,
 "nbformat_minor": 5
}
