{
 "cells": [
  {
   "cell_type": "markdown",
   "id": "2f6f3d17",
   "metadata": {},
   "source": [
    "# CLASS 11th\n"
   ]
  },
  {
   "cell_type": "markdown",
   "id": "ca0d60fa",
   "metadata": {},
   "source": [
    "### Q1) 22_Shreeji_Tiwari.py"
   ]
  },
  {
   "cell_type": "code",
   "execution_count": null,
   "id": "0f19e471",
   "metadata": {},
   "outputs": [],
   "source": [
    "tup=list(eval(input('Enter the tuple : ')))\n",
    "mx2=tup[0]\n",
    "\n",
    "for num in tup:\n",
    "    if mx2<num<max(tup):\n",
    "        mx2=num\n",
    "print('2nd Largest number from a tuple : ',mx2)\n",
    "\n",
    "#12,51,42,32,24,26,21"
   ]
  },
  {
   "cell_type": "markdown",
   "id": "35d0e53b",
   "metadata": {},
   "source": [
    "### Q2) 23_Shreeji_Tiwari.py"
   ]
  },
  {
   "cell_type": "code",
   "execution_count": null,
   "id": "5682f39b",
   "metadata": {},
   "outputs": [],
   "source": [
    "keys=eval(input('Enter keys of the dictionary : '))\n",
    "values=eval(input('Enter values of the dictionary : '))\n",
    "\n",
    "dct=dict(zip(keys,values))\n",
    "print('\\n',dct)\n",
    "\n",
    "val=eval(input('\\nEnter the value you want to search in the dictionary : '))\n",
    "\n",
    "if val in dct.values(): \n",
    "    print('\\n',val,' is found in the dictionary values at keys : ',end=' ')\n",
    "    for v in dct:\n",
    "        if val==(dct[v]):\n",
    "            print(v,end=' , ')\n",
    "            \n",
    "\n",
    "else:\n",
    "    print(val,' is not found in the values')\n",
    "        \n",
    "    "
   ]
  },
  {
   "cell_type": "markdown",
   "id": "472997cf",
   "metadata": {},
   "source": [
    "###  Q3) 24_Shreeji_Tiwari.py"
   ]
  },
  {
   "cell_type": "code",
   "execution_count": null,
   "id": "dafd5f81",
   "metadata": {},
   "outputs": [],
   "source": [
    "num=int(input('Enter any integer : '))\n",
    "tup=[]\n",
    "\n",
    "for x in range(1,5):\n",
    "    n=num**x\n",
    "    tup.append(n)\n",
    "\n",
    "print('Tuple of ',num,' raised to the power 1,2,3,4 = ',tuple(tup))"
   ]
  },
  {
   "cell_type": "markdown",
   "id": "50e85602",
   "metadata": {},
   "source": [
    "### Q4) All python operators.py"
   ]
  },
  {
   "cell_type": "code",
   "execution_count": null,
   "id": "cd087105",
   "metadata": {},
   "outputs": [],
   "source": [
    "print('Choose any one operator : +, -, *, / ,**, %,// ')\n",
    "\n",
    "operator=input('\\nEnter the opertor :- ')\n",
    "num1=float(input('Enter the first number :- '))\n",
    "num2=float(input('Enter the second number :- '))\n",
    "\n",
    "if operator == '+':\n",
    "    print(num1,operator,num2,' = ',num1+num2)\n",
    "    \n",
    "elif operator == '-':\n",
    "    print(num1,operator,num2,' = ',num1-num2)\n",
    "    print(num2,operator,num1,' = ',num2-num1)\n",
    "\n",
    "elif operator == '*':\n",
    "    print(num1,operator,num2,' = ',num1*num2)\n",
    "    \n",
    "elif operator == '/':\n",
    "    print(num1,operator,num2,' = ',num1/num2)\n",
    "    print(num2,operator,num1,' = ',num2/num1)\n",
    "    \n",
    "elif operator == '**':\n",
    "    print(num1,operator,num2,' = ',num1**num2)\n",
    "    print(num2,operator,num1,' = ',num2**num1)\n",
    "    \n",
    "elif operator == '%':\n",
    "    print(num1,operator,num2,' = ',num1%num2)\n",
    "    print(num2,operator,num1,' = ',num2%num1)\n",
    "    \n",
    "elif operator == '//':\n",
    "    print(num1,operator,num2,' = ',num1//num2)\n",
    "    print(num2,operator,num1,' = ',num2//num1)\n",
    "    \n",
    "else:\n",
    "    print('Wrong operator selected !!!')\n",
    "\n"
   ]
  },
  {
   "cell_type": "markdown",
   "id": "87824ad9",
   "metadata": {},
   "source": [
    "### Q5) Area of circle.py "
   ]
  },
  {
   "cell_type": "code",
   "execution_count": null,
   "id": "89a0f53f",
   "metadata": {},
   "outputs": [],
   "source": [
    "#Area of circle\n",
    "while True:\n",
    "    r=float(input('Enter the radius of circle : '))\n",
    "    A=3.14*r**2\n",
    "    if r>0:\n",
    "        print('Area of Circle =',A)\n",
    "    else:\n",
    "        print('PLEASE ENTER A POSITIVE RADIUS')\n",
    "\n",
    "    print('\\n\\n')\n",
    " \n"
   ]
  },
  {
   "cell_type": "markdown",
   "id": "5f1184db",
   "metadata": {},
   "source": [
    "### Q6) Arithmetic Calc.py"
   ]
  },
  {
   "cell_type": "code",
   "execution_count": null,
   "id": "0ebebb62",
   "metadata": {},
   "outputs": [],
   "source": [
    "print('Hello !! I am a calculator .\\n\\n')\n",
    "while True:\n",
    "\n",
    "    print('\\n')\n",
    "    print('1) Addition (+)\\n2) Subtraction (-)\\n3)Multiplication (*)\\\n",
    "    \\n4)Division (/)5)Modulas (%)')\n",
    "    print('\\n')\n",
    "    \n",
    "    \n",
    "    f=input('What you want to do ??\\n')\n",
    "    print('\\n')\n",
    "    print('okay')\n",
    "    print('\\n')\n",
    "\n",
    "    a=float(input('Enter your first number = '))\n",
    "    b=float(input('Enter your second number = '))\n",
    "    print('\\n')\n",
    "\n",
    "    \n",
    "\n",
    "    if f=='Addition' or f=='1' or f=='+':\n",
    "        print(a,'+',b,'=',a+b)\n",
    "\n",
    "    elif f=='Subtraction' or f=='2' or f=='-':\n",
    "        print(a,'-',b,'=',a-b,'\\n')\n",
    "        print(b,'-',a,'=',b-a)\n",
    "\n",
    "    elif f=='Multiplication' or f=='3' or f=='*':\n",
    "        print(a,'x',b,'=',a*b)\n",
    "\n",
    "    elif f=='Division' or f=='4' or f=='/':\n",
    "        print(a,'/',b,'=',a/b,'\\n')\n",
    "        print(b,'/',a,'=',b/a)\n",
    "\n",
    "    elif f=='Modulas' or f=='5' or f=='%':\n",
    "        print(a,'%',b,'=',a%b,'\\n')\n",
    "        print(b,'%',a,'=',b%a)\n",
    "\n",
    "    else:\n",
    "        print('Please choose a operator from the above choices ....! ')\n"
   ]
  },
  {
   "cell_type": "markdown",
   "id": "58de1ffc",
   "metadata": {},
   "source": [
    "### Q7) Sorting of three nums"
   ]
  },
  {
   "cell_type": "code",
   "execution_count": 5,
   "id": "1fde1cb6",
   "metadata": {
    "collapsed": true
   },
   "outputs": [
    {
     "name": "stdout",
     "output_type": "stream",
     "text": [
      "Enter the 1st number : 20\n",
      "Enter the 2nd number : 31\n",
      "Enter the 3rd number : 13\n",
      "13 20 31\n"
     ]
    },
    {
     "ename": "KeyboardInterrupt",
     "evalue": "Interrupted by user",
     "output_type": "error",
     "traceback": [
      "\u001b[1;31m---------------------------------------------------------------------------\u001b[0m",
      "\u001b[1;31mKeyboardInterrupt\u001b[0m                         Traceback (most recent call last)",
      "\u001b[1;32m<ipython-input-5-ec0313a74770>\u001b[0m in \u001b[0;36m<module>\u001b[1;34m\u001b[0m\n\u001b[0;32m      1\u001b[0m \u001b[1;32mwhile\u001b[0m \u001b[1;32mTrue\u001b[0m\u001b[1;33m:\u001b[0m\u001b[1;33m\u001b[0m\u001b[1;33m\u001b[0m\u001b[0m\n\u001b[1;32m----> 2\u001b[1;33m     \u001b[0mn1\u001b[0m \u001b[1;33m=\u001b[0m \u001b[0mint\u001b[0m\u001b[1;33m(\u001b[0m\u001b[0minput\u001b[0m\u001b[1;33m(\u001b[0m\u001b[1;34m\"Enter the 1st number : \"\u001b[0m\u001b[1;33m)\u001b[0m\u001b[1;33m)\u001b[0m\u001b[1;33m\u001b[0m\u001b[1;33m\u001b[0m\u001b[0m\n\u001b[0m\u001b[0;32m      3\u001b[0m     \u001b[0mn2\u001b[0m \u001b[1;33m=\u001b[0m \u001b[0mint\u001b[0m\u001b[1;33m(\u001b[0m\u001b[0minput\u001b[0m\u001b[1;33m(\u001b[0m\u001b[1;34m\"Enter the 2nd number : \"\u001b[0m\u001b[1;33m)\u001b[0m\u001b[1;33m)\u001b[0m\u001b[1;33m\u001b[0m\u001b[1;33m\u001b[0m\u001b[0m\n\u001b[0;32m      4\u001b[0m     \u001b[0mn3\u001b[0m \u001b[1;33m=\u001b[0m \u001b[0mint\u001b[0m\u001b[1;33m(\u001b[0m\u001b[0minput\u001b[0m\u001b[1;33m(\u001b[0m\u001b[1;34m\"Enter the 3rd number : \"\u001b[0m\u001b[1;33m)\u001b[0m\u001b[1;33m)\u001b[0m\u001b[1;33m\u001b[0m\u001b[1;33m\u001b[0m\u001b[0m\n\u001b[0;32m      5\u001b[0m \u001b[1;33m\u001b[0m\u001b[0m\n",
      "\u001b[1;32m~\\anaconda3\\lib\\site-packages\\ipykernel\\kernelbase.py\u001b[0m in \u001b[0;36mraw_input\u001b[1;34m(self, prompt)\u001b[0m\n\u001b[0;32m    858\u001b[0m                 \u001b[1;34m\"raw_input was called, but this frontend does not support input requests.\"\u001b[0m\u001b[1;33m\u001b[0m\u001b[1;33m\u001b[0m\u001b[0m\n\u001b[0;32m    859\u001b[0m             )\n\u001b[1;32m--> 860\u001b[1;33m         return self._input_request(str(prompt),\n\u001b[0m\u001b[0;32m    861\u001b[0m             \u001b[0mself\u001b[0m\u001b[1;33m.\u001b[0m\u001b[0m_parent_ident\u001b[0m\u001b[1;33m,\u001b[0m\u001b[1;33m\u001b[0m\u001b[1;33m\u001b[0m\u001b[0m\n\u001b[0;32m    862\u001b[0m             \u001b[0mself\u001b[0m\u001b[1;33m.\u001b[0m\u001b[0m_parent_header\u001b[0m\u001b[1;33m,\u001b[0m\u001b[1;33m\u001b[0m\u001b[1;33m\u001b[0m\u001b[0m\n",
      "\u001b[1;32m~\\anaconda3\\lib\\site-packages\\ipykernel\\kernelbase.py\u001b[0m in \u001b[0;36m_input_request\u001b[1;34m(self, prompt, ident, parent, password)\u001b[0m\n\u001b[0;32m    902\u001b[0m             \u001b[1;32mexcept\u001b[0m \u001b[0mKeyboardInterrupt\u001b[0m\u001b[1;33m:\u001b[0m\u001b[1;33m\u001b[0m\u001b[1;33m\u001b[0m\u001b[0m\n\u001b[0;32m    903\u001b[0m                 \u001b[1;31m# re-raise KeyboardInterrupt, to truncate traceback\u001b[0m\u001b[1;33m\u001b[0m\u001b[1;33m\u001b[0m\u001b[1;33m\u001b[0m\u001b[0m\n\u001b[1;32m--> 904\u001b[1;33m                 \u001b[1;32mraise\u001b[0m \u001b[0mKeyboardInterrupt\u001b[0m\u001b[1;33m(\u001b[0m\u001b[1;34m\"Interrupted by user\"\u001b[0m\u001b[1;33m)\u001b[0m \u001b[1;32mfrom\u001b[0m \u001b[1;32mNone\u001b[0m\u001b[1;33m\u001b[0m\u001b[1;33m\u001b[0m\u001b[0m\n\u001b[0m\u001b[0;32m    905\u001b[0m             \u001b[1;32mexcept\u001b[0m \u001b[0mException\u001b[0m \u001b[1;32mas\u001b[0m \u001b[0me\u001b[0m\u001b[1;33m:\u001b[0m\u001b[1;33m\u001b[0m\u001b[1;33m\u001b[0m\u001b[0m\n\u001b[0;32m    906\u001b[0m                 \u001b[0mself\u001b[0m\u001b[1;33m.\u001b[0m\u001b[0mlog\u001b[0m\u001b[1;33m.\u001b[0m\u001b[0mwarning\u001b[0m\u001b[1;33m(\u001b[0m\u001b[1;34m\"Invalid Message:\"\u001b[0m\u001b[1;33m,\u001b[0m \u001b[0mexc_info\u001b[0m\u001b[1;33m=\u001b[0m\u001b[1;32mTrue\u001b[0m\u001b[1;33m)\u001b[0m\u001b[1;33m\u001b[0m\u001b[1;33m\u001b[0m\u001b[0m\n",
      "\u001b[1;31mKeyboardInterrupt\u001b[0m: Interrupted by user"
     ]
    }
   ],
   "source": [
    "while True:\n",
    "    n1 = int(input(\"Enter the 1st number : \"))\n",
    "    n2 = int(input(\"Enter the 2nd number : \"))\n",
    "    n3 = int(input(\"Enter the 3rd number : \"))\n",
    "\n",
    "    if n1>n2:  # n2,n1\n",
    "        if n1>n3:  # n3,n1\n",
    "           if n2>n3 : # n3,n2,n1\n",
    "               print(n3,n2,n1)\n",
    "           else:  # n2,n3,n1\n",
    "               print(n2,n3,n1)\n",
    "        else: #n1,n3\n",
    "           print(n2,n1,n3)\n",
    "    else: # n1,n2\n",
    "        if n2>n3:  # n3,n2\n",
    "           if n1>n3 : # n3,n1,n2\n",
    "               print(n3,n1,n2)\n",
    "           else:  # n1,n3,n2\n",
    "               print(n1,n3,n2)\n",
    "        else: #n2,n3\n",
    "           print(n1,n2,n3)\n"
   ]
  },
  {
   "cell_type": "markdown",
   "id": "de8bd9bd",
   "metadata": {},
   "source": [
    "###  Q8) Counting number"
   ]
  },
  {
   "cell_type": "code",
   "execution_count": 6,
   "id": "7a1c086d",
   "metadata": {
    "collapsed": true
   },
   "outputs": [
    {
     "name": "stdout",
     "output_type": "stream",
     "text": [
      "enter a num = 10\n",
      "1\n",
      "2\n",
      "3\n",
      "4\n",
      "5\n",
      "6\n",
      "7\n",
      "8\n",
      "9\n",
      "10\n",
      "Press ENTER to end the program\n"
     ]
    },
    {
     "data": {
      "text/plain": [
       "''"
      ]
     },
     "execution_count": 6,
     "metadata": {},
     "output_type": "execute_result"
    }
   ],
   "source": [
    "n=int(input('enter a num = '))\n",
    "\n",
    "for c in range(1,n+1):\n",
    "    print(c)\n",
    "\n",
    "input('Press ENTER to end the program')\n"
   ]
  },
  {
   "cell_type": "markdown",
   "id": "927f0942",
   "metadata": {},
   "source": [
    "### Q9) Even odd in list.py"
   ]
  },
  {
   "cell_type": "code",
   "execution_count": null,
   "id": "d941d7cb",
   "metadata": {},
   "outputs": [],
   "source": [
    "\n",
    "lst=list(eval(input('enter a list :\\n')))\n",
    "print('\\n(1) Even number in list are :\\n')\n",
    "for even in lst:\n",
    "    if even%2==0:\n",
    "        print(even)\n",
    "            \n",
    "\n",
    "print('\\n(2) Odd number in list are :\\n')\n",
    "for odd in lst:\n",
    "    if odd%2!=0:\n",
    "        print(odd)\n",
    "        \n",
    "\n",
    "print('\\n(3) Reverse order of given lst : \\n ')\n",
    "print(lst[-1:-len(lst)-1:-1])\n"
   ]
  },
  {
   "cell_type": "markdown",
   "id": "265afb54",
   "metadata": {},
   "source": [
    "### Q10) Exam practice question.py"
   ]
  },
  {
   "cell_type": "code",
   "execution_count": null,
   "id": "527b9c18",
   "metadata": {},
   "outputs": [],
   "source": [
    "# finding the minimum, maximum, mean of values stored in a tuple\n",
    "# print('1) Finding the minimum, maximum, mean of values stored in a tuple \\n')\n",
    "# \n",
    "# tup=eval(input('Enter integer tuple : '))\n",
    "# print('Maximum value = ',max(tup))\n",
    "# print('Minimum value = ',min(tup))\n",
    "# print('Mean of the values = ',sum(tup)/len(tup))\n",
    "# \n",
    "# print('\\n')\n",
    "\n",
    "\n",
    "\n",
    "# linear search on a tuple of numbers\n",
    "# print('2) linear search on a tuple of numbers \\n')\n",
    "# \n",
    "# tup2=eval(input('Enter a tuple of integers : '))\n",
    "# num=int(input('Enter the number you want to sarch in the tuple : '))\n",
    "# \n",
    "# if num in tup2:\n",
    "#     print('\\n',num,' is FOUND in the tuple at :',end=' ')\n",
    "#     \n",
    "#     for c in range(len(tup2)):\n",
    "#         if num==tup2[c]:\n",
    "#             print(c+1,end=' , ')\n",
    "#     \n",
    "# else:\n",
    "#     print('\\n',num,' is NOT FOUND in the tuple ')\n",
    "\n",
    "\n",
    "# counting the frequency of all the elements in a tuple\n",
    "print('3) counting the frequency of elements in a tuple \\n')\n",
    "\n",
    "tup3=eval(input('Enter a tuple : '))\n",
    "tup_3=sorted(tup3)\n",
    "# ln=len(tup_3)\n",
    "cnt=0\n",
    "\n",
    "for n in tup_3:\n",
    "    num=tup_3[0]\n",
    "    cnt=0\n",
    "    \n",
    "    for i in range(len(tup_3)):\n",
    "        if num==tup_3[i]:\n",
    "            cnt=cnt+1\n",
    "            \n",
    "        \n",
    "        else:\n",
    "            for dlt in range(cnt):\n",
    "                tup_3.remove(num)\n",
    "            break\n",
    "            \n",
    "    print('Frequency of ',num,' = ',cnt)\n",
    "    cnt=0\n"
   ]
  },
  {
   "cell_type": "markdown",
   "id": "5fb8c296",
   "metadata": {},
   "source": [
    "### Q11) Fibonacci series.py"
   ]
  },
  {
   "cell_type": "code",
   "execution_count": null,
   "id": "5b762590",
   "metadata": {},
   "outputs": [],
   "source": [
    "n=int(input('Enter a number upto which you want Fibonacci series = '))\n",
    "a=0\n",
    "b=1\n",
    "c=a+b\n",
    "print('using while loop :')\n",
    "print(a)\n",
    "print(b)\n",
    "\n",
    "while c<=n:\n",
    "    c=a+b\n",
    "    if c>n:\n",
    "        break\n",
    "    print(c)\n",
    "    a,b=b,c\n",
    "    \n",
    "    \n",
    "A=0\n",
    "B=1\n",
    "C=A+B\n",
    "print('using while loop :')\n",
    "print(A)\n",
    "print(B)\n",
    "for C in range(A,n+1):\n",
    "    C=A+B\n",
    "    if C>n:\n",
    "        break\n",
    "    print(C)\n",
    "    A,B=B,C"
   ]
  },
  {
   "cell_type": "markdown",
   "id": "4050cf26",
   "metadata": {},
   "source": [
    "### Q12) Find string.py"
   ]
  },
  {
   "cell_type": "code",
   "execution_count": 7,
   "id": "1e1935a3",
   "metadata": {
    "collapsed": true
   },
   "outputs": [
    {
     "name": "stdout",
     "output_type": "stream",
     "text": [
      "India , officially the Republic of India , is a country in South Asia . \n",
      "    It is the second most populous country , the seventh largest country by land area\n",
      "    and the most populous democracy in the world .  \n",
      "=========================================================================================\n",
      "What word you want to search : s\n",
      "\n",
      "\n",
      "India , officially the Republic of India , is a country in South Asia . \n",
      "    It is the second most populous country , the seventh largest country by land area\n",
      "    and the most populous democracy in the world .  \n",
      "=========================================================================================\n",
      "What word you want to search : the\n",
      "' the ' Keyword found on 4 position\n",
      "' the ' Keyword found on 18 position\n",
      "' the ' Keyword found on 24 position\n",
      "' the ' Keyword found on 32 position\n",
      "' the ' Keyword found on 37 position\n",
      "\n",
      "\n",
      "India , officially the Republic of India , is a country in South Asia . \n",
      "    It is the second most populous country , the seventh largest country by land area\n",
      "    and the most populous democracy in the world .  \n",
      "=========================================================================================\n"
     ]
    },
    {
     "ename": "KeyboardInterrupt",
     "evalue": "Interrupted by user",
     "output_type": "error",
     "traceback": [
      "\u001b[1;31m---------------------------------------------------------------------------\u001b[0m",
      "\u001b[1;31mKeyboardInterrupt\u001b[0m                         Traceback (most recent call last)",
      "\u001b[1;32m<ipython-input-7-d1dbe9aa4284>\u001b[0m in \u001b[0;36m<module>\u001b[1;34m\u001b[0m\n\u001b[0;32m      5\u001b[0m \u001b[1;33m\u001b[0m\u001b[0m\n\u001b[0;32m      6\u001b[0m     \u001b[0mprint\u001b[0m\u001b[1;33m(\u001b[0m\u001b[0msen\u001b[0m\u001b[1;33m,\u001b[0m\u001b[1;34m'\\n========================================================================================='\u001b[0m\u001b[1;33m)\u001b[0m\u001b[1;33m\u001b[0m\u001b[1;33m\u001b[0m\u001b[0m\n\u001b[1;32m----> 7\u001b[1;33m     \u001b[0mword\u001b[0m\u001b[1;33m=\u001b[0m\u001b[0minput\u001b[0m\u001b[1;33m(\u001b[0m\u001b[1;34m'What word you want to search : '\u001b[0m\u001b[1;33m)\u001b[0m\u001b[1;33m\u001b[0m\u001b[1;33m\u001b[0m\u001b[0m\n\u001b[0m\u001b[0;32m      8\u001b[0m \u001b[1;33m\u001b[0m\u001b[0m\n\u001b[0;32m      9\u001b[0m     \u001b[0mcount\u001b[0m\u001b[1;33m=\u001b[0m\u001b[1;36m0\u001b[0m\u001b[1;33m\u001b[0m\u001b[1;33m\u001b[0m\u001b[0m\n",
      "\u001b[1;32m~\\anaconda3\\lib\\site-packages\\ipykernel\\kernelbase.py\u001b[0m in \u001b[0;36mraw_input\u001b[1;34m(self, prompt)\u001b[0m\n\u001b[0;32m    858\u001b[0m                 \u001b[1;34m\"raw_input was called, but this frontend does not support input requests.\"\u001b[0m\u001b[1;33m\u001b[0m\u001b[1;33m\u001b[0m\u001b[0m\n\u001b[0;32m    859\u001b[0m             )\n\u001b[1;32m--> 860\u001b[1;33m         return self._input_request(str(prompt),\n\u001b[0m\u001b[0;32m    861\u001b[0m             \u001b[0mself\u001b[0m\u001b[1;33m.\u001b[0m\u001b[0m_parent_ident\u001b[0m\u001b[1;33m,\u001b[0m\u001b[1;33m\u001b[0m\u001b[1;33m\u001b[0m\u001b[0m\n\u001b[0;32m    862\u001b[0m             \u001b[0mself\u001b[0m\u001b[1;33m.\u001b[0m\u001b[0m_parent_header\u001b[0m\u001b[1;33m,\u001b[0m\u001b[1;33m\u001b[0m\u001b[1;33m\u001b[0m\u001b[0m\n",
      "\u001b[1;32m~\\anaconda3\\lib\\site-packages\\ipykernel\\kernelbase.py\u001b[0m in \u001b[0;36m_input_request\u001b[1;34m(self, prompt, ident, parent, password)\u001b[0m\n\u001b[0;32m    902\u001b[0m             \u001b[1;32mexcept\u001b[0m \u001b[0mKeyboardInterrupt\u001b[0m\u001b[1;33m:\u001b[0m\u001b[1;33m\u001b[0m\u001b[1;33m\u001b[0m\u001b[0m\n\u001b[0;32m    903\u001b[0m                 \u001b[1;31m# re-raise KeyboardInterrupt, to truncate traceback\u001b[0m\u001b[1;33m\u001b[0m\u001b[1;33m\u001b[0m\u001b[1;33m\u001b[0m\u001b[0m\n\u001b[1;32m--> 904\u001b[1;33m                 \u001b[1;32mraise\u001b[0m \u001b[0mKeyboardInterrupt\u001b[0m\u001b[1;33m(\u001b[0m\u001b[1;34m\"Interrupted by user\"\u001b[0m\u001b[1;33m)\u001b[0m \u001b[1;32mfrom\u001b[0m \u001b[1;32mNone\u001b[0m\u001b[1;33m\u001b[0m\u001b[1;33m\u001b[0m\u001b[0m\n\u001b[0m\u001b[0;32m    905\u001b[0m             \u001b[1;32mexcept\u001b[0m \u001b[0mException\u001b[0m \u001b[1;32mas\u001b[0m \u001b[0me\u001b[0m\u001b[1;33m:\u001b[0m\u001b[1;33m\u001b[0m\u001b[1;33m\u001b[0m\u001b[0m\n\u001b[0;32m    906\u001b[0m                 \u001b[0mself\u001b[0m\u001b[1;33m.\u001b[0m\u001b[0mlog\u001b[0m\u001b[1;33m.\u001b[0m\u001b[0mwarning\u001b[0m\u001b[1;33m(\u001b[0m\u001b[1;34m\"Invalid Message:\"\u001b[0m\u001b[1;33m,\u001b[0m \u001b[0mexc_info\u001b[0m\u001b[1;33m=\u001b[0m\u001b[1;32mTrue\u001b[0m\u001b[1;33m)\u001b[0m\u001b[1;33m\u001b[0m\u001b[1;33m\u001b[0m\u001b[0m\n",
      "\u001b[1;31mKeyboardInterrupt\u001b[0m: Interrupted by user"
     ]
    }
   ],
   "source": [
    "while True:\n",
    "    sen='''India , officially the Republic of India , is a country in South Asia . \n",
    "    It is the second most populous country , the seventh largest country by land area\n",
    "    and the most populous democracy in the world . '''\n",
    "\n",
    "    print(sen,'\\n=========================================================================================')\n",
    "    word=input('What word you want to search : ')\n",
    "\n",
    "    count=0\n",
    "\n",
    "    for i in sen.split():\n",
    "        count+=1\n",
    "        if word==i:\n",
    "            print('\\'',i,'\\'','Keyword found on',count,'position')\n",
    "            \n",
    "    print('\\n')\n"
   ]
  },
  {
   "cell_type": "markdown",
   "id": "4241fc9e",
   "metadata": {},
   "source": [
    "### Q13) Freq_of_all_tuple_element.py"
   ]
  },
  {
   "cell_type": "code",
   "execution_count": null,
   "id": "2e71d67f",
   "metadata": {},
   "outputs": [],
   "source": [
    "# counting the frequency of all the elements in a tuple\n",
    "print('3) counting the frequency of elements in a tuple \\n')\n",
    "\n",
    "tup3=eval(input('Enter a tuple : '))\n",
    "tup_3=sorted(tup3)                         #For ease\n",
    "\n",
    "cnt=0\n",
    "for n in range(0,len(tup_3)):\n",
    "    try:\n",
    "        num=tup_3[0]\n",
    "    except:\n",
    "        pass \n",
    "\n",
    "    for i in tup_3:\n",
    "        if num==i:\n",
    "            cnt=cnt+1\n",
    "    if cnt!=0:\n",
    "        print('Frequency of ',num,' = ',cnt)\n",
    "    else:\n",
    "        pass\n",
    "   \n",
    "    for dlt in range(cnt):               # REMOVING THE ELEMENTS COUNTED\n",
    "        tup_3.remove(num)\n",
    "    cnt=0\n"
   ]
  },
  {
   "cell_type": "markdown",
   "id": "5df302fc",
   "metadata": {},
   "source": [
    "### Q14) Greater of two numbers.py"
   ]
  },
  {
   "cell_type": "code",
   "execution_count": null,
   "id": "ab38e03c",
   "metadata": {},
   "outputs": [],
   "source": [
    "while True:\n",
    "    a=int(input('ENTER ANY INTEGER = '))\n",
    "    b=int(input('ENTER ANOTHER INTEGER = '))\n",
    "\n",
    "    if a>b:\n",
    "        print(a,'is greater than ',b)\n",
    "        \n",
    "    elif a==b:\n",
    "        print(a, ' and ' ,b, 'are same')\n",
    "        \n",
    "    else:\n",
    "        print(b,'is greater than ',a)\n"
   ]
  },
  {
   "cell_type": "markdown",
   "id": "df1591ce",
   "metadata": {},
   "source": [
    "### Q15) Leap year.py"
   ]
  },
  {
   "cell_type": "code",
   "execution_count": null,
   "id": "5137a8ca",
   "metadata": {},
   "outputs": [],
   "source": [
    "while True:\n",
    "    try:\n",
    "        year=int(input('Enter the year : '))\n",
    "        if year>0:\n",
    "            if year%4==0:   #every year divisible by 4 is a leap year.\n",
    "                print(year,' is a leap year.')\n",
    "            else:\n",
    "                print(year,' is not a leap year.')\n",
    "        else:\n",
    "            print('pagla gaye ho ka ?? year bhi kabhi negative hota hai')\n",
    "    except:\n",
    "        print('Provide positive integer value only.')\n"
   ]
  },
  {
   "cell_type": "markdown",
   "id": "213f6813",
   "metadata": {},
   "source": [
    "### Q16) List sorting(without using sort())"
   ]
  },
  {
   "cell_type": "code",
   "execution_count": null,
   "id": "afa94088",
   "metadata": {},
   "outputs": [],
   "source": [
    "lst=list(eval(input('Enter a list of numbers : ')))\n",
    "n_lst=[]\n",
    "print('Entered list : ',lst)\n",
    "\n",
    "for n in range(len(lst)):\n",
    "    elem=lst[0]\n",
    "\n",
    "    for e in lst:\n",
    "        if elem>e:\n",
    "                elem=e\n",
    "    n_lst.append(elem)\n",
    "    lst.remove(elem)\n",
    "\n",
    "\n",
    "print('Sorted list : ',n_lst)"
   ]
  },
  {
   "cell_type": "markdown",
   "id": "12eb48a4",
   "metadata": {},
   "source": [
    "### Q17) Max of list"
   ]
  },
  {
   "cell_type": "code",
   "execution_count": null,
   "id": "88dc8e4e",
   "metadata": {},
   "outputs": [],
   "source": [
    "lst=list(eval(input('Enter a list of numbers : ')))\n",
    "n_min=lst[0]\n",
    "n_max=lst[0]\n",
    "\n",
    "for num in lst:\n",
    "    if n_min>num:\n",
    "        n_min=num\n",
    "\n",
    "    if n_max<num:\n",
    "        n_max=num\n",
    "\n",
    "print('Minimum valued element in list : ',n_min)\n",
    "print('Maximum valued element in list : ',n_max)\n"
   ]
  },
  {
   "cell_type": "markdown",
   "id": "56d30f20",
   "metadata": {},
   "source": [
    "### Q18) Nested loop format"
   ]
  },
  {
   "cell_type": "code",
   "execution_count": 8,
   "id": "1402c9b9",
   "metadata": {
    "collapsed": true
   },
   "outputs": [
    {
     "name": "stdout",
     "output_type": "stream",
     "text": [
      "     n     n    n   n \n",
      "\n",
      "\n",
      "\n"
     ]
    }
   ],
   "source": [
    "n=4\n",
    "for j in range(4):\n",
    "    for i in range(n):\n",
    "        print(n*(\" \"),\"n\",end=\" \")\n",
    "        n-=1\n",
    "    print('')"
   ]
  },
  {
   "cell_type": "code",
   "execution_count": 10,
   "id": "1f9610b0",
   "metadata": {
    "collapsed": true
   },
   "outputs": [
    {
     "name": "stdout",
     "output_type": "stream",
     "text": [
      "(a)\n",
      "1 1 1 \n",
      "2 2 2 \n",
      "3 3 3 \n",
      "\n",
      "=======================\n",
      "\n",
      "(b)\n",
      "1 2 3 \n",
      "1 2 3 \n",
      "1 2 3 \n",
      "\n",
      "=======================\n",
      "\n",
      "(c)\n",
      "1 \n",
      "1 2 \n",
      "1 2 3 \n",
      "1 2 3 4 \n",
      "\n",
      "=======================\n",
      "\n",
      "(d)\n",
      "4 3 2 1 \n",
      "4 3 2 \n",
      "4 3 \n",
      "4 \n",
      "\n",
      "=======================\n",
      "\n",
      "(e)\n",
      "* \n",
      "* * \n",
      "* * * \n",
      "* * * * \n",
      "\n",
      "=======================\n",
      "\n",
      "(f)\n"
     ]
    }
   ],
   "source": [
    "print('(a)')\n",
    "for i in range(1,4):\n",
    "    for j in range(1,4):\n",
    "        print(i,end=\" \")\n",
    "    \n",
    "    print('')\n",
    "    \n",
    "print('\\n=======================\\n')\n",
    "\n",
    "\n",
    "print('(b)')\n",
    "for i in range(1,4):\n",
    "    for j in range(1,4):\n",
    "        print(j,end=\" \")\n",
    "    \n",
    "    print('')\n",
    "\n",
    "print('\\n=======================\\n')\n",
    "\n",
    "\n",
    "print('(c)')\n",
    "n=2\n",
    "for j in range(1,5):\n",
    "    for i in range(1,n):\n",
    "        print(i,end=\" \" )\n",
    "    n=n+1\n",
    "    print('')\n",
    "\n",
    "print('\\n=======================\\n')\n",
    "\n",
    "\n",
    "\n",
    "print('(d)')\n",
    "n=4\n",
    "m=0\n",
    "for j in range(4):\n",
    "    for i in range(n,m,-1):\n",
    "        print(i,end=\" \")\n",
    "    m+=1\n",
    "    print('')\n",
    "        \n",
    "        \n",
    "print('\\n=======================\\n')\n",
    "print('(e)')\n",
    "\n",
    "n=2\n",
    "for j in range(1,5):\n",
    "    for i in range(1,n):\n",
    "        print('*',end=\" \")\n",
    "    n=n+1\n",
    "    print('')\n",
    "    \n",
    "\n",
    "print('\\n=======================\\n')\n",
    "print('(f)')\n",
    "        "
   ]
  },
  {
   "cell_type": "markdown",
   "id": "85062f81",
   "metadata": {},
   "source": [
    "### Q19) No. of types in string.py"
   ]
  },
  {
   "cell_type": "code",
   "execution_count": 12,
   "id": "e00eaab2",
   "metadata": {
    "collapsed": true
   },
   "outputs": [
    {
     "name": "stdout",
     "output_type": "stream",
     "text": [
      "Enter the string : abhcad@$#l2356.:'AB\n",
      "Total number of uppercase letters in the sting =  2\n",
      "Total number of lowercase letters in the sting =  7\n",
      "Total number of alphabets in the sting =  9\n",
      "Total number of digits in the sting =  4\n"
     ]
    }
   ],
   "source": [
    "string=(input('Enter the string : '))\n",
    "up_lst=[]\n",
    "low_lst=[]\n",
    "digit_lst=[]\n",
    "\n",
    "for letter in string:\n",
    "    if letter==' ':\n",
    "        continue\n",
    "     \n",
    "    elif 'A'<=letter<='Z':\n",
    "        up_lst.append(letter)\n",
    "\n",
    "    elif 'a'<=letter<='z':\n",
    "            low_lst.append(letter)\n",
    "\n",
    "    elif '0'<=letter<='9':\n",
    "            digit_lst.append(letter)\n",
    "\n",
    "\n",
    "print('Total number of uppercase letters in the sting = ',len(up_lst))\n",
    "print('Total number of lowercase letters in the sting = ',len(low_lst))\n",
    "print('Total number of alphabets in the sting = ',len(up_lst)+len(low_lst))\n",
    "print('Total number of digits in the sting = ',len(digit_lst))\n"
   ]
  },
  {
   "cell_type": "markdown",
   "id": "f9e98b84",
   "metadata": {},
   "source": [
    "### Q20) No. of days in month.py"
   ]
  },
  {
   "cell_type": "code",
   "execution_count": 14,
   "id": "035c01f4",
   "metadata": {
    "collapsed": true
   },
   "outputs": [
    {
     "name": "stdout",
     "output_type": "stream",
     "text": [
      "(a)\n",
      "Enter the month name : april\n",
      "No. of days in April  =  30\n",
      "\n",
      "(b)\n",
      "Keys in Alphabetical order :  ['April', 'August', 'December', 'February', 'January', 'July', 'June', 'March', 'May', 'November', 'October', 'September']\n",
      "\n",
      "(c)\n",
      "Months having 31 days  : January , March , May , July , August , October , December , "
     ]
    }
   ],
   "source": [
    "dct={'January':31,'February':28,'March':31,'April':30,'May':31,'June':30,'July':31,'August':31,'September':30,'October':31,\n",
    "'November':30,'December':31}\n",
    "\n",
    "# (a)\n",
    "month=input('(a)\\nEnter the month name : ').capitalize()\n",
    "print('No. of days in',month,' = ',dct[month])\n",
    "\n",
    "# (b)\n",
    "mnth=[]\n",
    "for k in dct:\n",
    "    mnth.append(k)\n",
    "mnth.sort()\n",
    "print('\\n(b)\\nKeys in Alphabetical order : ',mnth)\n",
    "\n",
    "# (c)\n",
    "print('\\n(c)\\nMonths having 31 days ',end=' : ')\n",
    "for m in dct:\n",
    "    if dct[m]==31:\n",
    "        print(m,end=' , ')\n"
   ]
  },
  {
   "cell_type": "markdown",
   "id": "1267dde7",
   "metadata": {},
   "source": [
    "### Q21) Occurrence and count.py"
   ]
  },
  {
   "cell_type": "code",
   "execution_count": 15,
   "id": "b037d81e",
   "metadata": {
    "collapsed": true
   },
   "outputs": [
    {
     "name": "stdout",
     "output_type": "stream",
     "text": [
      "Enter a list of integers : \n",
      "Enter the element you want to search in the list :  \n",
      "\n",
      "The entered element  \"  \"  is found in the list at  and  1  position\n",
      "\n",
      "Total number of occurance of  \"  \"  in the list :  1\n",
      "\n",
      "\n",
      "\n",
      "Enter a list of integers : 1,4,5,6,23,7,12\n",
      "Enter the element you want to search in the list :  1\n",
      "\n",
      "The entered element  \" 1 \"  is found in the list at  and  1  position\n",
      "\n",
      "Total number of occurance of  \" 1 \"  in the list :  1\n",
      "\n",
      "\n",
      "\n"
     ]
    },
    {
     "ename": "KeyboardInterrupt",
     "evalue": "Interrupted by user",
     "output_type": "error",
     "traceback": [
      "\u001b[1;31m---------------------------------------------------------------------------\u001b[0m",
      "\u001b[1;31mKeyboardInterrupt\u001b[0m                         Traceback (most recent call last)",
      "\u001b[1;32m<ipython-input-15-768fa483635c>\u001b[0m in \u001b[0;36m<module>\u001b[1;34m\u001b[0m\n\u001b[0;32m      1\u001b[0m \u001b[1;32mwhile\u001b[0m \u001b[1;32mTrue\u001b[0m\u001b[1;33m:\u001b[0m\u001b[1;33m\u001b[0m\u001b[1;33m\u001b[0m\u001b[0m\n\u001b[1;32m----> 2\u001b[1;33m       \u001b[0mlst\u001b[0m\u001b[1;33m=\u001b[0m\u001b[0minput\u001b[0m\u001b[1;33m(\u001b[0m\u001b[1;34m'Enter a list of integers : '\u001b[0m\u001b[1;33m)\u001b[0m\u001b[1;33m\u001b[0m\u001b[1;33m\u001b[0m\u001b[0m\n\u001b[0m\u001b[0;32m      3\u001b[0m       \u001b[0mlst\u001b[0m\u001b[1;33m=\u001b[0m\u001b[0mlst\u001b[0m\u001b[1;33m.\u001b[0m\u001b[0msplit\u001b[0m\u001b[1;33m(\u001b[0m\u001b[1;34m','\u001b[0m\u001b[1;33m)\u001b[0m\u001b[1;33m\u001b[0m\u001b[1;33m\u001b[0m\u001b[0m\n\u001b[0;32m      4\u001b[0m       \u001b[0melem\u001b[0m\u001b[1;33m=\u001b[0m\u001b[0minput\u001b[0m\u001b[1;33m(\u001b[0m\u001b[1;34m'Enter the element you want to search in the list :  '\u001b[0m\u001b[1;33m)\u001b[0m\u001b[1;33m\u001b[0m\u001b[1;33m\u001b[0m\u001b[0m\n\u001b[0;32m      5\u001b[0m \u001b[1;33m\u001b[0m\u001b[0m\n",
      "\u001b[1;32m~\\anaconda3\\lib\\site-packages\\ipykernel\\kernelbase.py\u001b[0m in \u001b[0;36mraw_input\u001b[1;34m(self, prompt)\u001b[0m\n\u001b[0;32m    858\u001b[0m                 \u001b[1;34m\"raw_input was called, but this frontend does not support input requests.\"\u001b[0m\u001b[1;33m\u001b[0m\u001b[1;33m\u001b[0m\u001b[0m\n\u001b[0;32m    859\u001b[0m             )\n\u001b[1;32m--> 860\u001b[1;33m         return self._input_request(str(prompt),\n\u001b[0m\u001b[0;32m    861\u001b[0m             \u001b[0mself\u001b[0m\u001b[1;33m.\u001b[0m\u001b[0m_parent_ident\u001b[0m\u001b[1;33m,\u001b[0m\u001b[1;33m\u001b[0m\u001b[1;33m\u001b[0m\u001b[0m\n\u001b[0;32m    862\u001b[0m             \u001b[0mself\u001b[0m\u001b[1;33m.\u001b[0m\u001b[0m_parent_header\u001b[0m\u001b[1;33m,\u001b[0m\u001b[1;33m\u001b[0m\u001b[1;33m\u001b[0m\u001b[0m\n",
      "\u001b[1;32m~\\anaconda3\\lib\\site-packages\\ipykernel\\kernelbase.py\u001b[0m in \u001b[0;36m_input_request\u001b[1;34m(self, prompt, ident, parent, password)\u001b[0m\n\u001b[0;32m    902\u001b[0m             \u001b[1;32mexcept\u001b[0m \u001b[0mKeyboardInterrupt\u001b[0m\u001b[1;33m:\u001b[0m\u001b[1;33m\u001b[0m\u001b[1;33m\u001b[0m\u001b[0m\n\u001b[0;32m    903\u001b[0m                 \u001b[1;31m# re-raise KeyboardInterrupt, to truncate traceback\u001b[0m\u001b[1;33m\u001b[0m\u001b[1;33m\u001b[0m\u001b[1;33m\u001b[0m\u001b[0m\n\u001b[1;32m--> 904\u001b[1;33m                 \u001b[1;32mraise\u001b[0m \u001b[0mKeyboardInterrupt\u001b[0m\u001b[1;33m(\u001b[0m\u001b[1;34m\"Interrupted by user\"\u001b[0m\u001b[1;33m)\u001b[0m \u001b[1;32mfrom\u001b[0m \u001b[1;32mNone\u001b[0m\u001b[1;33m\u001b[0m\u001b[1;33m\u001b[0m\u001b[0m\n\u001b[0m\u001b[0;32m    905\u001b[0m             \u001b[1;32mexcept\u001b[0m \u001b[0mException\u001b[0m \u001b[1;32mas\u001b[0m \u001b[0me\u001b[0m\u001b[1;33m:\u001b[0m\u001b[1;33m\u001b[0m\u001b[1;33m\u001b[0m\u001b[0m\n\u001b[0;32m    906\u001b[0m                 \u001b[0mself\u001b[0m\u001b[1;33m.\u001b[0m\u001b[0mlog\u001b[0m\u001b[1;33m.\u001b[0m\u001b[0mwarning\u001b[0m\u001b[1;33m(\u001b[0m\u001b[1;34m\"Invalid Message:\"\u001b[0m\u001b[1;33m,\u001b[0m \u001b[0mexc_info\u001b[0m\u001b[1;33m=\u001b[0m\u001b[1;32mTrue\u001b[0m\u001b[1;33m)\u001b[0m\u001b[1;33m\u001b[0m\u001b[1;33m\u001b[0m\u001b[0m\n",
      "\u001b[1;31mKeyboardInterrupt\u001b[0m: Interrupted by user"
     ]
    }
   ],
   "source": [
    "while True:\n",
    "      lst=input('Enter a list of integers : ')\n",
    "      lst=lst.split(',')\n",
    "      elem=input('Enter the element you want to search in the list :  ')\n",
    "\n",
    "      cnt_lst=[]\n",
    "      count=1\n",
    "      for i in  lst:\n",
    "            if i==elem:\n",
    "                  cnt_lst.append(count)\n",
    "            count+=1\n",
    "\n",
    "      if len(cnt_lst)==0:\n",
    "            print('\\nThe entered element is not found in the list')\n",
    "      else:\n",
    "            print('\\nThe entered element ','\"',elem,'\"',' is found in the list at ',end='')\n",
    "\n",
    "            for j  in cnt_lst[0:len(cnt_lst)-1]:\n",
    "                  print(j,end=' , ')\n",
    "                  \n",
    "            print(' and ',cnt_lst[len(cnt_lst)-1],' position')\n",
    "            \n",
    "    \n",
    "            \n",
    "            print('\\nTotal number of occurance of ','\"',elem,'\"',' in the list : ',len(cnt_lst))\n",
    "    \n",
    "      print('\\n\\n')"
   ]
  },
  {
   "cell_type": "markdown",
   "id": "9c718ed8",
   "metadata": {},
   "source": [
    "### Q22) Odd even while loop.py"
   ]
  },
  {
   "cell_type": "code",
   "execution_count": null,
   "id": "d4a63f03",
   "metadata": {},
   "outputs": [],
   "source": [
    "while True:\n",
    "    a=int(input('Enter a number = '))\n",
    "    c=0\n",
    "    b=1\n",
    "    print('even numbers upto ',a,' are :')\n",
    "    while (c<=a):\n",
    "        print(c)\n",
    "        c+=2\n",
    "\n",
    "    print('odd numbers upto ',a,' are :')\n",
    "    while (b<=a):\n",
    "        print(b)\n",
    "        b+=2\n",
    "        \n",
    "      \n"
   ]
  },
  {
   "cell_type": "markdown",
   "id": "9c0e751c",
   "metadata": {},
   "source": [
    "### Q23) Odd even.py"
   ]
  },
  {
   "cell_type": "code",
   "execution_count": null,
   "id": "53643d59",
   "metadata": {},
   "outputs": [],
   "source": [
    "while True:\n",
    "    n=int(input('enter a +ve number = '))\n",
    "    print('even numbers upto ',n)\n",
    "    for e in range(2,n+1,2):\n",
    "        print(e)\n",
    "        if e==n:\n",
    "            break\n",
    "\n",
    "\n",
    "    print('\\n\\n')\n",
    "\n",
    "\n",
    "    print('odd numbers upto ',n)\n",
    "    for o in range(1,n+1,2):\n",
    "        print(o)\n",
    "\n",
    "\n",
    "#     else:\n",
    "#         print('even numbers upto ',n)\n",
    "#         for e in range(2,n+1,2):\n",
    "#             print(e)\n",
    "#             if e==n-1:\n",
    "#                 break\n",
    "# \n",
    "# \n",
    "#         print('\\n\\n')    \n",
    "# \n",
    "# \n",
    "#         print('odd numbers upto ',n)    \n",
    "#         for o in range(1,n+1,2):\n",
    "#             print(o)\n",
    "\n",
    "    print('\\n\\n')\n",
    "    print('\\n\\n')\n",
    "    print('\\n\\n')\n"
   ]
  },
  {
   "cell_type": "markdown",
   "id": "603c0eea",
   "metadata": {},
   "source": [
    "### Q23) One upper one lower.py"
   ]
  },
  {
   "cell_type": "code",
   "execution_count": 16,
   "id": "63d43aad",
   "metadata": {
    "collapsed": true
   },
   "outputs": [
    {
     "name": "stdout",
     "output_type": "stream",
     "text": [
      "Enter a string :- mera naam chun chun chun\n",
      "mErA NaAm cHuN ChUn cHuN\n"
     ]
    }
   ],
   "source": [
    "string=input('Enter a string :- ')\n",
    "new_str=''\n",
    "\n",
    "\n",
    "for n in range(0,len(string),2):\n",
    "    new_str+=string[n].lower()\n",
    "    if n+1>len(string)-1:\n",
    "        break\n",
    "    new_str+=string[n+1].upper()\n",
    "\n",
    "print(new_str)\n"
   ]
  },
  {
   "cell_type": "markdown",
   "id": "b154bf2d",
   "metadata": {},
   "source": [
    "### Q24) Palindrome.py"
   ]
  },
  {
   "cell_type": "code",
   "execution_count": 17,
   "id": "e79f9b96",
   "metadata": {
    "collapsed": true
   },
   "outputs": [
    {
     "name": "stdout",
     "output_type": "stream",
     "text": [
      "Enter the string :- hbh\n",
      "\" hbh \"  is a palindrome\n"
     ]
    }
   ],
   "source": [
    "string=input('Enter the string :- ')\n",
    "rev_str = string[::-1]\n",
    "if rev_str==string:\n",
    "    print('\"',string,'\"',' is a palindrome')\n",
    "else:\n",
    "    print('\"',string,'\"',' is not a palindrome')\n",
    "    "
   ]
  },
  {
   "cell_type": "markdown",
   "id": "eadedca9",
   "metadata": {},
   "source": [
    "### Q25) Power and exponent.py"
   ]
  },
  {
   "cell_type": "code",
   "execution_count": null,
   "id": "c7a2256c",
   "metadata": {},
   "outputs": [],
   "source": [
    "while True:\n",
    "    e=float(input('Enter the number : '))\n",
    "    p=int(input('Enter the power : '))\n",
    "    \n",
    "#     if p!=0:\n",
    "#         n=e\n",
    "#         \n",
    "#         if p>0:\n",
    "#             c=1\n",
    "#             while c<p:\n",
    "#                 e=e*n\n",
    "#                 c+=1\n",
    "#             print('\\n')\n",
    "#             print(n,'to the power',p,' = ',e)\n",
    "#         \n",
    "#         if p<0:\n",
    "#             c=-1\n",
    "#             while c>p:\n",
    "#                 e=e*n\n",
    "#                 c-=1\n",
    "#             print('\\n')\n",
    "#             print(n,'to the power',p,' = ',(1/e))\n",
    "\n",
    "    if p==0:\n",
    "        print(e,'to the power',p,' = ',1)\n",
    "        \n",
    "    if p>0:\n",
    "        n=e\n",
    "        for d in range(1,p):\n",
    "            e=e*n\n",
    "            print('\\n')\n",
    "        print(n,'to the power',p,' = ',e)\n",
    "\n",
    "    print('\\n\\n=======================================\\n')"
   ]
  },
  {
   "cell_type": "markdown",
   "id": "01737275",
   "metadata": {},
   "source": [
    "### Q26) Pyramid design.py"
   ]
  },
  {
   "cell_type": "code",
   "execution_count": 1,
   "id": "7986ebcf",
   "metadata": {
    "collapsed": true
   },
   "outputs": [
    {
     "name": "stdout",
     "output_type": "stream",
     "text": [
      "\n",
      "\n",
      "PYRAMID : \n",
      "\n",
      "\n",
      "                                         o \n",
      "                                       o o o \n",
      "                                     o o o o o \n",
      "                                   o o o o o o o \n",
      "                                 o o o o o o o o o \n",
      "                               o o o o o o o o o o o \n",
      "                             o o o o o o o o o o o o o \n",
      "                           o o o o o o o o o o o o o o o \n",
      "                         o o o o o o o o o o o o o o o o o \n",
      "                       o o o o o o o o o o o o o o o o o o o \n",
      "                     o o o o o o o o o o o o o o o o o o o o o \n",
      "                   o o o o o o o o o o o o o o o o o o o o o o o \n",
      "                 o o o o o o o o o o o o o o o o o o o o o o o o o \n",
      "               o o o o o o o o o o o o o o o o o o o o o o o o o o o \n",
      "             o o o o o o o o o o o o o o o o o o o o o o o o o o o o o \n",
      "           o o o o o o o o o o o o o o o o o o o o o o o o o o o o o o o \n",
      "         o o o o o o o o o o o o o o o o o o o o o o o o o o o o o o o o o \n",
      "       o o o o o o o o o o o o o o o o o o o o o o o o o o o o o o o o o o o \n",
      "     o o o o o o o o o o o o o o o o o o o o o o o o o o o o o o o o o o o o o \n",
      "   o o o o o o o o o o o o o o o o o o o o o o o o o o o o o o o o o o o o o o o \n",
      "\n",
      "\n",
      "\n"
     ]
    },
    {
     "ename": "KeyboardInterrupt",
     "evalue": "Interrupted by user",
     "output_type": "error",
     "traceback": [
      "\u001b[1;31m---------------------------------------------------------------------------\u001b[0m",
      "\u001b[1;31mKeyboardInterrupt\u001b[0m                         Traceback (most recent call last)",
      "\u001b[1;32m~\\AppData\\Local\\Temp/ipykernel_9780/2848367078.py\u001b[0m in \u001b[0;36m<module>\u001b[1;34m\u001b[0m\n\u001b[0;32m      1\u001b[0m \u001b[1;32mwhile\u001b[0m \u001b[1;32mTrue\u001b[0m\u001b[1;33m:\u001b[0m\u001b[1;33m\u001b[0m\u001b[1;33m\u001b[0m\u001b[0m\n\u001b[0;32m      2\u001b[0m \u001b[1;33m\u001b[0m\u001b[0m\n\u001b[1;32m----> 3\u001b[1;33m     \u001b[0mpht\u001b[0m\u001b[1;33m=\u001b[0m\u001b[0mint\u001b[0m\u001b[1;33m(\u001b[0m\u001b[0minput\u001b[0m\u001b[1;33m(\u001b[0m\u001b[1;34m'Please enter the required height of the pyramid (in +ve integer) : '\u001b[0m\u001b[1;33m)\u001b[0m\u001b[1;33m)\u001b[0m\u001b[1;33m\u001b[0m\u001b[1;33m\u001b[0m\u001b[0m\n\u001b[0m\u001b[0;32m      4\u001b[0m     \u001b[0mpchar\u001b[0m\u001b[1;33m=\u001b[0m\u001b[0mstr\u001b[0m\u001b[1;33m(\u001b[0m\u001b[0minput\u001b[0m\u001b[1;33m(\u001b[0m\u001b[1;34m'Please choose the character you want to print in the form of Pyramid : '\u001b[0m\u001b[1;33m)\u001b[0m\u001b[1;33m)\u001b[0m\u001b[1;33m\u001b[0m\u001b[1;33m\u001b[0m\u001b[0m\n\u001b[0;32m      5\u001b[0m \u001b[1;33m\u001b[0m\u001b[0m\n",
      "\u001b[1;32m~\\anaconda3\\lib\\site-packages\\ipykernel\\kernelbase.py\u001b[0m in \u001b[0;36mraw_input\u001b[1;34m(self, prompt)\u001b[0m\n\u001b[0;32m   1004\u001b[0m                 \u001b[1;34m\"raw_input was called, but this frontend does not support input requests.\"\u001b[0m\u001b[1;33m\u001b[0m\u001b[1;33m\u001b[0m\u001b[0m\n\u001b[0;32m   1005\u001b[0m             )\n\u001b[1;32m-> 1006\u001b[1;33m         return self._input_request(\n\u001b[0m\u001b[0;32m   1007\u001b[0m             \u001b[0mstr\u001b[0m\u001b[1;33m(\u001b[0m\u001b[0mprompt\u001b[0m\u001b[1;33m)\u001b[0m\u001b[1;33m,\u001b[0m\u001b[1;33m\u001b[0m\u001b[1;33m\u001b[0m\u001b[0m\n\u001b[0;32m   1008\u001b[0m             \u001b[0mself\u001b[0m\u001b[1;33m.\u001b[0m\u001b[0m_parent_ident\u001b[0m\u001b[1;33m[\u001b[0m\u001b[1;34m\"shell\"\u001b[0m\u001b[1;33m]\u001b[0m\u001b[1;33m,\u001b[0m\u001b[1;33m\u001b[0m\u001b[1;33m\u001b[0m\u001b[0m\n",
      "\u001b[1;32m~\\anaconda3\\lib\\site-packages\\ipykernel\\kernelbase.py\u001b[0m in \u001b[0;36m_input_request\u001b[1;34m(self, prompt, ident, parent, password)\u001b[0m\n\u001b[0;32m   1049\u001b[0m             \u001b[1;32mexcept\u001b[0m \u001b[0mKeyboardInterrupt\u001b[0m\u001b[1;33m:\u001b[0m\u001b[1;33m\u001b[0m\u001b[1;33m\u001b[0m\u001b[0m\n\u001b[0;32m   1050\u001b[0m                 \u001b[1;31m# re-raise KeyboardInterrupt, to truncate traceback\u001b[0m\u001b[1;33m\u001b[0m\u001b[1;33m\u001b[0m\u001b[0m\n\u001b[1;32m-> 1051\u001b[1;33m                 \u001b[1;32mraise\u001b[0m \u001b[0mKeyboardInterrupt\u001b[0m\u001b[1;33m(\u001b[0m\u001b[1;34m\"Interrupted by user\"\u001b[0m\u001b[1;33m)\u001b[0m \u001b[1;32mfrom\u001b[0m \u001b[1;32mNone\u001b[0m\u001b[1;33m\u001b[0m\u001b[1;33m\u001b[0m\u001b[0m\n\u001b[0m\u001b[0;32m   1052\u001b[0m             \u001b[1;32mexcept\u001b[0m \u001b[0mException\u001b[0m\u001b[1;33m:\u001b[0m\u001b[1;33m\u001b[0m\u001b[1;33m\u001b[0m\u001b[0m\n\u001b[0;32m   1053\u001b[0m                 \u001b[0mself\u001b[0m\u001b[1;33m.\u001b[0m\u001b[0mlog\u001b[0m\u001b[1;33m.\u001b[0m\u001b[0mwarning\u001b[0m\u001b[1;33m(\u001b[0m\u001b[1;34m\"Invalid Message:\"\u001b[0m\u001b[1;33m,\u001b[0m \u001b[0mexc_info\u001b[0m\u001b[1;33m=\u001b[0m\u001b[1;32mTrue\u001b[0m\u001b[1;33m)\u001b[0m\u001b[1;33m\u001b[0m\u001b[1;33m\u001b[0m\u001b[0m\n",
      "\u001b[1;31mKeyboardInterrupt\u001b[0m: Interrupted by user"
     ]
    }
   ],
   "source": [
    "while True:\n",
    "\n",
    "    pht=int(input('Please enter the required height of the pyramid (in +ve integer) : '))\n",
    "    pchar=str(input('Please choose the character you want to print in the form of Pyramid : '))\n",
    "    \n",
    "    \n",
    "    print('\\n\\nPYRAMID : \\n\\n')\n",
    "\n",
    "    n=1\n",
    "\n",
    "    for i in range(pht,0,-1):\n",
    "        print(' '*i*int(len(pchar)+1),(pchar+' ')*int(n))\n",
    "        n+=2\n",
    "\n",
    "    print('\\n\\n')\n",
    "    \n"
   ]
  },
  {
   "cell_type": "markdown",
   "id": "d20bc532",
   "metadata": {},
   "source": [
    "### Q27) Random element from list.py"
   ]
  },
  {
   "cell_type": "code",
   "execution_count": 19,
   "id": "3198fb9f",
   "metadata": {
    "collapsed": true
   },
   "outputs": [
    {
     "name": "stdout",
     "output_type": "stream",
     "text": [
      "Enter a list : 1,2,3,5\n",
      "Randomly selected element from the list :  3\n"
     ]
    }
   ],
   "source": [
    "import random\n",
    "lst=list(eval(input('Enter a list : ')))\n",
    "e = random.randrange(0,len(lst))\n",
    "print('Randomly selected element from the list : ',lst[e])\n"
   ]
  },
  {
   "cell_type": "markdown",
   "id": "22c6d751",
   "metadata": {},
   "source": [
    "### Q28) Rectangles.py"
   ]
  },
  {
   "cell_type": "code",
   "execution_count": null,
   "id": "9dc06828",
   "metadata": {},
   "outputs": [],
   "source": [
    "#Area & Perimeter of rectangle\n",
    "while True:\n",
    "    l=float(input('Enter length of rectangle ='))\n",
    "    b=float(input('Enter breadth of rectangle ='))\n",
    "    area=l*b\n",
    "    peri=2*(l+b)\n",
    "\n",
    "    if l>0 and b>0:\n",
    "        print('Area of rectangle = ', area)\n",
    "        print('Perimeter of rectangle = ', peri)\n",
    "        print('----------------------------------\\n----------------------------------\\n----------------------------------')\n",
    "        \n",
    "\n",
    "    \n",
    "        \n",
    "    else:\n",
    "        print('please enter +ve numbers since distance cannot be negative')\n",
    "        print('----------------------------------\\n----------------------------------\\n----------------------------------')\n"
   ]
  },
  {
   "cell_type": "markdown",
   "id": "527b42d8",
   "metadata": {},
   "source": [
    "### Q29) Second Largest number.py"
   ]
  },
  {
   "cell_type": "code",
   "execution_count": null,
   "id": "9a84367b",
   "metadata": {},
   "outputs": [],
   "source": [
    "while True:\n",
    "    n1 = int(input(\"Enter the 1st number : \"))\n",
    "    n2 = int(input(\"Enter the 2nd number : \"))\n",
    "    n3 = int(input(\"Enter the 3rd number : \"))\n",
    "\n",
    "    if n2<n1<n3 or n2>n1>n3:\n",
    "        print('Second largest number is ',n1)\n",
    "    elif n1<n2<n3 or n1>n2>n3:\n",
    "        print('Second largest number is ',n2)\n",
    "    else:\n",
    "        print('Second largest number is ',n3)\n",
    "    print('\\n\\n=======================================\\n')"
   ]
  },
  {
   "cell_type": "markdown",
   "id": "4757c8ee",
   "metadata": {},
   "source": [
    "### Q30) Simple Interest.py"
   ]
  },
  {
   "cell_type": "code",
   "execution_count": null,
   "id": "b4c9d578",
   "metadata": {},
   "outputs": [],
   "source": [
    "print('hello ! I am a simple interest calculator\\n')\n",
    "while True:\n",
    "    p=float(input('What is the Principal amount :-'))\n",
    "    t=float(input('What is the time period(in year) :-'))\n",
    "    r=float(input('What is annual rate :-'))\n",
    "\n",
    "    print('------------------------------------')\n",
    "    print('------------------------------------')\n",
    "    SI=(p*r*t)/100\n",
    "    A=p+SI\n",
    "\n",
    "\n",
    "\n",
    "    if p>0 and r>0 and t>0:\n",
    "        print('Simple Interest = ','',SI)\n",
    "\n",
    "        if t>1:\n",
    "            print('Final amount at the end of ', t ,'years = ','',A)\n",
    "        else:\n",
    "            print('Final amount at the end of ', t ,'year = ','',A)\n",
    "\n",
    "    else:\n",
    "        print('PRINCIPAL INTEREST , TIME PERIOD , ANNUAL RATE SHOULD BE POSITIVE')\n",
    "        \n",
    "\n",
    "\n",
    "    print('************----------*************')\n",
    "    print('************----------*************')\n"
   ]
  },
  {
   "cell_type": "markdown",
   "id": "4df303de",
   "metadata": {},
   "source": [
    "### Q31) Square of n natural numbers.py"
   ]
  },
  {
   "cell_type": "code",
   "execution_count": 2,
   "id": "38d9df04",
   "metadata": {
    "collapsed": true
   },
   "outputs": [
    {
     "name": "stdout",
     "output_type": "stream",
     "text": [
      "1 square =  1\n",
      "2 square =  4\n",
      "3 square =  9\n",
      "4 square =  16\n",
      "5 square =  25\n",
      "6 square =  36\n",
      "7 square =  49\n",
      "8 square =  64\n",
      "9 square =  81\n",
      "10 square =  100\n",
      "11 square =  121\n",
      "12 square =  144\n",
      "13 square =  169\n",
      "14 square =  196\n",
      "15 square =  225\n",
      "16 square =  256\n",
      "17 square =  289\n",
      "18 square =  324\n",
      "19 square =  361\n",
      "20 square =  400\n"
     ]
    },
    {
     "ename": "KeyboardInterrupt",
     "evalue": "Interrupted by user",
     "output_type": "error",
     "traceback": [
      "\u001b[1;31m---------------------------------------------------------------------------\u001b[0m",
      "\u001b[1;31mKeyboardInterrupt\u001b[0m                         Traceback (most recent call last)",
      "\u001b[1;32m~\\AppData\\Local\\Temp/ipykernel_9780/4039506443.py\u001b[0m in \u001b[0;36m<module>\u001b[1;34m\u001b[0m\n\u001b[0;32m      1\u001b[0m \u001b[1;32mwhile\u001b[0m \u001b[1;32mTrue\u001b[0m\u001b[1;33m:\u001b[0m\u001b[1;33m\u001b[0m\u001b[1;33m\u001b[0m\u001b[0m\n\u001b[1;32m----> 2\u001b[1;33m     \u001b[0ma\u001b[0m\u001b[1;33m=\u001b[0m\u001b[0mint\u001b[0m\u001b[1;33m(\u001b[0m\u001b[0minput\u001b[0m\u001b[1;33m(\u001b[0m\u001b[1;34m'Enter a number upto which you want the squares = '\u001b[0m\u001b[1;33m)\u001b[0m\u001b[1;33m)\u001b[0m\u001b[1;33m\u001b[0m\u001b[1;33m\u001b[0m\u001b[0m\n\u001b[0m\u001b[0;32m      3\u001b[0m     \u001b[0mc\u001b[0m\u001b[1;33m=\u001b[0m\u001b[1;36m1\u001b[0m\u001b[1;33m\u001b[0m\u001b[1;33m\u001b[0m\u001b[0m\n\u001b[0;32m      4\u001b[0m     \u001b[1;32mwhile\u001b[0m \u001b[1;33m(\u001b[0m\u001b[0mc\u001b[0m\u001b[1;33m<=\u001b[0m\u001b[0ma\u001b[0m\u001b[1;33m)\u001b[0m\u001b[1;33m:\u001b[0m\u001b[1;33m\u001b[0m\u001b[1;33m\u001b[0m\u001b[0m\n\u001b[0;32m      5\u001b[0m         \u001b[0mprint\u001b[0m\u001b[1;33m(\u001b[0m\u001b[0mc\u001b[0m\u001b[1;33m,\u001b[0m\u001b[1;34m'square = '\u001b[0m\u001b[1;33m,\u001b[0m\u001b[0mc\u001b[0m\u001b[1;33m**\u001b[0m\u001b[1;36m2\u001b[0m\u001b[1;33m)\u001b[0m\u001b[1;33m\u001b[0m\u001b[1;33m\u001b[0m\u001b[0m\n",
      "\u001b[1;32m~\\anaconda3\\lib\\site-packages\\ipykernel\\kernelbase.py\u001b[0m in \u001b[0;36mraw_input\u001b[1;34m(self, prompt)\u001b[0m\n\u001b[0;32m   1004\u001b[0m                 \u001b[1;34m\"raw_input was called, but this frontend does not support input requests.\"\u001b[0m\u001b[1;33m\u001b[0m\u001b[1;33m\u001b[0m\u001b[0m\n\u001b[0;32m   1005\u001b[0m             )\n\u001b[1;32m-> 1006\u001b[1;33m         return self._input_request(\n\u001b[0m\u001b[0;32m   1007\u001b[0m             \u001b[0mstr\u001b[0m\u001b[1;33m(\u001b[0m\u001b[0mprompt\u001b[0m\u001b[1;33m)\u001b[0m\u001b[1;33m,\u001b[0m\u001b[1;33m\u001b[0m\u001b[1;33m\u001b[0m\u001b[0m\n\u001b[0;32m   1008\u001b[0m             \u001b[0mself\u001b[0m\u001b[1;33m.\u001b[0m\u001b[0m_parent_ident\u001b[0m\u001b[1;33m[\u001b[0m\u001b[1;34m\"shell\"\u001b[0m\u001b[1;33m]\u001b[0m\u001b[1;33m,\u001b[0m\u001b[1;33m\u001b[0m\u001b[1;33m\u001b[0m\u001b[0m\n",
      "\u001b[1;32m~\\anaconda3\\lib\\site-packages\\ipykernel\\kernelbase.py\u001b[0m in \u001b[0;36m_input_request\u001b[1;34m(self, prompt, ident, parent, password)\u001b[0m\n\u001b[0;32m   1049\u001b[0m             \u001b[1;32mexcept\u001b[0m \u001b[0mKeyboardInterrupt\u001b[0m\u001b[1;33m:\u001b[0m\u001b[1;33m\u001b[0m\u001b[1;33m\u001b[0m\u001b[0m\n\u001b[0;32m   1050\u001b[0m                 \u001b[1;31m# re-raise KeyboardInterrupt, to truncate traceback\u001b[0m\u001b[1;33m\u001b[0m\u001b[1;33m\u001b[0m\u001b[0m\n\u001b[1;32m-> 1051\u001b[1;33m                 \u001b[1;32mraise\u001b[0m \u001b[0mKeyboardInterrupt\u001b[0m\u001b[1;33m(\u001b[0m\u001b[1;34m\"Interrupted by user\"\u001b[0m\u001b[1;33m)\u001b[0m \u001b[1;32mfrom\u001b[0m \u001b[1;32mNone\u001b[0m\u001b[1;33m\u001b[0m\u001b[1;33m\u001b[0m\u001b[0m\n\u001b[0m\u001b[0;32m   1052\u001b[0m             \u001b[1;32mexcept\u001b[0m \u001b[0mException\u001b[0m\u001b[1;33m:\u001b[0m\u001b[1;33m\u001b[0m\u001b[1;33m\u001b[0m\u001b[0m\n\u001b[0;32m   1053\u001b[0m                 \u001b[0mself\u001b[0m\u001b[1;33m.\u001b[0m\u001b[0mlog\u001b[0m\u001b[1;33m.\u001b[0m\u001b[0mwarning\u001b[0m\u001b[1;33m(\u001b[0m\u001b[1;34m\"Invalid Message:\"\u001b[0m\u001b[1;33m,\u001b[0m \u001b[0mexc_info\u001b[0m\u001b[1;33m=\u001b[0m\u001b[1;32mTrue\u001b[0m\u001b[1;33m)\u001b[0m\u001b[1;33m\u001b[0m\u001b[1;33m\u001b[0m\u001b[0m\n",
      "\u001b[1;31mKeyboardInterrupt\u001b[0m: Interrupted by user"
     ]
    }
   ],
   "source": [
    "while True:\n",
    "    a=int(input('Enter a number upto which you want the squares = '))\n",
    "    c=1\n",
    "    while (c<=a):\n",
    "        print(c,'square = ',c**2)\n",
    "        c+=1\n",
    "        \n"
   ]
  },
  {
   "cell_type": "markdown",
   "id": "4d8c2426",
   "metadata": {},
   "source": [
    "### Q32) Square.py"
   ]
  },
  {
   "cell_type": "code",
   "execution_count": null,
   "id": "4a31c5af",
   "metadata": {},
   "outputs": [],
   "source": [
    "#Area & Perimeter of square\n",
    "while True:\n",
    "    l=float(input('Enter length of one side of the square ='))\n",
    "    \n",
    "    area=l*l\n",
    "    peri=4*l\n",
    "\n",
    "    if l>0 :\n",
    "        print('Area of square = ', area)\n",
    "        print('Perimeter of square = ', peri)\n",
    "        print('----------------------------------\\n----------------------------------\\n----------------------------------')\n",
    "        \n",
    "\n",
    "    \n",
    "        \n",
    "    else:\n",
    "        print('please enter +ve numbers since distance cannot be negative')\n",
    "        print('----------------------------------\\n----------------------------------\\n----------------------------------')\n"
   ]
  },
  {
   "cell_type": "markdown",
   "id": "b6485b3f",
   "metadata": {},
   "source": [
    "### Q33) Swapping values"
   ]
  },
  {
   "cell_type": "code",
   "execution_count": null,
   "id": "1be58a88",
   "metadata": {},
   "outputs": [],
   "source": [
    "while True:\n",
    "    x=input('ENTER ANYTHING = ')\n",
    "    y=input('ENTER ANYTHING EXCEPT THE PREVIOUS INPUT = ')\n",
    "    print('your entered values :- ')\n",
    "    print('A = ',x)\n",
    "    print('B = ',y)\n",
    "    print('After swap........')\n",
    "    x,y=y,x\n",
    "    print('A = ',x)\n",
    "    print('B = ',y)\n",
    "\n",
    "    \n"
   ]
  },
  {
   "cell_type": "markdown",
   "id": "c34d8972",
   "metadata": {},
   "source": [
    "### Q34) Tables while loop"
   ]
  },
  {
   "cell_type": "code",
   "execution_count": 3,
   "id": "8af2c4b7",
   "metadata": {
    "collapsed": true
   },
   "outputs": [
    {
     "name": "stdout",
     "output_type": "stream",
     "text": [
      "16 x 1 = 16\n",
      "16 x 2 = 32\n",
      "16 x 3 = 48\n",
      "16 x 4 = 64\n",
      "16 x 5 = 80\n",
      "16 x 6 = 96\n",
      "16 x 7 = 112\n",
      "16 x 8 = 128\n",
      "16 x 9 = 144\n",
      "16 x 10 = 160\n",
      "THE END\n",
      "JINGALALA HU HU\n",
      "16 x 1 = 16\n",
      "16 x 2 = 32\n",
      "16 x 3 = 48\n",
      "16 x 4 = 64\n",
      "16 x 5 = 80\n",
      "16 x 6 = 96\n",
      "16 x 7 = 112\n",
      "16 x 8 = 128\n",
      "16 x 9 = 144\n",
      "16 x 10 = 160\n",
      "THE END\n",
      "JINGALALA HU HU\n",
      "17 x 1 = 17\n",
      "17 x 2 = 34\n",
      "17 x 3 = 51\n",
      "17 x 4 = 68\n",
      "17 x 5 = 85\n",
      "17 x 6 = 102\n",
      "17 x 7 = 119\n",
      "17 x 8 = 136\n",
      "17 x 9 = 153\n",
      "17 x 10 = 170\n",
      "THE END\n",
      "JINGALALA HU HU\n",
      "18 x 1 = 18\n",
      "18 x 2 = 36\n",
      "18 x 3 = 54\n",
      "18 x 4 = 72\n",
      "18 x 5 = 90\n",
      "18 x 6 = 108\n",
      "18 x 7 = 126\n",
      "18 x 8 = 144\n",
      "18 x 9 = 162\n",
      "18 x 10 = 180\n",
      "THE END\n",
      "JINGALALA HU HU\n"
     ]
    },
    {
     "ename": "KeyboardInterrupt",
     "evalue": "Interrupted by user",
     "output_type": "error",
     "traceback": [
      "\u001b[1;31m---------------------------------------------------------------------------\u001b[0m",
      "\u001b[1;31mKeyboardInterrupt\u001b[0m                         Traceback (most recent call last)",
      "\u001b[1;32m~\\AppData\\Local\\Temp/ipykernel_9780/3843767439.py\u001b[0m in \u001b[0;36m<module>\u001b[1;34m\u001b[0m\n\u001b[0;32m      1\u001b[0m \u001b[1;32mwhile\u001b[0m \u001b[1;32mTrue\u001b[0m\u001b[1;33m:\u001b[0m\u001b[1;33m\u001b[0m\u001b[1;33m\u001b[0m\u001b[0m\n\u001b[1;32m----> 2\u001b[1;33m     \u001b[0mn\u001b[0m\u001b[1;33m=\u001b[0m\u001b[0mint\u001b[0m\u001b[1;33m(\u001b[0m\u001b[0minput\u001b[0m\u001b[1;33m(\u001b[0m\u001b[1;34m'Enter any number = '\u001b[0m\u001b[1;33m)\u001b[0m\u001b[1;33m)\u001b[0m\u001b[1;33m\u001b[0m\u001b[1;33m\u001b[0m\u001b[0m\n\u001b[0m\u001b[0;32m      3\u001b[0m     \u001b[0mc\u001b[0m\u001b[1;33m=\u001b[0m\u001b[1;36m1\u001b[0m\u001b[1;33m\u001b[0m\u001b[1;33m\u001b[0m\u001b[0m\n\u001b[0;32m      4\u001b[0m     \u001b[1;32mwhile\u001b[0m \u001b[0mc\u001b[0m\u001b[1;33m<=\u001b[0m\u001b[1;36m10\u001b[0m\u001b[1;33m:\u001b[0m\u001b[1;33m\u001b[0m\u001b[1;33m\u001b[0m\u001b[0m\n\u001b[0;32m      5\u001b[0m         \u001b[0mprint\u001b[0m\u001b[1;33m(\u001b[0m\u001b[0mn\u001b[0m\u001b[1;33m,\u001b[0m\u001b[1;34m'x'\u001b[0m\u001b[1;33m,\u001b[0m\u001b[0mc\u001b[0m\u001b[1;33m,\u001b[0m\u001b[1;34m'='\u001b[0m\u001b[1;33m,\u001b[0m\u001b[0mn\u001b[0m\u001b[1;33m*\u001b[0m\u001b[0mc\u001b[0m\u001b[1;33m)\u001b[0m\u001b[1;33m\u001b[0m\u001b[1;33m\u001b[0m\u001b[0m\n",
      "\u001b[1;32m~\\anaconda3\\lib\\site-packages\\ipykernel\\kernelbase.py\u001b[0m in \u001b[0;36mraw_input\u001b[1;34m(self, prompt)\u001b[0m\n\u001b[0;32m   1004\u001b[0m                 \u001b[1;34m\"raw_input was called, but this frontend does not support input requests.\"\u001b[0m\u001b[1;33m\u001b[0m\u001b[1;33m\u001b[0m\u001b[0m\n\u001b[0;32m   1005\u001b[0m             )\n\u001b[1;32m-> 1006\u001b[1;33m         return self._input_request(\n\u001b[0m\u001b[0;32m   1007\u001b[0m             \u001b[0mstr\u001b[0m\u001b[1;33m(\u001b[0m\u001b[0mprompt\u001b[0m\u001b[1;33m)\u001b[0m\u001b[1;33m,\u001b[0m\u001b[1;33m\u001b[0m\u001b[1;33m\u001b[0m\u001b[0m\n\u001b[0;32m   1008\u001b[0m             \u001b[0mself\u001b[0m\u001b[1;33m.\u001b[0m\u001b[0m_parent_ident\u001b[0m\u001b[1;33m[\u001b[0m\u001b[1;34m\"shell\"\u001b[0m\u001b[1;33m]\u001b[0m\u001b[1;33m,\u001b[0m\u001b[1;33m\u001b[0m\u001b[1;33m\u001b[0m\u001b[0m\n",
      "\u001b[1;32m~\\anaconda3\\lib\\site-packages\\ipykernel\\kernelbase.py\u001b[0m in \u001b[0;36m_input_request\u001b[1;34m(self, prompt, ident, parent, password)\u001b[0m\n\u001b[0;32m   1049\u001b[0m             \u001b[1;32mexcept\u001b[0m \u001b[0mKeyboardInterrupt\u001b[0m\u001b[1;33m:\u001b[0m\u001b[1;33m\u001b[0m\u001b[1;33m\u001b[0m\u001b[0m\n\u001b[0;32m   1050\u001b[0m                 \u001b[1;31m# re-raise KeyboardInterrupt, to truncate traceback\u001b[0m\u001b[1;33m\u001b[0m\u001b[1;33m\u001b[0m\u001b[0m\n\u001b[1;32m-> 1051\u001b[1;33m                 \u001b[1;32mraise\u001b[0m \u001b[0mKeyboardInterrupt\u001b[0m\u001b[1;33m(\u001b[0m\u001b[1;34m\"Interrupted by user\"\u001b[0m\u001b[1;33m)\u001b[0m \u001b[1;32mfrom\u001b[0m \u001b[1;32mNone\u001b[0m\u001b[1;33m\u001b[0m\u001b[1;33m\u001b[0m\u001b[0m\n\u001b[0m\u001b[0;32m   1052\u001b[0m             \u001b[1;32mexcept\u001b[0m \u001b[0mException\u001b[0m\u001b[1;33m:\u001b[0m\u001b[1;33m\u001b[0m\u001b[1;33m\u001b[0m\u001b[0m\n\u001b[0;32m   1053\u001b[0m                 \u001b[0mself\u001b[0m\u001b[1;33m.\u001b[0m\u001b[0mlog\u001b[0m\u001b[1;33m.\u001b[0m\u001b[0mwarning\u001b[0m\u001b[1;33m(\u001b[0m\u001b[1;34m\"Invalid Message:\"\u001b[0m\u001b[1;33m,\u001b[0m \u001b[0mexc_info\u001b[0m\u001b[1;33m=\u001b[0m\u001b[1;32mTrue\u001b[0m\u001b[1;33m)\u001b[0m\u001b[1;33m\u001b[0m\u001b[1;33m\u001b[0m\u001b[0m\n",
      "\u001b[1;31mKeyboardInterrupt\u001b[0m: Interrupted by user"
     ]
    }
   ],
   "source": [
    "while True:\n",
    "    n=int(input('Enter any number = '))\n",
    "    c=1\n",
    "    while c<=10:\n",
    "        print(n,'x',c,'=',n*c)\n",
    "        c+=1\n",
    "    print('THE END\\nJINGALALA HU HU')\n"
   ]
  },
  {
   "cell_type": "markdown",
   "id": "6efca309",
   "metadata": {},
   "source": [
    "### Q35) Tables.py"
   ]
  },
  {
   "cell_type": "code",
   "execution_count": 22,
   "id": "863b3dd5",
   "metadata": {},
   "outputs": [
    {
     "name": "stdout",
     "output_type": "stream",
     "text": [
      "Enter the number whose table you want :  17\n",
      "17 x 1 = 17\n",
      "17 x 2 = 34\n",
      "17 x 3 = 51\n",
      "17 x 4 = 68\n",
      "17 x 5 = 85\n",
      "17 x 6 = 102\n",
      "17 x 7 = 119\n",
      "17 x 8 = 136\n",
      "17 x 9 = 153\n",
      "17 x 10 = 170\n"
     ]
    }
   ],
   "source": [
    "n=int(input('Enter the number whose table you want :  '))\n",
    "for c in range(1,11):\n",
    "    print(n,'x',c,'=',n*c)\n"
   ]
  },
  {
   "cell_type": "markdown",
   "id": "f8478169",
   "metadata": {},
   "source": [
    "### Q36) Type of char.py"
   ]
  },
  {
   "cell_type": "code",
   "execution_count": 23,
   "id": "8ad3142b",
   "metadata": {
    "collapsed": true
   },
   "outputs": [
    {
     "name": "stdout",
     "output_type": "stream",
     "text": [
      "+++++++++++++++++**************+++++++++++++++++\n",
      "Enter any single key : a\n",
      "a  is a LOWER CASE character\n",
      "+++++++++++++++++**************+++++++++++++++++\n",
      "Enter any single key : A\n",
      "A  is an UPPER CASE character\n",
      "+++++++++++++++++**************+++++++++++++++++\n",
      "Enter any single key : 2\n",
      "2  is a digit \n",
      "+++++++++++++++++**************+++++++++++++++++\n",
      "Enter any single key : @\n",
      "@  is another character\n",
      "+++++++++++++++++**************+++++++++++++++++\n"
     ]
    },
    {
     "ename": "KeyboardInterrupt",
     "evalue": "Interrupted by user",
     "output_type": "error",
     "traceback": [
      "\u001b[1;31m---------------------------------------------------------------------------\u001b[0m",
      "\u001b[1;31mKeyboardInterrupt\u001b[0m                         Traceback (most recent call last)",
      "\u001b[1;32m<ipython-input-23-26c539014052>\u001b[0m in \u001b[0;36m<module>\u001b[1;34m\u001b[0m\n\u001b[0;32m      2\u001b[0m     \u001b[0mprint\u001b[0m\u001b[1;33m(\u001b[0m\u001b[1;34m'+++++++++++++++++**************+++++++++++++++++'\u001b[0m\u001b[1;33m)\u001b[0m\u001b[1;33m\u001b[0m\u001b[1;33m\u001b[0m\u001b[0m\n\u001b[0;32m      3\u001b[0m \u001b[1;33m\u001b[0m\u001b[0m\n\u001b[1;32m----> 4\u001b[1;33m     \u001b[0mn\u001b[0m\u001b[1;33m=\u001b[0m\u001b[0minput\u001b[0m\u001b[1;33m(\u001b[0m\u001b[1;34m'Enter any single key : '\u001b[0m\u001b[1;33m)\u001b[0m\u001b[1;33m\u001b[0m\u001b[1;33m\u001b[0m\u001b[0m\n\u001b[0m\u001b[0;32m      5\u001b[0m     \u001b[1;32mif\u001b[0m \u001b[0mlen\u001b[0m\u001b[1;33m(\u001b[0m\u001b[0mn\u001b[0m\u001b[1;33m)\u001b[0m\u001b[1;33m==\u001b[0m\u001b[1;36m1\u001b[0m\u001b[1;33m:\u001b[0m\u001b[1;33m\u001b[0m\u001b[1;33m\u001b[0m\u001b[0m\n\u001b[0;32m      6\u001b[0m         \u001b[1;32mif\u001b[0m \u001b[0mn\u001b[0m\u001b[1;33m>=\u001b[0m\u001b[1;34m'A'\u001b[0m \u001b[1;32mand\u001b[0m \u001b[0mn\u001b[0m\u001b[1;33m<=\u001b[0m\u001b[1;34m'Z'\u001b[0m\u001b[1;33m:\u001b[0m\u001b[1;33m\u001b[0m\u001b[1;33m\u001b[0m\u001b[0m\n",
      "\u001b[1;32m~\\anaconda3\\lib\\site-packages\\ipykernel\\kernelbase.py\u001b[0m in \u001b[0;36mraw_input\u001b[1;34m(self, prompt)\u001b[0m\n\u001b[0;32m    858\u001b[0m                 \u001b[1;34m\"raw_input was called, but this frontend does not support input requests.\"\u001b[0m\u001b[1;33m\u001b[0m\u001b[1;33m\u001b[0m\u001b[0m\n\u001b[0;32m    859\u001b[0m             )\n\u001b[1;32m--> 860\u001b[1;33m         return self._input_request(str(prompt),\n\u001b[0m\u001b[0;32m    861\u001b[0m             \u001b[0mself\u001b[0m\u001b[1;33m.\u001b[0m\u001b[0m_parent_ident\u001b[0m\u001b[1;33m,\u001b[0m\u001b[1;33m\u001b[0m\u001b[1;33m\u001b[0m\u001b[0m\n\u001b[0;32m    862\u001b[0m             \u001b[0mself\u001b[0m\u001b[1;33m.\u001b[0m\u001b[0m_parent_header\u001b[0m\u001b[1;33m,\u001b[0m\u001b[1;33m\u001b[0m\u001b[1;33m\u001b[0m\u001b[0m\n",
      "\u001b[1;32m~\\anaconda3\\lib\\site-packages\\ipykernel\\kernelbase.py\u001b[0m in \u001b[0;36m_input_request\u001b[1;34m(self, prompt, ident, parent, password)\u001b[0m\n\u001b[0;32m    902\u001b[0m             \u001b[1;32mexcept\u001b[0m \u001b[0mKeyboardInterrupt\u001b[0m\u001b[1;33m:\u001b[0m\u001b[1;33m\u001b[0m\u001b[1;33m\u001b[0m\u001b[0m\n\u001b[0;32m    903\u001b[0m                 \u001b[1;31m# re-raise KeyboardInterrupt, to truncate traceback\u001b[0m\u001b[1;33m\u001b[0m\u001b[1;33m\u001b[0m\u001b[1;33m\u001b[0m\u001b[0m\n\u001b[1;32m--> 904\u001b[1;33m                 \u001b[1;32mraise\u001b[0m \u001b[0mKeyboardInterrupt\u001b[0m\u001b[1;33m(\u001b[0m\u001b[1;34m\"Interrupted by user\"\u001b[0m\u001b[1;33m)\u001b[0m \u001b[1;32mfrom\u001b[0m \u001b[1;32mNone\u001b[0m\u001b[1;33m\u001b[0m\u001b[1;33m\u001b[0m\u001b[0m\n\u001b[0m\u001b[0;32m    905\u001b[0m             \u001b[1;32mexcept\u001b[0m \u001b[0mException\u001b[0m \u001b[1;32mas\u001b[0m \u001b[0me\u001b[0m\u001b[1;33m:\u001b[0m\u001b[1;33m\u001b[0m\u001b[1;33m\u001b[0m\u001b[0m\n\u001b[0;32m    906\u001b[0m                 \u001b[0mself\u001b[0m\u001b[1;33m.\u001b[0m\u001b[0mlog\u001b[0m\u001b[1;33m.\u001b[0m\u001b[0mwarning\u001b[0m\u001b[1;33m(\u001b[0m\u001b[1;34m\"Invalid Message:\"\u001b[0m\u001b[1;33m,\u001b[0m \u001b[0mexc_info\u001b[0m\u001b[1;33m=\u001b[0m\u001b[1;32mTrue\u001b[0m\u001b[1;33m)\u001b[0m\u001b[1;33m\u001b[0m\u001b[1;33m\u001b[0m\u001b[0m\n",
      "\u001b[1;31mKeyboardInterrupt\u001b[0m: Interrupted by user"
     ]
    }
   ],
   "source": [
    "while True:\n",
    "    print('+++++++++++++++++**************+++++++++++++++++')\n",
    "\n",
    "    n=input('Enter any single key : ')\n",
    "    if len(n)==1:\n",
    "        if n>='A' and n<='Z':\n",
    "            print(n,' is an UPPER CASE character')\n",
    "        elif n>='a' and n<='z':\n",
    "            print(n,' is a LOWER CASE character')\n",
    "        elif n>='0' and n<='9' :\n",
    "            print(n,' is a digit ')\n",
    "        else:\n",
    "            print(n,' is another character')\n",
    "    else:\n",
    "        print('Enter a single digit')\n"
   ]
  },
  {
   "cell_type": "markdown",
   "id": "1e5d3cb0",
   "metadata": {},
   "source": [
    "### Q37) Vovel consonants.py"
   ]
  },
  {
   "cell_type": "code",
   "execution_count": 25,
   "id": "6370d64e",
   "metadata": {
    "collapsed": true
   },
   "outputs": [
    {
     "name": "stdout",
     "output_type": "stream",
     "text": [
      "Enter a character(single alphabet) :- a\n",
      "\" a \"  is a VOVEL\n"
     ]
    }
   ],
   "source": [
    "ch=input('Enter a character(single alphabet) :- ')\n",
    "char=ch.lower()\n",
    "\n",
    "vovels = ['a','e','i','o','u']\n",
    "consonants = ['b','c','d','f','g','h','j','k','l','m','n',\\\n",
    "'p','q','r','s','t','v','w','x','y','z']\n",
    "\n",
    "if char in vovels:\n",
    "    print('\"',ch,'\"',' is a VOVEL')\n",
    "\n",
    "elif char in consonants:\n",
    "    print('\"',ch,'\"',' is a CONSONANT')\n",
    "    \n",
    "else:\n",
    "    print('Only a single alphabet is accepted  !!')\n"
   ]
  },
  {
   "cell_type": "markdown",
   "id": "f092a89c",
   "metadata": {},
   "source": [
    "### Q38) Weekdays.py"
   ]
  },
  {
   "cell_type": "code",
   "execution_count": null,
   "id": "76bb25a0",
   "metadata": {
    "collapsed": true
   },
   "outputs": [
    {
     "name": "stdout",
     "output_type": "stream",
     "text": [
      "Enter a number between 1 to 7 : 5\n",
      "Friday\n",
      "Enter a number between 1 to 7 : 4\n",
      "Thursday\n",
      "Enter a number between 1 to 7 : 1\n",
      "Monday\n",
      "Enter a number between 1 to 7 : 7\n",
      "Sunday\n",
      "You gave an invalid input\n",
      "You gave an invalid input\n",
      "Enter a number between 1 to 7 : \n",
      "You gave an invalid input\n",
      "You gave an invalid input\n"
     ]
    }
   ],
   "source": [
    "while True:\n",
    "    try:\n",
    "        weekday=['Monday','Tuesday','Wednesday','Thursday','Friday','Saturday','Sunday']\n",
    "        inpt=int(input('Enter a number between 1 to 7 : '))\n",
    "        if inpt>7 or inpt<1:\n",
    "            print('PLEASE ENTER THE NUMBER BETWEEN \"1\" TO \"7\"')\n",
    "        \n",
    "        else:\n",
    "            print(weekday[inpt-1])\n",
    "        \n",
    "    except:\n",
    "        print('You gave an invalid input')\n"
   ]
  },
  {
   "cell_type": "code",
   "execution_count": null,
   "id": "52b5a153",
   "metadata": {},
   "outputs": [],
   "source": []
  }
 ],
 "metadata": {
  "kernelspec": {
   "display_name": "Python 3",
   "language": "python",
   "name": "python3"
  },
  "language_info": {
   "codemirror_mode": {
    "name": "ipython",
    "version": 3
   },
   "file_extension": ".py",
   "mimetype": "text/x-python",
   "name": "python",
   "nbconvert_exporter": "python",
   "pygments_lexer": "ipython3",
   "version": "3.9.7"
  }
 },
 "nbformat": 4,
 "nbformat_minor": 5
}
