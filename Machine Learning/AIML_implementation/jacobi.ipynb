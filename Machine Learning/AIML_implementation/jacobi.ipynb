{
 "cells": [
  {
   "cell_type": "markdown",
   "metadata": {},
   "source": [
    "# Jacobi method"
   ]
  },
  {
   "cell_type": "code",
   "execution_count": 23,
   "metadata": {},
   "outputs": [],
   "source": [
    "n = int(input(\"Number of unknows : \"))"
   ]
  },
  {
   "cell_type": "code",
   "execution_count": 24,
   "metadata": {},
   "outputs": [],
   "source": [
    "# coefficient_matrix.append([1,2,3])\n",
    "coefficient_matrix = []\n",
    "for i in range(n):\n",
    "    coefficient_matrix.append(list(eval(input(f\"Enter the coefficients of unknowns for eq {i} : \"))))"
   ]
  },
  {
   "cell_type": "code",
   "execution_count": 25,
   "metadata": {},
   "outputs": [
    {
     "data": {
      "text/plain": [
       "[[3, -1], [1, 4]]"
      ]
     },
     "execution_count": 25,
     "metadata": {},
     "output_type": "execute_result"
    }
   ],
   "source": [
    "coefficient_matrix "
   ]
  },
  {
   "cell_type": "code",
   "execution_count": 26,
   "metadata": {},
   "outputs": [
    {
     "data": {
      "text/plain": [
       "[2, 5]"
      ]
     },
     "execution_count": 26,
     "metadata": {},
     "output_type": "execute_result"
    }
   ],
   "source": [
    "constant_matrix = list(eval(input(\"Enter the constants : \")))\n",
    "constant_matrix\n"
   ]
  },
  {
   "cell_type": "code",
   "execution_count": 27,
   "metadata": {},
   "outputs": [
    {
     "data": {
      "text/plain": [
       "[[0, 0]]"
      ]
     },
     "execution_count": 27,
     "metadata": {},
     "output_type": "execute_result"
    }
   ],
   "source": [
    "solution_matrix = []\n",
    "\n",
    "solution_matrix.append(list(eval(input(\"Enter the initial approximation for variables : \"))))\n",
    "\n",
    "solution_matrix"
   ]
  },
  {
   "cell_type": "code",
   "execution_count": 28,
   "metadata": {},
   "outputs": [],
   "source": [
    "accuracy = int(input(\"Enter accuracy for rounding off : \"))"
   ]
  },
  {
   "cell_type": "code",
   "execution_count": 29,
   "metadata": {},
   "outputs": [
    {
     "name": "stdout",
     "output_type": "stream",
     "text": [
      "Iteration 1 : 0.67,1.25,\n",
      "Iteration 2 : 1.08,1.08,\n",
      "Iteration 3 : 1.03,0.98,\n",
      "Iteration 4 : 0.99,0.99,\n",
      "Iteration 5 : 1.0,1.0,\n",
      "Iteration 6 : 1.0,1.0,\n"
     ]
    }
   ],
   "source": [
    "iteration = 0\n",
    "\n",
    "while True:\n",
    "    sol = []\n",
    "    print(f\"Iteration {iteration+1} : \", end=\"\")\n",
    "    for i in range(n):\n",
    "        sol.append(constant_matrix[i])\n",
    "        # print(sol[i])\n",
    "        for j in range(len(coefficient_matrix[i])):\n",
    "            if i!=j:\n",
    "                sol[i] -= coefficient_matrix[i][j]*solution_matrix[iteration][j]\n",
    "\n",
    "        sol[i] = round(sol[i]/coefficient_matrix[i][i],accuracy)\n",
    "\n",
    "        print(sol[i] , end=',')\n",
    "\n",
    "    print()\n",
    "    solution_matrix.append(sol)\n",
    "\n",
    "    if solution_matrix[iteration+1] == solution_matrix[iteration]:\n",
    "        break\n",
    "\n",
    "    \n",
    "    iteration += 1\n",
    "\n",
    "\n",
    "\n",
    "\n",
    "\n"
   ]
  },
  {
   "cell_type": "code",
   "execution_count": 30,
   "metadata": {},
   "outputs": [
    {
     "data": {
      "text/plain": [
       "[[3, -1], [1, 4]]"
      ]
     },
     "execution_count": 30,
     "metadata": {},
     "output_type": "execute_result"
    }
   ],
   "source": [
    "coefficient_matrix"
   ]
  },
  {
   "cell_type": "code",
   "execution_count": 31,
   "metadata": {},
   "outputs": [
    {
     "data": {
      "text/plain": [
       "[2, 5]"
      ]
     },
     "execution_count": 31,
     "metadata": {},
     "output_type": "execute_result"
    }
   ],
   "source": [
    "constant_matrix"
   ]
  },
  {
   "cell_type": "code",
   "execution_count": 32,
   "metadata": {},
   "outputs": [
    {
     "data": {
      "text/plain": [
       "[[0, 0],\n",
       " [0.67, 1.25],\n",
       " [1.08, 1.08],\n",
       " [1.03, 0.98],\n",
       " [0.99, 0.99],\n",
       " [1.0, 1.0],\n",
       " [1.0, 1.0]]"
      ]
     },
     "execution_count": 32,
     "metadata": {},
     "output_type": "execute_result"
    }
   ],
   "source": [
    "solution_matrix"
   ]
  },
  {
   "cell_type": "code",
   "execution_count": 33,
   "metadata": {},
   "outputs": [
    {
     "data": {
      "text/plain": [
       "[1.0, 1.0]"
      ]
     },
     "execution_count": 33,
     "metadata": {},
     "output_type": "execute_result"
    }
   ],
   "source": [
    "sol"
   ]
  },
  {
   "cell_type": "code",
   "execution_count": 34,
   "metadata": {},
   "outputs": [
    {
     "data": {
      "text/plain": [
       "2"
      ]
     },
     "execution_count": 34,
     "metadata": {},
     "output_type": "execute_result"
    }
   ],
   "source": [
    "round(coefficient_matrix[0][0]*solution_matrix[-1][0]+coefficient_matrix[0][1]*solution_matrix[-1][1])# + coefficient_matrix[0][2]*solution_matrix[0][2])"
   ]
  },
  {
   "cell_type": "code",
   "execution_count": 35,
   "metadata": {},
   "outputs": [
    {
     "data": {
      "text/plain": [
       "5"
      ]
     },
     "execution_count": 35,
     "metadata": {},
     "output_type": "execute_result"
    }
   ],
   "source": [
    "round(coefficient_matrix[1][0]*sol[0]+coefficient_matrix[1][1]*sol[1])# + coefficient_matrix[1][2]*sol[2])"
   ]
  },
  {
   "cell_type": "code",
   "execution_count": 10,
   "metadata": {},
   "outputs": [
    {
     "data": {
      "text/plain": [
       "-6"
      ]
     },
     "execution_count": 10,
     "metadata": {},
     "output_type": "execute_result"
    }
   ],
   "source": [
    "round(coefficient_matrix[2][0]*sol[0]+coefficient_matrix[2][1]*sol[1] + coefficient_matrix[2][2]*sol[2])"
   ]
  },
  {
   "cell_type": "code",
   "execution_count": null,
   "metadata": {},
   "outputs": [],
   "source": []
  }
 ],
 "metadata": {
  "kernelspec": {
   "display_name": "Python 3 (ipykernel)",
   "language": "python",
   "name": "python3"
  },
  "language_info": {
   "codemirror_mode": {
    "name": "ipython",
    "version": 3
   },
   "file_extension": ".py",
   "mimetype": "text/x-python",
   "name": "python",
   "nbconvert_exporter": "python",
   "pygments_lexer": "ipython3",
   "version": "3.9.7"
  }
 },
 "nbformat": 4,
 "nbformat_minor": 2
}
