{
 "cells": [
  {
   "cell_type": "code",
   "execution_count": null,
   "metadata": {},
   "outputs": [],
   "source": [
    "pip install spacy\n",
    "python -m spacy download \n",
    "with admin privilage\n"
   ]
  },
  {
   "cell_type": "markdown",
   "metadata": {},
   "source": [
    "## What is NLP\n",
    "\n",
    "Natural Language Processing, or NLP for short, is broadly defined as the automatic manipulation of natural language, like speech and text, by software.\n",
    "\n",
    "The study of natural language processing has been around for more than 50 years and grew out of the field of linguistics with the rise of computers.\n",
    "\n",
    "In this post, you will discover what natural language processing is and why it is so important.\n",
    "\n",
    "After reading this post, you will know:\n",
    "\n",
    "    What natural language is and how it is different from other types of data.\n",
    "    What makes working with natural language so challenging.\n",
    "    Where the field of NLP came from and how it is defined by modern practitioners.\n"
   ]
  },
  {
   "cell_type": "markdown",
   "metadata": {},
   "source": [
    "## Natural Language\n",
    "\n",
    "Natural language refers to the way we, humans, communicate with each other.\n",
    "\n",
    "Namely, speech and text.\n",
    "\n",
    "We are surrounded by text.\n",
    "\n",
    "Think about how much text you see each day:\n",
    "\n",
    "    Signs\n",
    "    Menus\n",
    "    Email\n",
    "    SMS\n",
    "    Web Pages\n",
    "    and so much more…\n",
    "\n",
    "The list is endless.\n",
    "\n",
    "Now think about speech.\n",
    "\n",
    "We may speak to each other, as a species, more than we write. It may even be easier to learn to speak than to write.\n",
    "\n",
    "Voice and text are how we communicate with each other.\n",
    "\n",
    "Given the importance of this type of data, we must have methods to understand and reason about natural language, just like we do for other types of data."
   ]
  },
  {
   "cell_type": "markdown",
   "metadata": {},
   "source": [
    "## 1. Natural Language Processing (NLP)\n",
    "\n",
    "Natural language processing (NLP) concerns itself with the interaction between natural human languages and computing devices. NLP is a major aspect of computational linguistics, and also falls within the realms of computer science and artificial intelligence.\n",
    "\n",
    "### Different functionalities code spacy\n",
    "\n",
    "https://stackabuse.com/python-for-nlp-tokenization-stemming-and-lemmatization-with-spacy-library/\n",
    "\n",
    "\n",
    "\n",
    "## 2. Tokenization\n",
    "\n",
    "Tokenization is, generally, an early step in the NLP process, a step which splits longer strings of text into smaller pieces, or tokens. Larger chunks of text can be tokenized into sentences, sentences can be tokenized into words, etc. Further processing is generally performed after a piece of text has been appropriately tokenized.\n",
    "\n",
    "\n"
   ]
  },
  {
   "cell_type": "code",
   "execution_count": 1,
   "metadata": {},
   "outputs": [
    {
     "name": "stdout",
     "output_type": "stream",
     "text": [
      "natural\n",
      "language\n",
      "processing\n",
      "and\n",
      "machine\n",
      "learning\n",
      "is\n",
      "fun\n",
      "and\n",
      "better\n",
      "exciting\n"
     ]
    }
   ],
   "source": [
    "import spacy\n",
    "nlp = spacy.load('en')\n",
    "text = \"natural language processing and machine learning is fun and better exciting\"\n",
    "doc = nlp(text)\n",
    "for d in doc:\n",
    "    print(d.text)"
   ]
  },
  {
   "cell_type": "code",
   "execution_count": 2,
   "metadata": {},
   "outputs": [],
   "source": [
    "# text.split('. ')"
   ]
  },
  {
   "cell_type": "markdown",
   "metadata": {},
   "source": [
    "## 3. Normalization\n",
    "\n",
    "Before further processing, text needs to be normalized. Normalization generally refers to a series of related tasks meant to put all text on a level playing field: converting all text to the same case (upper or lower), removing punctuation, expanding contractions, converting numbers to their word equivalents, and so on. Normalization puts all words on equal footing, and allows processing to proceed uniformly.\n",
    "\n"
   ]
  },
  {
   "cell_type": "code",
   "execution_count": null,
   "metadata": {},
   "outputs": [],
   "source": []
  },
  {
   "cell_type": "markdown",
   "metadata": {},
   "source": [
    "## 4. Stemming\n",
    "\n",
    "Stemming is the process of eliminating affixes (suffixed, prefixes, infixes, circumfixes) from a word in order to obtain a word stem.\n",
    "\n",
    "running → run\n",
    "\n",
    "https://9ol.es/porter_js_demo.html\n",
    "\n",
    "\n",
    "\n"
   ]
  },
  {
   "cell_type": "code",
   "execution_count": null,
   "metadata": {},
   "outputs": [],
   "source": []
  },
  {
   "cell_type": "markdown",
   "metadata": {},
   "source": [
    "## 5. Lemmatization\n",
    "\n",
    "Lemmatization is related to stemming, differing in that lemmatization is able to capture canonical forms based on a word's lemma.\n",
    "\n",
    "For example, stemming the word \"better\" would fail to return its citation form (another word for lemma); however, lemmatization would result in the following:\n",
    "\n",
    "better → good\n",
    "\n",
    "It should be easy to see why the implementation of a stemmer would be the less difficult feat of the two.\n",
    "\n",
    "\n",
    "\n",
    "\n"
   ]
  },
  {
   "cell_type": "code",
   "execution_count": 3,
   "metadata": {},
   "outputs": [
    {
     "name": "stdout",
     "output_type": "stream",
     "text": [
      "natural natural\n",
      "language language\n",
      "processing processing\n",
      "and and\n",
      "machine machine\n",
      "learning learning\n",
      "is be\n",
      "fun fun\n",
      "and and\n",
      "better better\n",
      "exciting exciting\n"
     ]
    }
   ],
   "source": [
    "for d in doc:\n",
    "    print(d.text, d.lemma_)\n"
   ]
  },
  {
   "cell_type": "markdown",
   "metadata": {},
   "source": [
    "## 6. Corpus\n",
    "\n",
    "In linguistics and NLP, corpus (literally Latin for body) refers to a collection of texts. Such collections may be formed of a single language of texts, or can span multiple languages -- there are numerous reasons for which multilingual corpora (the plural of corpus) may be useful. Corpora may also consist of themed texts (historical, Biblical, etc.). Corpora are generally solely used for statistical linguistic analysis and hypothesis testing.\n",
    "\n",
    "## 7. Stop Words\n",
    "\n",
    "Stop words are those words which are filtered out before further processing of text, since these words contribute little to overall meaning, given that they are generally the most common words in a language. For instance, \"the,\" \"and,\" and \"a,\" while all required words in a particular passage, don't generally contribute greatly to one's understanding of content. As a simple example, the following panagram is just as legible if the stop words are removed:\n",
    "\n",
    "The quick brown fox jumps over the lazy dog.\n",
    "\n"
   ]
  },
  {
   "cell_type": "code",
   "execution_count": 4,
   "metadata": {},
   "outputs": [
    {
     "name": "stdout",
     "output_type": "stream",
     "text": [
      "['several', 'further', 'yourself', 'along', 'off', 'yet', 'get', 'already', 'own', 'who', 'amount', 'not', 'becoming', '’m', 'twenty', 'in', 'together', 'without', 'about', 'up', 'somewhere', 'the', 'below', 're', 'hereby', 'before', 'seem', 'towards', 'perhaps', 'namely', 'nevertheless', 'on', 'two', 'each', 'nine', 'former', 'top', 'how', 'nobody', 'say', 'anyone', 'although', 'still', 'our', 'more', 'until', 'while', 'somehow', 'due', 'these', 'hereafter', 'been', 'formerly', 'across', 'cannot', 'because', 'hence', 'she', 'myself', 'whereby', 'nor', 'out', '‘m', 'what', \"'ll\", 'itself', 'and', 'become', 'least', 'being', 'could', 'fifteen', 'neither', 'your', 'latterly', 'from', 'indeed', 'keep', 'themselves', 'now', 'wherever', 'became', 'her', 'mostly', 'again', 'seeming', 'wherein', 'thereupon', 'just', 'show', 'using', 'meanwhile', 'three', 'bottom', 'most', 'am', 'was', 'elsewhere', 'one', 'have', 'seemed', 'therein', 'either', 'only', 'here', 'against', 'whereas', 'beside', 'for', 'us', 'his', 'some', 'should', 'toward', 'ten', 'whatever', 'upon', 'its', 'eight', 'empty', '’ve', 'but', \"'re\", 'after', 'well', 'any', 'as', 'quite', 'less', 'anyhow', 'that', 'besides', 'throughout', 'unless', 'alone', 'onto', 'anything', 'during', 'them', 'many', 'ourselves', 'really', '‘re', 'amongst', \"'m\", 'moreover', 'nowhere', 'eleven', 'except', 'which', 'via', 'among', '’d', 'five', 'doing', 'noone', 'herself', 'latter', 'move', 'can', 'yourselves', 'first', 'done', 'all', 'whither', 'whole', 'fifty', 'put', 'if', 'whereafter', 'too', 'whose', 'within', 'therefore', 'once', 'much', 'same', 'per', 'n’t', 'few', 'n‘t', 'forty', 'nothing', 'thence', 'since', 'go', 'serious', 'does', 'everyone', 'there', 'were', 'whoever', 'afterwards', '’ll', 'very', 'are', 'we', 'side', 'whereupon', '‘s', 'never', 'no', 'becomes', 'regarding', 'others', 'twelve', 'above', 'whenever', 'when', 'thereby', 'both', 'or', 'mine', 'between', 'everywhere', 'under', 'whom', 'may', 'name', 'make', '‘ll', '’s', 'ever', \"'d\", 'by', 'down', 'beyond', 'at', 'him', 'other', 'yours', 'ours', 'something', 'whether', 'often', 'to', 'beforehand', 'then', 'everything', 'six', 'almost', 'it', 'such', 'also', '’re', 'might', 'four', 'none', 'sixty', 'thereafter', 'full', 'someone', 'seems', 'of', 'where', 'hundred', 'me', 'another', 'anyway', 'their', 'else', 'thus', 'be', 'had', 'has', 'through', 'would', 'my', 'so', 'various', 'hers', 'rather', 'around', 'next', 'do', 'did', 'part', 'enough', 'please', 'otherwise', 'is', 'i', 'you', 'an', 'herein', 'even', 'they', 'see', 'behind', 'over', 'anywhere', 'back', 'a', 'this', 'those', 'thru', 'front', \"'ve\", \"n't\", 'take', 'every', 'why', 'than', 'used', 'sometime', 'give', '‘ve', 'however', \"'s\", 'will', 'ca', '‘d', 'always', 'with', 'he', 'hereupon', 'into', 'made', 'whence', 'third', 'call', 'sometimes', 'last', 'himself', 'must', 'though']\n"
     ]
    }
   ],
   "source": [
    "stop_lst = list(nlp.Defaults.stop_words)\n",
    "print(stop_lst)"
   ]
  },
  {
   "cell_type": "code",
   "execution_count": 5,
   "metadata": {},
   "outputs": [
    {
     "data": {
      "text/plain": [
       "False"
      ]
     },
     "execution_count": 5,
     "metadata": {},
     "output_type": "execute_result"
    }
   ],
   "source": [
    "nlp.vocab[\"Mahesh\"].is_stop"
   ]
  },
  {
   "cell_type": "code",
   "execution_count": 6,
   "metadata": {},
   "outputs": [],
   "source": [
    "nlp.Defaults.stop_words.add('Mahesh')"
   ]
  },
  {
   "cell_type": "code",
   "execution_count": 7,
   "metadata": {},
   "outputs": [
    {
     "data": {
      "text/plain": [
       "False"
      ]
     },
     "execution_count": 7,
     "metadata": {},
     "output_type": "execute_result"
    }
   ],
   "source": [
    "nlp.vocab[\"Mahesh\"].is_stop"
   ]
  },
  {
   "cell_type": "code",
   "execution_count": null,
   "metadata": {},
   "outputs": [],
   "source": []
  },
  {
   "cell_type": "markdown",
   "metadata": {},
   "source": [
    "## 8. Parts-of-speech (POS) Tagging\n",
    "\n",
    "POS tagging consists of assigning a category tag to the tokenized parts of a sentence. The most popular POS tagging would be identifying words as nouns, verbs, adjectives, etc.\n",
    "\n",
    "POS Tagging"
   ]
  },
  {
   "cell_type": "code",
   "execution_count": null,
   "metadata": {},
   "outputs": [],
   "source": [
    "\n",
    "    CC | Coordinating conjunction |\n",
    "    CD | Cardinal number |\n",
    "    DT | Determiner |\n",
    "    EX | Existential there |\n",
    "    FW | Foreign word |\n",
    "    IN | Preposition or subordinating conjunction |\n",
    "    JJ | Adjective |\n",
    "    JJR | Adjective, comparative |\n",
    "    JJS | Adjective, superlative |\n",
    "    LS | List item marker |\n",
    "    MD | Modal |\n",
    "    NN | Noun, singular or mass |\n",
    "    NNS | Noun, plural |\n",
    "    NNP | Proper noun, singular |\n",
    "    NNPS | Proper noun, plural |\n",
    "    PDT | Predeterminer |\n",
    "    POS | Possessive ending |\n",
    "    PRP | Personal pronoun |\n",
    "    PRP$ | Possessive pronoun |\n",
    "    RB | Adverb |\n",
    "    RBR | Adverb, comparative |\n",
    "    RBS | Adverb, superlative |\n",
    "    RP | Particle |\n",
    "    SYM | Symbol |\n",
    "    TO | to |\n",
    "    UH | Interjection |\n",
    "    VB | Verb, base form |\n",
    "    VBD | Verb, past tense |\n",
    "    VBG | Verb, gerund or present participle |\n",
    "    VBN | Verb, past participle |\n",
    "    VBP | Verb, non-3rd person singular present |\n",
    "    VBZ | Verb, 3rd person singular present |\n",
    "    WDT | Wh-determiner |\n",
    "    WP | Wh-pronoun |\n",
    "    WP$ | Possessive wh-pronoun |\n",
    "    WRB | Wh-adverb |\n"
   ]
  },
  {
   "cell_type": "code",
   "execution_count": 2,
   "metadata": {},
   "outputs": [
    {
     "data": {
      "image/jpeg": "[encoded data removed]",
      "text/plain": [
       "<IPython.core.display.Image object>"
      ]
     },
     "execution_count": 2,
     "metadata": {},
     "output_type": "execute_result"
    }
   ],
   "source": [
    "from IPython.display import Image\n",
    "Image(filename='images/pos.jpg') "
   ]
  },
  {
   "cell_type": "code",
   "execution_count": 11,
   "metadata": {},
   "outputs": [
    {
     "name": "stdout",
     "output_type": "stream",
     "text": [
      "natural ADJ amod\n",
      "language NOUN compound\n",
      "processing NOUN nsubj\n",
      "and CCONJ cc\n",
      "machine NOUN compound\n",
      "learning NOUN conj\n",
      "is AUX ROOT\n",
      "fun ADJ acomp\n",
      "and CCONJ cc\n",
      "better ADV advmod\n",
      "exciting ADJ conj\n"
     ]
    }
   ],
   "source": [
    "for d in doc:\n",
    "    print(d.text, d.pos_, d.dep_)"
   ]
  },
  {
   "cell_type": "markdown",
   "metadata": {},
   "source": [
    "## 9. Statistical Language Modeling\n",
    "\n",
    "Statistical Language Modeling is the process of building a statistical language model which is meant to provide an estimate of a natural language. For a sequence of input words, the model would assign a probability to the entire sequence, which contributes to the estimated likelihood of various possible sequences. This can be especially useful for NLP applications which generate text.\n",
    "\n",
    "## 10. Bag of Words\n",
    "\n",
    "Bag of words is a particular representation model used to simplify the contents of a selection of text. The bag of words model omits grammar and word order, but is interested in the number of occurrences of words within the text. The ultimate representation of the text selection is that of a bag of words (bag referring to the set theory concept of multisets, which differ from simple sets).\n",
    "\n",
    "Actual storage mechanisms for the bag of words representation can vary, but the following is a simple example using a dictionary for intuitiveness. Sample text:\n",
    "\n",
    "\"Well, well, well,\" said John.\n",
    "\n",
    "\"There, there,\" said James. \"There, there.\"\n",
    "\n",
    "The resulting bag of words representation as a dictionary:\n",
    "\n",
    "   {\n",
    "      'well': 3,\n",
    "      'said': 2,\n",
    "      'john': 1,\n",
    "      'there': 4,\n",
    "      'james': 1\n",
    "   }\n",
    "\n",
    "\n",
    "## 11. n-grams\n",
    "\n",
    "n-grams is another representation model for simplifying text selection contents. As opposed to the orderless representation of bag of words, n-grams modeling is interested in preserving contiguous sequences of N items from the text selection.\n",
    "\n",
    "An example of trigram (3-gram) model of the second sentence of the above example (\"There, there,\" said James. \"There, there.\") appears as a list representation below:\n",
    "\n",
    "   [\n",
    "      \"there there said\",\n",
    "      \"there said james\",\n",
    "      \"said james there\",\n",
    "      \"james there there\",\n",
    "   ]\n",
    "\n",
    "\n"
   ]
  },
  {
   "cell_type": "code",
   "execution_count": 12,
   "metadata": {},
   "outputs": [],
   "source": [
    "# pip install nltk\n",
    "# import nltk\n",
    "# nltk.download_all()"
   ]
  },
  {
   "cell_type": "code",
   "execution_count": 14,
   "metadata": {},
   "outputs": [
    {
     "name": "stdout",
     "output_type": "stream",
     "text": [
      "('natural', 'language')\n",
      "('language', 'processing')\n",
      "('processing', 'and')\n",
      "('and', 'machine')\n",
      "('machine', 'learning')\n",
      "('learning', 'is')\n",
      "('is', 'fun')\n",
      "('fun', 'and')\n",
      "('and', 'better')\n",
      "('better', 'exciting')\n"
     ]
    }
   ],
   "source": [
    "from nltk import ngrams\n",
    "\n",
    "\n",
    "n = 2\n",
    "sixgrams = ngrams(text.split(), n)\n",
    "\n",
    "for grams in sixgrams:\n",
    "  print(grams)"
   ]
  },
  {
   "cell_type": "markdown",
   "metadata": {},
   "source": [
    "\n",
    "## 12. Regular Expressions\n",
    "\n",
    "Regular expressions, often abbreviated regexp or regexp, are a tried and true method of concisely describing patterns of text. A regular expression is represented as a special text string itself, and is meant for developing search patterns on selections of text. Regular expressions can be thought of as an expanded set of rules beyond the wildcard characters of ? and *. Though often cited as frustrating to learn, regular expressions are incredibly powerful text searching tools.\n",
    "\n",
    "\n"
   ]
  },
  {
   "cell_type": "code",
   "execution_count": 24,
   "metadata": {},
   "outputs": [
    {
     "name": "stdout",
     "output_type": "stream",
     "text": [
      "['Mahesh']\n"
     ]
    }
   ],
   "source": [
    "import re\n",
    "inp = 'my name is Mahesh'\n",
    "\n",
    "pattern = '[a-zA-Z]{6}'\n",
    "match = re.findall(pattern, inp)\n",
    "\n",
    "if(match):\n",
    "    for m in match :\n",
    "        \n",
    "        print(match)"
   ]
  },
  {
   "cell_type": "markdown",
   "metadata": {},
   "source": [
    "## 13. Zipf's Law\n",
    "\n",
    "Zipf's Law is used to describe the relationship between word frequencies in document collections. If a document collection's words are ordered by frequency, and y is used to describe the number of times that the xth word appears, Zipf's observation is concisely captured as y = cx-1/2 (item frequency is inversely proportional to item rank). More generally, Wikipedia says:\n",
    "\n",
    "    Zipf's law states that given some corpus of natural language utterances, the frequency of any word is inversely proportional to its rank in the frequency table. Thus the most frequent word will occur approximately twice as often as the second most frequent word, three times as often as the third most frequent word, etc. \n",
    "\n",
    "Zipf's Law"
   ]
  },
  {
   "cell_type": "code",
   "execution_count": null,
   "metadata": {},
   "outputs": [],
   "source": []
  },
  {
   "cell_type": "code",
   "execution_count": 25,
   "metadata": {},
   "outputs": [
    {
     "data": {
      "image/jpeg": "[encoded data removed]",
      "text/plain": [
       "<IPython.core.display.Image object>"
      ]
     },
     "execution_count": 25,
     "metadata": {},
     "output_type": "execute_result"
    }
   ],
   "source": [
    "from IPython.display import Image\n",
    "Image(filename='images/zipf.jpg') "
   ]
  },
  {
   "cell_type": "code",
   "execution_count": null,
   "metadata": {},
   "outputs": [],
   "source": [
    "aabbcc, aabbcc"
   ]
  },
  {
   "cell_type": "markdown",
   "metadata": {},
   "source": [
    "## 14. Similarity Measures\n",
    "\n",
    "There are numerous similarity measures which can be applied to NLP. What are we measuring the similarity of? Generally, strings.\n",
    "\n",
    "    Levenshtein - the number of characters that must be deleted, inserted, or substituted in order to make a pair of strings equal\n",
    "    Jaccard - the measure of overlap between 2 sets; in the case of NLP, generally, documents are sets of words\n",
    "    Smith Waterman - similar to Levenshtein, but with costs assigned to substitution, insertion, and deletion \n",
    "\n",
    "## 15. Syntactic Analysis\n",
    "\n",
    "Also referred to as parsing, syntactic analysis is the task of analyzing strings as symbols, and ensuring their conformance to a established set of grammatical rules. This step must, out of necessity, come before any further analysis which attempts to extract insight from text -- semantic, sentiment, etc. -- treating it as something beyond symbols.\n",
    "\n",
    "## 16. Semantic Analysis\n",
    "\n",
    "Also known as meaning generation, semantic analysis is interested in determining the meaning of text selections (either character or word sequences). After an input selection of text is read and parsed (analyzed syntactically), the text selection can then be interpreted for meaning. Simply put, syntactic analysis is concerned with what words a text selection was made up of, while semantic analysis wants to know what the collection of words actually means. The topic of semantic analysis is both broad and deep, with a wide variety of tools and techniques at the researcher's disposal.\n",
    "\n",
    "## 17. Sentiment Analysis\n",
    "\n",
    "Sentiment analysis is the process of evaluating and determining the sentiment captured in a selection of text, with sentiment defined as feeling or emotion. This sentiment can be simply positive (happy), negative (sad or angry), or neutral, or can be some more precise measurement along a scale, with neutral in the middle, and positive and negative increasing in either direction.\n",
    "\n",
    "Sentiment analysis\n",
    "\n"
   ]
  },
  {
   "cell_type": "code",
   "execution_count": 5,
   "metadata": {},
   "outputs": [
    {
     "data": {
      "image/jpeg": "[encoded data removed]",
      "text/plain": [
       "<IPython.core.display.Image object>"
      ]
     },
     "execution_count": 5,
     "metadata": {},
     "output_type": "execute_result"
    }
   ],
   "source": [
    "from IPython.display import Image\n",
    "Image(filename='images/sentiment-analysis.jpg') "
   ]
  },
  {
   "cell_type": "markdown",
   "metadata": {},
   "source": [
    "## 18. Information Retrieval\n",
    "\n",
    "Information retrieval is the process of accessing and retrieving the most appropriate information from text based on a particular query, using context-based indexing or metadata. One of the most famous examples of information retrieval would be Google Search."
   ]
  },
  {
   "cell_type": "code",
   "execution_count": null,
   "metadata": {},
   "outputs": [],
   "source": []
  },
  {
   "cell_type": "markdown",
   "metadata": {},
   "source": [
    "## MCQ"
   ]
  },
  {
   "cell_type": "markdown",
   "metadata": {},
   "source": [
    "https://www.sanfoundry.com/artificial-intelligence-mcqs-natural-language-processing-1/"
   ]
  },
  {
   "cell_type": "markdown",
   "metadata": {},
   "source": [
    "## PCA(Principal Component analysis)\n",
    "\n",
    "## Convert features to low dimentional features with orthogoonal properties"
   ]
  },
  {
   "cell_type": "raw",
   "metadata": {},
   "source": [
    "Reducing the number of input variables for a predictive model is referred to as dimensionality reduction.\n",
    "\n",
    "Fewer input variables can result in a simpler predictive model that may have better performance when making predictions on new data.\n",
    "\n",
    "Perhaps the most popular technique for dimensionality reduction in machine learning is Principal Component Analysis, or PCA for short. This is a technique that comes from the field of linear algebra and can be used as a data preparation technique to create a projection of a dataset prior to fitting a model."
   ]
  },
  {
   "cell_type": "raw",
   "metadata": {},
   "source": [
    "\n",
    "    Dimensionality reduction involves reducing the number of input variables or columns in modeling data.\n",
    "    PCA is a technique from linear algebra that can be used to automatically perform dimensionality reduction.\n",
    "    How to evaluate predictive models that use a PCA projection as input and make predictions with new raw data.\n"
   ]
  },
  {
   "cell_type": "code",
   "execution_count": null,
   "metadata": {},
   "outputs": [],
   "source": []
  },
  {
   "cell_type": "code",
   "execution_count": 13,
   "metadata": {},
   "outputs": [
    {
     "name": "stdout",
     "output_type": "stream",
     "text": [
      "(1000, 20) (1000,)\n"
     ]
    }
   ],
   "source": [
    "\n",
    "# test classification dataset\n",
    "from sklearn.datasets import make_classification\n",
    "# define dataset\n",
    "X, y = make_classification(n_samples=1000, n_features=20, n_informative=15, n_redundant=5, random_state=7)\n",
    "# summarize the dataset\n",
    "print(X.shape, y.shape)"
   ]
  },
  {
   "cell_type": "code",
   "execution_count": null,
   "metadata": {},
   "outputs": [],
   "source": []
  },
  {
   "cell_type": "code",
   "execution_count": 9,
   "metadata": {},
   "outputs": [
    {
     "name": "stdout",
     "output_type": "stream",
     "text": [
      "Accuracy: 0.816 (0.034)\n"
     ]
    }
   ],
   "source": [
    "# evaluate pca with logistic regression algorithm for classification\n",
    "from numpy import mean\n",
    "from numpy import std\n",
    "from sklearn.datasets import make_classification\n",
    "from sklearn.model_selection import cross_val_score\n",
    "from sklearn.model_selection import RepeatedStratifiedKFold\n",
    "from sklearn.pipeline import Pipeline\n",
    "from sklearn.decomposition import PCA\n",
    "from sklearn.linear_model import LogisticRegression\n",
    "# define dataset\n",
    "X, y = make_classification(n_samples=1000, n_features=20, n_informative=15, n_redundant=5, random_state=7)\n",
    "# define the pipeline\n",
    "steps = [('pca', PCA(n_components=10)), ('m', LogisticRegression())]\n",
    "model = Pipeline(steps=steps)\n",
    "# evaluate model\n",
    "cv = RepeatedStratifiedKFold(n_splits=10, n_repeats=3, random_state=1)\n",
    "n_scores = cross_val_score(model, X, y, scoring='accuracy', cv=cv, n_jobs=-1, error_score='raise')\n",
    "# report performance\n",
    "print('Accuracy: %.3f (%.3f)' % (mean(n_scores), std(n_scores)))"
   ]
  },
  {
   "cell_type": "code",
   "execution_count": 16,
   "metadata": {},
   "outputs": [],
   "source": [
    "pca = PCA(2)"
   ]
  },
  {
   "cell_type": "code",
   "execution_count": 17,
   "metadata": {},
   "outputs": [],
   "source": [
    "pca_transformed = pca.fit_transform(X)"
   ]
  },
  {
   "cell_type": "code",
   "execution_count": 18,
   "metadata": {},
   "outputs": [
    {
     "data": {
      "text/plain": [
       "(1000, 2)"
      ]
     },
     "execution_count": 18,
     "metadata": {},
     "output_type": "execute_result"
    }
   ],
   "source": [
    "pca_transformed.shape"
   ]
  },
  {
   "cell_type": "code",
   "execution_count": 19,
   "metadata": {},
   "outputs": [
    {
     "data": {
      "text/plain": [
       "array([[  6.00633104,   4.66632245],\n",
       "       [-18.51156895,   0.69267307],\n",
       "       [  4.74506488,  -1.02009294],\n",
       "       ...,\n",
       "       [ 10.27930245,   8.2381489 ],\n",
       "       [ 10.08084608,   6.73255795],\n",
       "       [ -0.27055685,  -1.35195436]])"
      ]
     },
     "execution_count": 19,
     "metadata": {},
     "output_type": "execute_result"
    }
   ],
   "source": [
    "pca_transformed"
   ]
  },
  {
   "cell_type": "code",
   "execution_count": null,
   "metadata": {},
   "outputs": [],
   "source": []
  },
  {
   "cell_type": "code",
   "execution_count": 21,
   "metadata": {},
   "outputs": [],
   "source": [
    "import matplotlib.pyplot as plt\n",
    "%matplotlib inline"
   ]
  },
  {
   "cell_type": "code",
   "execution_count": 22,
   "metadata": {},
   "outputs": [
    {
     "data": {
      "text/plain": [
       "[<matplotlib.lines.Line2D at 0x7efd6a166370>]"
      ]
     },
     "execution_count": 22,
     "metadata": {},
     "output_type": "execute_result"
    },
    {
     "data": {
      "image/png": "[encoded data removed]",
      "text/plain": [
       "<Figure size 432x288 with 1 Axes>"
      ]
     },
     "metadata": {
      "needs_background": "light"
     },
     "output_type": "display_data"
    }
   ],
   "source": [
    "plt.plot(pca_transformed[0],pca_transformed[1])"
   ]
  },
  {
   "cell_type": "markdown",
   "metadata": {},
   "source": [
    "## Steps:\n",
    "    \n",
    "    1. Reduce dimention and check variance\n",
    "    2. Model data and check if you get desired output accuracy\n",
    "    3. Reiterate first step and check to get better results"
   ]
  },
  {
   "cell_type": "markdown",
   "metadata": {},
   "source": [
    "## Coreference Resolution"
   ]
  },
  {
   "cell_type": "raw",
   "metadata": {},
   "source": [
    "Coreference resolution is the task of finding all expressions that refer to the same entity in a text. It is an important step for a lot of higher level NLP tasks that involve natural language understanding such as document summarization, question answering, and information extraction. "
   ]
  },
  {
   "cell_type": "markdown",
   "metadata": {},
   "source": [
    "        Anaphora\n",
    "\n",
    "        a. The musici was so loud that iti couldn't be enjoyed. –The anaphor it follows the expression to which it refers (its antecedent).\n",
    "\n",
    "        b. Our neighborsi dislike the music. If theyi are angry, the cops will show up soon. – The anaphor they follows the expression to which it refers (its antecedent).\n",
    "\n",
    "        Cataphora\n",
    "\n",
    "        a. If theyi are angry about the music, the neighborsi will call the cops. – The cataphor they precedes the expression to which it refers (its postcedent).\n",
    "\n",
    "        b. Despite heri difficulty, Wilmai came to understand the point. – The cataphor her precedes the expression to which it refers (its postcedent)"
   ]
  },
  {
   "cell_type": "markdown",
   "metadata": {},
   "source": [
    "## Sentiment analysis\n",
    "https://www.kaggle.com/mps123/twitter-sentiment-analysis-for-beginners/edit"
   ]
  },
  {
   "cell_type": "code",
   "execution_count": null,
   "metadata": {},
   "outputs": [],
   "source": []
  }
 ],
 "metadata": {
  "kernelspec": {
   "display_name": "Python 3",
   "language": "python",
   "name": "python3"
  },
  "language_info": {
   "codemirror_mode": {
    "name": "ipython",
    "version": 3
   },
   "file_extension": ".py",
   "mimetype": "text/x-python",
   "name": "python",
   "nbconvert_exporter": "python",
   "pygments_lexer": "ipython3",
   "version": "3.6.13"
  }
 },
 "nbformat": 4,
 "nbformat_minor": 4
}
