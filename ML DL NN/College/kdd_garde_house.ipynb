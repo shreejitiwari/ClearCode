{
 "cells": [
  {
   "cell_type": "code",
   "execution_count": 7,
   "metadata": {},
   "outputs": [
    {
     "data": {
      "text/html": [
       "<div>\n",
       "<style scoped>\n",
       "    .dataframe tbody tr th:only-of-type {\n",
       "        vertical-align: middle;\n",
       "    }\n",
       "\n",
       "    .dataframe tbody tr th {\n",
       "        vertical-align: top;\n",
       "    }\n",
       "\n",
       "    .dataframe thead th {\n",
       "        text-align: right;\n",
       "    }\n",
       "</style>\n",
       "<table border=\"1\" class=\"dataframe\">\n",
       "  <thead>\n",
       "    <tr style=\"text-align: right;\">\n",
       "      <th></th>\n",
       "      <th>Hours_Studied</th>\n",
       "      <th>Test_Grade</th>\n",
       "    </tr>\n",
       "  </thead>\n",
       "  <tbody>\n",
       "    <tr>\n",
       "      <th>0</th>\n",
       "      <td>2</td>\n",
       "      <td>57</td>\n",
       "    </tr>\n",
       "    <tr>\n",
       "      <th>1</th>\n",
       "      <td>3</td>\n",
       "      <td>66</td>\n",
       "    </tr>\n",
       "    <tr>\n",
       "      <th>2</th>\n",
       "      <td>4</td>\n",
       "      <td>73</td>\n",
       "    </tr>\n",
       "    <tr>\n",
       "      <th>3</th>\n",
       "      <td>5</td>\n",
       "      <td>76</td>\n",
       "    </tr>\n",
       "    <tr>\n",
       "      <th>4</th>\n",
       "      <td>6</td>\n",
       "      <td>79</td>\n",
       "    </tr>\n",
       "    <tr>\n",
       "      <th>5</th>\n",
       "      <td>7</td>\n",
       "      <td>81</td>\n",
       "    </tr>\n",
       "    <tr>\n",
       "      <th>6</th>\n",
       "      <td>8</td>\n",
       "      <td>90</td>\n",
       "    </tr>\n",
       "    <tr>\n",
       "      <th>7</th>\n",
       "      <td>9</td>\n",
       "      <td>96</td>\n",
       "    </tr>\n",
       "    <tr>\n",
       "      <th>8</th>\n",
       "      <td>10</td>\n",
       "      <td>100</td>\n",
       "    </tr>\n",
       "  </tbody>\n",
       "</table>\n",
       "</div>"
      ],
      "text/plain": [
       "   Hours_Studied  Test_Grade\n",
       "0              2          57\n",
       "1              3          66\n",
       "2              4          73\n",
       "3              5          76\n",
       "4              6          79\n",
       "5              7          81\n",
       "6              8          90\n",
       "7              9          96\n",
       "8             10         100"
      ]
     },
     "execution_count": 7,
     "metadata": {},
     "output_type": "execute_result"
    }
   ],
   "source": [
    "# Data Collection Grade_\n",
    "import pandas as pd\n",
    "df = pd.read_csv(\"E:\\\\2021\\\\notes 2021\\\\phd_amity Classes_PCS107_AI and ML\\\\data set\\\\Grade_Set_1.csv\")\n",
    "df\n",
    "\n",
    "#Knowledge discovery in databases (KDD) is the process of discovering useful knowledge from a collection of data\n",
    "\n"
   ]
  },
  {
   "cell_type": "code",
   "execution_count": 9,
   "metadata": {},
   "outputs": [],
   "source": [
    "?pd"
   ]
  },
  {
   "cell_type": "code",
   "execution_count": 4,
   "metadata": {},
   "outputs": [
    {
     "data": {
      "text/plain": [
       "array([[ 2],\n",
       "       [ 3],\n",
       "       [ 4],\n",
       "       [ 5],\n",
       "       [ 6],\n",
       "       [ 7],\n",
       "       [ 8],\n",
       "       [ 9],\n",
       "       [10]], dtype=int64)"
      ]
     },
     "execution_count": 4,
     "metadata": {},
     "output_type": "execute_result"
    }
   ],
   "source": [
    "# step -2\n",
    "\"\"\" Stage 2 - Selection Phase \"\"\"\n",
    "\"\"\" Division of factors into \n",
    "independent variable (X)& \n",
    "response variable (Y)\"\"\"\n",
    "\n",
    "df[\"Hours_Studied\"]\n",
    "\"\"\"Convert series to array\"\"\"\n",
    "df.Hours_Studied.values     # indentation is required \n",
    "\"\"\"Convert independent factors from\n",
    "            data frame to ndarray using numpy \n",
    " import numpy as np\n",
    "df.Hours_Studied[:, np.newaxis]\n"
   ]
  },
  {
   "cell_type": "code",
   "execution_count": 7,
   "metadata": {},
   "outputs": [
    {
     "data": {
      "text/html": [
       "<div>\n",
       "<style scoped>\n",
       "    .dataframe tbody tr th:only-of-type {\n",
       "        vertical-align: middle;\n",
       "    }\n",
       "\n",
       "    .dataframe tbody tr th {\n",
       "        vertical-align: top;\n",
       "    }\n",
       "\n",
       "    .dataframe thead th {\n",
       "        text-align: right;\n",
       "    }\n",
       "</style>\n",
       "<table border=\"1\" class=\"dataframe\">\n",
       "  <thead>\n",
       "    <tr style=\"text-align: right;\">\n",
       "      <th></th>\n",
       "      <th>Hours_Studied</th>\n",
       "      <th>Test_Grade</th>\n",
       "    </tr>\n",
       "  </thead>\n",
       "  <tbody>\n",
       "    <tr>\n",
       "      <th>Hours_Studied</th>\n",
       "      <td>1.000000</td>\n",
       "      <td>0.987797</td>\n",
       "    </tr>\n",
       "    <tr>\n",
       "      <th>Test_Grade</th>\n",
       "      <td>0.987797</td>\n",
       "      <td>1.000000</td>\n",
       "    </tr>\n",
       "  </tbody>\n",
       "</table>\n",
       "</div>"
      ],
      "text/plain": [
       "               Hours_Studied  Test_Grade\n",
       "Hours_Studied       1.000000    0.987797\n",
       "Test_Grade          0.987797    1.000000"
      ]
     },
     "execution_count": 7,
     "metadata": {},
     "output_type": "execute_result"
    }
   ],
   "source": [
    "\"\"\"Stage 2 - Selection \"\"\"\n",
    "\n",
    "# independent factors\n",
    "X = df.Hours_Studied[:, np.newaxis]\n",
    "# response variables\n",
    "Y = df.Test_Grade.values\n",
    "# Select independent factors on the basis\n",
    "# of covariance and correlation\n",
    "df.cov()       \n",
    "\"\"\" Compute correlation of columns\"\"\"\n",
    "df.corr()\n"
   ]
  },
  {
   "cell_type": "code",
   "execution_count": 8,
   "metadata": {},
   "outputs": [
    {
     "name": "stdout",
     "output_type": "stream",
     "text": [
      "6.0\n"
     ]
    },
    {
     "data": {
      "text/plain": [
       "' Methods are as follows: \\n    a.) Label Binarizer : Binary\\n    b.) Label Encoding : Category (Manual)\\n    c.) One Hot Encoder : Category (Automated)'"
      ]
     },
     "execution_count": 8,
     "metadata": {},
     "output_type": "execute_result"
    }
   ],
   "source": [
    "\"\"\" Stage 3 - Preprocessing \"\"\"\n",
    "\"\"\" A.) Cleaning the data \"\"\"\n",
    "\"\"\" Using sklearn preprocessing library\"\"\"\n",
    "from sklearn import preprocessing\n",
    "\"\"\" 1.) Check for Null Values \"\"\"\n",
    "df.isnull()\n",
    "\"\"\" 2.) If empty either remove or fill\"\"\"\n",
    "\"\"\" Filling techniques: \n",
    "    a.) Fill with NA \n",
    "    b.) Fill with mean \n",
    "    c.) Fill with min\n",
    "    d.) Fill with max\"\"\"\n",
    "df[\"Hours_Studied\"].fillna(value=df[\"Hours_Studied\"].mean())\n",
    "print(df[\"Hours_Studied\"].mean())\n",
    "\n",
    "\"\"\" B.) Preprocessing the categories \"\"\"\n",
    "\"\"\" Conversion of text data to numbers \"\"\"\n",
    "\"\"\" b1.) Binary category: yes / no\"\"\"\n",
    "\"\"\" b2.) Classified category: \n",
    "        BTECH1 / BTECH2 / BTECH3 \"\"\"\n",
    "\n",
    "\"\"\" Methods are as follows: \n",
    "    a.) Label Binarizer : Binary\n",
    "    b.) Label Encoding : Category (Manual)\n",
    "    c.) One Hot Encoder : Category (Automated)\"\"\"\n"
   ]
  },
  {
   "cell_type": "code",
   "execution_count": 11,
   "metadata": {},
   "outputs": [
    {
     "name": "stdout",
     "output_type": "stream",
     "text": [
      "Mean is 6.0\n",
      "Standard deviation is 2.7386127875258306\n",
      "0   -1.460593\n",
      "1   -1.095445\n",
      "2   -0.730297\n",
      "3   -0.365148\n",
      "4    0.000000\n",
      "5    0.365148\n",
      "6    0.730297\n",
      "7    1.095445\n",
      "8    1.460593\n",
      "Name: Hours_Studied, dtype: float64\n"
     ]
    },
    {
     "name": "stderr",
     "output_type": "stream",
     "text": [
      "C:\\Users\\asus\\Anaconda3\\lib\\site-packages\\sklearn\\utils\\validation.py:475: DataConversionWarning: Data with input dtype int64 was converted to float64 by StandardScaler.\n",
      "  warnings.warn(msg, DataConversionWarning)\n"
     ]
    }
   ],
   "source": [
    "\"\"\" Stage 4 - Transformation \"\"\"\n",
    "\"\"\"Standardization and Normalization\"\"\"\n",
    "\"\"\" Standardization = StandardScalar()\"\"\"\n",
    "\"\"\" MinMax Scaling = MinMaxScalar()\"\"\"\n",
    "# Standardization using Library \n",
    "scalar = preprocessing.StandardScaler().fit(X)\n",
    "scalar.transform(X)\n",
    "# Calculate standardization manually\n",
    "mean = df.Hours_Studied.mean()\n",
    "standard_deviation = df.Hours_Studied.std()\n",
    "print(\"Mean is\", mean)\n",
    "print(\"Standard deviation is\", \n",
    "      standard_deviation)\n",
    "print((df.Hours_Studied - mean) / standard_deviation)\n",
    "\n"
   ]
  },
  {
   "cell_type": "code",
   "execution_count": 15,
   "metadata": {},
   "outputs": [
    {
     "data": {
      "text/plain": [
       "array([[0.   ],\n",
       "       [0.125],\n",
       "       [0.25 ],\n",
       "       [0.375],\n",
       "       [0.5  ],\n",
       "       [0.625],\n",
       "       [0.75 ],\n",
       "       [0.875],\n",
       "       [1.   ]])"
      ]
     },
     "execution_count": 15,
     "metadata": {},
     "output_type": "execute_result"
    }
   ],
   "source": [
    "\"\"\" 4b Normalization of Data \"\"\"\n",
    "normalizer = preprocessing.MinMaxScaler().fit(X)\n",
    "X = normalizer.transform(X)\n",
    "X"
   ]
  },
  {
   "cell_type": "code",
   "execution_count": 16,
   "metadata": {},
   "outputs": [
    {
     "data": {
      "image/png": "[encoded data removed]",
      "text/plain": [
       "<Figure size 432x288 with 1 Axes>"
      ]
     },
     "metadata": {},
     "output_type": "display_data"
    }
   ],
   "source": [
    "\"\"\" Stage 5 - Data Mining \"\"\"\n",
    "\"\"\" Check the response variable type \"\"\"\n",
    "\"\"\" Type = Quantitative / Number \"\"\"\n",
    "\"\"\" For quantitative response variable \n",
    "we use Linear Regression \"\"\"\n",
    "\"\"\"Linear Regression equation is:\n",
    "Y = m * X + c \n",
    "Y = Response variable \n",
    "m = slope [deltaY / deltaX]\n",
    "X = Independent Factor \n",
    "c = intercept [Value of Y when X = 0]\n",
    "\"\"\"\n",
    "import matplotlib.pyplot as plt\n",
    "%matplotlib inline\n",
    "df.plot(x=\"Hours_Studied\", \n",
    "        y=\"Test_Grade\",\n",
    "       kind=\"scatter\", \n",
    "        title=\"Hours vs Marks\")\n",
    "import sklearn.linear_model as lm\n",
    "lr = lm.LinearRegression()\n",
    "X = df.Hours_Studied[:, np.newaxis]\n",
    "Y = df.Test_Grade.values\n",
    "lr.fit(X, Y)\n",
    "\"\"\" Prediction of Test Grade \"\"\"\n",
    "Y_pred  = lr.predict(X)\n",
    "\"\"\" Add predicted values to data frame\n",
    "for comparison \"\"\"\n",
    "df[\"Predicted\"] = Y_pred\n",
    "df\n",
    "\"\"\"Plot the Actual vs Predicted \"\"\"\n",
    "plt.scatter(X, Y, color=\"blue\")\n",
    "plt.plot(X, Y_pred, color=\"red\")\n",
    "plt.title(\"Actual vs Predicted\")\n",
    "plt.xlabel(\"Hours Studied\")\n",
    "plt.ylabel(\"Test Grade\")\n",
    "\n",
    "plt.show()\n",
    "\n"
   ]
  },
  {
   "cell_type": "code",
   "execution_count": 17,
   "metadata": {},
   "outputs": [
    {
     "name": "stdout",
     "output_type": "stream",
     "text": [
      "Slope is  [5.01666667]\n",
      "Intercept is 49.67777777777776\n",
      "Original value of Y     Hours_Studied  Test_Grade  Predicted\n",
      "0              2          57  59.711111\n",
      "Predicted Value of Y when X = 7 [59.71111111]\n"
     ]
    }
   ],
   "source": [
    "\"\"\"Print the coeff and intercept\"\"\"\n",
    "print(\"Slope is \", lr.coef_)\n",
    "print(\"Intercept is\", lr.intercept_)\n",
    "\"\"\" Manual implementation of Linear\n",
    "Regression: Y = mX + c\n",
    "\"\"\"\n",
    "m = lr.coef_\n",
    "c = lr.intercept_\n",
    "\"\"\"Calculate Y when X = 7 \"\"\"\n",
    "X1 = 2\n",
    "Y1 = m * X1 + c\n",
    "print(\"Original value of Y \", df[0:1])\n",
    "print(\"Predicted Value of Y when X = 7\",Y1)\n",
    "\n"
   ]
  },
  {
   "cell_type": "code",
   "execution_count": 19,
   "metadata": {},
   "outputs": [
    {
     "name": "stdout",
     "output_type": "stream",
     "text": [
      "Sum of squared residual 1510.0166666666673\n",
      "Sum of squared total 1547.5555555555557\n",
      "Accuracy is 0.9757431074095351\n",
      "Accuracy is 0.9757431074095347\n"
     ]
    }
   ],
   "source": [
    "\"\"\" How good the model is ? \"\"\"\n",
    "\"\"\" Stage 6 - Evaluation / Interpretation \n",
    "According to SEMMA (Assess)\n",
    "\"\"\"\n",
    "\"\"\" To evaluate Linear Regression \n",
    "use the following techniques \n",
    "1.) Evaluate coefficient of determination\n",
    "also known as R Squared Value \n",
    "Range (0 - 1)\n",
    "Thumb Rule for good fit is :\n",
    "r square > 0.8 \n",
    "2.) Root Mean Squared Error : RMSE \n",
    "Lower the value, better the model\n",
    "3.) Mean Absolute Error: MAE \n",
    "Lower the value, better the model \n",
    "\"\"\"\n",
    "\"\"\" Manual Evaluation Process \"\"\"\n",
    "\"\"\" R squared = SSR / SST \n",
    "SSR = Sum of squared residual\n",
    "SST = Sum of squared total\n",
    "SSR = sum of square of y_pred - y_mean\n",
    "SST = sum of square of y - y_mean\n",
    "\"\"\"\n",
    "# Compute Sum of Squared Residual \n",
    "sr = np.square(Y_pred - Y.mean())\n",
    "ssr = sr.sum()\n",
    "# Compute Sum of Squared Total\n",
    "st = np.square(Y - Y.mean())\n",
    "sst = st.sum()\n",
    "sst\n",
    "print(\"Sum of squared residual\", ssr)\n",
    "print(\"Sum of squared total\", sst)\n",
    "# Compute r squared: \n",
    "# coeff of determination\n",
    "r_squared = ssr / sst \n",
    "print(\"Accuracy is\", r_squared)\n",
    "\"\"\" Compute rsquared using \n",
    "sklearn metrics \"\"\"\n",
    "from sklearn.metrics import r2_score\n",
    "print(\"Accuracy is\", r2_score(Y, Y_pred))  # error\n",
    "\n"
   ]
  },
  {
   "cell_type": "code",
   "execution_count": 20,
   "metadata": {},
   "outputs": [
    {
     "name": "stdout",
     "output_type": "stream",
     "text": [
      "Mean Squared Error 4.170987654320986\n",
      "Root Mean Squared Error 2.0422995995497297\n",
      "Mean absolute error 1.618518518518523\n"
     ]
    }
   ],
   "source": [
    "\"\"\" 2.) Root Mean Squared Error \"\"\"    # performance metric mae,mse,rmse\n",
    "from sklearn.metrics import mean_squared_error\n",
    "mse = mean_squared_error(Y, Y_pred)\n",
    "rmse = np.sqrt(mse)\n",
    "print(\"Mean Squared Error\", mse)     # real data vs predicated data\n",
    "print(\"Root Mean Squared Error\", rmse)\n",
    "\"\"\" 3.) Mean Absolute Error \"\"\"\n",
    "from sklearn.metrics import mean_absolute_error\n",
    "mae = mean_absolute_error(Y, Y_pred)\n",
    "print(\"Mean absolute error\", mae)\n",
    "# MAE : linear score, indivisual difrences are weighted equally \n",
    "# RMSE :quadratic score, high weigth to large errors\n",
    "#MSE :how close a fitted line \n",
    "# RMSE=MAE.[RMSE]<=[MAE]\n"
   ]
  },
  {
   "cell_type": "code",
   "execution_count": 21,
   "metadata": {},
   "outputs": [
    {
     "name": "stdout",
     "output_type": "stream",
     "text": [
      "   Hours_Studied  Test_Grade  Predicted     Degree2\n",
      "0              2          57  59.711111   56.564103\n",
      "1              3          66  64.727778   67.259907\n",
      "2              4          73  69.744444   72.355478\n",
      "3              5          76  74.761111   75.319347\n",
      "4              6          79  79.777778   78.487179\n",
      "5              7          81  84.794444   83.061772\n",
      "6              8          90  89.811111   89.113054\n",
      "7              9          96  94.827778   95.578089\n",
      "8             10         100  99.844444  100.261072\n",
      "Accuracy for Degree 1 0.9757431074095347\n",
      "Accuracy for Degree 4 0.9946995135823395\n"
     ]
    },
    {
     "data": {
      "image/png": "[encoded data removed]",
      "text/plain": [
       "<Figure size 432x288 with 1 Axes>"
      ]
     },
     "metadata": {},
     "output_type": "display_data"
    },
    {
     "data": {
      "text/html": [
       "<div>\n",
       "<style scoped>\n",
       "    .dataframe tbody tr th:only-of-type {\n",
       "        vertical-align: middle;\n",
       "    }\n",
       "\n",
       "    .dataframe tbody tr th {\n",
       "        vertical-align: top;\n",
       "    }\n",
       "\n",
       "    .dataframe thead th {\n",
       "        text-align: right;\n",
       "    }\n",
       "</style>\n",
       "<table border=\"1\" class=\"dataframe\">\n",
       "  <thead>\n",
       "    <tr style=\"text-align: right;\">\n",
       "      <th></th>\n",
       "      <th>Hours_Studied</th>\n",
       "      <th>Test_Grade</th>\n",
       "      <th>Predicted</th>\n",
       "      <th>Degree2</th>\n",
       "    </tr>\n",
       "  </thead>\n",
       "  <tbody>\n",
       "    <tr>\n",
       "      <th>0</th>\n",
       "      <td>2</td>\n",
       "      <td>57</td>\n",
       "      <td>59.711111</td>\n",
       "      <td>56.564103</td>\n",
       "    </tr>\n",
       "    <tr>\n",
       "      <th>1</th>\n",
       "      <td>3</td>\n",
       "      <td>66</td>\n",
       "      <td>64.727778</td>\n",
       "      <td>67.259907</td>\n",
       "    </tr>\n",
       "    <tr>\n",
       "      <th>2</th>\n",
       "      <td>4</td>\n",
       "      <td>73</td>\n",
       "      <td>69.744444</td>\n",
       "      <td>72.355478</td>\n",
       "    </tr>\n",
       "    <tr>\n",
       "      <th>3</th>\n",
       "      <td>5</td>\n",
       "      <td>76</td>\n",
       "      <td>74.761111</td>\n",
       "      <td>75.319347</td>\n",
       "    </tr>\n",
       "    <tr>\n",
       "      <th>4</th>\n",
       "      <td>6</td>\n",
       "      <td>79</td>\n",
       "      <td>79.777778</td>\n",
       "      <td>78.487179</td>\n",
       "    </tr>\n",
       "    <tr>\n",
       "      <th>5</th>\n",
       "      <td>7</td>\n",
       "      <td>81</td>\n",
       "      <td>84.794444</td>\n",
       "      <td>83.061772</td>\n",
       "    </tr>\n",
       "    <tr>\n",
       "      <th>6</th>\n",
       "      <td>8</td>\n",
       "      <td>90</td>\n",
       "      <td>89.811111</td>\n",
       "      <td>89.113054</td>\n",
       "    </tr>\n",
       "    <tr>\n",
       "      <th>7</th>\n",
       "      <td>9</td>\n",
       "      <td>96</td>\n",
       "      <td>94.827778</td>\n",
       "      <td>95.578089</td>\n",
       "    </tr>\n",
       "    <tr>\n",
       "      <th>8</th>\n",
       "      <td>10</td>\n",
       "      <td>100</td>\n",
       "      <td>99.844444</td>\n",
       "      <td>100.261072</td>\n",
       "    </tr>\n",
       "  </tbody>\n",
       "</table>\n",
       "</div>"
      ],
      "text/plain": [
       "   Hours_Studied  Test_Grade  Predicted     Degree2\n",
       "0              2          57  59.711111   56.564103\n",
       "1              3          66  64.727778   67.259907\n",
       "2              4          73  69.744444   72.355478\n",
       "3              5          76  74.761111   75.319347\n",
       "4              6          79  79.777778   78.487179\n",
       "5              7          81  84.794444   83.061772\n",
       "6              8          90  89.811111   89.113054\n",
       "7              9          96  94.827778   95.578089\n",
       "8             10         100  99.844444  100.261072"
      ]
     },
     "execution_count": 21,
     "metadata": {},
     "output_type": "execute_result"
    }
   ],
   "source": [
    "\"\"\" Stage 7 - Optimization \n",
    "and Performance Tuning \"\"\"\n",
    "\"\"\" Polynomial Regression \"\"\"\n",
    "\"\"\" Objective is to find the nth degree\n",
    "where we can achieve highest accuracy\n",
    "and above this degree, variation of \n",
    "accuracy is minimum \"\"\"\n",
    "\n",
    "\"\"\"Python offers polynomial features\n",
    "for regression PolynomialFeatures\"\"\"\n",
    "from sklearn import preprocessing\n",
    "from sklearn import pipeline\n",
    "deg = 4\n",
    "pf = preprocessing.PolynomialFeatures(\n",
    "    degree=deg)\n",
    "\n",
    "\"\"\" Apply polynomial features on \n",
    "Linear Regression model using pipeline\n",
    "\"\"\"\n",
    "model = pipeline.make_pipeline(pf, lr)\n",
    "model.fit(X, Y)                  # fit() \n",
    "Y_pred_2 = model.predict(X)     # predict()\n",
    "df[\"Degree2\"] = Y_pred_2\n",
    "print(df)\n",
    "print(\"Accuracy for Degree 1\", \n",
    "      r2_score(Y, Y_pred))\n",
    "print(\"Accuracy for Degree\", \n",
    "      str(deg), r2_score(Y, Y_pred_2))\n",
    "plt.scatter(X, Y, color=\"blue\")\n",
    "plt.plot(X, Y_pred, color= \"red\")\n",
    "plt.plot(X, Y_pred_2, color=\"green\")\n",
    "plt.show()\n",
    "df\n",
    "\n"
   ]
  },
  {
   "cell_type": "code",
   "execution_count": 8,
   "metadata": {},
   "outputs": [
    {
     "name": "stdout",
     "output_type": "stream",
     "text": [
      "Object `lableencoder` not found.\n"
     ]
    }
   ],
   "source": [
    "?"
   ]
  }
 ],
 "metadata": {
  "kernelspec": {
   "display_name": "Python 3",
   "language": "python",
   "name": "python3"
  },
  "language_info": {
   "codemirror_mode": {
    "name": "ipython",
    "version": 3
   },
   "file_extension": ".py",
   "mimetype": "text/x-python",
   "name": "python",
   "nbconvert_exporter": "python",
   "pygments_lexer": "ipython3",
   "version": "3.6.13"
  }
 },
 "nbformat": 4,
 "nbformat_minor": 2
}
