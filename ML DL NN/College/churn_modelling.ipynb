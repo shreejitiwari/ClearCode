{
 "cells": [
  {
   "cell_type": "markdown",
   "metadata": {},
   "source": [
    "## Artificial Neural Network : Churn_Modelling.csv"
   ]
  },
  {
   "cell_type": "markdown",
   "metadata": {},
   "source": [
    "### Part 1 : Data Processing"
   ]
  },
  {
   "cell_type": "code",
   "execution_count": 2,
   "metadata": {},
   "outputs": [],
   "source": [
    "import numpy as np\n",
    "import matplotlib.pyplot as plt\n",
    "import pandas as pd"
   ]
  },
  {
   "cell_type": "code",
   "execution_count": 3,
   "metadata": {},
   "outputs": [
    {
     "data": {
      "text/html": [
       "<div>\n",
       "<style scoped>\n",
       "    .dataframe tbody tr th:only-of-type {\n",
       "        vertical-align: middle;\n",
       "    }\n",
       "\n",
       "    .dataframe tbody tr th {\n",
       "        vertical-align: top;\n",
       "    }\n",
       "\n",
       "    .dataframe thead th {\n",
       "        text-align: right;\n",
       "    }\n",
       "</style>\n",
       "<table border=\"1\" class=\"dataframe\">\n",
       "  <thead>\n",
       "    <tr style=\"text-align: right;\">\n",
       "      <th></th>\n",
       "      <th>RowNumber</th>\n",
       "      <th>CustomerId</th>\n",
       "      <th>Surname</th>\n",
       "      <th>CreditScore</th>\n",
       "      <th>Geography</th>\n",
       "      <th>Gender</th>\n",
       "      <th>Age</th>\n",
       "      <th>Tenure</th>\n",
       "      <th>Balance</th>\n",
       "      <th>NumOfProducts</th>\n",
       "      <th>HasCrCard</th>\n",
       "      <th>IsActiveMember</th>\n",
       "      <th>EstimatedSalary</th>\n",
       "      <th>Exited</th>\n",
       "    </tr>\n",
       "  </thead>\n",
       "  <tbody>\n",
       "    <tr>\n",
       "      <th>0</th>\n",
       "      <td>1</td>\n",
       "      <td>15634602</td>\n",
       "      <td>Hargrave</td>\n",
       "      <td>619</td>\n",
       "      <td>France</td>\n",
       "      <td>Female</td>\n",
       "      <td>42</td>\n",
       "      <td>2</td>\n",
       "      <td>0.00</td>\n",
       "      <td>1</td>\n",
       "      <td>1</td>\n",
       "      <td>1</td>\n",
       "      <td>101348.88</td>\n",
       "      <td>1</td>\n",
       "    </tr>\n",
       "    <tr>\n",
       "      <th>1</th>\n",
       "      <td>2</td>\n",
       "      <td>15647311</td>\n",
       "      <td>Hill</td>\n",
       "      <td>608</td>\n",
       "      <td>Spain</td>\n",
       "      <td>Female</td>\n",
       "      <td>41</td>\n",
       "      <td>1</td>\n",
       "      <td>83807.86</td>\n",
       "      <td>1</td>\n",
       "      <td>0</td>\n",
       "      <td>1</td>\n",
       "      <td>112542.58</td>\n",
       "      <td>0</td>\n",
       "    </tr>\n",
       "    <tr>\n",
       "      <th>2</th>\n",
       "      <td>3</td>\n",
       "      <td>15619304</td>\n",
       "      <td>Onio</td>\n",
       "      <td>502</td>\n",
       "      <td>France</td>\n",
       "      <td>Female</td>\n",
       "      <td>42</td>\n",
       "      <td>8</td>\n",
       "      <td>159660.80</td>\n",
       "      <td>3</td>\n",
       "      <td>1</td>\n",
       "      <td>0</td>\n",
       "      <td>113931.57</td>\n",
       "      <td>1</td>\n",
       "    </tr>\n",
       "    <tr>\n",
       "      <th>3</th>\n",
       "      <td>4</td>\n",
       "      <td>15701354</td>\n",
       "      <td>Boni</td>\n",
       "      <td>699</td>\n",
       "      <td>France</td>\n",
       "      <td>Female</td>\n",
       "      <td>39</td>\n",
       "      <td>1</td>\n",
       "      <td>0.00</td>\n",
       "      <td>2</td>\n",
       "      <td>0</td>\n",
       "      <td>0</td>\n",
       "      <td>93826.63</td>\n",
       "      <td>0</td>\n",
       "    </tr>\n",
       "    <tr>\n",
       "      <th>4</th>\n",
       "      <td>5</td>\n",
       "      <td>15737888</td>\n",
       "      <td>Mitchell</td>\n",
       "      <td>850</td>\n",
       "      <td>Spain</td>\n",
       "      <td>Female</td>\n",
       "      <td>43</td>\n",
       "      <td>2</td>\n",
       "      <td>125510.82</td>\n",
       "      <td>1</td>\n",
       "      <td>1</td>\n",
       "      <td>1</td>\n",
       "      <td>79084.10</td>\n",
       "      <td>0</td>\n",
       "    </tr>\n",
       "    <tr>\n",
       "      <th>...</th>\n",
       "      <td>...</td>\n",
       "      <td>...</td>\n",
       "      <td>...</td>\n",
       "      <td>...</td>\n",
       "      <td>...</td>\n",
       "      <td>...</td>\n",
       "      <td>...</td>\n",
       "      <td>...</td>\n",
       "      <td>...</td>\n",
       "      <td>...</td>\n",
       "      <td>...</td>\n",
       "      <td>...</td>\n",
       "      <td>...</td>\n",
       "      <td>...</td>\n",
       "    </tr>\n",
       "    <tr>\n",
       "      <th>9995</th>\n",
       "      <td>9996</td>\n",
       "      <td>15606229</td>\n",
       "      <td>Obijiaku</td>\n",
       "      <td>771</td>\n",
       "      <td>France</td>\n",
       "      <td>Male</td>\n",
       "      <td>39</td>\n",
       "      <td>5</td>\n",
       "      <td>0.00</td>\n",
       "      <td>2</td>\n",
       "      <td>1</td>\n",
       "      <td>0</td>\n",
       "      <td>96270.64</td>\n",
       "      <td>0</td>\n",
       "    </tr>\n",
       "    <tr>\n",
       "      <th>9996</th>\n",
       "      <td>9997</td>\n",
       "      <td>15569892</td>\n",
       "      <td>Johnstone</td>\n",
       "      <td>516</td>\n",
       "      <td>France</td>\n",
       "      <td>Male</td>\n",
       "      <td>35</td>\n",
       "      <td>10</td>\n",
       "      <td>57369.61</td>\n",
       "      <td>1</td>\n",
       "      <td>1</td>\n",
       "      <td>1</td>\n",
       "      <td>101699.77</td>\n",
       "      <td>0</td>\n",
       "    </tr>\n",
       "    <tr>\n",
       "      <th>9997</th>\n",
       "      <td>9998</td>\n",
       "      <td>15584532</td>\n",
       "      <td>Liu</td>\n",
       "      <td>709</td>\n",
       "      <td>France</td>\n",
       "      <td>Female</td>\n",
       "      <td>36</td>\n",
       "      <td>7</td>\n",
       "      <td>0.00</td>\n",
       "      <td>1</td>\n",
       "      <td>0</td>\n",
       "      <td>1</td>\n",
       "      <td>42085.58</td>\n",
       "      <td>1</td>\n",
       "    </tr>\n",
       "    <tr>\n",
       "      <th>9998</th>\n",
       "      <td>9999</td>\n",
       "      <td>15682355</td>\n",
       "      <td>Sabbatini</td>\n",
       "      <td>772</td>\n",
       "      <td>Germany</td>\n",
       "      <td>Male</td>\n",
       "      <td>42</td>\n",
       "      <td>3</td>\n",
       "      <td>75075.31</td>\n",
       "      <td>2</td>\n",
       "      <td>1</td>\n",
       "      <td>0</td>\n",
       "      <td>92888.52</td>\n",
       "      <td>1</td>\n",
       "    </tr>\n",
       "    <tr>\n",
       "      <th>9999</th>\n",
       "      <td>10000</td>\n",
       "      <td>15628319</td>\n",
       "      <td>Walker</td>\n",
       "      <td>792</td>\n",
       "      <td>France</td>\n",
       "      <td>Female</td>\n",
       "      <td>28</td>\n",
       "      <td>4</td>\n",
       "      <td>130142.79</td>\n",
       "      <td>1</td>\n",
       "      <td>1</td>\n",
       "      <td>0</td>\n",
       "      <td>38190.78</td>\n",
       "      <td>0</td>\n",
       "    </tr>\n",
       "  </tbody>\n",
       "</table>\n",
       "<p>10000 rows × 14 columns</p>\n",
       "</div>"
      ],
      "text/plain": [
       "      RowNumber  CustomerId    Surname  CreditScore Geography  Gender  Age  \\\n",
       "0             1    15634602   Hargrave          619    France  Female   42   \n",
       "1             2    15647311       Hill          608     Spain  Female   41   \n",
       "2             3    15619304       Onio          502    France  Female   42   \n",
       "3             4    15701354       Boni          699    France  Female   39   \n",
       "4             5    15737888   Mitchell          850     Spain  Female   43   \n",
       "...         ...         ...        ...          ...       ...     ...  ...   \n",
       "9995       9996    15606229   Obijiaku          771    France    Male   39   \n",
       "9996       9997    15569892  Johnstone          516    France    Male   35   \n",
       "9997       9998    15584532        Liu          709    France  Female   36   \n",
       "9998       9999    15682355  Sabbatini          772   Germany    Male   42   \n",
       "9999      10000    15628319     Walker          792    France  Female   28   \n",
       "\n",
       "      Tenure    Balance  NumOfProducts  HasCrCard  IsActiveMember  \\\n",
       "0          2       0.00              1          1               1   \n",
       "1          1   83807.86              1          0               1   \n",
       "2          8  159660.80              3          1               0   \n",
       "3          1       0.00              2          0               0   \n",
       "4          2  125510.82              1          1               1   \n",
       "...      ...        ...            ...        ...             ...   \n",
       "9995       5       0.00              2          1               0   \n",
       "9996      10   57369.61              1          1               1   \n",
       "9997       7       0.00              1          0               1   \n",
       "9998       3   75075.31              2          1               0   \n",
       "9999       4  130142.79              1          1               0   \n",
       "\n",
       "      EstimatedSalary  Exited  \n",
       "0           101348.88       1  \n",
       "1           112542.58       0  \n",
       "2           113931.57       1  \n",
       "3            93826.63       0  \n",
       "4            79084.10       0  \n",
       "...               ...     ...  \n",
       "9995         96270.64       0  \n",
       "9996        101699.77       0  \n",
       "9997         42085.58       1  \n",
       "9998         92888.52       1  \n",
       "9999         38190.78       0  \n",
       "\n",
       "[10000 rows x 14 columns]"
      ]
     },
     "execution_count": 3,
     "metadata": {},
     "output_type": "execute_result"
    }
   ],
   "source": [
    "# importing the data base \n",
    "dataset=pd.read_csv(\"datasets/Churn_Modelling.csv\")\n",
    "dataset"
   ]
  },
  {
   "cell_type": "code",
   "execution_count": 4,
   "metadata": {},
   "outputs": [
    {
     "name": "stdout",
     "output_type": "stream",
     "text": [
      "x : \n",
      " [[619 'France' 'Female' ... 1 1 101348.88]\n",
      " [608 'Spain' 'Female' ... 0 1 112542.58]\n",
      " [502 'France' 'Female' ... 1 0 113931.57]\n",
      " ...\n",
      " [709 'France' 'Female' ... 0 1 42085.58]\n",
      " [772 'Germany' 'Male' ... 1 0 92888.52]\n",
      " [792 'France' 'Female' ... 1 0 38190.78]]\n",
      "\n",
      "y :  [1 0 1 ... 1 1 0]\n"
     ]
    }
   ],
   "source": [
    "x=dataset.iloc[:,3:13].values\n",
    "y=dataset.iloc[:,13].values\n",
    "print(\"x : \\n\",x)\n",
    "print()\n",
    "print(\"y : \",y)"
   ]
  },
  {
   "cell_type": "code",
   "execution_count": 5,
   "metadata": {},
   "outputs": [],
   "source": [
    "#Encoding categorical data\n",
    "\n",
    "from sklearn.preprocessing import LabelEncoder,OneHotEncoder\n",
    "# ?LabelEncoder\n",
    "# ?OneHotEncoder"
   ]
  },
  {
   "cell_type": "code",
   "execution_count": 6,
   "metadata": {},
   "outputs": [],
   "source": [
    "from sklearn.compose import ColumnTransformer \n",
    "# ?ColumnTransformer\n"
   ]
  },
  {
   "cell_type": "code",
   "execution_count": 7,
   "metadata": {},
   "outputs": [
    {
     "name": "stdout",
     "output_type": "stream",
     "text": [
      "[[1.0 0.0 0.0 ... 1 1 101348.88]\n",
      " [0.0 0.0 1.0 ... 0 1 112542.58]\n",
      " [1.0 0.0 0.0 ... 1 0 113931.57]\n",
      " ...\n",
      " [1.0 0.0 0.0 ... 0 1 42085.58]\n",
      " [0.0 1.0 0.0 ... 1 0 92888.52]\n",
      " [1.0 0.0 0.0 ... 1 0 38190.78]]\n"
     ]
    }
   ],
   "source": [
    "ct=ColumnTransformer([(\"Geography\",OneHotEncoder(),[1])],remainder='passthrough')\n",
    "x=ct.fit_transform(x)\n",
    "print(x)"
   ]
  },
  {
   "cell_type": "code",
   "execution_count": 8,
   "metadata": {},
   "outputs": [
    {
     "name": "stdout",
     "output_type": "stream",
     "text": [
      "[[0.0 0.0 619 ... 1 1 101348.88]\n",
      " [0.0 1.0 608 ... 0 1 112542.58]\n",
      " [0.0 0.0 502 ... 1 0 113931.57]\n",
      " ...\n",
      " [0.0 0.0 709 ... 0 1 42085.58]\n",
      " [1.0 0.0 772 ... 1 0 92888.52]\n",
      " [0.0 0.0 792 ... 1 0 38190.78]]\n"
     ]
    }
   ],
   "source": [
    "labelencoder_X2 = LabelEncoder()\n",
    "x[:, 4] = labelencoder_X2.fit_transform(x[:, 4])\n",
    "x = x[: , 1:]\n",
    "print (x)"
   ]
  },
  {
   "cell_type": "code",
   "execution_count": 9,
   "metadata": {},
   "outputs": [
    {
     "name": "stdout",
     "output_type": "stream",
     "text": [
      "[[0.0000000e+00 0.0000000e+00 6.1900000e+02 ... 1.0000000e+00\n",
      "  1.0000000e+00 1.0134888e+05]\n",
      " [0.0000000e+00 1.0000000e+00 6.0800000e+02 ... 0.0000000e+00\n",
      "  1.0000000e+00 1.1254258e+05]\n",
      " [0.0000000e+00 0.0000000e+00 5.0200000e+02 ... 1.0000000e+00\n",
      "  0.0000000e+00 1.1393157e+05]\n",
      " ...\n",
      " [0.0000000e+00 0.0000000e+00 7.0900000e+02 ... 0.0000000e+00\n",
      "  1.0000000e+00 4.2085580e+04]\n",
      " [1.0000000e+00 0.0000000e+00 7.7200000e+02 ... 1.0000000e+00\n",
      "  0.0000000e+00 9.2888520e+04]\n",
      " [0.0000000e+00 0.0000000e+00 7.9200000e+02 ... 1.0000000e+00\n",
      "  0.0000000e+00 3.8190780e+04]]\n"
     ]
    }
   ],
   "source": [
    "x=np.array(x,dtype=float)\n",
    "# ?np.array\n",
    "print(x)"
   ]
  },
  {
   "cell_type": "code",
   "execution_count": 10,
   "metadata": {},
   "outputs": [],
   "source": [
    "#spliting the data set into the training set and test set\n",
    "\n",
    "from sklearn.model_selection import train_test_split\n",
    "X_train, X_test, y_train, y_test = train_test_split(x, y, test_size = 0.2, random_state = 0)"
   ]
  },
  {
   "cell_type": "code",
   "execution_count": 11,
   "metadata": {},
   "outputs": [
    {
     "name": "stdout",
     "output_type": "stream",
     "text": [
      "X_train : \n",
      " [[0.0000000e+00 1.0000000e+00 6.6700000e+02 ... 1.0000000e+00\n",
      "  0.0000000e+00 1.6383064e+05]\n",
      " [1.0000000e+00 0.0000000e+00 4.2700000e+02 ... 1.0000000e+00\n",
      "  1.0000000e+00 5.7098000e+04]\n",
      " [0.0000000e+00 0.0000000e+00 5.3500000e+02 ... 1.0000000e+00\n",
      "  0.0000000e+00 1.8563076e+05]\n",
      " ...\n",
      " [0.0000000e+00 0.0000000e+00 7.3800000e+02 ... 1.0000000e+00\n",
      "  0.0000000e+00 1.8142987e+05]\n",
      " [0.0000000e+00 1.0000000e+00 5.9000000e+02 ... 1.0000000e+00\n",
      "  1.0000000e+00 1.4875016e+05]\n",
      " [1.0000000e+00 0.0000000e+00 6.2300000e+02 ... 1.0000000e+00\n",
      "  0.0000000e+00 1.1885526e+05]]\n",
      "y_train : \n",
      " [0 0 0 ... 0 0 1]\n",
      "X_test : \n",
      " [[1.0000000e+00 0.0000000e+00 5.9700000e+02 ... 1.0000000e+00\n",
      "  1.0000000e+00 1.9285267e+05]\n",
      " [0.0000000e+00 0.0000000e+00 5.2300000e+02 ... 1.0000000e+00\n",
      "  0.0000000e+00 1.2870210e+05]\n",
      " [0.0000000e+00 1.0000000e+00 7.0600000e+02 ... 1.0000000e+00\n",
      "  1.0000000e+00 7.5732250e+04]\n",
      " ...\n",
      " [0.0000000e+00 1.0000000e+00 5.7800000e+02 ... 1.0000000e+00\n",
      "  0.0000000e+00 1.4153319e+05]\n",
      " [1.0000000e+00 0.0000000e+00 6.5000000e+02 ... 1.0000000e+00\n",
      "  1.0000000e+00 1.1276480e+04]\n",
      " [1.0000000e+00 0.0000000e+00 5.7300000e+02 ... 1.0000000e+00\n",
      "  0.0000000e+00 1.9295060e+05]]\n",
      "y_test : \n",
      " [0 1 0 ... 0 0 0]\n"
     ]
    }
   ],
   "source": [
    "print(\"X_train : \\n\",X_train)\n",
    "print(\"y_train : \\n\",y_train)\n",
    "print(\"X_test : \\n\",X_test)\n",
    "print(\"y_test : \\n\",y_test)"
   ]
  },
  {
   "cell_type": "code",
   "execution_count": 12,
   "metadata": {},
   "outputs": [
    {
     "name": "stdout",
     "output_type": "stream",
     "text": [
      "X_train : \n",
      " [[-0.5698444   1.74309049  0.16958176 ...  0.64259497 -1.03227043\n",
      "   1.10643166]\n",
      " [ 1.75486502 -0.57369368 -2.30455945 ...  0.64259497  0.9687384\n",
      "  -0.74866447]\n",
      " [-0.5698444  -0.57369368 -1.19119591 ...  0.64259497 -1.03227043\n",
      "   1.48533467]\n",
      " ...\n",
      " [-0.5698444  -0.57369368  0.9015152  ...  0.64259497 -1.03227043\n",
      "   1.41231994]\n",
      " [-0.5698444   1.74309049 -0.62420521 ...  0.64259497  0.9687384\n",
      "   0.84432121]\n",
      " [ 1.75486502 -0.57369368 -0.28401079 ...  0.64259497 -1.03227043\n",
      "   0.32472465]]\n",
      "X_test : \n",
      " [[ 1.75486502 -0.57369368 -0.55204276 ...  0.64259497  0.9687384\n",
      "   1.61085707]\n",
      " [-0.5698444  -0.57369368 -1.31490297 ...  0.64259497 -1.03227043\n",
      "   0.49587037]\n",
      " [-0.5698444   1.74309049  0.57162971 ...  0.64259497  0.9687384\n",
      "  -0.42478674]\n",
      " ...\n",
      " [-0.5698444   1.74309049 -0.74791227 ...  0.64259497 -1.03227043\n",
      "   0.71888467]\n",
      " [ 1.75486502 -0.57369368 -0.00566991 ...  0.64259497  0.9687384\n",
      "  -1.54507805]\n",
      " [ 1.75486502 -0.57369368 -0.79945688 ...  0.64259497 -1.03227043\n",
      "   1.61255917]]\n"
     ]
    }
   ],
   "source": [
    "#feature scaling \n",
    "\n",
    "from sklearn.preprocessing import StandardScaler\n",
    "sc = StandardScaler()\n",
    "X_train = sc.fit_transform(X_train)\n",
    "X_test = sc.transform(X_test)\n",
    "\n",
    "print(\"X_train : \\n\",X_train)\n",
    "print(\"X_test : \\n\",X_test)"
   ]
  },
  {
   "cell_type": "markdown",
   "metadata": {},
   "source": [
    "### Part 2 : Build ANN"
   ]
  },
  {
   "cell_type": "code",
   "execution_count": 13,
   "metadata": {},
   "outputs": [
    {
     "name": "stdout",
     "output_type": "stream",
     "text": [
      "Requirement already satisfied: keras in /usr/local/python/3.10.8/lib/python3.10/site-packages (2.15.0)\n",
      "\n",
      "\u001b[1m[\u001b[0m\u001b[34;49mnotice\u001b[0m\u001b[1;39;49m]\u001b[0m\u001b[39;49m A new release of pip is available: \u001b[0m\u001b[31;49m23.3.2\u001b[0m\u001b[39;49m -> \u001b[0m\u001b[32;49m24.0\u001b[0m\n",
      "\u001b[1m[\u001b[0m\u001b[34;49mnotice\u001b[0m\u001b[1;39;49m]\u001b[0m\u001b[39;49m To update, run: \u001b[0m\u001b[32;49mpip install --upgrade pip\u001b[0m\n",
      "Note: you may need to restart the kernel to use updated packages.\n"
     ]
    }
   ],
   "source": [
    "pip install keras"
   ]
  },
  {
   "cell_type": "code",
   "execution_count": 14,
   "metadata": {},
   "outputs": [
    {
     "name": "stdout",
     "output_type": "stream",
     "text": [
      "Requirement already satisfied: tensorflow in /usr/local/python/3.10.8/lib/python3.10/site-packages (2.15.0.post1)\n",
      "Requirement already satisfied: absl-py>=1.0.0 in /usr/local/python/3.10.8/lib/python3.10/site-packages (from tensorflow) (2.1.0)\n",
      "Requirement already satisfied: astunparse>=1.6.0 in /usr/local/python/3.10.8/lib/python3.10/site-packages (from tensorflow) (1.6.3)\n",
      "Requirement already satisfied: flatbuffers>=23.5.26 in /usr/local/python/3.10.8/lib/python3.10/site-packages (from tensorflow) (23.5.26)\n",
      "Requirement already satisfied: gast!=0.5.0,!=0.5.1,!=0.5.2,>=0.2.1 in /usr/local/python/3.10.8/lib/python3.10/site-packages (from tensorflow) (0.5.4)\n",
      "Requirement already satisfied: google-pasta>=0.1.1 in /usr/local/python/3.10.8/lib/python3.10/site-packages (from tensorflow) (0.2.0)\n",
      "Requirement already satisfied: h5py>=2.9.0 in /usr/local/python/3.10.8/lib/python3.10/site-packages (from tensorflow) (3.10.0)\n",
      "Requirement already satisfied: libclang>=13.0.0 in /usr/local/python/3.10.8/lib/python3.10/site-packages (from tensorflow) (16.0.6)\n",
      "Requirement already satisfied: ml-dtypes~=0.2.0 in /usr/local/python/3.10.8/lib/python3.10/site-packages (from tensorflow) (0.2.0)\n",
      "Requirement already satisfied: numpy<2.0.0,>=1.23.5 in /home/codespace/.local/lib/python3.10/site-packages (from tensorflow) (1.26.1)\n",
      "Requirement already satisfied: opt-einsum>=2.3.2 in /usr/local/python/3.10.8/lib/python3.10/site-packages (from tensorflow) (3.3.0)\n",
      "Requirement already satisfied: packaging in /home/codespace/.local/lib/python3.10/site-packages (from tensorflow) (23.2)\n",
      "Requirement already satisfied: protobuf!=4.21.0,!=4.21.1,!=4.21.2,!=4.21.3,!=4.21.4,!=4.21.5,<5.0.0dev,>=3.20.3 in /usr/local/python/3.10.8/lib/python3.10/site-packages (from tensorflow) (4.25.3)\n",
      "Requirement already satisfied: setuptools in /usr/local/python/3.10.8/lib/python3.10/site-packages (from tensorflow) (68.0.0)\n",
      "Requirement already satisfied: six>=1.12.0 in /home/codespace/.local/lib/python3.10/site-packages (from tensorflow) (1.16.0)\n",
      "Requirement already satisfied: termcolor>=1.1.0 in /usr/local/python/3.10.8/lib/python3.10/site-packages (from tensorflow) (2.4.0)\n",
      "Requirement already satisfied: typing-extensions>=3.6.6 in /home/codespace/.local/lib/python3.10/site-packages (from tensorflow) (4.8.0)\n",
      "Requirement already satisfied: wrapt<1.15,>=1.11.0 in /usr/local/python/3.10.8/lib/python3.10/site-packages (from tensorflow) (1.14.1)\n",
      "Requirement already satisfied: tensorflow-io-gcs-filesystem>=0.23.1 in /usr/local/python/3.10.8/lib/python3.10/site-packages (from tensorflow) (0.36.0)\n",
      "Requirement already satisfied: grpcio<2.0,>=1.24.3 in /usr/local/python/3.10.8/lib/python3.10/site-packages (from tensorflow) (1.60.1)\n",
      "Requirement already satisfied: tensorboard<2.16,>=2.15 in /usr/local/python/3.10.8/lib/python3.10/site-packages (from tensorflow) (2.15.2)\n",
      "Requirement already satisfied: tensorflow-estimator<2.16,>=2.15.0 in /usr/local/python/3.10.8/lib/python3.10/site-packages (from tensorflow) (2.15.0)\n",
      "Requirement already satisfied: keras<2.16,>=2.15.0 in /usr/local/python/3.10.8/lib/python3.10/site-packages (from tensorflow) (2.15.0)\n",
      "Requirement already satisfied: wheel<1.0,>=0.23.0 in /usr/local/python/3.10.8/lib/python3.10/site-packages (from astunparse>=1.6.0->tensorflow) (0.42.0)\n",
      "Requirement already satisfied: google-auth<3,>=1.6.3 in /usr/local/python/3.10.8/lib/python3.10/site-packages (from tensorboard<2.16,>=2.15->tensorflow) (2.28.0)\n",
      "Requirement already satisfied: google-auth-oauthlib<2,>=0.5 in /usr/local/python/3.10.8/lib/python3.10/site-packages (from tensorboard<2.16,>=2.15->tensorflow) (1.2.0)\n",
      "Requirement already satisfied: markdown>=2.6.8 in /usr/local/python/3.10.8/lib/python3.10/site-packages (from tensorboard<2.16,>=2.15->tensorflow) (3.5.2)\n",
      "Requirement already satisfied: requests<3,>=2.21.0 in /home/codespace/.local/lib/python3.10/site-packages (from tensorboard<2.16,>=2.15->tensorflow) (2.31.0)\n",
      "Requirement already satisfied: tensorboard-data-server<0.8.0,>=0.7.0 in /usr/local/python/3.10.8/lib/python3.10/site-packages (from tensorboard<2.16,>=2.15->tensorflow) (0.7.2)\n",
      "Requirement already satisfied: werkzeug>=1.0.1 in /usr/local/python/3.10.8/lib/python3.10/site-packages (from tensorboard<2.16,>=2.15->tensorflow) (3.0.1)\n",
      "Requirement already satisfied: cachetools<6.0,>=2.0.0 in /usr/local/python/3.10.8/lib/python3.10/site-packages (from google-auth<3,>=1.6.3->tensorboard<2.16,>=2.15->tensorflow) (5.3.2)\n",
      "Requirement already satisfied: pyasn1-modules>=0.2.1 in /usr/local/python/3.10.8/lib/python3.10/site-packages (from google-auth<3,>=1.6.3->tensorboard<2.16,>=2.15->tensorflow) (0.3.0)\n",
      "Requirement already satisfied: rsa<5,>=3.1.4 in /usr/local/python/3.10.8/lib/python3.10/site-packages (from google-auth<3,>=1.6.3->tensorboard<2.16,>=2.15->tensorflow) (4.9)\n",
      "Requirement already satisfied: requests-oauthlib>=0.7.0 in /usr/local/python/3.10.8/lib/python3.10/site-packages (from google-auth-oauthlib<2,>=0.5->tensorboard<2.16,>=2.15->tensorflow) (1.3.1)\n",
      "Requirement already satisfied: charset-normalizer<4,>=2 in /home/codespace/.local/lib/python3.10/site-packages (from requests<3,>=2.21.0->tensorboard<2.16,>=2.15->tensorflow) (3.3.2)\n",
      "Requirement already satisfied: idna<4,>=2.5 in /home/codespace/.local/lib/python3.10/site-packages (from requests<3,>=2.21.0->tensorboard<2.16,>=2.15->tensorflow) (3.4)\n",
      "Requirement already satisfied: urllib3<3,>=1.21.1 in /home/codespace/.local/lib/python3.10/site-packages (from requests<3,>=2.21.0->tensorboard<2.16,>=2.15->tensorflow) (2.0.7)\n",
      "Requirement already satisfied: certifi>=2017.4.17 in /home/codespace/.local/lib/python3.10/site-packages (from requests<3,>=2.21.0->tensorboard<2.16,>=2.15->tensorflow) (2023.7.22)\n",
      "Requirement already satisfied: MarkupSafe>=2.1.1 in /home/codespace/.local/lib/python3.10/site-packages (from werkzeug>=1.0.1->tensorboard<2.16,>=2.15->tensorflow) (2.1.3)\n",
      "Requirement already satisfied: pyasn1<0.6.0,>=0.4.6 in /usr/local/python/3.10.8/lib/python3.10/site-packages (from pyasn1-modules>=0.2.1->google-auth<3,>=1.6.3->tensorboard<2.16,>=2.15->tensorflow) (0.5.1)\n",
      "Requirement already satisfied: oauthlib>=3.0.0 in /usr/local/python/3.10.8/lib/python3.10/site-packages (from requests-oauthlib>=0.7.0->google-auth-oauthlib<2,>=0.5->tensorboard<2.16,>=2.15->tensorflow) (3.2.2)\n",
      "\n",
      "\u001b[1m[\u001b[0m\u001b[34;49mnotice\u001b[0m\u001b[1;39;49m]\u001b[0m\u001b[39;49m A new release of pip is available: \u001b[0m\u001b[31;49m23.3.2\u001b[0m\u001b[39;49m -> \u001b[0m\u001b[32;49m24.0\u001b[0m\n",
      "\u001b[1m[\u001b[0m\u001b[34;49mnotice\u001b[0m\u001b[1;39;49m]\u001b[0m\u001b[39;49m To update, run: \u001b[0m\u001b[32;49mpip install --upgrade pip\u001b[0m\n",
      "Note: you may need to restart the kernel to use updated packages.\n"
     ]
    }
   ],
   "source": [
    "pip install tensorflow"
   ]
  },
  {
   "cell_type": "code",
   "execution_count": 15,
   "metadata": {},
   "outputs": [
    {
     "name": "stderr",
     "output_type": "stream",
     "text": [
      "2024-02-21 06:22:21.258831: I external/local_tsl/tsl/cuda/cudart_stub.cc:31] Could not find cuda drivers on your machine, GPU will not be used.\n",
      "2024-02-21 06:22:21.297355: E external/local_xla/xla/stream_executor/cuda/cuda_dnn.cc:9261] Unable to register cuDNN factory: Attempting to register factory for plugin cuDNN when one has already been registered\n",
      "2024-02-21 06:22:21.297401: E external/local_xla/xla/stream_executor/cuda/cuda_fft.cc:607] Unable to register cuFFT factory: Attempting to register factory for plugin cuFFT when one has already been registered\n",
      "2024-02-21 06:22:21.298504: E external/local_xla/xla/stream_executor/cuda/cuda_blas.cc:1515] Unable to register cuBLAS factory: Attempting to register factory for plugin cuBLAS when one has already been registered\n",
      "2024-02-21 06:22:21.304286: I external/local_tsl/tsl/cuda/cudart_stub.cc:31] Could not find cuda drivers on your machine, GPU will not be used.\n",
      "2024-02-21 06:22:21.305348: I tensorflow/core/platform/cpu_feature_guard.cc:182] This TensorFlow binary is optimized to use available CPU instructions in performance-critical operations.\n",
      "To enable the following instructions: AVX2 FMA, in other operations, rebuild TensorFlow with the appropriate compiler flags.\n",
      "2024-02-21 06:22:22.438191: W tensorflow/compiler/tf2tensorrt/utils/py_utils.cc:38] TF-TRT Warning: Could not find TensorRT\n"
     ]
    }
   ],
   "source": [
    "import keras\n",
    "from keras.models import Sequential\n",
    "from keras.layers import Dense"
   ]
  },
  {
   "cell_type": "code",
   "execution_count": 16,
   "metadata": {},
   "outputs": [],
   "source": [
    "# ?Sequential  \n",
    "# ?Dense       "
   ]
  },
  {
   "cell_type": "code",
   "execution_count": 17,
   "metadata": {},
   "outputs": [],
   "source": [
    "# initialising the ANN\n",
    "classifier=Sequential()\n",
    "\n",
    "#Adding the input layer and the first hidden layer \n",
    "# classifier.add(Dense(output_dim = 6, init = 'uniform', activation = 'relu', input_dim = 11))\n",
    "classifier.add(Dense(units= 6, kernel_initializer = 'uniform', activation = 'relu', input_dim = 11))"
   ]
  },
  {
   "cell_type": "code",
   "execution_count": 18,
   "metadata": {},
   "outputs": [],
   "source": [
    "#Adding the second hidden layer \n",
    "classifier.add(Dense(units = 6, kernel_initializer = 'uniform', activation = 'relu'))"
   ]
  },
  {
   "cell_type": "code",
   "execution_count": 19,
   "metadata": {},
   "outputs": [],
   "source": [
    "# Adding the output layer \n",
    "classifier.add(Dense(units = 1, kernel_initializer = 'uniform', activation = 'sigmoid'))"
   ]
  },
  {
   "cell_type": "code",
   "execution_count": 20,
   "metadata": {},
   "outputs": [
    {
     "name": "stdout",
     "output_type": "stream",
     "text": [
      "Model: \"sequential\"\n",
      "_________________________________________________________________\n",
      " Layer (type)                Output Shape              Param #   \n",
      "=================================================================\n",
      " dense (Dense)               (None, 6)                 72        \n",
      "                                                                 \n",
      " dense_1 (Dense)             (None, 6)                 42        \n",
      "                                                                 \n",
      " dense_2 (Dense)             (None, 1)                 7         \n",
      "                                                                 \n",
      "=================================================================\n",
      "Total params: 121 (484.00 Byte)\n",
      "Trainable params: 121 (484.00 Byte)\n",
      "Non-trainable params: 0 (0.00 Byte)\n",
      "_________________________________________________________________\n"
     ]
    }
   ],
   "source": [
    "# Printing the summary of the classifier \n",
    "classifier.summary()"
   ]
  },
  {
   "cell_type": "code",
   "execution_count": 21,
   "metadata": {},
   "outputs": [],
   "source": [
    "#complining the Ann\n",
    "classifier.compile(optimizer = 'adam', loss = 'binary_crossentropy', metrics = ['accuracy'])\n"
   ]
  },
  {
   "cell_type": "code",
   "execution_count": 22,
   "metadata": {},
   "outputs": [
    {
     "name": "stdout",
     "output_type": "stream",
     "text": [
      "Epoch 1/100\n"
     ]
    },
    {
     "name": "stdout",
     "output_type": "stream",
     "text": [
      "800/800 [==============================] - 1s 1ms/step - loss: 0.4896 - accuracy: 0.7955\n",
      "Epoch 2/100\n",
      "800/800 [==============================] - 1s 1ms/step - loss: 0.4282 - accuracy: 0.7960\n",
      "Epoch 3/100\n",
      "800/800 [==============================] - 1s 1ms/step - loss: 0.4219 - accuracy: 0.7960\n",
      "Epoch 4/100\n",
      "800/800 [==============================] - 1s 1ms/step - loss: 0.4179 - accuracy: 0.8121\n",
      "Epoch 5/100\n",
      "800/800 [==============================] - 1s 1ms/step - loss: 0.4155 - accuracy: 0.8270\n",
      "Epoch 6/100\n",
      "800/800 [==============================] - 1s 1ms/step - loss: 0.4136 - accuracy: 0.8313\n",
      "Epoch 7/100\n",
      "800/800 [==============================] - 1s 1ms/step - loss: 0.4122 - accuracy: 0.8325\n",
      "Epoch 8/100\n",
      "800/800 [==============================] - 1s 992us/step - loss: 0.4105 - accuracy: 0.8330\n",
      "Epoch 9/100\n",
      "800/800 [==============================] - 1s 992us/step - loss: 0.4095 - accuracy: 0.8342\n",
      "Epoch 10/100\n",
      "800/800 [==============================] - 1s 991us/step - loss: 0.4084 - accuracy: 0.8346\n",
      "Epoch 11/100\n",
      "800/800 [==============================] - 1s 976us/step - loss: 0.4074 - accuracy: 0.8349\n",
      "Epoch 12/100\n",
      "800/800 [==============================] - 1s 1ms/step - loss: 0.4069 - accuracy: 0.8350\n",
      "Epoch 13/100\n",
      "800/800 [==============================] - 1s 1ms/step - loss: 0.4067 - accuracy: 0.8349\n",
      "Epoch 14/100\n",
      "800/800 [==============================] - 1s 1ms/step - loss: 0.4053 - accuracy: 0.8354\n",
      "Epoch 15/100\n",
      "800/800 [==============================] - 1s 1ms/step - loss: 0.4050 - accuracy: 0.8355\n",
      "Epoch 16/100\n",
      "800/800 [==============================] - 1s 1ms/step - loss: 0.4049 - accuracy: 0.8359\n",
      "Epoch 17/100\n",
      "800/800 [==============================] - 1s 1ms/step - loss: 0.4037 - accuracy: 0.8351\n",
      "Epoch 18/100\n",
      "800/800 [==============================] - 1s 967us/step - loss: 0.4034 - accuracy: 0.8344\n",
      "Epoch 19/100\n",
      "800/800 [==============================] - 1s 900us/step - loss: 0.4024 - accuracy: 0.8353\n",
      "Epoch 20/100\n",
      "800/800 [==============================] - 1s 891us/step - loss: 0.4024 - accuracy: 0.8345\n",
      "Epoch 21/100\n",
      "800/800 [==============================] - 1s 989us/step - loss: 0.4023 - accuracy: 0.8346\n",
      "Epoch 22/100\n",
      "800/800 [==============================] - 1s 976us/step - loss: 0.4017 - accuracy: 0.8364\n",
      "Epoch 23/100\n",
      "800/800 [==============================] - 1s 955us/step - loss: 0.4019 - accuracy: 0.8346\n",
      "Epoch 24/100\n",
      "800/800 [==============================] - 1s 884us/step - loss: 0.4018 - accuracy: 0.8369\n",
      "Epoch 25/100\n",
      "800/800 [==============================] - 1s 945us/step - loss: 0.4013 - accuracy: 0.8369\n",
      "Epoch 26/100\n",
      "800/800 [==============================] - 1s 1ms/step - loss: 0.4009 - accuracy: 0.8350\n",
      "Epoch 27/100\n",
      "800/800 [==============================] - 1s 935us/step - loss: 0.4008 - accuracy: 0.8366\n",
      "Epoch 28/100\n",
      "800/800 [==============================] - 1s 881us/step - loss: 0.4006 - accuracy: 0.8355\n",
      "Epoch 29/100\n",
      "800/800 [==============================] - 1s 926us/step - loss: 0.4004 - accuracy: 0.8356\n",
      "Epoch 30/100\n",
      "800/800 [==============================] - 1s 996us/step - loss: 0.3994 - accuracy: 0.8357\n",
      "Epoch 31/100\n",
      "800/800 [==============================] - 1s 1ms/step - loss: 0.4003 - accuracy: 0.8355\n",
      "Epoch 32/100\n",
      "800/800 [==============================] - 1s 931us/step - loss: 0.4001 - accuracy: 0.8371\n",
      "Epoch 33/100\n",
      "800/800 [==============================] - 1s 884us/step - loss: 0.3988 - accuracy: 0.8347\n",
      "Epoch 34/100\n",
      "800/800 [==============================] - 1s 878us/step - loss: 0.3993 - accuracy: 0.8370\n",
      "Epoch 35/100\n",
      "800/800 [==============================] - 1s 1ms/step - loss: 0.3995 - accuracy: 0.8360\n",
      "Epoch 36/100\n",
      "800/800 [==============================] - 1s 1ms/step - loss: 0.3996 - accuracy: 0.8369\n",
      "Epoch 37/100\n",
      "800/800 [==============================] - 1s 875us/step - loss: 0.3992 - accuracy: 0.8361\n",
      "Epoch 38/100\n",
      "800/800 [==============================] - 1s 934us/step - loss: 0.3988 - accuracy: 0.8369\n",
      "Epoch 39/100\n",
      "800/800 [==============================] - 1s 958us/step - loss: 0.3985 - accuracy: 0.8359\n",
      "Epoch 40/100\n",
      "800/800 [==============================] - 1s 991us/step - loss: 0.3987 - accuracy: 0.8357\n",
      "Epoch 41/100\n",
      "800/800 [==============================] - 1s 876us/step - loss: 0.3989 - accuracy: 0.8372\n",
      "Epoch 42/100\n",
      "800/800 [==============================] - 1s 926us/step - loss: 0.3983 - accuracy: 0.8371\n",
      "Epoch 43/100\n",
      "800/800 [==============================] - 1s 942us/step - loss: 0.3985 - accuracy: 0.8372\n",
      "Epoch 44/100\n",
      "800/800 [==============================] - 1s 1ms/step - loss: 0.3984 - accuracy: 0.8351\n",
      "Epoch 45/100\n",
      "800/800 [==============================] - 1s 897us/step - loss: 0.3986 - accuracy: 0.8366\n",
      "Epoch 46/100\n",
      "800/800 [==============================] - 1s 950us/step - loss: 0.3983 - accuracy: 0.8363\n",
      "Epoch 47/100\n",
      "800/800 [==============================] - 1s 984us/step - loss: 0.3985 - accuracy: 0.8369\n",
      "Epoch 48/100\n",
      "800/800 [==============================] - 1s 881us/step - loss: 0.3982 - accuracy: 0.8382\n",
      "Epoch 49/100\n",
      "800/800 [==============================] - 1s 938us/step - loss: 0.3984 - accuracy: 0.8378\n",
      "Epoch 50/100\n",
      "800/800 [==============================] - 1s 945us/step - loss: 0.3983 - accuracy: 0.8376\n",
      "Epoch 51/100\n",
      "800/800 [==============================] - 1s 954us/step - loss: 0.3983 - accuracy: 0.8355\n",
      "Epoch 52/100\n",
      "800/800 [==============================] - 1s 1ms/step - loss: 0.3980 - accuracy: 0.8365\n",
      "Epoch 53/100\n",
      "800/800 [==============================] - 1s 897us/step - loss: 0.3981 - accuracy: 0.8396\n",
      "Epoch 54/100\n",
      "800/800 [==============================] - 1s 1ms/step - loss: 0.3974 - accuracy: 0.8370\n",
      "Epoch 55/100\n",
      "800/800 [==============================] - 1s 1ms/step - loss: 0.3976 - accuracy: 0.8391\n",
      "Epoch 56/100\n",
      "800/800 [==============================] - 1s 1ms/step - loss: 0.3972 - accuracy: 0.8375\n",
      "Epoch 57/100\n",
      "800/800 [==============================] - 1s 1ms/step - loss: 0.3978 - accuracy: 0.8374\n",
      "Epoch 58/100\n",
      "800/800 [==============================] - 1s 1ms/step - loss: 0.3975 - accuracy: 0.8372\n",
      "Epoch 59/100\n",
      "800/800 [==============================] - 1s 1ms/step - loss: 0.3975 - accuracy: 0.8366\n",
      "Epoch 60/100\n",
      "800/800 [==============================] - 1s 1ms/step - loss: 0.3974 - accuracy: 0.8374\n",
      "Epoch 61/100\n",
      "800/800 [==============================] - 1s 1ms/step - loss: 0.3970 - accuracy: 0.8385\n",
      "Epoch 62/100\n",
      "800/800 [==============================] - 1s 1ms/step - loss: 0.3975 - accuracy: 0.8385\n",
      "Epoch 63/100\n",
      "800/800 [==============================] - 1s 1ms/step - loss: 0.3977 - accuracy: 0.8384\n",
      "Epoch 64/100\n",
      "800/800 [==============================] - 1s 1ms/step - loss: 0.3972 - accuracy: 0.8374\n",
      "Epoch 65/100\n",
      "800/800 [==============================] - 1s 1ms/step - loss: 0.3971 - accuracy: 0.8364\n",
      "Epoch 66/100\n",
      "800/800 [==============================] - 1s 1ms/step - loss: 0.3973 - accuracy: 0.8382\n",
      "Epoch 67/100\n",
      "800/800 [==============================] - 1s 1ms/step - loss: 0.3963 - accuracy: 0.8375\n",
      "Epoch 68/100\n",
      "800/800 [==============================] - 1s 1ms/step - loss: 0.3972 - accuracy: 0.8371\n",
      "Epoch 69/100\n",
      "800/800 [==============================] - 1s 1ms/step - loss: 0.3974 - accuracy: 0.8364\n",
      "Epoch 70/100\n",
      "800/800 [==============================] - 1s 1ms/step - loss: 0.3968 - accuracy: 0.8378\n",
      "Epoch 71/100\n",
      "800/800 [==============================] - 1s 975us/step - loss: 0.3968 - accuracy: 0.8365\n",
      "Epoch 72/100\n",
      "800/800 [==============================] - 1s 911us/step - loss: 0.3966 - accuracy: 0.8367\n",
      "Epoch 73/100\n",
      "800/800 [==============================] - 1s 928us/step - loss: 0.3969 - accuracy: 0.8379\n",
      "Epoch 74/100\n",
      "800/800 [==============================] - 1s 906us/step - loss: 0.3969 - accuracy: 0.8375\n",
      "Epoch 75/100\n",
      "800/800 [==============================] - 1s 930us/step - loss: 0.3967 - accuracy: 0.8367\n",
      "Epoch 76/100\n",
      "800/800 [==============================] - 1s 874us/step - loss: 0.3970 - accuracy: 0.8374\n",
      "Epoch 77/100\n",
      "800/800 [==============================] - 1s 1ms/step - loss: 0.3965 - accuracy: 0.8374\n",
      "Epoch 78/100\n",
      "800/800 [==============================] - 1s 1ms/step - loss: 0.3968 - accuracy: 0.8380\n",
      "Epoch 79/100\n",
      "800/800 [==============================] - 1s 955us/step - loss: 0.3967 - accuracy: 0.8372\n",
      "Epoch 80/100\n",
      "800/800 [==============================] - 1s 887us/step - loss: 0.3968 - accuracy: 0.8371\n",
      "Epoch 81/100\n",
      "800/800 [==============================] - 1s 871us/step - loss: 0.3967 - accuracy: 0.8364\n",
      "Epoch 82/100\n",
      "800/800 [==============================] - 1s 886us/step - loss: 0.3967 - accuracy: 0.8375\n",
      "Epoch 83/100\n",
      "800/800 [==============================] - 1s 962us/step - loss: 0.3962 - accuracy: 0.8366\n",
      "Epoch 84/100\n",
      "800/800 [==============================] - 1s 977us/step - loss: 0.3966 - accuracy: 0.8385\n",
      "Epoch 85/100\n",
      "800/800 [==============================] - 1s 974us/step - loss: 0.3964 - accuracy: 0.8384\n",
      "Epoch 86/100\n",
      "800/800 [==============================] - 1s 905us/step - loss: 0.3964 - accuracy: 0.8374\n",
      "Epoch 87/100\n",
      "800/800 [==============================] - 1s 919us/step - loss: 0.3965 - accuracy: 0.8365\n",
      "Epoch 88/100\n",
      "800/800 [==============================] - 1s 878us/step - loss: 0.3966 - accuracy: 0.8374\n",
      "Epoch 89/100\n",
      "800/800 [==============================] - 1s 1ms/step - loss: 0.3965 - accuracy: 0.8364\n",
      "Epoch 90/100\n",
      "800/800 [==============================] - 1s 1ms/step - loss: 0.3961 - accuracy: 0.8374\n",
      "Epoch 91/100\n",
      "800/800 [==============================] - 1s 1ms/step - loss: 0.3963 - accuracy: 0.8370\n",
      "Epoch 92/100\n",
      "800/800 [==============================] - 1s 1ms/step - loss: 0.3964 - accuracy: 0.8388\n",
      "Epoch 93/100\n",
      "800/800 [==============================] - 1s 996us/step - loss: 0.3968 - accuracy: 0.8395\n",
      "Epoch 94/100\n",
      "800/800 [==============================] - 1s 1ms/step - loss: 0.3961 - accuracy: 0.8374\n",
      "Epoch 95/100\n",
      "800/800 [==============================] - 1s 972us/step - loss: 0.3966 - accuracy: 0.8378\n",
      "Epoch 96/100\n",
      "800/800 [==============================] - 1s 1ms/step - loss: 0.3968 - accuracy: 0.8364\n",
      "Epoch 97/100\n",
      "800/800 [==============================] - 1s 1ms/step - loss: 0.3964 - accuracy: 0.8361\n",
      "Epoch 98/100\n",
      "800/800 [==============================] - 1s 1ms/step - loss: 0.3962 - accuracy: 0.8380\n",
      "Epoch 99/100\n",
      "800/800 [==============================] - 1s 1ms/step - loss: 0.3960 - accuracy: 0.8375\n",
      "Epoch 100/100\n",
      "800/800 [==============================] - 1s 974us/step - loss: 0.3967 - accuracy: 0.8374\n"
     ]
    },
    {
     "data": {
      "text/plain": [
       "<keras.src.callbacks.History at 0x7fb95c0135e0>"
      ]
     },
     "execution_count": 22,
     "metadata": {},
     "output_type": "execute_result"
    }
   ],
   "source": [
    "#Fitting the ANN\n",
    "classifier.fit(X_train,y_train,batch_size=10,epochs=100)"
   ]
  },
  {
   "cell_type": "markdown",
   "metadata": {},
   "source": [
    "### Part 3 : Making the predictions and evalauting the model (CM)"
   ]
  },
  {
   "cell_type": "code",
   "execution_count": 23,
   "metadata": {},
   "outputs": [
    {
     "name": "stdout",
     "output_type": "stream",
     "text": [
      "63/63 [==============================] - 0s 702us/step\n"
     ]
    }
   ],
   "source": [
    "#Predicting the The Test Results\n",
    "y_pred=classifier.predict(X_test)\n",
    "y_pred=(y_pred>0.5)"
   ]
  },
  {
   "cell_type": "code",
   "execution_count": 24,
   "metadata": {},
   "outputs": [
    {
     "name": "stdout",
     "output_type": "stream",
     "text": [
      "[[1541   54]\n",
      " [ 249  156]]\n"
     ]
    }
   ],
   "source": [
    "#Making the confusion matrix\n",
    "from sklearn.metrics import confusion_matrix\n",
    "cm=confusion_matrix(y_test,y_pred)\n",
    "print(cm)\n"
   ]
  },
  {
   "cell_type": "code",
   "execution_count": 25,
   "metadata": {},
   "outputs": [],
   "source": [
    "# ?confusion_matrix"
   ]
  }
 ],
 "metadata": {
  "kernelspec": {
   "display_name": "Python 3",
   "language": "python",
   "name": "python3"
  },
  "language_info": {
   "codemirror_mode": {
    "name": "ipython",
    "version": 3
   },
   "file_extension": ".py",
   "mimetype": "text/x-python",
   "name": "python",
   "nbconvert_exporter": "python",
   "pygments_lexer": "ipython3",
   "version": "3.10.8"
  }
 },
 "nbformat": 4,
 "nbformat_minor": 2
}
