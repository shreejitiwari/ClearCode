{
 "cells": [
  {
   "attachments": {},
   "cell_type": "markdown",
   "metadata": {},
   "source": [
    "# Computer Vision\n"
   ]
  },
  {
   "attachments": {},
   "cell_type": "markdown",
   "metadata": {},
   "source": [
    "## Importing important modules"
   ]
  },
  {
   "attachments": {},
   "cell_type": "markdown",
   "metadata": {},
   "source": [
    "Open CV is BGR (Blue Green Red) not RGB"
   ]
  },
  {
   "attachments": {},
   "cell_type": "markdown",
   "metadata": {},
   "source": [
    "To Learn Computer Vision, learn these\n",
    "\n",
    "\n",
    "1. OpenCV\n",
    "2. Numpy\n",
    "3. Pillow\n",
    "4. PyTorch"
   ]
  },
  {
   "cell_type": "code",
   "execution_count": 2,
   "metadata": {},
   "outputs": [],
   "source": [
    "import cv2"
   ]
  },
  {
   "cell_type": "code",
   "execution_count": 4,
   "metadata": {},
   "outputs": [],
   "source": [
    "image = cv2.imread(r\"E:\\Pictures\\Friends\\Shreeji.jpg\")\n",
    "cv2.imshow(\"Shreeji\", image)\n",
    "cv2.waitKey(0)\n",
    "cv2.destroyAllWindows()"
   ]
  },
  {
   "attachments": {},
   "cell_type": "markdown",
   "metadata": {},
   "source": [
    "Reading Image"
   ]
  },
  {
   "cell_type": "code",
   "execution_count": 10,
   "metadata": {},
   "outputs": [],
   "source": [
    "image2=cv2.imread(\"E:\\Pictures\\Friends\\Rohit Sharma.jpg\")\n",
    "cv2.imshow(\"Rohit HR\", image2)\n",
    "cv2.waitKey(0)\n",
    "cv2.destroyAllWindows()"
   ]
  },
  {
   "attachments": {},
   "cell_type": "markdown",
   "metadata": {},
   "source": [
    "Converting image to gray"
   ]
  },
  {
   "cell_type": "code",
   "execution_count": 17,
   "metadata": {},
   "outputs": [],
   "source": [
    "rohit_gray = cv2.cvtColor(image2, cv2.COLOR_BGR2GRAY)\n",
    "cv2.imshow(\"Grey Rohit HR\", rohit_gray)\n",
    "cv2.waitKey(0)\n",
    "cv2.destroyAllWindows()"
   ]
  },
  {
   "attachments": {},
   "cell_type": "markdown",
   "metadata": {},
   "source": [
    "Detecting Edges"
   ]
  },
  {
   "cell_type": "code",
   "execution_count": 21,
   "metadata": {},
   "outputs": [],
   "source": [
    "edges_img = cv2.Canny(rohit_gray, threshold1=30, threshold2=100)\n",
    "cv2.imshow(\"Rohit HR edges\", edges_img)\n",
    "cv2.waitKey(0)\n",
    "cv2.destroyAllWindows()\n"
   ]
  },
  {
   "attachments": {},
   "cell_type": "markdown",
   "metadata": {},
   "source": [
    "Detecting Faces"
   ]
  },
  {
   "cell_type": "code",
   "execution_count": 34,
   "metadata": {},
   "outputs": [
    {
     "name": "stdout",
     "output_type": "stream",
     "text": [
      "[[396 164 276 276]]\n"
     ]
    }
   ],
   "source": [
    "face_detection = cv2.CascadeClassifier(cv2.data.haarcascades+'haarcascade_frontalface_default.xml')\n",
    "img=cv2.imread(\"E:\\Pictures\\Friends\\Rohit Sharma.jpg\")\n",
    "\n",
    "faces = face_detection.detectMultiScale(rohit_gray, 1.3,3)\n",
    "\n",
    "for (x,y,w,h) in faces:\n",
    "    img = cv2.rectangle(img, (x,y), (x+w, y+h), (255,0,0))\n",
    "    print(faces)\n",
    "\n",
    "cv2.imwrite(\"E:\\Pictures\\Friends\\Rohit Sharma_face_detection.jpg\", img)\n",
    "cv2.imshow(\"Rohit Face detected\", img)\n",
    "cv2.waitKey(0)\n",
    "cv2.destroyAllWindows()\n",
    "\n",
    "\n",
    "\n"
   ]
  },
  {
   "cell_type": "code",
   "execution_count": 37,
   "metadata": {},
   "outputs": [],
   "source": [
    "grp = cv2.imread(\"E:\\Pictures\\Screenshots\\Screenshot (35).png\")\n",
    "grp_gray = cv2.cvtColor(grp, cv2.COLOR_BGR2GRAY)\n",
    "\n",
    "face_detection=cv2.CascadeClassifier(cv2.data.haarcascades+\"haarcascade_frontalface_default.xml\")\n",
    "faces = face_detection.detectMultiScale(grp_gray, 1.3,3)\n",
    "\n",
    "for (x,y,w,h) in faces:\n",
    "    grp = cv2.rectangle(grp, (x,y), (x+w, y+h), (0,255,0))\n",
    "    # print(faces)\n",
    "\n",
    "cv2.imshow(\"Face detecting in group\",grp)\n",
    "cv2.waitKey(0)\n",
    "cv2.destroyAllWindows()"
   ]
  },
  {
   "cell_type": "code",
   "execution_count": null,
   "metadata": {},
   "outputs": [],
   "source": []
  }
 ],
 "metadata": {
  "kernelspec": {
   "display_name": "Python 3 (ipykernel)",
   "language": "python",
   "name": "python3"
  },
  "language_info": {
   "codemirror_mode": {
    "name": "ipython",
    "version": 3
   },
   "file_extension": ".py",
   "mimetype": "text/x-python",
   "name": "python",
   "nbconvert_exporter": "python",
   "pygments_lexer": "ipython3",
   "version": "3.9.7"
  },
  "vscode": {
   "interpreter": {
    "hash": "d45305b8178d08f219f89d580f5d875864f95b2e511b4775bc7a4073ee71927b"
   }
  }
 },
 "nbformat": 4,
 "nbformat_minor": 2
}
