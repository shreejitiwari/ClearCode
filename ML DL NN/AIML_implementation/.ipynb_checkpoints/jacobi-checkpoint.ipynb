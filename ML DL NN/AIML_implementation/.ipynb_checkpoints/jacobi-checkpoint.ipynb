{
 "cells": [
  {
   "cell_type": "markdown",
   "metadata": {},
   "source": [
    "# Jacobi method"
   ]
  },
  {
   "cell_type": "code",
   "execution_count": 1,
   "metadata": {},
   "outputs": [],
   "source": [
    "coefficient_matrix = []"
   ]
  },
  {
   "cell_type": "code",
   "execution_count": 6,
   "metadata": {},
   "outputs": [],
   "source": [
    "n = int(input(\"Number of unknows : \"))"
   ]
  },
  {
   "cell_type": "code",
   "execution_count": 2,
   "metadata": {},
   "outputs": [],
   "source": [
    "# coefficient_matrix.append([1,2,3])\n",
    "\n",
    "for i in range(n):\n",
    "    coefficient_matrix.append(list(eval(input(f\"Enter the coefficients of x,y,z for eq {i} : \"))))"
   ]
  },
  {
   "cell_type": "code",
   "execution_count": 3,
   "metadata": {},
   "outputs": [
    {
     "data": {
      "text/plain": [
       "[[5, -2, 3], [-3, 9, 1], [2, -1, -7]]"
      ]
     },
     "execution_count": 3,
     "metadata": {},
     "output_type": "execute_result"
    }
   ],
   "source": [
    "coefficient_matrix"
   ]
  },
  {
   "cell_type": "code",
   "execution_count": 4,
   "metadata": {},
   "outputs": [
    {
     "data": {
      "text/plain": [
       "[-1, 2, 3]"
      ]
     },
     "execution_count": 4,
     "metadata": {},
     "output_type": "execute_result"
    }
   ],
   "source": [
    "constant_matrix = list(eval(input(\"Enter the constants : \")))\n",
    "constant_matrix\n"
   ]
  },
  {
   "cell_type": "code",
   "execution_count": 99,
   "metadata": {},
   "outputs": [
    {
     "data": {
      "text/plain": [
       "[[0, 0, 0]]"
      ]
     },
     "execution_count": 99,
     "metadata": {},
     "output_type": "execute_result"
    }
   ],
   "source": [
    "solution_matrix = []\n",
    "\n",
    "solution_matrix.append(list(eval(input(\"Enter the initial approximation for variables : \"))))\n",
    "\n",
    "solution_matrix"
   ]
  },
  {
   "cell_type": "code",
   "execution_count": 100,
   "metadata": {},
   "outputs": [
    {
     "name": "stdout",
     "output_type": "stream",
     "text": [
      "Iteration 1 : -0.2,0.22222,-0.42857,\n",
      "Iteration 2 : 0.14603,0.20317,-0.51746,\n",
      "Iteration 3 : 0.19174,0.32839,-0.41587,\n",
      "Iteration 4 : 0.18088,0.33234,-0.4207,\n",
      "Iteration 5 : 0.18536,0.32926,-0.42437,\n",
      "Iteration 6 : 0.18633,0.33116,-0.42265,\n",
      "Iteration 7 : 0.18605,0.33129,-0.42264,\n",
      "Iteration 8 : 0.1861,0.3312,-0.42274,\n",
      "Iteration 9 : 0.18612,0.33123,-0.42271,\n",
      "Iteration 10 : 0.18612,0.33123,-0.42271,\n"
     ]
    }
   ],
   "source": [
    "iteration = 0\n",
    "\n",
    "while True:\n",
    "    sol = []\n",
    "    print(f\"Iteration {iteration+1} : \", end=\"\")\n",
    "    for i in range(n):\n",
    "        sol.append(constant_matrix[i])\n",
    "        # print(sol[i])\n",
    "        for j in range(len(coefficient_matrix[i])):\n",
    "            if i!=j:\n",
    "                sol[i] -= coefficient_matrix[i][j]*solution_matrix[iteration][j]\n",
    "\n",
    "        sol[i] = round(sol[i]/coefficient_matrix[i][i], 5)\n",
    "\n",
    "        print(sol[i] , end=',')\n",
    "\n",
    "    print()\n",
    "    solution_matrix.append(sol)\n",
    "\n",
    "    if solution_matrix[iteration+1] == solution_matrix[iteration]:\n",
    "        break\n",
    "\n",
    "    \n",
    "    iteration += 1\n",
    "\n",
    "\n",
    "\n",
    "\n",
    "\n"
   ]
  },
  {
   "cell_type": "code",
   "execution_count": 102,
   "metadata": {},
   "outputs": [
    {
     "data": {
      "text/plain": [
       "[[5, -2, 3], [-3, 9, 1], [2, -1, -7]]"
      ]
     },
     "execution_count": 102,
     "metadata": {},
     "output_type": "execute_result"
    }
   ],
   "source": [
    "coefficient_matrix"
   ]
  },
  {
   "cell_type": "code",
   "execution_count": 103,
   "metadata": {},
   "outputs": [
    {
     "data": {
      "text/plain": [
       "[-1, 2, 3]"
      ]
     },
     "execution_count": 103,
     "metadata": {},
     "output_type": "execute_result"
    }
   ],
   "source": [
    "constant_matrix"
   ]
  },
  {
   "cell_type": "code",
   "execution_count": 104,
   "metadata": {},
   "outputs": [
    {
     "data": {
      "text/plain": [
       "[[0, 0, 0],\n",
       " [-0.2, 0.22222, -0.42857],\n",
       " [0.14603, 0.20317, -0.51746],\n",
       " [0.19174, 0.32839, -0.41587],\n",
       " [0.18088, 0.33234, -0.4207],\n",
       " [0.18536, 0.32926, -0.42437],\n",
       " [0.18633, 0.33116, -0.42265],\n",
       " [0.18605, 0.33129, -0.42264],\n",
       " [0.1861, 0.3312, -0.42274],\n",
       " [0.18612, 0.33123, -0.42271],\n",
       " [0.18612, 0.33123, -0.42271]]"
      ]
     },
     "execution_count": 104,
     "metadata": {},
     "output_type": "execute_result"
    }
   ],
   "source": [
    "solution_matrix"
   ]
  },
  {
   "cell_type": "code",
   "execution_count": 101,
   "metadata": {},
   "outputs": [
    {
     "data": {
      "text/plain": [
       "[0.18612, 0.33123, -0.42271]"
      ]
     },
     "execution_count": 101,
     "metadata": {},
     "output_type": "execute_result"
    }
   ],
   "source": [
    "sol"
   ]
  },
  {
   "cell_type": "code",
   "execution_count": 105,
   "metadata": {},
   "outputs": [
    {
     "data": {
      "text/plain": [
       "0"
      ]
     },
     "execution_count": 105,
     "metadata": {},
     "output_type": "execute_result"
    }
   ],
   "source": [
    "round(5*solution_matrix[-1][0]-2*solution_matrix[-1][1]+3*solution_matrix[-1][2]+1)"
   ]
  },
  {
   "cell_type": "code",
   "execution_count": 109,
   "metadata": {},
   "outputs": [
    {
     "data": {
      "text/plain": [
       "0"
      ]
     },
     "execution_count": 109,
     "metadata": {},
     "output_type": "execute_result"
    }
   ],
   "source": [
    "round(-3*solution_matrix[-1][0]+9*solution_matrix[-1][1]+solution_matrix[-1][2]-2)"
   ]
  },
  {
   "cell_type": "code",
   "execution_count": 107,
   "metadata": {},
   "outputs": [
    {
     "data": {
      "text/plain": [
       "0"
      ]
     },
     "execution_count": 107,
     "metadata": {},
     "output_type": "execute_result"
    }
   ],
   "source": [
    "round(2*solution_matrix[-1][0]-solution_matrix[-1][1]-7*solution_matrix[-1][2]-3)"
   ]
  },
  {
   "cell_type": "code",
   "execution_count": null,
   "metadata": {},
   "outputs": [],
   "source": []
  }
 ],
 "metadata": {
  "kernelspec": {
   "display_name": "Python 3 (ipykernel)",
   "language": "python",
   "name": "python3"
  },
  "language_info": {
   "codemirror_mode": {
    "name": "ipython",
    "version": 3
   },
   "file_extension": ".py",
   "mimetype": "text/x-python",
   "name": "python",
   "nbconvert_exporter": "python",
   "pygments_lexer": "ipython3",
   "version": "3.9.7"
  }
 },
 "nbformat": 4,
 "nbformat_minor": 2
}
